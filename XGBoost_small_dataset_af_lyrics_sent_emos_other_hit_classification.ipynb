{
  "nbformat": 4,
  "nbformat_minor": 0,
  "metadata": {
    "colab": {
      "provenance": [],
      "toc_visible": true,
      "gpuType": "T4",
      "authorship_tag": "ABX9TyOdCQsDEJqNIOgSt2+8wdO+",
      "include_colab_link": true
    },
    "kernelspec": {
      "name": "python3",
      "display_name": "Python 3"
    },
    "language_info": {
      "name": "python"
    },
    "accelerator": "GPU"
  },
  "cells": [
    {
      "cell_type": "markdown",
      "metadata": {
        "id": "view-in-github",
        "colab_type": "text"
      },
      "source": [
        "<a href=\"https://colab.research.google.com/github/tig1795/predicting_hits_ML_MA/blob/main/XGBoost_small_dataset_af_lyrics_sent_emos_other_hit_classification.ipynb\" target=\"_parent\"><img src=\"https://colab.research.google.com/assets/colab-badge.svg\" alt=\"Open In Colab\"/></a>"
      ]
    },
    {
      "cell_type": "code",
      "execution_count": 1,
      "metadata": {
        "colab": {
          "base_uri": "https://localhost:8080/"
        },
        "id": "upOzxLwtPcSl",
        "outputId": "a3f7e2e0-467d-41fd-ce17-6bec677a4ee2"
      },
      "outputs": [
        {
          "output_type": "stream",
          "name": "stdout",
          "text": [
            "There are 1 GPU(s) available.\n",
            "We will use the GPU: Tesla T4\n"
          ]
        }
      ],
      "source": [
        "import torch\n",
        "\n",
        "# If there's a GPU available...\n",
        "if torch.cuda.is_available():\n",
        "\n",
        "    # Tell PyTorch to use the GPU.\n",
        "    device = torch.device(\"cuda\")\n",
        "\n",
        "    print('There are %d GPU(s) available.' % torch.cuda.device_count())\n",
        "\n",
        "    print('We will use the GPU:', torch.cuda.get_device_name(0))\n",
        "\n",
        "# If not...\n",
        "else:\n",
        "    print('No GPU available, using the CPU instead.')\n",
        "    device = torch.device(\"cpu\")"
      ]
    },
    {
      "cell_type": "code",
      "source": [
        "from google.colab import drive\n",
        "drive.mount('/content/gdrive')"
      ],
      "metadata": {
        "colab": {
          "base_uri": "https://localhost:8080/"
        },
        "id": "DS4KidwlQBHW",
        "outputId": "566f7880-dc27-4c50-f1d8-0d2f79b69317"
      },
      "execution_count": 2,
      "outputs": [
        {
          "output_type": "stream",
          "name": "stdout",
          "text": [
            "Drive already mounted at /content/gdrive; to attempt to forcibly remount, call drive.mount(\"/content/gdrive\", force_remount=True).\n"
          ]
        }
      ]
    },
    {
      "cell_type": "code",
      "source": [
        "import tensorflow as tf\n",
        "\n",
        "# Get the GPU device name.\n",
        "device_name = tf.test.gpu_device_name()\n",
        "\n",
        "# The device name should look like the following:\n",
        "if device_name == '/device:GPU:0':\n",
        "    print('Found GPU at: {}'.format(device_name))\n",
        "else:\n",
        "    raise SystemError('GPU device not found')"
      ],
      "metadata": {
        "colab": {
          "base_uri": "https://localhost:8080/"
        },
        "id": "7HUl2jMmQDEi",
        "outputId": "5471ae9f-9606-4180-b5ea-5a0127bb484a"
      },
      "execution_count": 3,
      "outputs": [
        {
          "output_type": "stream",
          "name": "stdout",
          "text": [
            "Found GPU at: /device:GPU:0\n"
          ]
        }
      ]
    },
    {
      "cell_type": "markdown",
      "source": [
        "# Important Imports"
      ],
      "metadata": {
        "id": "X3H6092yQL_F"
      }
    },
    {
      "cell_type": "code",
      "source": [
        "from sklearn.feature_extraction.text import TfidfVectorizer\n",
        "import pandas as pd\n",
        "import numpy as np\n",
        "import matplotlib.pyplot as plt\n",
        "import seaborn as sns"
      ],
      "metadata": {
        "id": "5YC1v20gQNVX"
      },
      "execution_count": 4,
      "outputs": []
    },
    {
      "cell_type": "code",
      "source": [
        "data = pd.read_csv('/content/gdrive/My Drive/Colab Datasets/dataset_ML_complete.csv')"
      ],
      "metadata": {
        "id": "igsdtCM6QPa_"
      },
      "execution_count": 5,
      "outputs": []
    },
    {
      "cell_type": "code",
      "source": [
        "data.head()"
      ],
      "metadata": {
        "colab": {
          "base_uri": "https://localhost:8080/",
          "height": 620
        },
        "id": "6fyqYpDxQSMB",
        "outputId": "fe4b6073-728d-42dd-bd72-1f65d43ce0be"
      },
      "execution_count": 6,
      "outputs": [
        {
          "output_type": "execute_result",
          "data": {
            "text/plain": [
              "                                              lyrics  \\\n",
              "0  look into my eyes  you will seewhat you mean t...   \n",
              "1  i can't get no satisfactioni can't get no sati...   \n",
              "2  our life together is so precious togetherwe ha...   \n",
              "3  love is higher than a mountain love is thicker...   \n",
              "4  sittin' in the morning suni'll be sittin' when...   \n",
              "\n",
              "                                               genre  num_syllables  pos  \\\n",
              "0  ['acoustic rock', 'adult contemporary', 'album...          258.3    1   \n",
              "1  ['blues', 'blues rock', 'britannique', 'britis...          296.1    3   \n",
              "2  ['britannique', 'british', 'classic pop and ro...          288.0    4   \n",
              "3   ['classic pop and rock', 'death by myocarditis']          224.1    8   \n",
              "4  ['american', 'blues', 'death by airplane', 'de...          223.2    4   \n",
              "\n",
              "   year  fog_index  flesch_index  num_lines  \\\n",
              "0  1991        4.4        107.69         36   \n",
              "1  1965        4.8        106.67         37   \n",
              "2  1981        4.8         81.29         28   \n",
              "3  1978        4.0         91.78         30   \n",
              "4  1968        4.8         98.21         25   \n",
              "\n",
              "                                           sentiment  \\\n",
              "0  {'neg': 0.14100000000000001, 'neu': 0.708, 'po...   \n",
              "1  {'neg': 0.126, 'neu': 0.667, 'pos': 0.20800000...   \n",
              "2  {'neg': 0.068, 'neu': 0.625, 'pos': 0.308, 'co...   \n",
              "3  {'neg': 0.062, 'neu': 0.7000000000000001, 'pos...   \n",
              "4  {'neg': 0.018000000000000002, 'neu': 0.927, 'p...   \n",
              "\n",
              "                               title  ...  duration_ms Popularity    values  \\\n",
              "0  (Everything I Do) I Do It For You  ...       393640       77.0  1.000000   \n",
              "1      (I Can't Get No) Satisfaction  ...       222813       78.0  0.333333   \n",
              "2          (Just Like) Starting Over  ...       236547       61.0  0.250000   \n",
              "3       (Love Is) Thicker Than Water  ...       255960       47.0  0.125000   \n",
              "4   (Sittin' On) The Dock Of The Bay  ...       163756       80.0  0.250000   \n",
              "\n",
              "   pred     label     score emotion_label  Hit Hit_2 Hit_3  \n",
              "0     1  POSITIVE  0.998717           joy  Yes   yes   yes  \n",
              "1     0  NEGATIVE  0.999485           joy  Yes    no   yes  \n",
              "2     1  POSITIVE  0.998593           joy  Yes    no   yes  \n",
              "3     1  POSITIVE  0.998285       sadness  Yes    no   yes  \n",
              "4     0  NEGATIVE  0.994735           joy  Yes    no   yes  \n",
              "\n",
              "[5 rows x 47 columns]"
            ],
            "text/html": [
              "\n",
              "  <div id=\"df-1c0a531b-8c5d-414c-8627-6528e40ebc13\" class=\"colab-df-container\">\n",
              "    <div>\n",
              "<style scoped>\n",
              "    .dataframe tbody tr th:only-of-type {\n",
              "        vertical-align: middle;\n",
              "    }\n",
              "\n",
              "    .dataframe tbody tr th {\n",
              "        vertical-align: top;\n",
              "    }\n",
              "\n",
              "    .dataframe thead th {\n",
              "        text-align: right;\n",
              "    }\n",
              "</style>\n",
              "<table border=\"1\" class=\"dataframe\">\n",
              "  <thead>\n",
              "    <tr style=\"text-align: right;\">\n",
              "      <th></th>\n",
              "      <th>lyrics</th>\n",
              "      <th>genre</th>\n",
              "      <th>num_syllables</th>\n",
              "      <th>pos</th>\n",
              "      <th>year</th>\n",
              "      <th>fog_index</th>\n",
              "      <th>flesch_index</th>\n",
              "      <th>num_lines</th>\n",
              "      <th>sentiment</th>\n",
              "      <th>title</th>\n",
              "      <th>...</th>\n",
              "      <th>duration_ms</th>\n",
              "      <th>Popularity</th>\n",
              "      <th>values</th>\n",
              "      <th>pred</th>\n",
              "      <th>label</th>\n",
              "      <th>score</th>\n",
              "      <th>emotion_label</th>\n",
              "      <th>Hit</th>\n",
              "      <th>Hit_2</th>\n",
              "      <th>Hit_3</th>\n",
              "    </tr>\n",
              "  </thead>\n",
              "  <tbody>\n",
              "    <tr>\n",
              "      <th>0</th>\n",
              "      <td>look into my eyes  you will seewhat you mean t...</td>\n",
              "      <td>['acoustic rock', 'adult contemporary', 'album...</td>\n",
              "      <td>258.3</td>\n",
              "      <td>1</td>\n",
              "      <td>1991</td>\n",
              "      <td>4.4</td>\n",
              "      <td>107.69</td>\n",
              "      <td>36</td>\n",
              "      <td>{'neg': 0.14100000000000001, 'neu': 0.708, 'po...</td>\n",
              "      <td>(Everything I Do) I Do It For You</td>\n",
              "      <td>...</td>\n",
              "      <td>393640</td>\n",
              "      <td>77.0</td>\n",
              "      <td>1.000000</td>\n",
              "      <td>1</td>\n",
              "      <td>POSITIVE</td>\n",
              "      <td>0.998717</td>\n",
              "      <td>joy</td>\n",
              "      <td>Yes</td>\n",
              "      <td>yes</td>\n",
              "      <td>yes</td>\n",
              "    </tr>\n",
              "    <tr>\n",
              "      <th>1</th>\n",
              "      <td>i can't get no satisfactioni can't get no sati...</td>\n",
              "      <td>['blues', 'blues rock', 'britannique', 'britis...</td>\n",
              "      <td>296.1</td>\n",
              "      <td>3</td>\n",
              "      <td>1965</td>\n",
              "      <td>4.8</td>\n",
              "      <td>106.67</td>\n",
              "      <td>37</td>\n",
              "      <td>{'neg': 0.126, 'neu': 0.667, 'pos': 0.20800000...</td>\n",
              "      <td>(I Can't Get No) Satisfaction</td>\n",
              "      <td>...</td>\n",
              "      <td>222813</td>\n",
              "      <td>78.0</td>\n",
              "      <td>0.333333</td>\n",
              "      <td>0</td>\n",
              "      <td>NEGATIVE</td>\n",
              "      <td>0.999485</td>\n",
              "      <td>joy</td>\n",
              "      <td>Yes</td>\n",
              "      <td>no</td>\n",
              "      <td>yes</td>\n",
              "    </tr>\n",
              "    <tr>\n",
              "      <th>2</th>\n",
              "      <td>our life together is so precious togetherwe ha...</td>\n",
              "      <td>['britannique', 'british', 'classic pop and ro...</td>\n",
              "      <td>288.0</td>\n",
              "      <td>4</td>\n",
              "      <td>1981</td>\n",
              "      <td>4.8</td>\n",
              "      <td>81.29</td>\n",
              "      <td>28</td>\n",
              "      <td>{'neg': 0.068, 'neu': 0.625, 'pos': 0.308, 'co...</td>\n",
              "      <td>(Just Like) Starting Over</td>\n",
              "      <td>...</td>\n",
              "      <td>236547</td>\n",
              "      <td>61.0</td>\n",
              "      <td>0.250000</td>\n",
              "      <td>1</td>\n",
              "      <td>POSITIVE</td>\n",
              "      <td>0.998593</td>\n",
              "      <td>joy</td>\n",
              "      <td>Yes</td>\n",
              "      <td>no</td>\n",
              "      <td>yes</td>\n",
              "    </tr>\n",
              "    <tr>\n",
              "      <th>3</th>\n",
              "      <td>love is higher than a mountain love is thicker...</td>\n",
              "      <td>['classic pop and rock', 'death by myocarditis']</td>\n",
              "      <td>224.1</td>\n",
              "      <td>8</td>\n",
              "      <td>1978</td>\n",
              "      <td>4.0</td>\n",
              "      <td>91.78</td>\n",
              "      <td>30</td>\n",
              "      <td>{'neg': 0.062, 'neu': 0.7000000000000001, 'pos...</td>\n",
              "      <td>(Love Is) Thicker Than Water</td>\n",
              "      <td>...</td>\n",
              "      <td>255960</td>\n",
              "      <td>47.0</td>\n",
              "      <td>0.125000</td>\n",
              "      <td>1</td>\n",
              "      <td>POSITIVE</td>\n",
              "      <td>0.998285</td>\n",
              "      <td>sadness</td>\n",
              "      <td>Yes</td>\n",
              "      <td>no</td>\n",
              "      <td>yes</td>\n",
              "    </tr>\n",
              "    <tr>\n",
              "      <th>4</th>\n",
              "      <td>sittin' in the morning suni'll be sittin' when...</td>\n",
              "      <td>['american', 'blues', 'death by airplane', 'de...</td>\n",
              "      <td>223.2</td>\n",
              "      <td>4</td>\n",
              "      <td>1968</td>\n",
              "      <td>4.8</td>\n",
              "      <td>98.21</td>\n",
              "      <td>25</td>\n",
              "      <td>{'neg': 0.018000000000000002, 'neu': 0.927, 'p...</td>\n",
              "      <td>(Sittin' On) The Dock Of The Bay</td>\n",
              "      <td>...</td>\n",
              "      <td>163756</td>\n",
              "      <td>80.0</td>\n",
              "      <td>0.250000</td>\n",
              "      <td>0</td>\n",
              "      <td>NEGATIVE</td>\n",
              "      <td>0.994735</td>\n",
              "      <td>joy</td>\n",
              "      <td>Yes</td>\n",
              "      <td>no</td>\n",
              "      <td>yes</td>\n",
              "    </tr>\n",
              "  </tbody>\n",
              "</table>\n",
              "<p>5 rows × 47 columns</p>\n",
              "</div>\n",
              "    <div class=\"colab-df-buttons\">\n",
              "\n",
              "  <div class=\"colab-df-container\">\n",
              "    <button class=\"colab-df-convert\" onclick=\"convertToInteractive('df-1c0a531b-8c5d-414c-8627-6528e40ebc13')\"\n",
              "            title=\"Convert this dataframe to an interactive table.\"\n",
              "            style=\"display:none;\">\n",
              "\n",
              "  <svg xmlns=\"http://www.w3.org/2000/svg\" height=\"24px\" viewBox=\"0 -960 960 960\">\n",
              "    <path d=\"M120-120v-720h720v720H120Zm60-500h600v-160H180v160Zm220 220h160v-160H400v160Zm0 220h160v-160H400v160ZM180-400h160v-160H180v160Zm440 0h160v-160H620v160ZM180-180h160v-160H180v160Zm440 0h160v-160H620v160Z\"/>\n",
              "  </svg>\n",
              "    </button>\n",
              "\n",
              "  <style>\n",
              "    .colab-df-container {\n",
              "      display:flex;\n",
              "      gap: 12px;\n",
              "    }\n",
              "\n",
              "    .colab-df-convert {\n",
              "      background-color: #E8F0FE;\n",
              "      border: none;\n",
              "      border-radius: 50%;\n",
              "      cursor: pointer;\n",
              "      display: none;\n",
              "      fill: #1967D2;\n",
              "      height: 32px;\n",
              "      padding: 0 0 0 0;\n",
              "      width: 32px;\n",
              "    }\n",
              "\n",
              "    .colab-df-convert:hover {\n",
              "      background-color: #E2EBFA;\n",
              "      box-shadow: 0px 1px 2px rgba(60, 64, 67, 0.3), 0px 1px 3px 1px rgba(60, 64, 67, 0.15);\n",
              "      fill: #174EA6;\n",
              "    }\n",
              "\n",
              "    .colab-df-buttons div {\n",
              "      margin-bottom: 4px;\n",
              "    }\n",
              "\n",
              "    [theme=dark] .colab-df-convert {\n",
              "      background-color: #3B4455;\n",
              "      fill: #D2E3FC;\n",
              "    }\n",
              "\n",
              "    [theme=dark] .colab-df-convert:hover {\n",
              "      background-color: #434B5C;\n",
              "      box-shadow: 0px 1px 3px 1px rgba(0, 0, 0, 0.15);\n",
              "      filter: drop-shadow(0px 1px 2px rgba(0, 0, 0, 0.3));\n",
              "      fill: #FFFFFF;\n",
              "    }\n",
              "  </style>\n",
              "\n",
              "    <script>\n",
              "      const buttonEl =\n",
              "        document.querySelector('#df-1c0a531b-8c5d-414c-8627-6528e40ebc13 button.colab-df-convert');\n",
              "      buttonEl.style.display =\n",
              "        google.colab.kernel.accessAllowed ? 'block' : 'none';\n",
              "\n",
              "      async function convertToInteractive(key) {\n",
              "        const element = document.querySelector('#df-1c0a531b-8c5d-414c-8627-6528e40ebc13');\n",
              "        const dataTable =\n",
              "          await google.colab.kernel.invokeFunction('convertToInteractive',\n",
              "                                                    [key], {});\n",
              "        if (!dataTable) return;\n",
              "\n",
              "        const docLinkHtml = 'Like what you see? Visit the ' +\n",
              "          '<a target=\"_blank\" href=https://colab.research.google.com/notebooks/data_table.ipynb>data table notebook</a>'\n",
              "          + ' to learn more about interactive tables.';\n",
              "        element.innerHTML = '';\n",
              "        dataTable['output_type'] = 'display_data';\n",
              "        await google.colab.output.renderOutput(dataTable, element);\n",
              "        const docLink = document.createElement('div');\n",
              "        docLink.innerHTML = docLinkHtml;\n",
              "        element.appendChild(docLink);\n",
              "      }\n",
              "    </script>\n",
              "  </div>\n",
              "\n",
              "\n",
              "<div id=\"df-8d70fbe3-1257-4705-ab34-cde546ac0a33\">\n",
              "  <button class=\"colab-df-quickchart\" onclick=\"quickchart('df-8d70fbe3-1257-4705-ab34-cde546ac0a33')\"\n",
              "            title=\"Suggest charts.\"\n",
              "            style=\"display:none;\">\n",
              "\n",
              "<svg xmlns=\"http://www.w3.org/2000/svg\" height=\"24px\"viewBox=\"0 0 24 24\"\n",
              "     width=\"24px\">\n",
              "    <g>\n",
              "        <path d=\"M19 3H5c-1.1 0-2 .9-2 2v14c0 1.1.9 2 2 2h14c1.1 0 2-.9 2-2V5c0-1.1-.9-2-2-2zM9 17H7v-7h2v7zm4 0h-2V7h2v10zm4 0h-2v-4h2v4z\"/>\n",
              "    </g>\n",
              "</svg>\n",
              "  </button>\n",
              "\n",
              "<style>\n",
              "  .colab-df-quickchart {\n",
              "      --bg-color: #E8F0FE;\n",
              "      --fill-color: #1967D2;\n",
              "      --hover-bg-color: #E2EBFA;\n",
              "      --hover-fill-color: #174EA6;\n",
              "      --disabled-fill-color: #AAA;\n",
              "      --disabled-bg-color: #DDD;\n",
              "  }\n",
              "\n",
              "  [theme=dark] .colab-df-quickchart {\n",
              "      --bg-color: #3B4455;\n",
              "      --fill-color: #D2E3FC;\n",
              "      --hover-bg-color: #434B5C;\n",
              "      --hover-fill-color: #FFFFFF;\n",
              "      --disabled-bg-color: #3B4455;\n",
              "      --disabled-fill-color: #666;\n",
              "  }\n",
              "\n",
              "  .colab-df-quickchart {\n",
              "    background-color: var(--bg-color);\n",
              "    border: none;\n",
              "    border-radius: 50%;\n",
              "    cursor: pointer;\n",
              "    display: none;\n",
              "    fill: var(--fill-color);\n",
              "    height: 32px;\n",
              "    padding: 0;\n",
              "    width: 32px;\n",
              "  }\n",
              "\n",
              "  .colab-df-quickchart:hover {\n",
              "    background-color: var(--hover-bg-color);\n",
              "    box-shadow: 0 1px 2px rgba(60, 64, 67, 0.3), 0 1px 3px 1px rgba(60, 64, 67, 0.15);\n",
              "    fill: var(--button-hover-fill-color);\n",
              "  }\n",
              "\n",
              "  .colab-df-quickchart-complete:disabled,\n",
              "  .colab-df-quickchart-complete:disabled:hover {\n",
              "    background-color: var(--disabled-bg-color);\n",
              "    fill: var(--disabled-fill-color);\n",
              "    box-shadow: none;\n",
              "  }\n",
              "\n",
              "  .colab-df-spinner {\n",
              "    border: 2px solid var(--fill-color);\n",
              "    border-color: transparent;\n",
              "    border-bottom-color: var(--fill-color);\n",
              "    animation:\n",
              "      spin 1s steps(1) infinite;\n",
              "  }\n",
              "\n",
              "  @keyframes spin {\n",
              "    0% {\n",
              "      border-color: transparent;\n",
              "      border-bottom-color: var(--fill-color);\n",
              "      border-left-color: var(--fill-color);\n",
              "    }\n",
              "    20% {\n",
              "      border-color: transparent;\n",
              "      border-left-color: var(--fill-color);\n",
              "      border-top-color: var(--fill-color);\n",
              "    }\n",
              "    30% {\n",
              "      border-color: transparent;\n",
              "      border-left-color: var(--fill-color);\n",
              "      border-top-color: var(--fill-color);\n",
              "      border-right-color: var(--fill-color);\n",
              "    }\n",
              "    40% {\n",
              "      border-color: transparent;\n",
              "      border-right-color: var(--fill-color);\n",
              "      border-top-color: var(--fill-color);\n",
              "    }\n",
              "    60% {\n",
              "      border-color: transparent;\n",
              "      border-right-color: var(--fill-color);\n",
              "    }\n",
              "    80% {\n",
              "      border-color: transparent;\n",
              "      border-right-color: var(--fill-color);\n",
              "      border-bottom-color: var(--fill-color);\n",
              "    }\n",
              "    90% {\n",
              "      border-color: transparent;\n",
              "      border-bottom-color: var(--fill-color);\n",
              "    }\n",
              "  }\n",
              "</style>\n",
              "\n",
              "  <script>\n",
              "    async function quickchart(key) {\n",
              "      const quickchartButtonEl =\n",
              "        document.querySelector('#' + key + ' button');\n",
              "      quickchartButtonEl.disabled = true;  // To prevent multiple clicks.\n",
              "      quickchartButtonEl.classList.add('colab-df-spinner');\n",
              "      try {\n",
              "        const charts = await google.colab.kernel.invokeFunction(\n",
              "            'suggestCharts', [key], {});\n",
              "      } catch (error) {\n",
              "        console.error('Error during call to suggestCharts:', error);\n",
              "      }\n",
              "      quickchartButtonEl.classList.remove('colab-df-spinner');\n",
              "      quickchartButtonEl.classList.add('colab-df-quickchart-complete');\n",
              "    }\n",
              "    (() => {\n",
              "      let quickchartButtonEl =\n",
              "        document.querySelector('#df-8d70fbe3-1257-4705-ab34-cde546ac0a33 button');\n",
              "      quickchartButtonEl.style.display =\n",
              "        google.colab.kernel.accessAllowed ? 'block' : 'none';\n",
              "    })();\n",
              "  </script>\n",
              "</div>\n",
              "    </div>\n",
              "  </div>\n"
            ]
          },
          "metadata": {},
          "execution_count": 6
        }
      ]
    },
    {
      "cell_type": "code",
      "source": [
        "data.shape"
      ],
      "metadata": {
        "colab": {
          "base_uri": "https://localhost:8080/"
        },
        "id": "4t9y6kD6QUMQ",
        "outputId": "85851f4b-3faf-4eba-86c5-f4127e77fd84"
      },
      "execution_count": 7,
      "outputs": [
        {
          "output_type": "execute_result",
          "data": {
            "text/plain": [
              "(3664, 47)"
            ]
          },
          "metadata": {},
          "execution_count": 7
        }
      ]
    },
    {
      "cell_type": "code",
      "source": [
        "data.columns"
      ],
      "metadata": {
        "colab": {
          "base_uri": "https://localhost:8080/"
        },
        "id": "BcZE7yHiQV5F",
        "outputId": "efb4a707-0ee6-4eab-a569-556d01c6f390"
      },
      "execution_count": 8,
      "outputs": [
        {
          "output_type": "execute_result",
          "data": {
            "text/plain": [
              "Index(['lyrics', 'genre', 'num_syllables', 'pos', 'year', 'fog_index',\n",
              "       'flesch_index', 'num_lines', 'sentiment', 'title', 'f_k_grade',\n",
              "       'artist', 'difficult_words', 'num_dupes', 'number_of_tokens',\n",
              "       'number_of_types', 'decades', 'stemmed_text', 'POS_tags', 'POS',\n",
              "       'playlistID', 'TrackName', 'TrackID', 'SampleURL', 'ReleaseYear',\n",
              "       'Genres', 'danceability', 'energy', 'loudness', 'speechiness',\n",
              "       'acousticness', 'instrumentalness', 'liveness', 'valence', 'tempo',\n",
              "       'key', 'mode', 'duration_ms', 'Popularity', 'values', 'pred', 'label',\n",
              "       'score', 'emotion_label', 'Hit', 'Hit_2', 'Hit_3'],\n",
              "      dtype='object')"
            ]
          },
          "metadata": {},
          "execution_count": 8
        }
      ]
    },
    {
      "cell_type": "code",
      "source": [
        "data = data.drop(['genre', 'num_syllables', 'pos', 'year', 'fog_index',\n",
        "       'flesch_index', 'num_lines', 'sentiment','f_k_grade', 'difficult_words', 'num_dupes', 'number_of_tokens',\n",
        "       'number_of_types', 'decades', 'stemmed_text', 'POS_tags', 'POS','values', 'pred'], axis=1)"
      ],
      "metadata": {
        "id": "p8PbUSIQQXnK"
      },
      "execution_count": 9,
      "outputs": []
    },
    {
      "cell_type": "code",
      "source": [
        "data.head(5)"
      ],
      "metadata": {
        "colab": {
          "base_uri": "https://localhost:8080/",
          "height": 620
        },
        "id": "nG5VXuNgQzKL",
        "outputId": "811d1f82-27e6-471e-d406-bffed382f2ff"
      },
      "execution_count": 10,
      "outputs": [
        {
          "output_type": "execute_result",
          "data": {
            "text/plain": [
              "                                              lyrics  \\\n",
              "0  look into my eyes  you will seewhat you mean t...   \n",
              "1  i can't get no satisfactioni can't get no sati...   \n",
              "2  our life together is so precious togetherwe ha...   \n",
              "3  love is higher than a mountain love is thicker...   \n",
              "4  sittin' in the morning suni'll be sittin' when...   \n",
              "\n",
              "                               title          artist              playlistID  \\\n",
              "0  (Everything I Do) I Do It For You     Bryan Adams  2A4YfptOVIqtSvTQ6d32sm   \n",
              "1      (I Can't Get No) Satisfaction  Rolling Stones  2A4YfptOVIqtSvTQ6d32sm   \n",
              "2          (Just Like) Starting Over     John Lennon  2A4YfptOVIqtSvTQ6d32sm   \n",
              "3       (Love Is) Thicker Than Water       Andy Gibb  2A4YfptOVIqtSvTQ6d32sm   \n",
              "4   (Sittin' On) The Dock Of The Bay    Otis Redding  2A4YfptOVIqtSvTQ6d32sm   \n",
              "\n",
              "                                      TrackName                 TrackID  \\\n",
              "0             (Everything I Do) I Do It For You  1Eb90nmqTrxylKFhcUzW8P   \n",
              "1  (I Can't Get No) Satisfaction - Mono Version  2PzU4IB8Dr6mxV3lHuaG34   \n",
              "2   (Just Like) Starting Over - Remastered 2010  5y0YreEOnQiKFAnCrcFIXz   \n",
              "3                  (Love Is) Thicker Than Water  3jdBf1cJ2QmTzNUixplppA   \n",
              "4              (Sittin' On) the Dock of the Bay  3zBhihYUHBmGd2bcQIobrF   \n",
              "\n",
              "                                           SampleURL ReleaseYear  \\\n",
              "0  https://p.scdn.co/mp3-preview/b69589f6d0950835...  1991-09-24   \n",
              "1  https://p.scdn.co/mp3-preview/22782e4be2eb4daa...  1965-07-30   \n",
              "2  https://p.scdn.co/mp3-preview/a79a8808230f4ded...  1980-11-17   \n",
              "3  https://p.scdn.co/mp3-preview/ce0e47fb6c886802...  1977-01-01   \n",
              "4  https://p.scdn.co/mp3-preview/404976a4a56d8c1c...        1968   \n",
              "\n",
              "                                              Genres  danceability  ...  key  \\\n",
              "0  ['canadian pop', 'canadian singer-songwriter',...         0.533  ...    1   \n",
              "1  ['album rock', 'british invasion', 'classic ro...         0.723  ...    2   \n",
              "2             ['beatlesque', 'classic rock', 'rock']         0.701  ...    9   \n",
              "3              ['disco', 'mellow gold', 'soft rock']         0.582  ...    6   \n",
              "4  ['classic soul', 'memphis soul', 'soul', 'soul...         0.769  ...    2   \n",
              "\n",
              "   mode  duration_ms  Popularity     label     score  emotion_label  Hit  \\\n",
              "0     1       393640        77.0  POSITIVE  0.998717            joy  Yes   \n",
              "1     1       222813        78.0  NEGATIVE  0.999485            joy  Yes   \n",
              "2     1       236547        61.0  POSITIVE  0.998593            joy  Yes   \n",
              "3     0       255960        47.0  POSITIVE  0.998285        sadness  Yes   \n",
              "4     1       163756        80.0  NEGATIVE  0.994735            joy  Yes   \n",
              "\n",
              "   Hit_2  Hit_3  \n",
              "0    yes    yes  \n",
              "1     no    yes  \n",
              "2     no    yes  \n",
              "3     no    yes  \n",
              "4     no    yes  \n",
              "\n",
              "[5 rows x 28 columns]"
            ],
            "text/html": [
              "\n",
              "  <div id=\"df-84132406-94c9-4fdd-a55f-de64586fb266\" class=\"colab-df-container\">\n",
              "    <div>\n",
              "<style scoped>\n",
              "    .dataframe tbody tr th:only-of-type {\n",
              "        vertical-align: middle;\n",
              "    }\n",
              "\n",
              "    .dataframe tbody tr th {\n",
              "        vertical-align: top;\n",
              "    }\n",
              "\n",
              "    .dataframe thead th {\n",
              "        text-align: right;\n",
              "    }\n",
              "</style>\n",
              "<table border=\"1\" class=\"dataframe\">\n",
              "  <thead>\n",
              "    <tr style=\"text-align: right;\">\n",
              "      <th></th>\n",
              "      <th>lyrics</th>\n",
              "      <th>title</th>\n",
              "      <th>artist</th>\n",
              "      <th>playlistID</th>\n",
              "      <th>TrackName</th>\n",
              "      <th>TrackID</th>\n",
              "      <th>SampleURL</th>\n",
              "      <th>ReleaseYear</th>\n",
              "      <th>Genres</th>\n",
              "      <th>danceability</th>\n",
              "      <th>...</th>\n",
              "      <th>key</th>\n",
              "      <th>mode</th>\n",
              "      <th>duration_ms</th>\n",
              "      <th>Popularity</th>\n",
              "      <th>label</th>\n",
              "      <th>score</th>\n",
              "      <th>emotion_label</th>\n",
              "      <th>Hit</th>\n",
              "      <th>Hit_2</th>\n",
              "      <th>Hit_3</th>\n",
              "    </tr>\n",
              "  </thead>\n",
              "  <tbody>\n",
              "    <tr>\n",
              "      <th>0</th>\n",
              "      <td>look into my eyes  you will seewhat you mean t...</td>\n",
              "      <td>(Everything I Do) I Do It For You</td>\n",
              "      <td>Bryan Adams</td>\n",
              "      <td>2A4YfptOVIqtSvTQ6d32sm</td>\n",
              "      <td>(Everything I Do) I Do It For You</td>\n",
              "      <td>1Eb90nmqTrxylKFhcUzW8P</td>\n",
              "      <td>https://p.scdn.co/mp3-preview/b69589f6d0950835...</td>\n",
              "      <td>1991-09-24</td>\n",
              "      <td>['canadian pop', 'canadian singer-songwriter',...</td>\n",
              "      <td>0.533</td>\n",
              "      <td>...</td>\n",
              "      <td>1</td>\n",
              "      <td>1</td>\n",
              "      <td>393640</td>\n",
              "      <td>77.0</td>\n",
              "      <td>POSITIVE</td>\n",
              "      <td>0.998717</td>\n",
              "      <td>joy</td>\n",
              "      <td>Yes</td>\n",
              "      <td>yes</td>\n",
              "      <td>yes</td>\n",
              "    </tr>\n",
              "    <tr>\n",
              "      <th>1</th>\n",
              "      <td>i can't get no satisfactioni can't get no sati...</td>\n",
              "      <td>(I Can't Get No) Satisfaction</td>\n",
              "      <td>Rolling Stones</td>\n",
              "      <td>2A4YfptOVIqtSvTQ6d32sm</td>\n",
              "      <td>(I Can't Get No) Satisfaction - Mono Version</td>\n",
              "      <td>2PzU4IB8Dr6mxV3lHuaG34</td>\n",
              "      <td>https://p.scdn.co/mp3-preview/22782e4be2eb4daa...</td>\n",
              "      <td>1965-07-30</td>\n",
              "      <td>['album rock', 'british invasion', 'classic ro...</td>\n",
              "      <td>0.723</td>\n",
              "      <td>...</td>\n",
              "      <td>2</td>\n",
              "      <td>1</td>\n",
              "      <td>222813</td>\n",
              "      <td>78.0</td>\n",
              "      <td>NEGATIVE</td>\n",
              "      <td>0.999485</td>\n",
              "      <td>joy</td>\n",
              "      <td>Yes</td>\n",
              "      <td>no</td>\n",
              "      <td>yes</td>\n",
              "    </tr>\n",
              "    <tr>\n",
              "      <th>2</th>\n",
              "      <td>our life together is so precious togetherwe ha...</td>\n",
              "      <td>(Just Like) Starting Over</td>\n",
              "      <td>John Lennon</td>\n",
              "      <td>2A4YfptOVIqtSvTQ6d32sm</td>\n",
              "      <td>(Just Like) Starting Over - Remastered 2010</td>\n",
              "      <td>5y0YreEOnQiKFAnCrcFIXz</td>\n",
              "      <td>https://p.scdn.co/mp3-preview/a79a8808230f4ded...</td>\n",
              "      <td>1980-11-17</td>\n",
              "      <td>['beatlesque', 'classic rock', 'rock']</td>\n",
              "      <td>0.701</td>\n",
              "      <td>...</td>\n",
              "      <td>9</td>\n",
              "      <td>1</td>\n",
              "      <td>236547</td>\n",
              "      <td>61.0</td>\n",
              "      <td>POSITIVE</td>\n",
              "      <td>0.998593</td>\n",
              "      <td>joy</td>\n",
              "      <td>Yes</td>\n",
              "      <td>no</td>\n",
              "      <td>yes</td>\n",
              "    </tr>\n",
              "    <tr>\n",
              "      <th>3</th>\n",
              "      <td>love is higher than a mountain love is thicker...</td>\n",
              "      <td>(Love Is) Thicker Than Water</td>\n",
              "      <td>Andy Gibb</td>\n",
              "      <td>2A4YfptOVIqtSvTQ6d32sm</td>\n",
              "      <td>(Love Is) Thicker Than Water</td>\n",
              "      <td>3jdBf1cJ2QmTzNUixplppA</td>\n",
              "      <td>https://p.scdn.co/mp3-preview/ce0e47fb6c886802...</td>\n",
              "      <td>1977-01-01</td>\n",
              "      <td>['disco', 'mellow gold', 'soft rock']</td>\n",
              "      <td>0.582</td>\n",
              "      <td>...</td>\n",
              "      <td>6</td>\n",
              "      <td>0</td>\n",
              "      <td>255960</td>\n",
              "      <td>47.0</td>\n",
              "      <td>POSITIVE</td>\n",
              "      <td>0.998285</td>\n",
              "      <td>sadness</td>\n",
              "      <td>Yes</td>\n",
              "      <td>no</td>\n",
              "      <td>yes</td>\n",
              "    </tr>\n",
              "    <tr>\n",
              "      <th>4</th>\n",
              "      <td>sittin' in the morning suni'll be sittin' when...</td>\n",
              "      <td>(Sittin' On) The Dock Of The Bay</td>\n",
              "      <td>Otis Redding</td>\n",
              "      <td>2A4YfptOVIqtSvTQ6d32sm</td>\n",
              "      <td>(Sittin' On) the Dock of the Bay</td>\n",
              "      <td>3zBhihYUHBmGd2bcQIobrF</td>\n",
              "      <td>https://p.scdn.co/mp3-preview/404976a4a56d8c1c...</td>\n",
              "      <td>1968</td>\n",
              "      <td>['classic soul', 'memphis soul', 'soul', 'soul...</td>\n",
              "      <td>0.769</td>\n",
              "      <td>...</td>\n",
              "      <td>2</td>\n",
              "      <td>1</td>\n",
              "      <td>163756</td>\n",
              "      <td>80.0</td>\n",
              "      <td>NEGATIVE</td>\n",
              "      <td>0.994735</td>\n",
              "      <td>joy</td>\n",
              "      <td>Yes</td>\n",
              "      <td>no</td>\n",
              "      <td>yes</td>\n",
              "    </tr>\n",
              "  </tbody>\n",
              "</table>\n",
              "<p>5 rows × 28 columns</p>\n",
              "</div>\n",
              "    <div class=\"colab-df-buttons\">\n",
              "\n",
              "  <div class=\"colab-df-container\">\n",
              "    <button class=\"colab-df-convert\" onclick=\"convertToInteractive('df-84132406-94c9-4fdd-a55f-de64586fb266')\"\n",
              "            title=\"Convert this dataframe to an interactive table.\"\n",
              "            style=\"display:none;\">\n",
              "\n",
              "  <svg xmlns=\"http://www.w3.org/2000/svg\" height=\"24px\" viewBox=\"0 -960 960 960\">\n",
              "    <path d=\"M120-120v-720h720v720H120Zm60-500h600v-160H180v160Zm220 220h160v-160H400v160Zm0 220h160v-160H400v160ZM180-400h160v-160H180v160Zm440 0h160v-160H620v160ZM180-180h160v-160H180v160Zm440 0h160v-160H620v160Z\"/>\n",
              "  </svg>\n",
              "    </button>\n",
              "\n",
              "  <style>\n",
              "    .colab-df-container {\n",
              "      display:flex;\n",
              "      gap: 12px;\n",
              "    }\n",
              "\n",
              "    .colab-df-convert {\n",
              "      background-color: #E8F0FE;\n",
              "      border: none;\n",
              "      border-radius: 50%;\n",
              "      cursor: pointer;\n",
              "      display: none;\n",
              "      fill: #1967D2;\n",
              "      height: 32px;\n",
              "      padding: 0 0 0 0;\n",
              "      width: 32px;\n",
              "    }\n",
              "\n",
              "    .colab-df-convert:hover {\n",
              "      background-color: #E2EBFA;\n",
              "      box-shadow: 0px 1px 2px rgba(60, 64, 67, 0.3), 0px 1px 3px 1px rgba(60, 64, 67, 0.15);\n",
              "      fill: #174EA6;\n",
              "    }\n",
              "\n",
              "    .colab-df-buttons div {\n",
              "      margin-bottom: 4px;\n",
              "    }\n",
              "\n",
              "    [theme=dark] .colab-df-convert {\n",
              "      background-color: #3B4455;\n",
              "      fill: #D2E3FC;\n",
              "    }\n",
              "\n",
              "    [theme=dark] .colab-df-convert:hover {\n",
              "      background-color: #434B5C;\n",
              "      box-shadow: 0px 1px 3px 1px rgba(0, 0, 0, 0.15);\n",
              "      filter: drop-shadow(0px 1px 2px rgba(0, 0, 0, 0.3));\n",
              "      fill: #FFFFFF;\n",
              "    }\n",
              "  </style>\n",
              "\n",
              "    <script>\n",
              "      const buttonEl =\n",
              "        document.querySelector('#df-84132406-94c9-4fdd-a55f-de64586fb266 button.colab-df-convert');\n",
              "      buttonEl.style.display =\n",
              "        google.colab.kernel.accessAllowed ? 'block' : 'none';\n",
              "\n",
              "      async function convertToInteractive(key) {\n",
              "        const element = document.querySelector('#df-84132406-94c9-4fdd-a55f-de64586fb266');\n",
              "        const dataTable =\n",
              "          await google.colab.kernel.invokeFunction('convertToInteractive',\n",
              "                                                    [key], {});\n",
              "        if (!dataTable) return;\n",
              "\n",
              "        const docLinkHtml = 'Like what you see? Visit the ' +\n",
              "          '<a target=\"_blank\" href=https://colab.research.google.com/notebooks/data_table.ipynb>data table notebook</a>'\n",
              "          + ' to learn more about interactive tables.';\n",
              "        element.innerHTML = '';\n",
              "        dataTable['output_type'] = 'display_data';\n",
              "        await google.colab.output.renderOutput(dataTable, element);\n",
              "        const docLink = document.createElement('div');\n",
              "        docLink.innerHTML = docLinkHtml;\n",
              "        element.appendChild(docLink);\n",
              "      }\n",
              "    </script>\n",
              "  </div>\n",
              "\n",
              "\n",
              "<div id=\"df-d8d9d978-c546-4b47-b20d-83c3fa5ffc69\">\n",
              "  <button class=\"colab-df-quickchart\" onclick=\"quickchart('df-d8d9d978-c546-4b47-b20d-83c3fa5ffc69')\"\n",
              "            title=\"Suggest charts.\"\n",
              "            style=\"display:none;\">\n",
              "\n",
              "<svg xmlns=\"http://www.w3.org/2000/svg\" height=\"24px\"viewBox=\"0 0 24 24\"\n",
              "     width=\"24px\">\n",
              "    <g>\n",
              "        <path d=\"M19 3H5c-1.1 0-2 .9-2 2v14c0 1.1.9 2 2 2h14c1.1 0 2-.9 2-2V5c0-1.1-.9-2-2-2zM9 17H7v-7h2v7zm4 0h-2V7h2v10zm4 0h-2v-4h2v4z\"/>\n",
              "    </g>\n",
              "</svg>\n",
              "  </button>\n",
              "\n",
              "<style>\n",
              "  .colab-df-quickchart {\n",
              "      --bg-color: #E8F0FE;\n",
              "      --fill-color: #1967D2;\n",
              "      --hover-bg-color: #E2EBFA;\n",
              "      --hover-fill-color: #174EA6;\n",
              "      --disabled-fill-color: #AAA;\n",
              "      --disabled-bg-color: #DDD;\n",
              "  }\n",
              "\n",
              "  [theme=dark] .colab-df-quickchart {\n",
              "      --bg-color: #3B4455;\n",
              "      --fill-color: #D2E3FC;\n",
              "      --hover-bg-color: #434B5C;\n",
              "      --hover-fill-color: #FFFFFF;\n",
              "      --disabled-bg-color: #3B4455;\n",
              "      --disabled-fill-color: #666;\n",
              "  }\n",
              "\n",
              "  .colab-df-quickchart {\n",
              "    background-color: var(--bg-color);\n",
              "    border: none;\n",
              "    border-radius: 50%;\n",
              "    cursor: pointer;\n",
              "    display: none;\n",
              "    fill: var(--fill-color);\n",
              "    height: 32px;\n",
              "    padding: 0;\n",
              "    width: 32px;\n",
              "  }\n",
              "\n",
              "  .colab-df-quickchart:hover {\n",
              "    background-color: var(--hover-bg-color);\n",
              "    box-shadow: 0 1px 2px rgba(60, 64, 67, 0.3), 0 1px 3px 1px rgba(60, 64, 67, 0.15);\n",
              "    fill: var(--button-hover-fill-color);\n",
              "  }\n",
              "\n",
              "  .colab-df-quickchart-complete:disabled,\n",
              "  .colab-df-quickchart-complete:disabled:hover {\n",
              "    background-color: var(--disabled-bg-color);\n",
              "    fill: var(--disabled-fill-color);\n",
              "    box-shadow: none;\n",
              "  }\n",
              "\n",
              "  .colab-df-spinner {\n",
              "    border: 2px solid var(--fill-color);\n",
              "    border-color: transparent;\n",
              "    border-bottom-color: var(--fill-color);\n",
              "    animation:\n",
              "      spin 1s steps(1) infinite;\n",
              "  }\n",
              "\n",
              "  @keyframes spin {\n",
              "    0% {\n",
              "      border-color: transparent;\n",
              "      border-bottom-color: var(--fill-color);\n",
              "      border-left-color: var(--fill-color);\n",
              "    }\n",
              "    20% {\n",
              "      border-color: transparent;\n",
              "      border-left-color: var(--fill-color);\n",
              "      border-top-color: var(--fill-color);\n",
              "    }\n",
              "    30% {\n",
              "      border-color: transparent;\n",
              "      border-left-color: var(--fill-color);\n",
              "      border-top-color: var(--fill-color);\n",
              "      border-right-color: var(--fill-color);\n",
              "    }\n",
              "    40% {\n",
              "      border-color: transparent;\n",
              "      border-right-color: var(--fill-color);\n",
              "      border-top-color: var(--fill-color);\n",
              "    }\n",
              "    60% {\n",
              "      border-color: transparent;\n",
              "      border-right-color: var(--fill-color);\n",
              "    }\n",
              "    80% {\n",
              "      border-color: transparent;\n",
              "      border-right-color: var(--fill-color);\n",
              "      border-bottom-color: var(--fill-color);\n",
              "    }\n",
              "    90% {\n",
              "      border-color: transparent;\n",
              "      border-bottom-color: var(--fill-color);\n",
              "    }\n",
              "  }\n",
              "</style>\n",
              "\n",
              "  <script>\n",
              "    async function quickchart(key) {\n",
              "      const quickchartButtonEl =\n",
              "        document.querySelector('#' + key + ' button');\n",
              "      quickchartButtonEl.disabled = true;  // To prevent multiple clicks.\n",
              "      quickchartButtonEl.classList.add('colab-df-spinner');\n",
              "      try {\n",
              "        const charts = await google.colab.kernel.invokeFunction(\n",
              "            'suggestCharts', [key], {});\n",
              "      } catch (error) {\n",
              "        console.error('Error during call to suggestCharts:', error);\n",
              "      }\n",
              "      quickchartButtonEl.classList.remove('colab-df-spinner');\n",
              "      quickchartButtonEl.classList.add('colab-df-quickchart-complete');\n",
              "    }\n",
              "    (() => {\n",
              "      let quickchartButtonEl =\n",
              "        document.querySelector('#df-d8d9d978-c546-4b47-b20d-83c3fa5ffc69 button');\n",
              "      quickchartButtonEl.style.display =\n",
              "        google.colab.kernel.accessAllowed ? 'block' : 'none';\n",
              "    })();\n",
              "  </script>\n",
              "</div>\n",
              "    </div>\n",
              "  </div>\n"
            ]
          },
          "metadata": {},
          "execution_count": 10
        }
      ]
    },
    {
      "cell_type": "code",
      "source": [
        "data = data.drop(['playlistID', 'TrackName', 'SampleURL', 'ReleaseYear', 'Genres', 'score'], axis=1)"
      ],
      "metadata": {
        "id": "raaRi3dwQ0IA"
      },
      "execution_count": 11,
      "outputs": []
    },
    {
      "cell_type": "code",
      "source": [
        "data.head(5)"
      ],
      "metadata": {
        "colab": {
          "base_uri": "https://localhost:8080/",
          "height": 620
        },
        "id": "g-OS3YxZQ95J",
        "outputId": "50ac524a-2147-4385-e471-3143da146d13"
      },
      "execution_count": 12,
      "outputs": [
        {
          "output_type": "execute_result",
          "data": {
            "text/plain": [
              "                                              lyrics  \\\n",
              "0  look into my eyes  you will seewhat you mean t...   \n",
              "1  i can't get no satisfactioni can't get no sati...   \n",
              "2  our life together is so precious togetherwe ha...   \n",
              "3  love is higher than a mountain love is thicker...   \n",
              "4  sittin' in the morning suni'll be sittin' when...   \n",
              "\n",
              "                               title          artist                 TrackID  \\\n",
              "0  (Everything I Do) I Do It For You     Bryan Adams  1Eb90nmqTrxylKFhcUzW8P   \n",
              "1      (I Can't Get No) Satisfaction  Rolling Stones  2PzU4IB8Dr6mxV3lHuaG34   \n",
              "2          (Just Like) Starting Over     John Lennon  5y0YreEOnQiKFAnCrcFIXz   \n",
              "3       (Love Is) Thicker Than Water       Andy Gibb  3jdBf1cJ2QmTzNUixplppA   \n",
              "4   (Sittin' On) The Dock Of The Bay    Otis Redding  3zBhihYUHBmGd2bcQIobrF   \n",
              "\n",
              "   danceability  energy  loudness  speechiness  acousticness  \\\n",
              "0         0.533   0.360   -12.633       0.0282        0.0805   \n",
              "1         0.723   0.863    -7.890       0.0338        0.0383   \n",
              "2         0.701   0.790    -6.160       0.0725        0.3010   \n",
              "3         0.582   0.462    -9.882       0.0254        0.1370   \n",
              "4         0.769   0.367   -11.226       0.0312        0.6840   \n",
              "\n",
              "   instrumentalness  ...    tempo  key  mode  duration_ms  Popularity  \\\n",
              "0          0.000010  ...  131.229    1     1       393640        77.0   \n",
              "1          0.031700  ...  136.302    2     1       222813        78.0   \n",
              "2          0.000061  ...   99.104    9     1       236547        61.0   \n",
              "3          0.000050  ...   96.361    6     0       255960        47.0   \n",
              "4          0.000016  ...  103.621    2     1       163756        80.0   \n",
              "\n",
              "      label  emotion_label  Hit Hit_2 Hit_3  \n",
              "0  POSITIVE            joy  Yes   yes   yes  \n",
              "1  NEGATIVE            joy  Yes    no   yes  \n",
              "2  POSITIVE            joy  Yes    no   yes  \n",
              "3  POSITIVE        sadness  Yes    no   yes  \n",
              "4  NEGATIVE            joy  Yes    no   yes  \n",
              "\n",
              "[5 rows x 22 columns]"
            ],
            "text/html": [
              "\n",
              "  <div id=\"df-9133b1b0-ed78-42be-bac6-2cbc0913f219\" class=\"colab-df-container\">\n",
              "    <div>\n",
              "<style scoped>\n",
              "    .dataframe tbody tr th:only-of-type {\n",
              "        vertical-align: middle;\n",
              "    }\n",
              "\n",
              "    .dataframe tbody tr th {\n",
              "        vertical-align: top;\n",
              "    }\n",
              "\n",
              "    .dataframe thead th {\n",
              "        text-align: right;\n",
              "    }\n",
              "</style>\n",
              "<table border=\"1\" class=\"dataframe\">\n",
              "  <thead>\n",
              "    <tr style=\"text-align: right;\">\n",
              "      <th></th>\n",
              "      <th>lyrics</th>\n",
              "      <th>title</th>\n",
              "      <th>artist</th>\n",
              "      <th>TrackID</th>\n",
              "      <th>danceability</th>\n",
              "      <th>energy</th>\n",
              "      <th>loudness</th>\n",
              "      <th>speechiness</th>\n",
              "      <th>acousticness</th>\n",
              "      <th>instrumentalness</th>\n",
              "      <th>...</th>\n",
              "      <th>tempo</th>\n",
              "      <th>key</th>\n",
              "      <th>mode</th>\n",
              "      <th>duration_ms</th>\n",
              "      <th>Popularity</th>\n",
              "      <th>label</th>\n",
              "      <th>emotion_label</th>\n",
              "      <th>Hit</th>\n",
              "      <th>Hit_2</th>\n",
              "      <th>Hit_3</th>\n",
              "    </tr>\n",
              "  </thead>\n",
              "  <tbody>\n",
              "    <tr>\n",
              "      <th>0</th>\n",
              "      <td>look into my eyes  you will seewhat you mean t...</td>\n",
              "      <td>(Everything I Do) I Do It For You</td>\n",
              "      <td>Bryan Adams</td>\n",
              "      <td>1Eb90nmqTrxylKFhcUzW8P</td>\n",
              "      <td>0.533</td>\n",
              "      <td>0.360</td>\n",
              "      <td>-12.633</td>\n",
              "      <td>0.0282</td>\n",
              "      <td>0.0805</td>\n",
              "      <td>0.000010</td>\n",
              "      <td>...</td>\n",
              "      <td>131.229</td>\n",
              "      <td>1</td>\n",
              "      <td>1</td>\n",
              "      <td>393640</td>\n",
              "      <td>77.0</td>\n",
              "      <td>POSITIVE</td>\n",
              "      <td>joy</td>\n",
              "      <td>Yes</td>\n",
              "      <td>yes</td>\n",
              "      <td>yes</td>\n",
              "    </tr>\n",
              "    <tr>\n",
              "      <th>1</th>\n",
              "      <td>i can't get no satisfactioni can't get no sati...</td>\n",
              "      <td>(I Can't Get No) Satisfaction</td>\n",
              "      <td>Rolling Stones</td>\n",
              "      <td>2PzU4IB8Dr6mxV3lHuaG34</td>\n",
              "      <td>0.723</td>\n",
              "      <td>0.863</td>\n",
              "      <td>-7.890</td>\n",
              "      <td>0.0338</td>\n",
              "      <td>0.0383</td>\n",
              "      <td>0.031700</td>\n",
              "      <td>...</td>\n",
              "      <td>136.302</td>\n",
              "      <td>2</td>\n",
              "      <td>1</td>\n",
              "      <td>222813</td>\n",
              "      <td>78.0</td>\n",
              "      <td>NEGATIVE</td>\n",
              "      <td>joy</td>\n",
              "      <td>Yes</td>\n",
              "      <td>no</td>\n",
              "      <td>yes</td>\n",
              "    </tr>\n",
              "    <tr>\n",
              "      <th>2</th>\n",
              "      <td>our life together is so precious togetherwe ha...</td>\n",
              "      <td>(Just Like) Starting Over</td>\n",
              "      <td>John Lennon</td>\n",
              "      <td>5y0YreEOnQiKFAnCrcFIXz</td>\n",
              "      <td>0.701</td>\n",
              "      <td>0.790</td>\n",
              "      <td>-6.160</td>\n",
              "      <td>0.0725</td>\n",
              "      <td>0.3010</td>\n",
              "      <td>0.000061</td>\n",
              "      <td>...</td>\n",
              "      <td>99.104</td>\n",
              "      <td>9</td>\n",
              "      <td>1</td>\n",
              "      <td>236547</td>\n",
              "      <td>61.0</td>\n",
              "      <td>POSITIVE</td>\n",
              "      <td>joy</td>\n",
              "      <td>Yes</td>\n",
              "      <td>no</td>\n",
              "      <td>yes</td>\n",
              "    </tr>\n",
              "    <tr>\n",
              "      <th>3</th>\n",
              "      <td>love is higher than a mountain love is thicker...</td>\n",
              "      <td>(Love Is) Thicker Than Water</td>\n",
              "      <td>Andy Gibb</td>\n",
              "      <td>3jdBf1cJ2QmTzNUixplppA</td>\n",
              "      <td>0.582</td>\n",
              "      <td>0.462</td>\n",
              "      <td>-9.882</td>\n",
              "      <td>0.0254</td>\n",
              "      <td>0.1370</td>\n",
              "      <td>0.000050</td>\n",
              "      <td>...</td>\n",
              "      <td>96.361</td>\n",
              "      <td>6</td>\n",
              "      <td>0</td>\n",
              "      <td>255960</td>\n",
              "      <td>47.0</td>\n",
              "      <td>POSITIVE</td>\n",
              "      <td>sadness</td>\n",
              "      <td>Yes</td>\n",
              "      <td>no</td>\n",
              "      <td>yes</td>\n",
              "    </tr>\n",
              "    <tr>\n",
              "      <th>4</th>\n",
              "      <td>sittin' in the morning suni'll be sittin' when...</td>\n",
              "      <td>(Sittin' On) The Dock Of The Bay</td>\n",
              "      <td>Otis Redding</td>\n",
              "      <td>3zBhihYUHBmGd2bcQIobrF</td>\n",
              "      <td>0.769</td>\n",
              "      <td>0.367</td>\n",
              "      <td>-11.226</td>\n",
              "      <td>0.0312</td>\n",
              "      <td>0.6840</td>\n",
              "      <td>0.000016</td>\n",
              "      <td>...</td>\n",
              "      <td>103.621</td>\n",
              "      <td>2</td>\n",
              "      <td>1</td>\n",
              "      <td>163756</td>\n",
              "      <td>80.0</td>\n",
              "      <td>NEGATIVE</td>\n",
              "      <td>joy</td>\n",
              "      <td>Yes</td>\n",
              "      <td>no</td>\n",
              "      <td>yes</td>\n",
              "    </tr>\n",
              "  </tbody>\n",
              "</table>\n",
              "<p>5 rows × 22 columns</p>\n",
              "</div>\n",
              "    <div class=\"colab-df-buttons\">\n",
              "\n",
              "  <div class=\"colab-df-container\">\n",
              "    <button class=\"colab-df-convert\" onclick=\"convertToInteractive('df-9133b1b0-ed78-42be-bac6-2cbc0913f219')\"\n",
              "            title=\"Convert this dataframe to an interactive table.\"\n",
              "            style=\"display:none;\">\n",
              "\n",
              "  <svg xmlns=\"http://www.w3.org/2000/svg\" height=\"24px\" viewBox=\"0 -960 960 960\">\n",
              "    <path d=\"M120-120v-720h720v720H120Zm60-500h600v-160H180v160Zm220 220h160v-160H400v160Zm0 220h160v-160H400v160ZM180-400h160v-160H180v160Zm440 0h160v-160H620v160ZM180-180h160v-160H180v160Zm440 0h160v-160H620v160Z\"/>\n",
              "  </svg>\n",
              "    </button>\n",
              "\n",
              "  <style>\n",
              "    .colab-df-container {\n",
              "      display:flex;\n",
              "      gap: 12px;\n",
              "    }\n",
              "\n",
              "    .colab-df-convert {\n",
              "      background-color: #E8F0FE;\n",
              "      border: none;\n",
              "      border-radius: 50%;\n",
              "      cursor: pointer;\n",
              "      display: none;\n",
              "      fill: #1967D2;\n",
              "      height: 32px;\n",
              "      padding: 0 0 0 0;\n",
              "      width: 32px;\n",
              "    }\n",
              "\n",
              "    .colab-df-convert:hover {\n",
              "      background-color: #E2EBFA;\n",
              "      box-shadow: 0px 1px 2px rgba(60, 64, 67, 0.3), 0px 1px 3px 1px rgba(60, 64, 67, 0.15);\n",
              "      fill: #174EA6;\n",
              "    }\n",
              "\n",
              "    .colab-df-buttons div {\n",
              "      margin-bottom: 4px;\n",
              "    }\n",
              "\n",
              "    [theme=dark] .colab-df-convert {\n",
              "      background-color: #3B4455;\n",
              "      fill: #D2E3FC;\n",
              "    }\n",
              "\n",
              "    [theme=dark] .colab-df-convert:hover {\n",
              "      background-color: #434B5C;\n",
              "      box-shadow: 0px 1px 3px 1px rgba(0, 0, 0, 0.15);\n",
              "      filter: drop-shadow(0px 1px 2px rgba(0, 0, 0, 0.3));\n",
              "      fill: #FFFFFF;\n",
              "    }\n",
              "  </style>\n",
              "\n",
              "    <script>\n",
              "      const buttonEl =\n",
              "        document.querySelector('#df-9133b1b0-ed78-42be-bac6-2cbc0913f219 button.colab-df-convert');\n",
              "      buttonEl.style.display =\n",
              "        google.colab.kernel.accessAllowed ? 'block' : 'none';\n",
              "\n",
              "      async function convertToInteractive(key) {\n",
              "        const element = document.querySelector('#df-9133b1b0-ed78-42be-bac6-2cbc0913f219');\n",
              "        const dataTable =\n",
              "          await google.colab.kernel.invokeFunction('convertToInteractive',\n",
              "                                                    [key], {});\n",
              "        if (!dataTable) return;\n",
              "\n",
              "        const docLinkHtml = 'Like what you see? Visit the ' +\n",
              "          '<a target=\"_blank\" href=https://colab.research.google.com/notebooks/data_table.ipynb>data table notebook</a>'\n",
              "          + ' to learn more about interactive tables.';\n",
              "        element.innerHTML = '';\n",
              "        dataTable['output_type'] = 'display_data';\n",
              "        await google.colab.output.renderOutput(dataTable, element);\n",
              "        const docLink = document.createElement('div');\n",
              "        docLink.innerHTML = docLinkHtml;\n",
              "        element.appendChild(docLink);\n",
              "      }\n",
              "    </script>\n",
              "  </div>\n",
              "\n",
              "\n",
              "<div id=\"df-41f04bfe-a44a-45ee-8192-d6d91031a7a6\">\n",
              "  <button class=\"colab-df-quickchart\" onclick=\"quickchart('df-41f04bfe-a44a-45ee-8192-d6d91031a7a6')\"\n",
              "            title=\"Suggest charts.\"\n",
              "            style=\"display:none;\">\n",
              "\n",
              "<svg xmlns=\"http://www.w3.org/2000/svg\" height=\"24px\"viewBox=\"0 0 24 24\"\n",
              "     width=\"24px\">\n",
              "    <g>\n",
              "        <path d=\"M19 3H5c-1.1 0-2 .9-2 2v14c0 1.1.9 2 2 2h14c1.1 0 2-.9 2-2V5c0-1.1-.9-2-2-2zM9 17H7v-7h2v7zm4 0h-2V7h2v10zm4 0h-2v-4h2v4z\"/>\n",
              "    </g>\n",
              "</svg>\n",
              "  </button>\n",
              "\n",
              "<style>\n",
              "  .colab-df-quickchart {\n",
              "      --bg-color: #E8F0FE;\n",
              "      --fill-color: #1967D2;\n",
              "      --hover-bg-color: #E2EBFA;\n",
              "      --hover-fill-color: #174EA6;\n",
              "      --disabled-fill-color: #AAA;\n",
              "      --disabled-bg-color: #DDD;\n",
              "  }\n",
              "\n",
              "  [theme=dark] .colab-df-quickchart {\n",
              "      --bg-color: #3B4455;\n",
              "      --fill-color: #D2E3FC;\n",
              "      --hover-bg-color: #434B5C;\n",
              "      --hover-fill-color: #FFFFFF;\n",
              "      --disabled-bg-color: #3B4455;\n",
              "      --disabled-fill-color: #666;\n",
              "  }\n",
              "\n",
              "  .colab-df-quickchart {\n",
              "    background-color: var(--bg-color);\n",
              "    border: none;\n",
              "    border-radius: 50%;\n",
              "    cursor: pointer;\n",
              "    display: none;\n",
              "    fill: var(--fill-color);\n",
              "    height: 32px;\n",
              "    padding: 0;\n",
              "    width: 32px;\n",
              "  }\n",
              "\n",
              "  .colab-df-quickchart:hover {\n",
              "    background-color: var(--hover-bg-color);\n",
              "    box-shadow: 0 1px 2px rgba(60, 64, 67, 0.3), 0 1px 3px 1px rgba(60, 64, 67, 0.15);\n",
              "    fill: var(--button-hover-fill-color);\n",
              "  }\n",
              "\n",
              "  .colab-df-quickchart-complete:disabled,\n",
              "  .colab-df-quickchart-complete:disabled:hover {\n",
              "    background-color: var(--disabled-bg-color);\n",
              "    fill: var(--disabled-fill-color);\n",
              "    box-shadow: none;\n",
              "  }\n",
              "\n",
              "  .colab-df-spinner {\n",
              "    border: 2px solid var(--fill-color);\n",
              "    border-color: transparent;\n",
              "    border-bottom-color: var(--fill-color);\n",
              "    animation:\n",
              "      spin 1s steps(1) infinite;\n",
              "  }\n",
              "\n",
              "  @keyframes spin {\n",
              "    0% {\n",
              "      border-color: transparent;\n",
              "      border-bottom-color: var(--fill-color);\n",
              "      border-left-color: var(--fill-color);\n",
              "    }\n",
              "    20% {\n",
              "      border-color: transparent;\n",
              "      border-left-color: var(--fill-color);\n",
              "      border-top-color: var(--fill-color);\n",
              "    }\n",
              "    30% {\n",
              "      border-color: transparent;\n",
              "      border-left-color: var(--fill-color);\n",
              "      border-top-color: var(--fill-color);\n",
              "      border-right-color: var(--fill-color);\n",
              "    }\n",
              "    40% {\n",
              "      border-color: transparent;\n",
              "      border-right-color: var(--fill-color);\n",
              "      border-top-color: var(--fill-color);\n",
              "    }\n",
              "    60% {\n",
              "      border-color: transparent;\n",
              "      border-right-color: var(--fill-color);\n",
              "    }\n",
              "    80% {\n",
              "      border-color: transparent;\n",
              "      border-right-color: var(--fill-color);\n",
              "      border-bottom-color: var(--fill-color);\n",
              "    }\n",
              "    90% {\n",
              "      border-color: transparent;\n",
              "      border-bottom-color: var(--fill-color);\n",
              "    }\n",
              "  }\n",
              "</style>\n",
              "\n",
              "  <script>\n",
              "    async function quickchart(key) {\n",
              "      const quickchartButtonEl =\n",
              "        document.querySelector('#' + key + ' button');\n",
              "      quickchartButtonEl.disabled = true;  // To prevent multiple clicks.\n",
              "      quickchartButtonEl.classList.add('colab-df-spinner');\n",
              "      try {\n",
              "        const charts = await google.colab.kernel.invokeFunction(\n",
              "            'suggestCharts', [key], {});\n",
              "      } catch (error) {\n",
              "        console.error('Error during call to suggestCharts:', error);\n",
              "      }\n",
              "      quickchartButtonEl.classList.remove('colab-df-spinner');\n",
              "      quickchartButtonEl.classList.add('colab-df-quickchart-complete');\n",
              "    }\n",
              "    (() => {\n",
              "      let quickchartButtonEl =\n",
              "        document.querySelector('#df-41f04bfe-a44a-45ee-8192-d6d91031a7a6 button');\n",
              "      quickchartButtonEl.style.display =\n",
              "        google.colab.kernel.accessAllowed ? 'block' : 'none';\n",
              "    })();\n",
              "  </script>\n",
              "</div>\n",
              "    </div>\n",
              "  </div>\n"
            ]
          },
          "metadata": {},
          "execution_count": 12
        }
      ]
    },
    {
      "cell_type": "code",
      "source": [
        "from collections import Counter\n",
        "\n",
        "Counter(data.Hit_3)"
      ],
      "metadata": {
        "colab": {
          "base_uri": "https://localhost:8080/"
        },
        "id": "bjulIplp7vCx",
        "outputId": "87045dcf-7ebd-4e4b-e108-18131029ceec"
      },
      "execution_count": 13,
      "outputs": [
        {
          "output_type": "execute_result",
          "data": {
            "text/plain": [
              "Counter({'yes': 1830, 'no': 1834})"
            ]
          },
          "metadata": {},
          "execution_count": 13
        }
      ]
    },
    {
      "cell_type": "code",
      "source": [
        "data.Hit_3 = data.Hit_3.replace({'yes': 1, 'no': 0})"
      ],
      "metadata": {
        "id": "rKYBapUkQ_fj"
      },
      "execution_count": 14,
      "outputs": []
    },
    {
      "cell_type": "code",
      "source": [
        "from collections import Counter\n",
        "\n",
        "Counter(data.Hit_3)"
      ],
      "metadata": {
        "colab": {
          "base_uri": "https://localhost:8080/"
        },
        "id": "8NpZwinARPb0",
        "outputId": "9c04e9cb-c5cf-41df-b75b-33367b32b14c"
      },
      "execution_count": 15,
      "outputs": [
        {
          "output_type": "execute_result",
          "data": {
            "text/plain": [
              "Counter({1: 1830, 0: 1834})"
            ]
          },
          "metadata": {},
          "execution_count": 15
        }
      ]
    },
    {
      "cell_type": "code",
      "source": [
        "data.label = data.label.replace({'POSITIVE': 1, 'NEGATIVE': 0})"
      ],
      "metadata": {
        "id": "KXP7_1-VRUWu"
      },
      "execution_count": 16,
      "outputs": []
    },
    {
      "cell_type": "code",
      "source": [
        "Counter(data.label)"
      ],
      "metadata": {
        "colab": {
          "base_uri": "https://localhost:8080/"
        },
        "id": "YN7tsEHBRd73",
        "outputId": "03dff6c6-35e9-4b62-9d3b-923d94c05487"
      },
      "execution_count": 17,
      "outputs": [
        {
          "output_type": "execute_result",
          "data": {
            "text/plain": [
              "Counter({1: 2719, 0: 945})"
            ]
          },
          "metadata": {},
          "execution_count": 17
        }
      ]
    },
    {
      "cell_type": "code",
      "source": [
        "Counter(data.emotion_label)"
      ],
      "metadata": {
        "colab": {
          "base_uri": "https://localhost:8080/"
        },
        "id": "zTuVR5jVu3ZF",
        "outputId": "0b521f51-69be-45fd-b1bc-921012bec917"
      },
      "execution_count": 18,
      "outputs": [
        {
          "output_type": "execute_result",
          "data": {
            "text/plain": [
              "Counter({' joy': 1762,\n",
              "         ' sadness': 928,\n",
              "         ' fear': 252,\n",
              "         ' love': 280,\n",
              "         ' anger': 409,\n",
              "         ' surprise': 33})"
            ]
          },
          "metadata": {},
          "execution_count": 18
        }
      ]
    },
    {
      "cell_type": "code",
      "source": [
        "data.emotion_label = data.emotion_label.replace({' sadness': 0, ' joy': 1, ' love': 2, ' anger': 3, ' fear': 4, ' surprise': 5})"
      ],
      "metadata": {
        "id": "bF3lbV8yUekt"
      },
      "execution_count": 19,
      "outputs": []
    },
    {
      "cell_type": "code",
      "source": [
        "Counter(data.emotion_label)"
      ],
      "metadata": {
        "colab": {
          "base_uri": "https://localhost:8080/"
        },
        "id": "_TjxbUU_RfTb",
        "outputId": "f9034932-2fea-4a49-fe0a-73941c26c14e"
      },
      "execution_count": 20,
      "outputs": [
        {
          "output_type": "execute_result",
          "data": {
            "text/plain": [
              "Counter({1: 1762, 0: 928, 4: 252, 2: 280, 3: 409, 5: 33})"
            ]
          },
          "metadata": {},
          "execution_count": 20
        }
      ]
    },
    {
      "cell_type": "code",
      "source": [
        "data.head(5)"
      ],
      "metadata": {
        "colab": {
          "base_uri": "https://localhost:8080/",
          "height": 620
        },
        "id": "3vwTFkYaSQMM",
        "outputId": "4d861522-d366-4418-da31-b4debe30c6f4"
      },
      "execution_count": 21,
      "outputs": [
        {
          "output_type": "execute_result",
          "data": {
            "text/plain": [
              "                                              lyrics  \\\n",
              "0  look into my eyes  you will seewhat you mean t...   \n",
              "1  i can't get no satisfactioni can't get no sati...   \n",
              "2  our life together is so precious togetherwe ha...   \n",
              "3  love is higher than a mountain love is thicker...   \n",
              "4  sittin' in the morning suni'll be sittin' when...   \n",
              "\n",
              "                               title          artist                 TrackID  \\\n",
              "0  (Everything I Do) I Do It For You     Bryan Adams  1Eb90nmqTrxylKFhcUzW8P   \n",
              "1      (I Can't Get No) Satisfaction  Rolling Stones  2PzU4IB8Dr6mxV3lHuaG34   \n",
              "2          (Just Like) Starting Over     John Lennon  5y0YreEOnQiKFAnCrcFIXz   \n",
              "3       (Love Is) Thicker Than Water       Andy Gibb  3jdBf1cJ2QmTzNUixplppA   \n",
              "4   (Sittin' On) The Dock Of The Bay    Otis Redding  3zBhihYUHBmGd2bcQIobrF   \n",
              "\n",
              "   danceability  energy  loudness  speechiness  acousticness  \\\n",
              "0         0.533   0.360   -12.633       0.0282        0.0805   \n",
              "1         0.723   0.863    -7.890       0.0338        0.0383   \n",
              "2         0.701   0.790    -6.160       0.0725        0.3010   \n",
              "3         0.582   0.462    -9.882       0.0254        0.1370   \n",
              "4         0.769   0.367   -11.226       0.0312        0.6840   \n",
              "\n",
              "   instrumentalness  ...    tempo  key  mode  duration_ms  Popularity  label  \\\n",
              "0          0.000010  ...  131.229    1     1       393640        77.0      1   \n",
              "1          0.031700  ...  136.302    2     1       222813        78.0      0   \n",
              "2          0.000061  ...   99.104    9     1       236547        61.0      1   \n",
              "3          0.000050  ...   96.361    6     0       255960        47.0      1   \n",
              "4          0.000016  ...  103.621    2     1       163756        80.0      0   \n",
              "\n",
              "   emotion_label  Hit  Hit_2 Hit_3  \n",
              "0              1  Yes    yes     1  \n",
              "1              1  Yes     no     1  \n",
              "2              1  Yes     no     1  \n",
              "3              0  Yes     no     1  \n",
              "4              1  Yes     no     1  \n",
              "\n",
              "[5 rows x 22 columns]"
            ],
            "text/html": [
              "\n",
              "  <div id=\"df-e5459570-9c67-4de4-9098-f7a18d66ea0f\" class=\"colab-df-container\">\n",
              "    <div>\n",
              "<style scoped>\n",
              "    .dataframe tbody tr th:only-of-type {\n",
              "        vertical-align: middle;\n",
              "    }\n",
              "\n",
              "    .dataframe tbody tr th {\n",
              "        vertical-align: top;\n",
              "    }\n",
              "\n",
              "    .dataframe thead th {\n",
              "        text-align: right;\n",
              "    }\n",
              "</style>\n",
              "<table border=\"1\" class=\"dataframe\">\n",
              "  <thead>\n",
              "    <tr style=\"text-align: right;\">\n",
              "      <th></th>\n",
              "      <th>lyrics</th>\n",
              "      <th>title</th>\n",
              "      <th>artist</th>\n",
              "      <th>TrackID</th>\n",
              "      <th>danceability</th>\n",
              "      <th>energy</th>\n",
              "      <th>loudness</th>\n",
              "      <th>speechiness</th>\n",
              "      <th>acousticness</th>\n",
              "      <th>instrumentalness</th>\n",
              "      <th>...</th>\n",
              "      <th>tempo</th>\n",
              "      <th>key</th>\n",
              "      <th>mode</th>\n",
              "      <th>duration_ms</th>\n",
              "      <th>Popularity</th>\n",
              "      <th>label</th>\n",
              "      <th>emotion_label</th>\n",
              "      <th>Hit</th>\n",
              "      <th>Hit_2</th>\n",
              "      <th>Hit_3</th>\n",
              "    </tr>\n",
              "  </thead>\n",
              "  <tbody>\n",
              "    <tr>\n",
              "      <th>0</th>\n",
              "      <td>look into my eyes  you will seewhat you mean t...</td>\n",
              "      <td>(Everything I Do) I Do It For You</td>\n",
              "      <td>Bryan Adams</td>\n",
              "      <td>1Eb90nmqTrxylKFhcUzW8P</td>\n",
              "      <td>0.533</td>\n",
              "      <td>0.360</td>\n",
              "      <td>-12.633</td>\n",
              "      <td>0.0282</td>\n",
              "      <td>0.0805</td>\n",
              "      <td>0.000010</td>\n",
              "      <td>...</td>\n",
              "      <td>131.229</td>\n",
              "      <td>1</td>\n",
              "      <td>1</td>\n",
              "      <td>393640</td>\n",
              "      <td>77.0</td>\n",
              "      <td>1</td>\n",
              "      <td>1</td>\n",
              "      <td>Yes</td>\n",
              "      <td>yes</td>\n",
              "      <td>1</td>\n",
              "    </tr>\n",
              "    <tr>\n",
              "      <th>1</th>\n",
              "      <td>i can't get no satisfactioni can't get no sati...</td>\n",
              "      <td>(I Can't Get No) Satisfaction</td>\n",
              "      <td>Rolling Stones</td>\n",
              "      <td>2PzU4IB8Dr6mxV3lHuaG34</td>\n",
              "      <td>0.723</td>\n",
              "      <td>0.863</td>\n",
              "      <td>-7.890</td>\n",
              "      <td>0.0338</td>\n",
              "      <td>0.0383</td>\n",
              "      <td>0.031700</td>\n",
              "      <td>...</td>\n",
              "      <td>136.302</td>\n",
              "      <td>2</td>\n",
              "      <td>1</td>\n",
              "      <td>222813</td>\n",
              "      <td>78.0</td>\n",
              "      <td>0</td>\n",
              "      <td>1</td>\n",
              "      <td>Yes</td>\n",
              "      <td>no</td>\n",
              "      <td>1</td>\n",
              "    </tr>\n",
              "    <tr>\n",
              "      <th>2</th>\n",
              "      <td>our life together is so precious togetherwe ha...</td>\n",
              "      <td>(Just Like) Starting Over</td>\n",
              "      <td>John Lennon</td>\n",
              "      <td>5y0YreEOnQiKFAnCrcFIXz</td>\n",
              "      <td>0.701</td>\n",
              "      <td>0.790</td>\n",
              "      <td>-6.160</td>\n",
              "      <td>0.0725</td>\n",
              "      <td>0.3010</td>\n",
              "      <td>0.000061</td>\n",
              "      <td>...</td>\n",
              "      <td>99.104</td>\n",
              "      <td>9</td>\n",
              "      <td>1</td>\n",
              "      <td>236547</td>\n",
              "      <td>61.0</td>\n",
              "      <td>1</td>\n",
              "      <td>1</td>\n",
              "      <td>Yes</td>\n",
              "      <td>no</td>\n",
              "      <td>1</td>\n",
              "    </tr>\n",
              "    <tr>\n",
              "      <th>3</th>\n",
              "      <td>love is higher than a mountain love is thicker...</td>\n",
              "      <td>(Love Is) Thicker Than Water</td>\n",
              "      <td>Andy Gibb</td>\n",
              "      <td>3jdBf1cJ2QmTzNUixplppA</td>\n",
              "      <td>0.582</td>\n",
              "      <td>0.462</td>\n",
              "      <td>-9.882</td>\n",
              "      <td>0.0254</td>\n",
              "      <td>0.1370</td>\n",
              "      <td>0.000050</td>\n",
              "      <td>...</td>\n",
              "      <td>96.361</td>\n",
              "      <td>6</td>\n",
              "      <td>0</td>\n",
              "      <td>255960</td>\n",
              "      <td>47.0</td>\n",
              "      <td>1</td>\n",
              "      <td>0</td>\n",
              "      <td>Yes</td>\n",
              "      <td>no</td>\n",
              "      <td>1</td>\n",
              "    </tr>\n",
              "    <tr>\n",
              "      <th>4</th>\n",
              "      <td>sittin' in the morning suni'll be sittin' when...</td>\n",
              "      <td>(Sittin' On) The Dock Of The Bay</td>\n",
              "      <td>Otis Redding</td>\n",
              "      <td>3zBhihYUHBmGd2bcQIobrF</td>\n",
              "      <td>0.769</td>\n",
              "      <td>0.367</td>\n",
              "      <td>-11.226</td>\n",
              "      <td>0.0312</td>\n",
              "      <td>0.6840</td>\n",
              "      <td>0.000016</td>\n",
              "      <td>...</td>\n",
              "      <td>103.621</td>\n",
              "      <td>2</td>\n",
              "      <td>1</td>\n",
              "      <td>163756</td>\n",
              "      <td>80.0</td>\n",
              "      <td>0</td>\n",
              "      <td>1</td>\n",
              "      <td>Yes</td>\n",
              "      <td>no</td>\n",
              "      <td>1</td>\n",
              "    </tr>\n",
              "  </tbody>\n",
              "</table>\n",
              "<p>5 rows × 22 columns</p>\n",
              "</div>\n",
              "    <div class=\"colab-df-buttons\">\n",
              "\n",
              "  <div class=\"colab-df-container\">\n",
              "    <button class=\"colab-df-convert\" onclick=\"convertToInteractive('df-e5459570-9c67-4de4-9098-f7a18d66ea0f')\"\n",
              "            title=\"Convert this dataframe to an interactive table.\"\n",
              "            style=\"display:none;\">\n",
              "\n",
              "  <svg xmlns=\"http://www.w3.org/2000/svg\" height=\"24px\" viewBox=\"0 -960 960 960\">\n",
              "    <path d=\"M120-120v-720h720v720H120Zm60-500h600v-160H180v160Zm220 220h160v-160H400v160Zm0 220h160v-160H400v160ZM180-400h160v-160H180v160Zm440 0h160v-160H620v160ZM180-180h160v-160H180v160Zm440 0h160v-160H620v160Z\"/>\n",
              "  </svg>\n",
              "    </button>\n",
              "\n",
              "  <style>\n",
              "    .colab-df-container {\n",
              "      display:flex;\n",
              "      gap: 12px;\n",
              "    }\n",
              "\n",
              "    .colab-df-convert {\n",
              "      background-color: #E8F0FE;\n",
              "      border: none;\n",
              "      border-radius: 50%;\n",
              "      cursor: pointer;\n",
              "      display: none;\n",
              "      fill: #1967D2;\n",
              "      height: 32px;\n",
              "      padding: 0 0 0 0;\n",
              "      width: 32px;\n",
              "    }\n",
              "\n",
              "    .colab-df-convert:hover {\n",
              "      background-color: #E2EBFA;\n",
              "      box-shadow: 0px 1px 2px rgba(60, 64, 67, 0.3), 0px 1px 3px 1px rgba(60, 64, 67, 0.15);\n",
              "      fill: #174EA6;\n",
              "    }\n",
              "\n",
              "    .colab-df-buttons div {\n",
              "      margin-bottom: 4px;\n",
              "    }\n",
              "\n",
              "    [theme=dark] .colab-df-convert {\n",
              "      background-color: #3B4455;\n",
              "      fill: #D2E3FC;\n",
              "    }\n",
              "\n",
              "    [theme=dark] .colab-df-convert:hover {\n",
              "      background-color: #434B5C;\n",
              "      box-shadow: 0px 1px 3px 1px rgba(0, 0, 0, 0.15);\n",
              "      filter: drop-shadow(0px 1px 2px rgba(0, 0, 0, 0.3));\n",
              "      fill: #FFFFFF;\n",
              "    }\n",
              "  </style>\n",
              "\n",
              "    <script>\n",
              "      const buttonEl =\n",
              "        document.querySelector('#df-e5459570-9c67-4de4-9098-f7a18d66ea0f button.colab-df-convert');\n",
              "      buttonEl.style.display =\n",
              "        google.colab.kernel.accessAllowed ? 'block' : 'none';\n",
              "\n",
              "      async function convertToInteractive(key) {\n",
              "        const element = document.querySelector('#df-e5459570-9c67-4de4-9098-f7a18d66ea0f');\n",
              "        const dataTable =\n",
              "          await google.colab.kernel.invokeFunction('convertToInteractive',\n",
              "                                                    [key], {});\n",
              "        if (!dataTable) return;\n",
              "\n",
              "        const docLinkHtml = 'Like what you see? Visit the ' +\n",
              "          '<a target=\"_blank\" href=https://colab.research.google.com/notebooks/data_table.ipynb>data table notebook</a>'\n",
              "          + ' to learn more about interactive tables.';\n",
              "        element.innerHTML = '';\n",
              "        dataTable['output_type'] = 'display_data';\n",
              "        await google.colab.output.renderOutput(dataTable, element);\n",
              "        const docLink = document.createElement('div');\n",
              "        docLink.innerHTML = docLinkHtml;\n",
              "        element.appendChild(docLink);\n",
              "      }\n",
              "    </script>\n",
              "  </div>\n",
              "\n",
              "\n",
              "<div id=\"df-9a8b1fd3-956c-4632-9a7f-9e862502f108\">\n",
              "  <button class=\"colab-df-quickchart\" onclick=\"quickchart('df-9a8b1fd3-956c-4632-9a7f-9e862502f108')\"\n",
              "            title=\"Suggest charts.\"\n",
              "            style=\"display:none;\">\n",
              "\n",
              "<svg xmlns=\"http://www.w3.org/2000/svg\" height=\"24px\"viewBox=\"0 0 24 24\"\n",
              "     width=\"24px\">\n",
              "    <g>\n",
              "        <path d=\"M19 3H5c-1.1 0-2 .9-2 2v14c0 1.1.9 2 2 2h14c1.1 0 2-.9 2-2V5c0-1.1-.9-2-2-2zM9 17H7v-7h2v7zm4 0h-2V7h2v10zm4 0h-2v-4h2v4z\"/>\n",
              "    </g>\n",
              "</svg>\n",
              "  </button>\n",
              "\n",
              "<style>\n",
              "  .colab-df-quickchart {\n",
              "      --bg-color: #E8F0FE;\n",
              "      --fill-color: #1967D2;\n",
              "      --hover-bg-color: #E2EBFA;\n",
              "      --hover-fill-color: #174EA6;\n",
              "      --disabled-fill-color: #AAA;\n",
              "      --disabled-bg-color: #DDD;\n",
              "  }\n",
              "\n",
              "  [theme=dark] .colab-df-quickchart {\n",
              "      --bg-color: #3B4455;\n",
              "      --fill-color: #D2E3FC;\n",
              "      --hover-bg-color: #434B5C;\n",
              "      --hover-fill-color: #FFFFFF;\n",
              "      --disabled-bg-color: #3B4455;\n",
              "      --disabled-fill-color: #666;\n",
              "  }\n",
              "\n",
              "  .colab-df-quickchart {\n",
              "    background-color: var(--bg-color);\n",
              "    border: none;\n",
              "    border-radius: 50%;\n",
              "    cursor: pointer;\n",
              "    display: none;\n",
              "    fill: var(--fill-color);\n",
              "    height: 32px;\n",
              "    padding: 0;\n",
              "    width: 32px;\n",
              "  }\n",
              "\n",
              "  .colab-df-quickchart:hover {\n",
              "    background-color: var(--hover-bg-color);\n",
              "    box-shadow: 0 1px 2px rgba(60, 64, 67, 0.3), 0 1px 3px 1px rgba(60, 64, 67, 0.15);\n",
              "    fill: var(--button-hover-fill-color);\n",
              "  }\n",
              "\n",
              "  .colab-df-quickchart-complete:disabled,\n",
              "  .colab-df-quickchart-complete:disabled:hover {\n",
              "    background-color: var(--disabled-bg-color);\n",
              "    fill: var(--disabled-fill-color);\n",
              "    box-shadow: none;\n",
              "  }\n",
              "\n",
              "  .colab-df-spinner {\n",
              "    border: 2px solid var(--fill-color);\n",
              "    border-color: transparent;\n",
              "    border-bottom-color: var(--fill-color);\n",
              "    animation:\n",
              "      spin 1s steps(1) infinite;\n",
              "  }\n",
              "\n",
              "  @keyframes spin {\n",
              "    0% {\n",
              "      border-color: transparent;\n",
              "      border-bottom-color: var(--fill-color);\n",
              "      border-left-color: var(--fill-color);\n",
              "    }\n",
              "    20% {\n",
              "      border-color: transparent;\n",
              "      border-left-color: var(--fill-color);\n",
              "      border-top-color: var(--fill-color);\n",
              "    }\n",
              "    30% {\n",
              "      border-color: transparent;\n",
              "      border-left-color: var(--fill-color);\n",
              "      border-top-color: var(--fill-color);\n",
              "      border-right-color: var(--fill-color);\n",
              "    }\n",
              "    40% {\n",
              "      border-color: transparent;\n",
              "      border-right-color: var(--fill-color);\n",
              "      border-top-color: var(--fill-color);\n",
              "    }\n",
              "    60% {\n",
              "      border-color: transparent;\n",
              "      border-right-color: var(--fill-color);\n",
              "    }\n",
              "    80% {\n",
              "      border-color: transparent;\n",
              "      border-right-color: var(--fill-color);\n",
              "      border-bottom-color: var(--fill-color);\n",
              "    }\n",
              "    90% {\n",
              "      border-color: transparent;\n",
              "      border-bottom-color: var(--fill-color);\n",
              "    }\n",
              "  }\n",
              "</style>\n",
              "\n",
              "  <script>\n",
              "    async function quickchart(key) {\n",
              "      const quickchartButtonEl =\n",
              "        document.querySelector('#' + key + ' button');\n",
              "      quickchartButtonEl.disabled = true;  // To prevent multiple clicks.\n",
              "      quickchartButtonEl.classList.add('colab-df-spinner');\n",
              "      try {\n",
              "        const charts = await google.colab.kernel.invokeFunction(\n",
              "            'suggestCharts', [key], {});\n",
              "      } catch (error) {\n",
              "        console.error('Error during call to suggestCharts:', error);\n",
              "      }\n",
              "      quickchartButtonEl.classList.remove('colab-df-spinner');\n",
              "      quickchartButtonEl.classList.add('colab-df-quickchart-complete');\n",
              "    }\n",
              "    (() => {\n",
              "      let quickchartButtonEl =\n",
              "        document.querySelector('#df-9a8b1fd3-956c-4632-9a7f-9e862502f108 button');\n",
              "      quickchartButtonEl.style.display =\n",
              "        google.colab.kernel.accessAllowed ? 'block' : 'none';\n",
              "    })();\n",
              "  </script>\n",
              "</div>\n",
              "    </div>\n",
              "  </div>\n"
            ]
          },
          "metadata": {},
          "execution_count": 21
        }
      ]
    },
    {
      "cell_type": "code",
      "source": [
        "data = data.drop(['Hit', 'Hit_2'], axis=1)"
      ],
      "metadata": {
        "id": "2Grg7h358fMm"
      },
      "execution_count": 22,
      "outputs": []
    },
    {
      "cell_type": "code",
      "source": [
        "data.columns"
      ],
      "metadata": {
        "colab": {
          "base_uri": "https://localhost:8080/"
        },
        "id": "OmCMGn5R8s1x",
        "outputId": "20341310-e5d7-4f20-a63a-c8f66678b2ce"
      },
      "execution_count": 23,
      "outputs": [
        {
          "output_type": "execute_result",
          "data": {
            "text/plain": [
              "Index(['lyrics', 'title', 'artist', 'TrackID', 'danceability', 'energy',\n",
              "       'loudness', 'speechiness', 'acousticness', 'instrumentalness',\n",
              "       'liveness', 'valence', 'tempo', 'key', 'mode', 'duration_ms',\n",
              "       'Popularity', 'label', 'emotion_label', 'Hit_3'],\n",
              "      dtype='object')"
            ]
          },
          "metadata": {},
          "execution_count": 23
        }
      ]
    },
    {
      "cell_type": "markdown",
      "source": [
        "# Check for null values"
      ],
      "metadata": {
        "id": "iaKb92vKva46"
      }
    },
    {
      "cell_type": "code",
      "source": [
        "df = data.copy()"
      ],
      "metadata": {
        "id": "MC3qBISTvaOi"
      },
      "execution_count": 24,
      "outputs": []
    },
    {
      "cell_type": "code",
      "source": [
        "df.isna().sum()"
      ],
      "metadata": {
        "colab": {
          "base_uri": "https://localhost:8080/"
        },
        "id": "hSfD068xRyiv",
        "outputId": "bf9086f2-5561-4c8c-e40f-8504b5002952"
      },
      "execution_count": 25,
      "outputs": [
        {
          "output_type": "execute_result",
          "data": {
            "text/plain": [
              "lyrics              0\n",
              "title               0\n",
              "artist              0\n",
              "TrackID             0\n",
              "danceability        0\n",
              "energy              0\n",
              "loudness            0\n",
              "speechiness         0\n",
              "acousticness        0\n",
              "instrumentalness    0\n",
              "liveness            0\n",
              "valence             0\n",
              "tempo               0\n",
              "key                 0\n",
              "mode                0\n",
              "duration_ms         0\n",
              "Popularity          0\n",
              "label               0\n",
              "emotion_label       0\n",
              "Hit_3               0\n",
              "dtype: int64"
            ]
          },
          "metadata": {},
          "execution_count": 25
        }
      ]
    },
    {
      "cell_type": "markdown",
      "source": [
        "# Getting insights of the data and its features"
      ],
      "metadata": {
        "id": "R3BFuSnHvkKY"
      }
    },
    {
      "cell_type": "code",
      "source": [
        "df.info()"
      ],
      "metadata": {
        "colab": {
          "base_uri": "https://localhost:8080/"
        },
        "id": "oF7Jp2DlvgSk",
        "outputId": "8ccdce71-4a3a-46c5-a5f9-a621c8ad5f63"
      },
      "execution_count": 26,
      "outputs": [
        {
          "output_type": "stream",
          "name": "stdout",
          "text": [
            "<class 'pandas.core.frame.DataFrame'>\n",
            "RangeIndex: 3664 entries, 0 to 3663\n",
            "Data columns (total 20 columns):\n",
            " #   Column            Non-Null Count  Dtype  \n",
            "---  ------            --------------  -----  \n",
            " 0   lyrics            3664 non-null   object \n",
            " 1   title             3664 non-null   object \n",
            " 2   artist            3664 non-null   object \n",
            " 3   TrackID           3664 non-null   object \n",
            " 4   danceability      3664 non-null   float64\n",
            " 5   energy            3664 non-null   float64\n",
            " 6   loudness          3664 non-null   float64\n",
            " 7   speechiness       3664 non-null   float64\n",
            " 8   acousticness      3664 non-null   float64\n",
            " 9   instrumentalness  3664 non-null   float64\n",
            " 10  liveness          3664 non-null   float64\n",
            " 11  valence           3664 non-null   float64\n",
            " 12  tempo             3664 non-null   float64\n",
            " 13  key               3664 non-null   int64  \n",
            " 14  mode              3664 non-null   int64  \n",
            " 15  duration_ms       3664 non-null   int64  \n",
            " 16  Popularity        3664 non-null   float64\n",
            " 17  label             3664 non-null   int64  \n",
            " 18  emotion_label     3664 non-null   int64  \n",
            " 19  Hit_3             3664 non-null   int64  \n",
            "dtypes: float64(10), int64(6), object(4)\n",
            "memory usage: 572.6+ KB\n"
          ]
        }
      ]
    },
    {
      "cell_type": "code",
      "source": [
        "df.describe()"
      ],
      "metadata": {
        "colab": {
          "base_uri": "https://localhost:8080/",
          "height": 320
        },
        "id": "Bf-WPGvBvmID",
        "outputId": "0dc34d5b-0763-4aa3-9551-71c11b802c7b"
      },
      "execution_count": 27,
      "outputs": [
        {
          "output_type": "execute_result",
          "data": {
            "text/plain": [
              "       danceability       energy     loudness  speechiness  acousticness  \\\n",
              "count   3664.000000  3664.000000  3664.000000  3664.000000   3664.000000   \n",
              "mean       0.618344     0.630369    -8.382690     0.065907      0.252936   \n",
              "std        0.150120     0.193794     3.534773     0.069596      0.254200   \n",
              "min        0.000000     0.023500   -25.434000     0.000000      0.000024   \n",
              "25%        0.522750     0.495750   -10.713000     0.031600      0.040900   \n",
              "50%        0.632000     0.648000    -7.798500     0.040400      0.157500   \n",
              "75%        0.723000     0.786000    -5.600500     0.061625      0.409000   \n",
              "max        0.988000     0.997000    -0.810000     0.592000      0.969000   \n",
              "\n",
              "       instrumentalness     liveness      valence        tempo          key  \\\n",
              "count       3664.000000  3664.000000  3664.000000  3664.000000  3664.000000   \n",
              "mean           0.017039     0.176858     0.610497   119.204456     5.275655   \n",
              "std            0.087788     0.145950     0.240725    27.254642     3.564376   \n",
              "min            0.000000     0.015000     0.000000     0.000000     0.000000   \n",
              "25%            0.000000     0.084875     0.424000    99.038500     2.000000   \n",
              "50%            0.000005     0.121000     0.640000   117.986500     5.000000   \n",
              "75%            0.000331     0.227000     0.813000   133.150500     9.000000   \n",
              "max            0.929000     0.993000     0.985000   210.851000    11.000000   \n",
              "\n",
              "              mode    duration_ms   Popularity        label  emotion_label  \\\n",
              "count  3664.000000    3664.000000  3664.000000  3664.000000    3664.000000   \n",
              "mean      0.706878  237531.381823    57.856987     0.742085       1.288755   \n",
              "std       0.455256   59265.440560    17.842725     0.437547       1.206780   \n",
              "min       0.000000   78200.000000     0.000000     0.000000       0.000000   \n",
              "25%       0.000000  200907.000000    49.000000     0.000000       0.000000   \n",
              "50%       1.000000  233953.000000    61.000000     1.000000       1.000000   \n",
              "75%       1.000000  267749.750000    70.000000     1.000000       2.000000   \n",
              "max       1.000000  830400.000000    90.000000     1.000000       5.000000   \n",
              "\n",
              "             Hit_3  \n",
              "count  3664.000000  \n",
              "mean      0.499454  \n",
              "std       0.500068  \n",
              "min       0.000000  \n",
              "25%       0.000000  \n",
              "50%       0.000000  \n",
              "75%       1.000000  \n",
              "max       1.000000  "
            ],
            "text/html": [
              "\n",
              "  <div id=\"df-ac122851-5960-450f-94ff-6683ae9f370d\" class=\"colab-df-container\">\n",
              "    <div>\n",
              "<style scoped>\n",
              "    .dataframe tbody tr th:only-of-type {\n",
              "        vertical-align: middle;\n",
              "    }\n",
              "\n",
              "    .dataframe tbody tr th {\n",
              "        vertical-align: top;\n",
              "    }\n",
              "\n",
              "    .dataframe thead th {\n",
              "        text-align: right;\n",
              "    }\n",
              "</style>\n",
              "<table border=\"1\" class=\"dataframe\">\n",
              "  <thead>\n",
              "    <tr style=\"text-align: right;\">\n",
              "      <th></th>\n",
              "      <th>danceability</th>\n",
              "      <th>energy</th>\n",
              "      <th>loudness</th>\n",
              "      <th>speechiness</th>\n",
              "      <th>acousticness</th>\n",
              "      <th>instrumentalness</th>\n",
              "      <th>liveness</th>\n",
              "      <th>valence</th>\n",
              "      <th>tempo</th>\n",
              "      <th>key</th>\n",
              "      <th>mode</th>\n",
              "      <th>duration_ms</th>\n",
              "      <th>Popularity</th>\n",
              "      <th>label</th>\n",
              "      <th>emotion_label</th>\n",
              "      <th>Hit_3</th>\n",
              "    </tr>\n",
              "  </thead>\n",
              "  <tbody>\n",
              "    <tr>\n",
              "      <th>count</th>\n",
              "      <td>3664.000000</td>\n",
              "      <td>3664.000000</td>\n",
              "      <td>3664.000000</td>\n",
              "      <td>3664.000000</td>\n",
              "      <td>3664.000000</td>\n",
              "      <td>3664.000000</td>\n",
              "      <td>3664.000000</td>\n",
              "      <td>3664.000000</td>\n",
              "      <td>3664.000000</td>\n",
              "      <td>3664.000000</td>\n",
              "      <td>3664.000000</td>\n",
              "      <td>3664.000000</td>\n",
              "      <td>3664.000000</td>\n",
              "      <td>3664.000000</td>\n",
              "      <td>3664.000000</td>\n",
              "      <td>3664.000000</td>\n",
              "    </tr>\n",
              "    <tr>\n",
              "      <th>mean</th>\n",
              "      <td>0.618344</td>\n",
              "      <td>0.630369</td>\n",
              "      <td>-8.382690</td>\n",
              "      <td>0.065907</td>\n",
              "      <td>0.252936</td>\n",
              "      <td>0.017039</td>\n",
              "      <td>0.176858</td>\n",
              "      <td>0.610497</td>\n",
              "      <td>119.204456</td>\n",
              "      <td>5.275655</td>\n",
              "      <td>0.706878</td>\n",
              "      <td>237531.381823</td>\n",
              "      <td>57.856987</td>\n",
              "      <td>0.742085</td>\n",
              "      <td>1.288755</td>\n",
              "      <td>0.499454</td>\n",
              "    </tr>\n",
              "    <tr>\n",
              "      <th>std</th>\n",
              "      <td>0.150120</td>\n",
              "      <td>0.193794</td>\n",
              "      <td>3.534773</td>\n",
              "      <td>0.069596</td>\n",
              "      <td>0.254200</td>\n",
              "      <td>0.087788</td>\n",
              "      <td>0.145950</td>\n",
              "      <td>0.240725</td>\n",
              "      <td>27.254642</td>\n",
              "      <td>3.564376</td>\n",
              "      <td>0.455256</td>\n",
              "      <td>59265.440560</td>\n",
              "      <td>17.842725</td>\n",
              "      <td>0.437547</td>\n",
              "      <td>1.206780</td>\n",
              "      <td>0.500068</td>\n",
              "    </tr>\n",
              "    <tr>\n",
              "      <th>min</th>\n",
              "      <td>0.000000</td>\n",
              "      <td>0.023500</td>\n",
              "      <td>-25.434000</td>\n",
              "      <td>0.000000</td>\n",
              "      <td>0.000024</td>\n",
              "      <td>0.000000</td>\n",
              "      <td>0.015000</td>\n",
              "      <td>0.000000</td>\n",
              "      <td>0.000000</td>\n",
              "      <td>0.000000</td>\n",
              "      <td>0.000000</td>\n",
              "      <td>78200.000000</td>\n",
              "      <td>0.000000</td>\n",
              "      <td>0.000000</td>\n",
              "      <td>0.000000</td>\n",
              "      <td>0.000000</td>\n",
              "    </tr>\n",
              "    <tr>\n",
              "      <th>25%</th>\n",
              "      <td>0.522750</td>\n",
              "      <td>0.495750</td>\n",
              "      <td>-10.713000</td>\n",
              "      <td>0.031600</td>\n",
              "      <td>0.040900</td>\n",
              "      <td>0.000000</td>\n",
              "      <td>0.084875</td>\n",
              "      <td>0.424000</td>\n",
              "      <td>99.038500</td>\n",
              "      <td>2.000000</td>\n",
              "      <td>0.000000</td>\n",
              "      <td>200907.000000</td>\n",
              "      <td>49.000000</td>\n",
              "      <td>0.000000</td>\n",
              "      <td>0.000000</td>\n",
              "      <td>0.000000</td>\n",
              "    </tr>\n",
              "    <tr>\n",
              "      <th>50%</th>\n",
              "      <td>0.632000</td>\n",
              "      <td>0.648000</td>\n",
              "      <td>-7.798500</td>\n",
              "      <td>0.040400</td>\n",
              "      <td>0.157500</td>\n",
              "      <td>0.000005</td>\n",
              "      <td>0.121000</td>\n",
              "      <td>0.640000</td>\n",
              "      <td>117.986500</td>\n",
              "      <td>5.000000</td>\n",
              "      <td>1.000000</td>\n",
              "      <td>233953.000000</td>\n",
              "      <td>61.000000</td>\n",
              "      <td>1.000000</td>\n",
              "      <td>1.000000</td>\n",
              "      <td>0.000000</td>\n",
              "    </tr>\n",
              "    <tr>\n",
              "      <th>75%</th>\n",
              "      <td>0.723000</td>\n",
              "      <td>0.786000</td>\n",
              "      <td>-5.600500</td>\n",
              "      <td>0.061625</td>\n",
              "      <td>0.409000</td>\n",
              "      <td>0.000331</td>\n",
              "      <td>0.227000</td>\n",
              "      <td>0.813000</td>\n",
              "      <td>133.150500</td>\n",
              "      <td>9.000000</td>\n",
              "      <td>1.000000</td>\n",
              "      <td>267749.750000</td>\n",
              "      <td>70.000000</td>\n",
              "      <td>1.000000</td>\n",
              "      <td>2.000000</td>\n",
              "      <td>1.000000</td>\n",
              "    </tr>\n",
              "    <tr>\n",
              "      <th>max</th>\n",
              "      <td>0.988000</td>\n",
              "      <td>0.997000</td>\n",
              "      <td>-0.810000</td>\n",
              "      <td>0.592000</td>\n",
              "      <td>0.969000</td>\n",
              "      <td>0.929000</td>\n",
              "      <td>0.993000</td>\n",
              "      <td>0.985000</td>\n",
              "      <td>210.851000</td>\n",
              "      <td>11.000000</td>\n",
              "      <td>1.000000</td>\n",
              "      <td>830400.000000</td>\n",
              "      <td>90.000000</td>\n",
              "      <td>1.000000</td>\n",
              "      <td>5.000000</td>\n",
              "      <td>1.000000</td>\n",
              "    </tr>\n",
              "  </tbody>\n",
              "</table>\n",
              "</div>\n",
              "    <div class=\"colab-df-buttons\">\n",
              "\n",
              "  <div class=\"colab-df-container\">\n",
              "    <button class=\"colab-df-convert\" onclick=\"convertToInteractive('df-ac122851-5960-450f-94ff-6683ae9f370d')\"\n",
              "            title=\"Convert this dataframe to an interactive table.\"\n",
              "            style=\"display:none;\">\n",
              "\n",
              "  <svg xmlns=\"http://www.w3.org/2000/svg\" height=\"24px\" viewBox=\"0 -960 960 960\">\n",
              "    <path d=\"M120-120v-720h720v720H120Zm60-500h600v-160H180v160Zm220 220h160v-160H400v160Zm0 220h160v-160H400v160ZM180-400h160v-160H180v160Zm440 0h160v-160H620v160ZM180-180h160v-160H180v160Zm440 0h160v-160H620v160Z\"/>\n",
              "  </svg>\n",
              "    </button>\n",
              "\n",
              "  <style>\n",
              "    .colab-df-container {\n",
              "      display:flex;\n",
              "      gap: 12px;\n",
              "    }\n",
              "\n",
              "    .colab-df-convert {\n",
              "      background-color: #E8F0FE;\n",
              "      border: none;\n",
              "      border-radius: 50%;\n",
              "      cursor: pointer;\n",
              "      display: none;\n",
              "      fill: #1967D2;\n",
              "      height: 32px;\n",
              "      padding: 0 0 0 0;\n",
              "      width: 32px;\n",
              "    }\n",
              "\n",
              "    .colab-df-convert:hover {\n",
              "      background-color: #E2EBFA;\n",
              "      box-shadow: 0px 1px 2px rgba(60, 64, 67, 0.3), 0px 1px 3px 1px rgba(60, 64, 67, 0.15);\n",
              "      fill: #174EA6;\n",
              "    }\n",
              "\n",
              "    .colab-df-buttons div {\n",
              "      margin-bottom: 4px;\n",
              "    }\n",
              "\n",
              "    [theme=dark] .colab-df-convert {\n",
              "      background-color: #3B4455;\n",
              "      fill: #D2E3FC;\n",
              "    }\n",
              "\n",
              "    [theme=dark] .colab-df-convert:hover {\n",
              "      background-color: #434B5C;\n",
              "      box-shadow: 0px 1px 3px 1px rgba(0, 0, 0, 0.15);\n",
              "      filter: drop-shadow(0px 1px 2px rgba(0, 0, 0, 0.3));\n",
              "      fill: #FFFFFF;\n",
              "    }\n",
              "  </style>\n",
              "\n",
              "    <script>\n",
              "      const buttonEl =\n",
              "        document.querySelector('#df-ac122851-5960-450f-94ff-6683ae9f370d button.colab-df-convert');\n",
              "      buttonEl.style.display =\n",
              "        google.colab.kernel.accessAllowed ? 'block' : 'none';\n",
              "\n",
              "      async function convertToInteractive(key) {\n",
              "        const element = document.querySelector('#df-ac122851-5960-450f-94ff-6683ae9f370d');\n",
              "        const dataTable =\n",
              "          await google.colab.kernel.invokeFunction('convertToInteractive',\n",
              "                                                    [key], {});\n",
              "        if (!dataTable) return;\n",
              "\n",
              "        const docLinkHtml = 'Like what you see? Visit the ' +\n",
              "          '<a target=\"_blank\" href=https://colab.research.google.com/notebooks/data_table.ipynb>data table notebook</a>'\n",
              "          + ' to learn more about interactive tables.';\n",
              "        element.innerHTML = '';\n",
              "        dataTable['output_type'] = 'display_data';\n",
              "        await google.colab.output.renderOutput(dataTable, element);\n",
              "        const docLink = document.createElement('div');\n",
              "        docLink.innerHTML = docLinkHtml;\n",
              "        element.appendChild(docLink);\n",
              "      }\n",
              "    </script>\n",
              "  </div>\n",
              "\n",
              "\n",
              "<div id=\"df-d24ba4af-780c-41f5-babe-94b911cd4e33\">\n",
              "  <button class=\"colab-df-quickchart\" onclick=\"quickchart('df-d24ba4af-780c-41f5-babe-94b911cd4e33')\"\n",
              "            title=\"Suggest charts.\"\n",
              "            style=\"display:none;\">\n",
              "\n",
              "<svg xmlns=\"http://www.w3.org/2000/svg\" height=\"24px\"viewBox=\"0 0 24 24\"\n",
              "     width=\"24px\">\n",
              "    <g>\n",
              "        <path d=\"M19 3H5c-1.1 0-2 .9-2 2v14c0 1.1.9 2 2 2h14c1.1 0 2-.9 2-2V5c0-1.1-.9-2-2-2zM9 17H7v-7h2v7zm4 0h-2V7h2v10zm4 0h-2v-4h2v4z\"/>\n",
              "    </g>\n",
              "</svg>\n",
              "  </button>\n",
              "\n",
              "<style>\n",
              "  .colab-df-quickchart {\n",
              "      --bg-color: #E8F0FE;\n",
              "      --fill-color: #1967D2;\n",
              "      --hover-bg-color: #E2EBFA;\n",
              "      --hover-fill-color: #174EA6;\n",
              "      --disabled-fill-color: #AAA;\n",
              "      --disabled-bg-color: #DDD;\n",
              "  }\n",
              "\n",
              "  [theme=dark] .colab-df-quickchart {\n",
              "      --bg-color: #3B4455;\n",
              "      --fill-color: #D2E3FC;\n",
              "      --hover-bg-color: #434B5C;\n",
              "      --hover-fill-color: #FFFFFF;\n",
              "      --disabled-bg-color: #3B4455;\n",
              "      --disabled-fill-color: #666;\n",
              "  }\n",
              "\n",
              "  .colab-df-quickchart {\n",
              "    background-color: var(--bg-color);\n",
              "    border: none;\n",
              "    border-radius: 50%;\n",
              "    cursor: pointer;\n",
              "    display: none;\n",
              "    fill: var(--fill-color);\n",
              "    height: 32px;\n",
              "    padding: 0;\n",
              "    width: 32px;\n",
              "  }\n",
              "\n",
              "  .colab-df-quickchart:hover {\n",
              "    background-color: var(--hover-bg-color);\n",
              "    box-shadow: 0 1px 2px rgba(60, 64, 67, 0.3), 0 1px 3px 1px rgba(60, 64, 67, 0.15);\n",
              "    fill: var(--button-hover-fill-color);\n",
              "  }\n",
              "\n",
              "  .colab-df-quickchart-complete:disabled,\n",
              "  .colab-df-quickchart-complete:disabled:hover {\n",
              "    background-color: var(--disabled-bg-color);\n",
              "    fill: var(--disabled-fill-color);\n",
              "    box-shadow: none;\n",
              "  }\n",
              "\n",
              "  .colab-df-spinner {\n",
              "    border: 2px solid var(--fill-color);\n",
              "    border-color: transparent;\n",
              "    border-bottom-color: var(--fill-color);\n",
              "    animation:\n",
              "      spin 1s steps(1) infinite;\n",
              "  }\n",
              "\n",
              "  @keyframes spin {\n",
              "    0% {\n",
              "      border-color: transparent;\n",
              "      border-bottom-color: var(--fill-color);\n",
              "      border-left-color: var(--fill-color);\n",
              "    }\n",
              "    20% {\n",
              "      border-color: transparent;\n",
              "      border-left-color: var(--fill-color);\n",
              "      border-top-color: var(--fill-color);\n",
              "    }\n",
              "    30% {\n",
              "      border-color: transparent;\n",
              "      border-left-color: var(--fill-color);\n",
              "      border-top-color: var(--fill-color);\n",
              "      border-right-color: var(--fill-color);\n",
              "    }\n",
              "    40% {\n",
              "      border-color: transparent;\n",
              "      border-right-color: var(--fill-color);\n",
              "      border-top-color: var(--fill-color);\n",
              "    }\n",
              "    60% {\n",
              "      border-color: transparent;\n",
              "      border-right-color: var(--fill-color);\n",
              "    }\n",
              "    80% {\n",
              "      border-color: transparent;\n",
              "      border-right-color: var(--fill-color);\n",
              "      border-bottom-color: var(--fill-color);\n",
              "    }\n",
              "    90% {\n",
              "      border-color: transparent;\n",
              "      border-bottom-color: var(--fill-color);\n",
              "    }\n",
              "  }\n",
              "</style>\n",
              "\n",
              "  <script>\n",
              "    async function quickchart(key) {\n",
              "      const quickchartButtonEl =\n",
              "        document.querySelector('#' + key + ' button');\n",
              "      quickchartButtonEl.disabled = true;  // To prevent multiple clicks.\n",
              "      quickchartButtonEl.classList.add('colab-df-spinner');\n",
              "      try {\n",
              "        const charts = await google.colab.kernel.invokeFunction(\n",
              "            'suggestCharts', [key], {});\n",
              "      } catch (error) {\n",
              "        console.error('Error during call to suggestCharts:', error);\n",
              "      }\n",
              "      quickchartButtonEl.classList.remove('colab-df-spinner');\n",
              "      quickchartButtonEl.classList.add('colab-df-quickchart-complete');\n",
              "    }\n",
              "    (() => {\n",
              "      let quickchartButtonEl =\n",
              "        document.querySelector('#df-d24ba4af-780c-41f5-babe-94b911cd4e33 button');\n",
              "      quickchartButtonEl.style.display =\n",
              "        google.colab.kernel.accessAllowed ? 'block' : 'none';\n",
              "    })();\n",
              "  </script>\n",
              "</div>\n",
              "    </div>\n",
              "  </div>\n"
            ]
          },
          "metadata": {},
          "execution_count": 27
        }
      ]
    },
    {
      "cell_type": "code",
      "source": [
        "df.nunique()"
      ],
      "metadata": {
        "colab": {
          "base_uri": "https://localhost:8080/"
        },
        "id": "xZI7OKysvr9o",
        "outputId": "16880647-dffe-4245-86a6-2eb871049cc8"
      },
      "execution_count": 28,
      "outputs": [
        {
          "output_type": "execute_result",
          "data": {
            "text/plain": [
              "lyrics              3648\n",
              "title               3447\n",
              "artist              1263\n",
              "TrackID             3651\n",
              "danceability         687\n",
              "energy               805\n",
              "loudness            3137\n",
              "speechiness          856\n",
              "acousticness        1695\n",
              "instrumentalness    1582\n",
              "liveness            1065\n",
              "valence              881\n",
              "tempo               3545\n",
              "key                   12\n",
              "mode                   2\n",
              "duration_ms         3237\n",
              "Popularity            90\n",
              "label                  2\n",
              "emotion_label          6\n",
              "Hit_3                  2\n",
              "dtype: int64"
            ]
          },
          "metadata": {},
          "execution_count": 28
        }
      ]
    },
    {
      "cell_type": "code",
      "source": [
        "df.Hit_3.value_counts()"
      ],
      "metadata": {
        "colab": {
          "base_uri": "https://localhost:8080/"
        },
        "id": "bCwbXErKvwYT",
        "outputId": "7c25d5f4-565d-401b-d811-12cb54faa20d"
      },
      "execution_count": 29,
      "outputs": [
        {
          "output_type": "execute_result",
          "data": {
            "text/plain": [
              "0    1834\n",
              "1    1830\n",
              "Name: Hit_3, dtype: int64"
            ]
          },
          "metadata": {},
          "execution_count": 29
        }
      ]
    },
    {
      "cell_type": "markdown",
      "source": [
        "# Correlation Matrix"
      ],
      "metadata": {
        "id": "qRsxfl6vv7CQ"
      }
    },
    {
      "cell_type": "code",
      "source": [
        "plt.figure(figsize=(14,14))\n",
        "correl = df.corr()\n",
        "sns.heatmap(correl,annot=True)"
      ],
      "metadata": {
        "colab": {
          "base_uri": "https://localhost:8080/",
          "height": 1000
        },
        "id": "moxVp4jLv3uM",
        "outputId": "1e257115-c363-40fe-c20e-5b29eb164066"
      },
      "execution_count": 30,
      "outputs": [
        {
          "output_type": "stream",
          "name": "stderr",
          "text": [
            "<ipython-input-30-cb2350b31a03>:2: FutureWarning: The default value of numeric_only in DataFrame.corr is deprecated. In a future version, it will default to False. Select only valid columns or specify the value of numeric_only to silence this warning.\n",
            "  correl = df.corr()\n"
          ]
        },
        {
          "output_type": "execute_result",
          "data": {
            "text/plain": [
              "<Axes: >"
            ]
          },
          "metadata": {},
          "execution_count": 30
        },
        {
          "output_type": "display_data",
          "data": {
            "text/plain": [
              "<Figure size 1400x1400 with 2 Axes>"
            ],
            "image/png": "[encoded data removed]"
          },
          "metadata": {}
        }
      ]
    },
    {
      "cell_type": "code",
      "source": [
        "correl"
      ],
      "metadata": {
        "colab": {
          "base_uri": "https://localhost:8080/",
          "height": 571
        },
        "id": "mVyCd3pNv872",
        "outputId": "32cf0826-5257-4e68-8dbc-506e90233532"
      },
      "execution_count": 31,
      "outputs": [
        {
          "output_type": "execute_result",
          "data": {
            "text/plain": [
              "                  danceability    energy  loudness  speechiness  acousticness  \\\n",
              "danceability          1.000000  0.198018  0.111736     0.213698     -0.290995   \n",
              "energy                0.198018  1.000000  0.714497     0.172698     -0.579731   \n",
              "loudness              0.111736  0.714497  1.000000     0.175783     -0.425053   \n",
              "speechiness           0.213698  0.172698  0.175783     1.000000     -0.170929   \n",
              "acousticness         -0.290995 -0.579731 -0.425053    -0.170929      1.000000   \n",
              "instrumentalness      0.029419  0.031616 -0.063207    -0.029961     -0.020373   \n",
              "liveness             -0.100841  0.127974  0.070496     0.103192      0.005081   \n",
              "valence               0.475021  0.385338  0.069263     0.096803     -0.202690   \n",
              "tempo                -0.186441  0.120975  0.051803     0.024217     -0.066351   \n",
              "key                   0.024730 -0.007444 -0.012937     0.036208     -0.010152   \n",
              "mode                 -0.189376 -0.108097 -0.091119    -0.106428      0.141878   \n",
              "duration_ms           0.081653  0.050055  0.007086     0.028961     -0.213031   \n",
              "Popularity            0.097319  0.126424  0.190221     0.063117     -0.176369   \n",
              "label                -0.014367 -0.002137  0.013464     0.005288     -0.001316   \n",
              "emotion_label         0.076690  0.042167  0.022515     0.081761     -0.060077   \n",
              "Hit_3                 0.069387 -0.024716  0.036183    -0.006506      0.024166   \n",
              "\n",
              "                  instrumentalness  liveness   valence     tempo       key  \\\n",
              "danceability              0.029419 -0.100841  0.475021 -0.186441  0.024730   \n",
              "energy                    0.031616  0.127974  0.385338  0.120975 -0.007444   \n",
              "loudness                 -0.063207  0.070496  0.069263  0.051803 -0.012937   \n",
              "speechiness              -0.029961  0.103192  0.096803  0.024217  0.036208   \n",
              "acousticness             -0.020373  0.005081 -0.202690 -0.066351 -0.010152   \n",
              "instrumentalness          1.000000  0.006974  0.041007  0.015327  0.025182   \n",
              "liveness                  0.006974  1.000000  0.034942  0.009022  0.011685   \n",
              "valence                   0.041007  0.034942  1.000000  0.050256  0.021429   \n",
              "tempo                     0.015327  0.009022  0.050256  1.000000 -0.005951   \n",
              "key                       0.025182  0.011685  0.021429 -0.005951  1.000000   \n",
              "mode                     -0.023528  0.040874 -0.097040  0.018918 -0.124319   \n",
              "duration_ms               0.077227 -0.064754 -0.172440 -0.042496  0.008148   \n",
              "Popularity               -0.019770 -0.070468 -0.051755  0.005950  0.014652   \n",
              "label                    -0.030121  0.001763 -0.013029 -0.010494  0.010764   \n",
              "emotion_label             0.015389  0.016403  0.017972  0.024350  0.015191   \n",
              "Hit_3                    -0.037450 -0.015004 -0.016315 -0.026836 -0.001907   \n",
              "\n",
              "                      mode  duration_ms  Popularity     label  emotion_label  \\\n",
              "danceability     -0.189376     0.081653    0.097319 -0.014367       0.076690   \n",
              "energy           -0.108097     0.050055    0.126424 -0.002137       0.042167   \n",
              "loudness         -0.091119     0.007086    0.190221  0.013464       0.022515   \n",
              "speechiness      -0.106428     0.028961    0.063117  0.005288       0.081761   \n",
              "acousticness      0.141878    -0.213031   -0.176369 -0.001316      -0.060077   \n",
              "instrumentalness -0.023528     0.077227   -0.019770 -0.030121       0.015389   \n",
              "liveness          0.040874    -0.064754   -0.070468  0.001763       0.016403   \n",
              "valence          -0.097040    -0.172440   -0.051755 -0.013029       0.017972   \n",
              "tempo             0.018918    -0.042496    0.005950 -0.010494       0.024350   \n",
              "key              -0.124319     0.008148    0.014652  0.010764       0.015191   \n",
              "mode              1.000000    -0.116600   -0.066161  0.030151      -0.013355   \n",
              "duration_ms      -0.116600     1.000000    0.060543  0.016206       0.030423   \n",
              "Popularity       -0.066161     0.060543    1.000000  0.018633       0.041019   \n",
              "label             0.030151     0.016206    0.018633  1.000000       0.016997   \n",
              "emotion_label    -0.013355     0.030423    0.041019  0.016997       1.000000   \n",
              "Hit_3            -0.021089    -0.013751    0.227354  0.013705      -0.026429   \n",
              "\n",
              "                     Hit_3  \n",
              "danceability      0.069387  \n",
              "energy           -0.024716  \n",
              "loudness          0.036183  \n",
              "speechiness      -0.006506  \n",
              "acousticness      0.024166  \n",
              "instrumentalness -0.037450  \n",
              "liveness         -0.015004  \n",
              "valence          -0.016315  \n",
              "tempo            -0.026836  \n",
              "key              -0.001907  \n",
              "mode             -0.021089  \n",
              "duration_ms      -0.013751  \n",
              "Popularity        0.227354  \n",
              "label             0.013705  \n",
              "emotion_label    -0.026429  \n",
              "Hit_3             1.000000  "
            ],
            "text/html": [
              "\n",
              "  <div id=\"df-cb59310b-ab06-4d3a-8186-eaefdc08ab55\" class=\"colab-df-container\">\n",
              "    <div>\n",
              "<style scoped>\n",
              "    .dataframe tbody tr th:only-of-type {\n",
              "        vertical-align: middle;\n",
              "    }\n",
              "\n",
              "    .dataframe tbody tr th {\n",
              "        vertical-align: top;\n",
              "    }\n",
              "\n",
              "    .dataframe thead th {\n",
              "        text-align: right;\n",
              "    }\n",
              "</style>\n",
              "<table border=\"1\" class=\"dataframe\">\n",
              "  <thead>\n",
              "    <tr style=\"text-align: right;\">\n",
              "      <th></th>\n",
              "      <th>danceability</th>\n",
              "      <th>energy</th>\n",
              "      <th>loudness</th>\n",
              "      <th>speechiness</th>\n",
              "      <th>acousticness</th>\n",
              "      <th>instrumentalness</th>\n",
              "      <th>liveness</th>\n",
              "      <th>valence</th>\n",
              "      <th>tempo</th>\n",
              "      <th>key</th>\n",
              "      <th>mode</th>\n",
              "      <th>duration_ms</th>\n",
              "      <th>Popularity</th>\n",
              "      <th>label</th>\n",
              "      <th>emotion_label</th>\n",
              "      <th>Hit_3</th>\n",
              "    </tr>\n",
              "  </thead>\n",
              "  <tbody>\n",
              "    <tr>\n",
              "      <th>danceability</th>\n",
              "      <td>1.000000</td>\n",
              "      <td>0.198018</td>\n",
              "      <td>0.111736</td>\n",
              "      <td>0.213698</td>\n",
              "      <td>-0.290995</td>\n",
              "      <td>0.029419</td>\n",
              "      <td>-0.100841</td>\n",
              "      <td>0.475021</td>\n",
              "      <td>-0.186441</td>\n",
              "      <td>0.024730</td>\n",
              "      <td>-0.189376</td>\n",
              "      <td>0.081653</td>\n",
              "      <td>0.097319</td>\n",
              "      <td>-0.014367</td>\n",
              "      <td>0.076690</td>\n",
              "      <td>0.069387</td>\n",
              "    </tr>\n",
              "    <tr>\n",
              "      <th>energy</th>\n",
              "      <td>0.198018</td>\n",
              "      <td>1.000000</td>\n",
              "      <td>0.714497</td>\n",
              "      <td>0.172698</td>\n",
              "      <td>-0.579731</td>\n",
              "      <td>0.031616</td>\n",
              "      <td>0.127974</td>\n",
              "      <td>0.385338</td>\n",
              "      <td>0.120975</td>\n",
              "      <td>-0.007444</td>\n",
              "      <td>-0.108097</td>\n",
              "      <td>0.050055</td>\n",
              "      <td>0.126424</td>\n",
              "      <td>-0.002137</td>\n",
              "      <td>0.042167</td>\n",
              "      <td>-0.024716</td>\n",
              "    </tr>\n",
              "    <tr>\n",
              "      <th>loudness</th>\n",
              "      <td>0.111736</td>\n",
              "      <td>0.714497</td>\n",
              "      <td>1.000000</td>\n",
              "      <td>0.175783</td>\n",
              "      <td>-0.425053</td>\n",
              "      <td>-0.063207</td>\n",
              "      <td>0.070496</td>\n",
              "      <td>0.069263</td>\n",
              "      <td>0.051803</td>\n",
              "      <td>-0.012937</td>\n",
              "      <td>-0.091119</td>\n",
              "      <td>0.007086</td>\n",
              "      <td>0.190221</td>\n",
              "      <td>0.013464</td>\n",
              "      <td>0.022515</td>\n",
              "      <td>0.036183</td>\n",
              "    </tr>\n",
              "    <tr>\n",
              "      <th>speechiness</th>\n",
              "      <td>0.213698</td>\n",
              "      <td>0.172698</td>\n",
              "      <td>0.175783</td>\n",
              "      <td>1.000000</td>\n",
              "      <td>-0.170929</td>\n",
              "      <td>-0.029961</td>\n",
              "      <td>0.103192</td>\n",
              "      <td>0.096803</td>\n",
              "      <td>0.024217</td>\n",
              "      <td>0.036208</td>\n",
              "      <td>-0.106428</td>\n",
              "      <td>0.028961</td>\n",
              "      <td>0.063117</td>\n",
              "      <td>0.005288</td>\n",
              "      <td>0.081761</td>\n",
              "      <td>-0.006506</td>\n",
              "    </tr>\n",
              "    <tr>\n",
              "      <th>acousticness</th>\n",
              "      <td>-0.290995</td>\n",
              "      <td>-0.579731</td>\n",
              "      <td>-0.425053</td>\n",
              "      <td>-0.170929</td>\n",
              "      <td>1.000000</td>\n",
              "      <td>-0.020373</td>\n",
              "      <td>0.005081</td>\n",
              "      <td>-0.202690</td>\n",
              "      <td>-0.066351</td>\n",
              "      <td>-0.010152</td>\n",
              "      <td>0.141878</td>\n",
              "      <td>-0.213031</td>\n",
              "      <td>-0.176369</td>\n",
              "      <td>-0.001316</td>\n",
              "      <td>-0.060077</td>\n",
              "      <td>0.024166</td>\n",
              "    </tr>\n",
              "    <tr>\n",
              "      <th>instrumentalness</th>\n",
              "      <td>0.029419</td>\n",
              "      <td>0.031616</td>\n",
              "      <td>-0.063207</td>\n",
              "      <td>-0.029961</td>\n",
              "      <td>-0.020373</td>\n",
              "      <td>1.000000</td>\n",
              "      <td>0.006974</td>\n",
              "      <td>0.041007</td>\n",
              "      <td>0.015327</td>\n",
              "      <td>0.025182</td>\n",
              "      <td>-0.023528</td>\n",
              "      <td>0.077227</td>\n",
              "      <td>-0.019770</td>\n",
              "      <td>-0.030121</td>\n",
              "      <td>0.015389</td>\n",
              "      <td>-0.037450</td>\n",
              "    </tr>\n",
              "    <tr>\n",
              "      <th>liveness</th>\n",
              "      <td>-0.100841</td>\n",
              "      <td>0.127974</td>\n",
              "      <td>0.070496</td>\n",
              "      <td>0.103192</td>\n",
              "      <td>0.005081</td>\n",
              "      <td>0.006974</td>\n",
              "      <td>1.000000</td>\n",
              "      <td>0.034942</td>\n",
              "      <td>0.009022</td>\n",
              "      <td>0.011685</td>\n",
              "      <td>0.040874</td>\n",
              "      <td>-0.064754</td>\n",
              "      <td>-0.070468</td>\n",
              "      <td>0.001763</td>\n",
              "      <td>0.016403</td>\n",
              "      <td>-0.015004</td>\n",
              "    </tr>\n",
              "    <tr>\n",
              "      <th>valence</th>\n",
              "      <td>0.475021</td>\n",
              "      <td>0.385338</td>\n",
              "      <td>0.069263</td>\n",
              "      <td>0.096803</td>\n",
              "      <td>-0.202690</td>\n",
              "      <td>0.041007</td>\n",
              "      <td>0.034942</td>\n",
              "      <td>1.000000</td>\n",
              "      <td>0.050256</td>\n",
              "      <td>0.021429</td>\n",
              "      <td>-0.097040</td>\n",
              "      <td>-0.172440</td>\n",
              "      <td>-0.051755</td>\n",
              "      <td>-0.013029</td>\n",
              "      <td>0.017972</td>\n",
              "      <td>-0.016315</td>\n",
              "    </tr>\n",
              "    <tr>\n",
              "      <th>tempo</th>\n",
              "      <td>-0.186441</td>\n",
              "      <td>0.120975</td>\n",
              "      <td>0.051803</td>\n",
              "      <td>0.024217</td>\n",
              "      <td>-0.066351</td>\n",
              "      <td>0.015327</td>\n",
              "      <td>0.009022</td>\n",
              "      <td>0.050256</td>\n",
              "      <td>1.000000</td>\n",
              "      <td>-0.005951</td>\n",
              "      <td>0.018918</td>\n",
              "      <td>-0.042496</td>\n",
              "      <td>0.005950</td>\n",
              "      <td>-0.010494</td>\n",
              "      <td>0.024350</td>\n",
              "      <td>-0.026836</td>\n",
              "    </tr>\n",
              "    <tr>\n",
              "      <th>key</th>\n",
              "      <td>0.024730</td>\n",
              "      <td>-0.007444</td>\n",
              "      <td>-0.012937</td>\n",
              "      <td>0.036208</td>\n",
              "      <td>-0.010152</td>\n",
              "      <td>0.025182</td>\n",
              "      <td>0.011685</td>\n",
              "      <td>0.021429</td>\n",
              "      <td>-0.005951</td>\n",
              "      <td>1.000000</td>\n",
              "      <td>-0.124319</td>\n",
              "      <td>0.008148</td>\n",
              "      <td>0.014652</td>\n",
              "      <td>0.010764</td>\n",
              "      <td>0.015191</td>\n",
              "      <td>-0.001907</td>\n",
              "    </tr>\n",
              "    <tr>\n",
              "      <th>mode</th>\n",
              "      <td>-0.189376</td>\n",
              "      <td>-0.108097</td>\n",
              "      <td>-0.091119</td>\n",
              "      <td>-0.106428</td>\n",
              "      <td>0.141878</td>\n",
              "      <td>-0.023528</td>\n",
              "      <td>0.040874</td>\n",
              "      <td>-0.097040</td>\n",
              "      <td>0.018918</td>\n",
              "      <td>-0.124319</td>\n",
              "      <td>1.000000</td>\n",
              "      <td>-0.116600</td>\n",
              "      <td>-0.066161</td>\n",
              "      <td>0.030151</td>\n",
              "      <td>-0.013355</td>\n",
              "      <td>-0.021089</td>\n",
              "    </tr>\n",
              "    <tr>\n",
              "      <th>duration_ms</th>\n",
              "      <td>0.081653</td>\n",
              "      <td>0.050055</td>\n",
              "      <td>0.007086</td>\n",
              "      <td>0.028961</td>\n",
              "      <td>-0.213031</td>\n",
              "      <td>0.077227</td>\n",
              "      <td>-0.064754</td>\n",
              "      <td>-0.172440</td>\n",
              "      <td>-0.042496</td>\n",
              "      <td>0.008148</td>\n",
              "      <td>-0.116600</td>\n",
              "      <td>1.000000</td>\n",
              "      <td>0.060543</td>\n",
              "      <td>0.016206</td>\n",
              "      <td>0.030423</td>\n",
              "      <td>-0.013751</td>\n",
              "    </tr>\n",
              "    <tr>\n",
              "      <th>Popularity</th>\n",
              "      <td>0.097319</td>\n",
              "      <td>0.126424</td>\n",
              "      <td>0.190221</td>\n",
              "      <td>0.063117</td>\n",
              "      <td>-0.176369</td>\n",
              "      <td>-0.019770</td>\n",
              "      <td>-0.070468</td>\n",
              "      <td>-0.051755</td>\n",
              "      <td>0.005950</td>\n",
              "      <td>0.014652</td>\n",
              "      <td>-0.066161</td>\n",
              "      <td>0.060543</td>\n",
              "      <td>1.000000</td>\n",
              "      <td>0.018633</td>\n",
              "      <td>0.041019</td>\n",
              "      <td>0.227354</td>\n",
              "    </tr>\n",
              "    <tr>\n",
              "      <th>label</th>\n",
              "      <td>-0.014367</td>\n",
              "      <td>-0.002137</td>\n",
              "      <td>0.013464</td>\n",
              "      <td>0.005288</td>\n",
              "      <td>-0.001316</td>\n",
              "      <td>-0.030121</td>\n",
              "      <td>0.001763</td>\n",
              "      <td>-0.013029</td>\n",
              "      <td>-0.010494</td>\n",
              "      <td>0.010764</td>\n",
              "      <td>0.030151</td>\n",
              "      <td>0.016206</td>\n",
              "      <td>0.018633</td>\n",
              "      <td>1.000000</td>\n",
              "      <td>0.016997</td>\n",
              "      <td>0.013705</td>\n",
              "    </tr>\n",
              "    <tr>\n",
              "      <th>emotion_label</th>\n",
              "      <td>0.076690</td>\n",
              "      <td>0.042167</td>\n",
              "      <td>0.022515</td>\n",
              "      <td>0.081761</td>\n",
              "      <td>-0.060077</td>\n",
              "      <td>0.015389</td>\n",
              "      <td>0.016403</td>\n",
              "      <td>0.017972</td>\n",
              "      <td>0.024350</td>\n",
              "      <td>0.015191</td>\n",
              "      <td>-0.013355</td>\n",
              "      <td>0.030423</td>\n",
              "      <td>0.041019</td>\n",
              "      <td>0.016997</td>\n",
              "      <td>1.000000</td>\n",
              "      <td>-0.026429</td>\n",
              "    </tr>\n",
              "    <tr>\n",
              "      <th>Hit_3</th>\n",
              "      <td>0.069387</td>\n",
              "      <td>-0.024716</td>\n",
              "      <td>0.036183</td>\n",
              "      <td>-0.006506</td>\n",
              "      <td>0.024166</td>\n",
              "      <td>-0.037450</td>\n",
              "      <td>-0.015004</td>\n",
              "      <td>-0.016315</td>\n",
              "      <td>-0.026836</td>\n",
              "      <td>-0.001907</td>\n",
              "      <td>-0.021089</td>\n",
              "      <td>-0.013751</td>\n",
              "      <td>0.227354</td>\n",
              "      <td>0.013705</td>\n",
              "      <td>-0.026429</td>\n",
              "      <td>1.000000</td>\n",
              "    </tr>\n",
              "  </tbody>\n",
              "</table>\n",
              "</div>\n",
              "    <div class=\"colab-df-buttons\">\n",
              "\n",
              "  <div class=\"colab-df-container\">\n",
              "    <button class=\"colab-df-convert\" onclick=\"convertToInteractive('df-cb59310b-ab06-4d3a-8186-eaefdc08ab55')\"\n",
              "            title=\"Convert this dataframe to an interactive table.\"\n",
              "            style=\"display:none;\">\n",
              "\n",
              "  <svg xmlns=\"http://www.w3.org/2000/svg\" height=\"24px\" viewBox=\"0 -960 960 960\">\n",
              "    <path d=\"M120-120v-720h720v720H120Zm60-500h600v-160H180v160Zm220 220h160v-160H400v160Zm0 220h160v-160H400v160ZM180-400h160v-160H180v160Zm440 0h160v-160H620v160ZM180-180h160v-160H180v160Zm440 0h160v-160H620v160Z\"/>\n",
              "  </svg>\n",
              "    </button>\n",
              "\n",
              "  <style>\n",
              "    .colab-df-container {\n",
              "      display:flex;\n",
              "      gap: 12px;\n",
              "    }\n",
              "\n",
              "    .colab-df-convert {\n",
              "      background-color: #E8F0FE;\n",
              "      border: none;\n",
              "      border-radius: 50%;\n",
              "      cursor: pointer;\n",
              "      display: none;\n",
              "      fill: #1967D2;\n",
              "      height: 32px;\n",
              "      padding: 0 0 0 0;\n",
              "      width: 32px;\n",
              "    }\n",
              "\n",
              "    .colab-df-convert:hover {\n",
              "      background-color: #E2EBFA;\n",
              "      box-shadow: 0px 1px 2px rgba(60, 64, 67, 0.3), 0px 1px 3px 1px rgba(60, 64, 67, 0.15);\n",
              "      fill: #174EA6;\n",
              "    }\n",
              "\n",
              "    .colab-df-buttons div {\n",
              "      margin-bottom: 4px;\n",
              "    }\n",
              "\n",
              "    [theme=dark] .colab-df-convert {\n",
              "      background-color: #3B4455;\n",
              "      fill: #D2E3FC;\n",
              "    }\n",
              "\n",
              "    [theme=dark] .colab-df-convert:hover {\n",
              "      background-color: #434B5C;\n",
              "      box-shadow: 0px 1px 3px 1px rgba(0, 0, 0, 0.15);\n",
              "      filter: drop-shadow(0px 1px 2px rgba(0, 0, 0, 0.3));\n",
              "      fill: #FFFFFF;\n",
              "    }\n",
              "  </style>\n",
              "\n",
              "    <script>\n",
              "      const buttonEl =\n",
              "        document.querySelector('#df-cb59310b-ab06-4d3a-8186-eaefdc08ab55 button.colab-df-convert');\n",
              "      buttonEl.style.display =\n",
              "        google.colab.kernel.accessAllowed ? 'block' : 'none';\n",
              "\n",
              "      async function convertToInteractive(key) {\n",
              "        const element = document.querySelector('#df-cb59310b-ab06-4d3a-8186-eaefdc08ab55');\n",
              "        const dataTable =\n",
              "          await google.colab.kernel.invokeFunction('convertToInteractive',\n",
              "                                                    [key], {});\n",
              "        if (!dataTable) return;\n",
              "\n",
              "        const docLinkHtml = 'Like what you see? Visit the ' +\n",
              "          '<a target=\"_blank\" href=https://colab.research.google.com/notebooks/data_table.ipynb>data table notebook</a>'\n",
              "          + ' to learn more about interactive tables.';\n",
              "        element.innerHTML = '';\n",
              "        dataTable['output_type'] = 'display_data';\n",
              "        await google.colab.output.renderOutput(dataTable, element);\n",
              "        const docLink = document.createElement('div');\n",
              "        docLink.innerHTML = docLinkHtml;\n",
              "        element.appendChild(docLink);\n",
              "      }\n",
              "    </script>\n",
              "  </div>\n",
              "\n",
              "\n",
              "<div id=\"df-80010cbe-cb01-4102-8ef2-780add3d4d71\">\n",
              "  <button class=\"colab-df-quickchart\" onclick=\"quickchart('df-80010cbe-cb01-4102-8ef2-780add3d4d71')\"\n",
              "            title=\"Suggest charts.\"\n",
              "            style=\"display:none;\">\n",
              "\n",
              "<svg xmlns=\"http://www.w3.org/2000/svg\" height=\"24px\"viewBox=\"0 0 24 24\"\n",
              "     width=\"24px\">\n",
              "    <g>\n",
              "        <path d=\"M19 3H5c-1.1 0-2 .9-2 2v14c0 1.1.9 2 2 2h14c1.1 0 2-.9 2-2V5c0-1.1-.9-2-2-2zM9 17H7v-7h2v7zm4 0h-2V7h2v10zm4 0h-2v-4h2v4z\"/>\n",
              "    </g>\n",
              "</svg>\n",
              "  </button>\n",
              "\n",
              "<style>\n",
              "  .colab-df-quickchart {\n",
              "      --bg-color: #E8F0FE;\n",
              "      --fill-color: #1967D2;\n",
              "      --hover-bg-color: #E2EBFA;\n",
              "      --hover-fill-color: #174EA6;\n",
              "      --disabled-fill-color: #AAA;\n",
              "      --disabled-bg-color: #DDD;\n",
              "  }\n",
              "\n",
              "  [theme=dark] .colab-df-quickchart {\n",
              "      --bg-color: #3B4455;\n",
              "      --fill-color: #D2E3FC;\n",
              "      --hover-bg-color: #434B5C;\n",
              "      --hover-fill-color: #FFFFFF;\n",
              "      --disabled-bg-color: #3B4455;\n",
              "      --disabled-fill-color: #666;\n",
              "  }\n",
              "\n",
              "  .colab-df-quickchart {\n",
              "    background-color: var(--bg-color);\n",
              "    border: none;\n",
              "    border-radius: 50%;\n",
              "    cursor: pointer;\n",
              "    display: none;\n",
              "    fill: var(--fill-color);\n",
              "    height: 32px;\n",
              "    padding: 0;\n",
              "    width: 32px;\n",
              "  }\n",
              "\n",
              "  .colab-df-quickchart:hover {\n",
              "    background-color: var(--hover-bg-color);\n",
              "    box-shadow: 0 1px 2px rgba(60, 64, 67, 0.3), 0 1px 3px 1px rgba(60, 64, 67, 0.15);\n",
              "    fill: var(--button-hover-fill-color);\n",
              "  }\n",
              "\n",
              "  .colab-df-quickchart-complete:disabled,\n",
              "  .colab-df-quickchart-complete:disabled:hover {\n",
              "    background-color: var(--disabled-bg-color);\n",
              "    fill: var(--disabled-fill-color);\n",
              "    box-shadow: none;\n",
              "  }\n",
              "\n",
              "  .colab-df-spinner {\n",
              "    border: 2px solid var(--fill-color);\n",
              "    border-color: transparent;\n",
              "    border-bottom-color: var(--fill-color);\n",
              "    animation:\n",
              "      spin 1s steps(1) infinite;\n",
              "  }\n",
              "\n",
              "  @keyframes spin {\n",
              "    0% {\n",
              "      border-color: transparent;\n",
              "      border-bottom-color: var(--fill-color);\n",
              "      border-left-color: var(--fill-color);\n",
              "    }\n",
              "    20% {\n",
              "      border-color: transparent;\n",
              "      border-left-color: var(--fill-color);\n",
              "      border-top-color: var(--fill-color);\n",
              "    }\n",
              "    30% {\n",
              "      border-color: transparent;\n",
              "      border-left-color: var(--fill-color);\n",
              "      border-top-color: var(--fill-color);\n",
              "      border-right-color: var(--fill-color);\n",
              "    }\n",
              "    40% {\n",
              "      border-color: transparent;\n",
              "      border-right-color: var(--fill-color);\n",
              "      border-top-color: var(--fill-color);\n",
              "    }\n",
              "    60% {\n",
              "      border-color: transparent;\n",
              "      border-right-color: var(--fill-color);\n",
              "    }\n",
              "    80% {\n",
              "      border-color: transparent;\n",
              "      border-right-color: var(--fill-color);\n",
              "      border-bottom-color: var(--fill-color);\n",
              "    }\n",
              "    90% {\n",
              "      border-color: transparent;\n",
              "      border-bottom-color: var(--fill-color);\n",
              "    }\n",
              "  }\n",
              "</style>\n",
              "\n",
              "  <script>\n",
              "    async function quickchart(key) {\n",
              "      const quickchartButtonEl =\n",
              "        document.querySelector('#' + key + ' button');\n",
              "      quickchartButtonEl.disabled = true;  // To prevent multiple clicks.\n",
              "      quickchartButtonEl.classList.add('colab-df-spinner');\n",
              "      try {\n",
              "        const charts = await google.colab.kernel.invokeFunction(\n",
              "            'suggestCharts', [key], {});\n",
              "      } catch (error) {\n",
              "        console.error('Error during call to suggestCharts:', error);\n",
              "      }\n",
              "      quickchartButtonEl.classList.remove('colab-df-spinner');\n",
              "      quickchartButtonEl.classList.add('colab-df-quickchart-complete');\n",
              "    }\n",
              "    (() => {\n",
              "      let quickchartButtonEl =\n",
              "        document.querySelector('#df-80010cbe-cb01-4102-8ef2-780add3d4d71 button');\n",
              "      quickchartButtonEl.style.display =\n",
              "        google.colab.kernel.accessAllowed ? 'block' : 'none';\n",
              "    })();\n",
              "  </script>\n",
              "</div>\n",
              "    </div>\n",
              "  </div>\n"
            ]
          },
          "metadata": {},
          "execution_count": 31
        }
      ]
    },
    {
      "cell_type": "markdown",
      "source": [
        "# Seperative the categorical and numeric features"
      ],
      "metadata": {
        "id": "2e0Jp4FjwHaX"
      }
    },
    {
      "cell_type": "code",
      "source": [
        "df.nunique()"
      ],
      "metadata": {
        "colab": {
          "base_uri": "https://localhost:8080/"
        },
        "id": "Uv-WyTZswE9B",
        "outputId": "a3889a46-0cc2-4e29-c358-29b2472f3d2e"
      },
      "execution_count": 32,
      "outputs": [
        {
          "output_type": "execute_result",
          "data": {
            "text/plain": [
              "lyrics              3648\n",
              "title               3447\n",
              "artist              1263\n",
              "TrackID             3651\n",
              "danceability         687\n",
              "energy               805\n",
              "loudness            3137\n",
              "speechiness          856\n",
              "acousticness        1695\n",
              "instrumentalness    1582\n",
              "liveness            1065\n",
              "valence              881\n",
              "tempo               3545\n",
              "key                   12\n",
              "mode                   2\n",
              "duration_ms         3237\n",
              "Popularity            90\n",
              "label                  2\n",
              "emotion_label          6\n",
              "Hit_3                  2\n",
              "dtype: int64"
            ]
          },
          "metadata": {},
          "execution_count": 32
        }
      ]
    },
    {
      "cell_type": "code",
      "source": [
        "categorical = [x for x in df.columns if df[x].nunique()< 15]"
      ],
      "metadata": {
        "id": "Y0nX80XfwJ4G"
      },
      "execution_count": 33,
      "outputs": []
    },
    {
      "cell_type": "code",
      "source": [
        "categorical"
      ],
      "metadata": {
        "colab": {
          "base_uri": "https://localhost:8080/"
        },
        "id": "_MvT4k8fwNL9",
        "outputId": "83e06a88-a3ed-4c56-e40a-a416de45d248"
      },
      "execution_count": 34,
      "outputs": [
        {
          "output_type": "execute_result",
          "data": {
            "text/plain": [
              "['key', 'mode', 'label', 'emotion_label', 'Hit_3']"
            ]
          },
          "metadata": {},
          "execution_count": 34
        }
      ]
    },
    {
      "cell_type": "code",
      "source": [
        "df = df.drop(['lyrics'], axis=1)"
      ],
      "metadata": {
        "id": "rF1MwjwRwOkH"
      },
      "execution_count": 35,
      "outputs": []
    },
    {
      "cell_type": "code",
      "source": [
        "df = df.drop(['title', 'artist', 'TrackID', 'Popularity'], axis=1)"
      ],
      "metadata": {
        "id": "AqpgY0Gzwe2B"
      },
      "execution_count": 36,
      "outputs": []
    },
    {
      "cell_type": "code",
      "source": [
        "numeric = [x for x in df.columns if df[x].nunique() > 15]"
      ],
      "metadata": {
        "id": "NVgbr7mBwb9D"
      },
      "execution_count": 37,
      "outputs": []
    },
    {
      "cell_type": "code",
      "source": [
        "numeric"
      ],
      "metadata": {
        "colab": {
          "base_uri": "https://localhost:8080/"
        },
        "id": "zuG1wf4rwdWw",
        "outputId": "1ce6f8ba-d264-4da8-ef4c-157642ebc62d"
      },
      "execution_count": 38,
      "outputs": [
        {
          "output_type": "execute_result",
          "data": {
            "text/plain": [
              "['danceability',\n",
              " 'energy',\n",
              " 'loudness',\n",
              " 'speechiness',\n",
              " 'acousticness',\n",
              " 'instrumentalness',\n",
              " 'liveness',\n",
              " 'valence',\n",
              " 'tempo',\n",
              " 'duration_ms']"
            ]
          },
          "metadata": {},
          "execution_count": 38
        }
      ]
    },
    {
      "cell_type": "code",
      "source": [
        "numeric"
      ],
      "metadata": {
        "colab": {
          "base_uri": "https://localhost:8080/"
        },
        "id": "mvkryo8RwxQf",
        "outputId": "7fa92ba5-0c0c-43ca-a636-b300e84ef471"
      },
      "execution_count": 39,
      "outputs": [
        {
          "output_type": "execute_result",
          "data": {
            "text/plain": [
              "['danceability',\n",
              " 'energy',\n",
              " 'loudness',\n",
              " 'speechiness',\n",
              " 'acousticness',\n",
              " 'instrumentalness',\n",
              " 'liveness',\n",
              " 'valence',\n",
              " 'tempo',\n",
              " 'duration_ms']"
            ]
          },
          "metadata": {},
          "execution_count": 39
        }
      ]
    },
    {
      "cell_type": "code",
      "source": [
        "plt.figure(figsize=(18,20))\n",
        "i = 1\n",
        "for features in categorical[:-1]:\n",
        "    plt.subplot(2,2,i)\n",
        "    sns.countplot(x=df[features],hue=data.Hit_3).set_title(features)\n",
        "    i=i+1\n",
        "plt.show()"
      ],
      "metadata": {
        "colab": {
          "base_uri": "https://localhost:8080/",
          "height": 1000
        },
        "id": "niJTKhviwxyw",
        "outputId": "b03e124e-b4cb-4666-b860-5f60d86eca25"
      },
      "execution_count": 40,
      "outputs": [
        {
          "output_type": "display_data",
          "data": {
            "text/plain": [
              "<Figure size 1800x2000 with 4 Axes>"
            ],
            "image/png": "[encoded data removed]"
          },
          "metadata": {}
        }
      ]
    },
    {
      "cell_type": "code",
      "source": [
        "plt.figure(figsize=(18,20))\n",
        "i = 1\n",
        "for features in numeric:\n",
        "    plt.subplot(3,4,i)\n",
        "    sns.histplot(x=df[features],hue= df.Hit_3, bins=10).set_title(features)\n",
        "    i=i+1\n",
        "plt.show()"
      ],
      "metadata": {
        "colab": {
          "base_uri": "https://localhost:8080/",
          "height": 1000
        },
        "id": "javtwtNuw3yu",
        "outputId": "e1004eca-9a26-4653-a4c9-2b7daa1e03d2"
      },
      "execution_count": 41,
      "outputs": [
        {
          "output_type": "display_data",
          "data": {
            "text/plain": [
              "<Figure size 1800x2000 with 10 Axes>"
            ],
            "image/png": "[encoded data removed]"
          },
          "metadata": {}
        }
      ]
    },
    {
      "cell_type": "code",
      "source": [
        "plt.figure(figsize=(18,20))\n",
        "i = 1\n",
        "for features in numeric:\n",
        "    plt.subplot(3,4,i)\n",
        "    sns.boxplot(x=df[features]).set_title(features)\n",
        "    i=i+1\n",
        "plt.show()"
      ],
      "metadata": {
        "colab": {
          "base_uri": "https://localhost:8080/",
          "height": 1000
        },
        "id": "Peh62jRfxEGU",
        "outputId": "98986cb9-3da0-4d4e-e404-954ce5c45b6f"
      },
      "execution_count": 42,
      "outputs": [
        {
          "output_type": "display_data",
          "data": {
            "text/plain": [
              "<Figure size 1800x2000 with 10 Axes>"
            ],
            "image/png": "[encoded data removed]"
          },
          "metadata": {}
        }
      ]
    },
    {
      "cell_type": "markdown",
      "source": [
        "# Feature Engineering"
      ],
      "metadata": {
        "id": "J0E0ZTQyxRhU"
      }
    },
    {
      "cell_type": "markdown",
      "source": [
        "# Import Dataset and Preprocessing Steps"
      ],
      "metadata": {
        "id": "hsHB2eAVxUyH"
      }
    },
    {
      "cell_type": "code",
      "source": [
        "import pandas as pd\n",
        "\n",
        "df = pd.read_csv('/content/gdrive/My Drive/Colab Datasets/dataset_ML_complete.csv')"
      ],
      "metadata": {
        "id": "Y4quGEwnxPQi"
      },
      "execution_count": 43,
      "outputs": []
    },
    {
      "cell_type": "code",
      "source": [
        "df = df.drop(['genre', 'num_syllables', 'pos', 'year', 'fog_index',\n",
        "       'flesch_index', 'num_lines', 'sentiment','f_k_grade', 'difficult_words', 'num_dupes', 'number_of_tokens',\n",
        "       'number_of_types', 'decades', 'stemmed_text', 'POS_tags', 'POS','values', 'pred'], axis=1)"
      ],
      "metadata": {
        "id": "QeqWveTLxZPC"
      },
      "execution_count": 44,
      "outputs": []
    },
    {
      "cell_type": "code",
      "source": [
        "df = df.drop(['playlistID', 'TrackName', 'SampleURL', 'ReleaseYear', 'Genres', 'score'], axis=1)"
      ],
      "metadata": {
        "id": "2Ye1SIIPxnqK"
      },
      "execution_count": 45,
      "outputs": []
    },
    {
      "cell_type": "code",
      "source": [
        "df = df.drop(['Hit', 'Hit_2'], axis=1)"
      ],
      "metadata": {
        "id": "5RyQa0FH9YpU"
      },
      "execution_count": 46,
      "outputs": []
    },
    {
      "cell_type": "code",
      "source": [
        "df.Hit_3 = df.Hit_3.replace({'yes': 1, 'no': 0})"
      ],
      "metadata": {
        "id": "r7F1WZjrxuJD"
      },
      "execution_count": 47,
      "outputs": []
    },
    {
      "cell_type": "code",
      "source": [
        "from collections import Counter\n",
        "\n",
        "Counter(df.Hit_3)"
      ],
      "metadata": {
        "colab": {
          "base_uri": "https://localhost:8080/"
        },
        "id": "2Vb47L-yyA85",
        "outputId": "25f3c0ec-0070-4d81-d6a1-6ff47b5ed27f"
      },
      "execution_count": 48,
      "outputs": [
        {
          "output_type": "execute_result",
          "data": {
            "text/plain": [
              "Counter({1: 1830, 0: 1834})"
            ]
          },
          "metadata": {},
          "execution_count": 48
        }
      ]
    },
    {
      "cell_type": "code",
      "source": [
        "#df.label = df.label.replace({'POSITIVE': 1, 'NEGATIVE': 0})"
      ],
      "metadata": {
        "id": "_yJoh-Dfxzhf"
      },
      "execution_count": 49,
      "outputs": []
    },
    {
      "cell_type": "code",
      "source": [
        "df.head(5)"
      ],
      "metadata": {
        "colab": {
          "base_uri": "https://localhost:8080/",
          "height": 591
        },
        "id": "baDv1VzRx7D5",
        "outputId": "ad98026d-962a-4c34-a390-a491f330bad0"
      },
      "execution_count": 50,
      "outputs": [
        {
          "output_type": "execute_result",
          "data": {
            "text/plain": [
              "                                              lyrics  \\\n",
              "0  look into my eyes  you will seewhat you mean t...   \n",
              "1  i can't get no satisfactioni can't get no sati...   \n",
              "2  our life together is so precious togetherwe ha...   \n",
              "3  love is higher than a mountain love is thicker...   \n",
              "4  sittin' in the morning suni'll be sittin' when...   \n",
              "\n",
              "                               title          artist                 TrackID  \\\n",
              "0  (Everything I Do) I Do It For You     Bryan Adams  1Eb90nmqTrxylKFhcUzW8P   \n",
              "1      (I Can't Get No) Satisfaction  Rolling Stones  2PzU4IB8Dr6mxV3lHuaG34   \n",
              "2          (Just Like) Starting Over     John Lennon  5y0YreEOnQiKFAnCrcFIXz   \n",
              "3       (Love Is) Thicker Than Water       Andy Gibb  3jdBf1cJ2QmTzNUixplppA   \n",
              "4   (Sittin' On) The Dock Of The Bay    Otis Redding  3zBhihYUHBmGd2bcQIobrF   \n",
              "\n",
              "   danceability  energy  loudness  speechiness  acousticness  \\\n",
              "0         0.533   0.360   -12.633       0.0282        0.0805   \n",
              "1         0.723   0.863    -7.890       0.0338        0.0383   \n",
              "2         0.701   0.790    -6.160       0.0725        0.3010   \n",
              "3         0.582   0.462    -9.882       0.0254        0.1370   \n",
              "4         0.769   0.367   -11.226       0.0312        0.6840   \n",
              "\n",
              "   instrumentalness  liveness  valence    tempo  key  mode  duration_ms  \\\n",
              "0          0.000010    0.0631    0.299  131.229    1     1       393640   \n",
              "1          0.031700    0.1280    0.931  136.302    2     1       222813   \n",
              "2          0.000061    0.1790    0.421   99.104    9     1       236547   \n",
              "3          0.000050    0.0755    0.528   96.361    6     0       255960   \n",
              "4          0.000016    0.0810    0.535  103.621    2     1       163756   \n",
              "\n",
              "   Popularity     label emotion_label  Hit_3  \n",
              "0        77.0  POSITIVE           joy      1  \n",
              "1        78.0  NEGATIVE           joy      1  \n",
              "2        61.0  POSITIVE           joy      1  \n",
              "3        47.0  POSITIVE       sadness      1  \n",
              "4        80.0  NEGATIVE           joy      1  "
            ],
            "text/html": [
              "\n",
              "  <div id=\"df-f570c84a-b5ba-4fc4-a157-28b5ceefc42c\" class=\"colab-df-container\">\n",
              "    <div>\n",
              "<style scoped>\n",
              "    .dataframe tbody tr th:only-of-type {\n",
              "        vertical-align: middle;\n",
              "    }\n",
              "\n",
              "    .dataframe tbody tr th {\n",
              "        vertical-align: top;\n",
              "    }\n",
              "\n",
              "    .dataframe thead th {\n",
              "        text-align: right;\n",
              "    }\n",
              "</style>\n",
              "<table border=\"1\" class=\"dataframe\">\n",
              "  <thead>\n",
              "    <tr style=\"text-align: right;\">\n",
              "      <th></th>\n",
              "      <th>lyrics</th>\n",
              "      <th>title</th>\n",
              "      <th>artist</th>\n",
              "      <th>TrackID</th>\n",
              "      <th>danceability</th>\n",
              "      <th>energy</th>\n",
              "      <th>loudness</th>\n",
              "      <th>speechiness</th>\n",
              "      <th>acousticness</th>\n",
              "      <th>instrumentalness</th>\n",
              "      <th>liveness</th>\n",
              "      <th>valence</th>\n",
              "      <th>tempo</th>\n",
              "      <th>key</th>\n",
              "      <th>mode</th>\n",
              "      <th>duration_ms</th>\n",
              "      <th>Popularity</th>\n",
              "      <th>label</th>\n",
              "      <th>emotion_label</th>\n",
              "      <th>Hit_3</th>\n",
              "    </tr>\n",
              "  </thead>\n",
              "  <tbody>\n",
              "    <tr>\n",
              "      <th>0</th>\n",
              "      <td>look into my eyes  you will seewhat you mean t...</td>\n",
              "      <td>(Everything I Do) I Do It For You</td>\n",
              "      <td>Bryan Adams</td>\n",
              "      <td>1Eb90nmqTrxylKFhcUzW8P</td>\n",
              "      <td>0.533</td>\n",
              "      <td>0.360</td>\n",
              "      <td>-12.633</td>\n",
              "      <td>0.0282</td>\n",
              "      <td>0.0805</td>\n",
              "      <td>0.000010</td>\n",
              "      <td>0.0631</td>\n",
              "      <td>0.299</td>\n",
              "      <td>131.229</td>\n",
              "      <td>1</td>\n",
              "      <td>1</td>\n",
              "      <td>393640</td>\n",
              "      <td>77.0</td>\n",
              "      <td>POSITIVE</td>\n",
              "      <td>joy</td>\n",
              "      <td>1</td>\n",
              "    </tr>\n",
              "    <tr>\n",
              "      <th>1</th>\n",
              "      <td>i can't get no satisfactioni can't get no sati...</td>\n",
              "      <td>(I Can't Get No) Satisfaction</td>\n",
              "      <td>Rolling Stones</td>\n",
              "      <td>2PzU4IB8Dr6mxV3lHuaG34</td>\n",
              "      <td>0.723</td>\n",
              "      <td>0.863</td>\n",
              "      <td>-7.890</td>\n",
              "      <td>0.0338</td>\n",
              "      <td>0.0383</td>\n",
              "      <td>0.031700</td>\n",
              "      <td>0.1280</td>\n",
              "      <td>0.931</td>\n",
              "      <td>136.302</td>\n",
              "      <td>2</td>\n",
              "      <td>1</td>\n",
              "      <td>222813</td>\n",
              "      <td>78.0</td>\n",
              "      <td>NEGATIVE</td>\n",
              "      <td>joy</td>\n",
              "      <td>1</td>\n",
              "    </tr>\n",
              "    <tr>\n",
              "      <th>2</th>\n",
              "      <td>our life together is so precious togetherwe ha...</td>\n",
              "      <td>(Just Like) Starting Over</td>\n",
              "      <td>John Lennon</td>\n",
              "      <td>5y0YreEOnQiKFAnCrcFIXz</td>\n",
              "      <td>0.701</td>\n",
              "      <td>0.790</td>\n",
              "      <td>-6.160</td>\n",
              "      <td>0.0725</td>\n",
              "      <td>0.3010</td>\n",
              "      <td>0.000061</td>\n",
              "      <td>0.1790</td>\n",
              "      <td>0.421</td>\n",
              "      <td>99.104</td>\n",
              "      <td>9</td>\n",
              "      <td>1</td>\n",
              "      <td>236547</td>\n",
              "      <td>61.0</td>\n",
              "      <td>POSITIVE</td>\n",
              "      <td>joy</td>\n",
              "      <td>1</td>\n",
              "    </tr>\n",
              "    <tr>\n",
              "      <th>3</th>\n",
              "      <td>love is higher than a mountain love is thicker...</td>\n",
              "      <td>(Love Is) Thicker Than Water</td>\n",
              "      <td>Andy Gibb</td>\n",
              "      <td>3jdBf1cJ2QmTzNUixplppA</td>\n",
              "      <td>0.582</td>\n",
              "      <td>0.462</td>\n",
              "      <td>-9.882</td>\n",
              "      <td>0.0254</td>\n",
              "      <td>0.1370</td>\n",
              "      <td>0.000050</td>\n",
              "      <td>0.0755</td>\n",
              "      <td>0.528</td>\n",
              "      <td>96.361</td>\n",
              "      <td>6</td>\n",
              "      <td>0</td>\n",
              "      <td>255960</td>\n",
              "      <td>47.0</td>\n",
              "      <td>POSITIVE</td>\n",
              "      <td>sadness</td>\n",
              "      <td>1</td>\n",
              "    </tr>\n",
              "    <tr>\n",
              "      <th>4</th>\n",
              "      <td>sittin' in the morning suni'll be sittin' when...</td>\n",
              "      <td>(Sittin' On) The Dock Of The Bay</td>\n",
              "      <td>Otis Redding</td>\n",
              "      <td>3zBhihYUHBmGd2bcQIobrF</td>\n",
              "      <td>0.769</td>\n",
              "      <td>0.367</td>\n",
              "      <td>-11.226</td>\n",
              "      <td>0.0312</td>\n",
              "      <td>0.6840</td>\n",
              "      <td>0.000016</td>\n",
              "      <td>0.0810</td>\n",
              "      <td>0.535</td>\n",
              "      <td>103.621</td>\n",
              "      <td>2</td>\n",
              "      <td>1</td>\n",
              "      <td>163756</td>\n",
              "      <td>80.0</td>\n",
              "      <td>NEGATIVE</td>\n",
              "      <td>joy</td>\n",
              "      <td>1</td>\n",
              "    </tr>\n",
              "  </tbody>\n",
              "</table>\n",
              "</div>\n",
              "    <div class=\"colab-df-buttons\">\n",
              "\n",
              "  <div class=\"colab-df-container\">\n",
              "    <button class=\"colab-df-convert\" onclick=\"convertToInteractive('df-f570c84a-b5ba-4fc4-a157-28b5ceefc42c')\"\n",
              "            title=\"Convert this dataframe to an interactive table.\"\n",
              "            style=\"display:none;\">\n",
              "\n",
              "  <svg xmlns=\"http://www.w3.org/2000/svg\" height=\"24px\" viewBox=\"0 -960 960 960\">\n",
              "    <path d=\"M120-120v-720h720v720H120Zm60-500h600v-160H180v160Zm220 220h160v-160H400v160Zm0 220h160v-160H400v160ZM180-400h160v-160H180v160Zm440 0h160v-160H620v160ZM180-180h160v-160H180v160Zm440 0h160v-160H620v160Z\"/>\n",
              "  </svg>\n",
              "    </button>\n",
              "\n",
              "  <style>\n",
              "    .colab-df-container {\n",
              "      display:flex;\n",
              "      gap: 12px;\n",
              "    }\n",
              "\n",
              "    .colab-df-convert {\n",
              "      background-color: #E8F0FE;\n",
              "      border: none;\n",
              "      border-radius: 50%;\n",
              "      cursor: pointer;\n",
              "      display: none;\n",
              "      fill: #1967D2;\n",
              "      height: 32px;\n",
              "      padding: 0 0 0 0;\n",
              "      width: 32px;\n",
              "    }\n",
              "\n",
              "    .colab-df-convert:hover {\n",
              "      background-color: #E2EBFA;\n",
              "      box-shadow: 0px 1px 2px rgba(60, 64, 67, 0.3), 0px 1px 3px 1px rgba(60, 64, 67, 0.15);\n",
              "      fill: #174EA6;\n",
              "    }\n",
              "\n",
              "    .colab-df-buttons div {\n",
              "      margin-bottom: 4px;\n",
              "    }\n",
              "\n",
              "    [theme=dark] .colab-df-convert {\n",
              "      background-color: #3B4455;\n",
              "      fill: #D2E3FC;\n",
              "    }\n",
              "\n",
              "    [theme=dark] .colab-df-convert:hover {\n",
              "      background-color: #434B5C;\n",
              "      box-shadow: 0px 1px 3px 1px rgba(0, 0, 0, 0.15);\n",
              "      filter: drop-shadow(0px 1px 2px rgba(0, 0, 0, 0.3));\n",
              "      fill: #FFFFFF;\n",
              "    }\n",
              "  </style>\n",
              "\n",
              "    <script>\n",
              "      const buttonEl =\n",
              "        document.querySelector('#df-f570c84a-b5ba-4fc4-a157-28b5ceefc42c button.colab-df-convert');\n",
              "      buttonEl.style.display =\n",
              "        google.colab.kernel.accessAllowed ? 'block' : 'none';\n",
              "\n",
              "      async function convertToInteractive(key) {\n",
              "        const element = document.querySelector('#df-f570c84a-b5ba-4fc4-a157-28b5ceefc42c');\n",
              "        const dataTable =\n",
              "          await google.colab.kernel.invokeFunction('convertToInteractive',\n",
              "                                                    [key], {});\n",
              "        if (!dataTable) return;\n",
              "\n",
              "        const docLinkHtml = 'Like what you see? Visit the ' +\n",
              "          '<a target=\"_blank\" href=https://colab.research.google.com/notebooks/data_table.ipynb>data table notebook</a>'\n",
              "          + ' to learn more about interactive tables.';\n",
              "        element.innerHTML = '';\n",
              "        dataTable['output_type'] = 'display_data';\n",
              "        await google.colab.output.renderOutput(dataTable, element);\n",
              "        const docLink = document.createElement('div');\n",
              "        docLink.innerHTML = docLinkHtml;\n",
              "        element.appendChild(docLink);\n",
              "      }\n",
              "    </script>\n",
              "  </div>\n",
              "\n",
              "\n",
              "<div id=\"df-41e1dfbf-4477-415c-b502-f0640a34724c\">\n",
              "  <button class=\"colab-df-quickchart\" onclick=\"quickchart('df-41e1dfbf-4477-415c-b502-f0640a34724c')\"\n",
              "            title=\"Suggest charts.\"\n",
              "            style=\"display:none;\">\n",
              "\n",
              "<svg xmlns=\"http://www.w3.org/2000/svg\" height=\"24px\"viewBox=\"0 0 24 24\"\n",
              "     width=\"24px\">\n",
              "    <g>\n",
              "        <path d=\"M19 3H5c-1.1 0-2 .9-2 2v14c0 1.1.9 2 2 2h14c1.1 0 2-.9 2-2V5c0-1.1-.9-2-2-2zM9 17H7v-7h2v7zm4 0h-2V7h2v10zm4 0h-2v-4h2v4z\"/>\n",
              "    </g>\n",
              "</svg>\n",
              "  </button>\n",
              "\n",
              "<style>\n",
              "  .colab-df-quickchart {\n",
              "      --bg-color: #E8F0FE;\n",
              "      --fill-color: #1967D2;\n",
              "      --hover-bg-color: #E2EBFA;\n",
              "      --hover-fill-color: #174EA6;\n",
              "      --disabled-fill-color: #AAA;\n",
              "      --disabled-bg-color: #DDD;\n",
              "  }\n",
              "\n",
              "  [theme=dark] .colab-df-quickchart {\n",
              "      --bg-color: #3B4455;\n",
              "      --fill-color: #D2E3FC;\n",
              "      --hover-bg-color: #434B5C;\n",
              "      --hover-fill-color: #FFFFFF;\n",
              "      --disabled-bg-color: #3B4455;\n",
              "      --disabled-fill-color: #666;\n",
              "  }\n",
              "\n",
              "  .colab-df-quickchart {\n",
              "    background-color: var(--bg-color);\n",
              "    border: none;\n",
              "    border-radius: 50%;\n",
              "    cursor: pointer;\n",
              "    display: none;\n",
              "    fill: var(--fill-color);\n",
              "    height: 32px;\n",
              "    padding: 0;\n",
              "    width: 32px;\n",
              "  }\n",
              "\n",
              "  .colab-df-quickchart:hover {\n",
              "    background-color: var(--hover-bg-color);\n",
              "    box-shadow: 0 1px 2px rgba(60, 64, 67, 0.3), 0 1px 3px 1px rgba(60, 64, 67, 0.15);\n",
              "    fill: var(--button-hover-fill-color);\n",
              "  }\n",
              "\n",
              "  .colab-df-quickchart-complete:disabled,\n",
              "  .colab-df-quickchart-complete:disabled:hover {\n",
              "    background-color: var(--disabled-bg-color);\n",
              "    fill: var(--disabled-fill-color);\n",
              "    box-shadow: none;\n",
              "  }\n",
              "\n",
              "  .colab-df-spinner {\n",
              "    border: 2px solid var(--fill-color);\n",
              "    border-color: transparent;\n",
              "    border-bottom-color: var(--fill-color);\n",
              "    animation:\n",
              "      spin 1s steps(1) infinite;\n",
              "  }\n",
              "\n",
              "  @keyframes spin {\n",
              "    0% {\n",
              "      border-color: transparent;\n",
              "      border-bottom-color: var(--fill-color);\n",
              "      border-left-color: var(--fill-color);\n",
              "    }\n",
              "    20% {\n",
              "      border-color: transparent;\n",
              "      border-left-color: var(--fill-color);\n",
              "      border-top-color: var(--fill-color);\n",
              "    }\n",
              "    30% {\n",
              "      border-color: transparent;\n",
              "      border-left-color: var(--fill-color);\n",
              "      border-top-color: var(--fill-color);\n",
              "      border-right-color: var(--fill-color);\n",
              "    }\n",
              "    40% {\n",
              "      border-color: transparent;\n",
              "      border-right-color: var(--fill-color);\n",
              "      border-top-color: var(--fill-color);\n",
              "    }\n",
              "    60% {\n",
              "      border-color: transparent;\n",
              "      border-right-color: var(--fill-color);\n",
              "    }\n",
              "    80% {\n",
              "      border-color: transparent;\n",
              "      border-right-color: var(--fill-color);\n",
              "      border-bottom-color: var(--fill-color);\n",
              "    }\n",
              "    90% {\n",
              "      border-color: transparent;\n",
              "      border-bottom-color: var(--fill-color);\n",
              "    }\n",
              "  }\n",
              "</style>\n",
              "\n",
              "  <script>\n",
              "    async function quickchart(key) {\n",
              "      const quickchartButtonEl =\n",
              "        document.querySelector('#' + key + ' button');\n",
              "      quickchartButtonEl.disabled = true;  // To prevent multiple clicks.\n",
              "      quickchartButtonEl.classList.add('colab-df-spinner');\n",
              "      try {\n",
              "        const charts = await google.colab.kernel.invokeFunction(\n",
              "            'suggestCharts', [key], {});\n",
              "      } catch (error) {\n",
              "        console.error('Error during call to suggestCharts:', error);\n",
              "      }\n",
              "      quickchartButtonEl.classList.remove('colab-df-spinner');\n",
              "      quickchartButtonEl.classList.add('colab-df-quickchart-complete');\n",
              "    }\n",
              "    (() => {\n",
              "      let quickchartButtonEl =\n",
              "        document.querySelector('#df-41e1dfbf-4477-415c-b502-f0640a34724c button');\n",
              "      quickchartButtonEl.style.display =\n",
              "        google.colab.kernel.accessAllowed ? 'block' : 'none';\n",
              "    })();\n",
              "  </script>\n",
              "</div>\n",
              "    </div>\n",
              "  </div>\n"
            ]
          },
          "metadata": {},
          "execution_count": 50
        }
      ]
    },
    {
      "cell_type": "code",
      "source": [
        "Counter(df.label)"
      ],
      "metadata": {
        "colab": {
          "base_uri": "https://localhost:8080/"
        },
        "id": "qymkHSMKx8pH",
        "outputId": "9f4ad8c1-9103-4146-ff91-6ee4a25a70cb"
      },
      "execution_count": 51,
      "outputs": [
        {
          "output_type": "execute_result",
          "data": {
            "text/plain": [
              "Counter({'POSITIVE': 2719, 'NEGATIVE': 945})"
            ]
          },
          "metadata": {},
          "execution_count": 51
        }
      ]
    },
    {
      "cell_type": "code",
      "source": [
        "Counter(df.emotion_label)"
      ],
      "metadata": {
        "colab": {
          "base_uri": "https://localhost:8080/"
        },
        "id": "2n3ruJJjyGFv",
        "outputId": "2dfb9b4e-9ee5-4bb2-b924-ee63e70c2ad5"
      },
      "execution_count": 52,
      "outputs": [
        {
          "output_type": "execute_result",
          "data": {
            "text/plain": [
              "Counter({' joy': 1762,\n",
              "         ' sadness': 928,\n",
              "         ' fear': 252,\n",
              "         ' love': 280,\n",
              "         ' anger': 409,\n",
              "         ' surprise': 33})"
            ]
          },
          "metadata": {},
          "execution_count": 52
        }
      ]
    },
    {
      "cell_type": "code",
      "source": [
        "#df.emotion_label = df.emotion_label.replace({' sadness': 0, ' joy': 1, ' love': 2, ' anger': 3, ' fear': 4, ' surprise': 5})"
      ],
      "metadata": {
        "id": "UJAL2Ft4yKvV"
      },
      "execution_count": 53,
      "outputs": []
    },
    {
      "cell_type": "code",
      "source": [
        "df = df.drop(['title','artist','TrackID'],axis=1)"
      ],
      "metadata": {
        "id": "FUyhBdNnyUkD"
      },
      "execution_count": 54,
      "outputs": []
    },
    {
      "cell_type": "code",
      "source": [
        "df.columns"
      ],
      "metadata": {
        "colab": {
          "base_uri": "https://localhost:8080/"
        },
        "id": "VB7b0BjFydEJ",
        "outputId": "1188343a-ff79-4c48-9717-b1b171749811"
      },
      "execution_count": 55,
      "outputs": [
        {
          "output_type": "execute_result",
          "data": {
            "text/plain": [
              "Index(['lyrics', 'danceability', 'energy', 'loudness', 'speechiness',\n",
              "       'acousticness', 'instrumentalness', 'liveness', 'valence', 'tempo',\n",
              "       'key', 'mode', 'duration_ms', 'Popularity', 'label', 'emotion_label',\n",
              "       'Hit_3'],\n",
              "      dtype='object')"
            ]
          },
          "metadata": {},
          "execution_count": 55
        }
      ]
    },
    {
      "cell_type": "code",
      "source": [
        "df['label'] = df['label'].astype(\"category\")"
      ],
      "metadata": {
        "id": "oY72rWzT0E5x"
      },
      "execution_count": 56,
      "outputs": []
    },
    {
      "cell_type": "code",
      "source": [
        "df['emotion_label'] = df['emotion_label'].astype(\"category\")"
      ],
      "metadata": {
        "id": "aQ3k8wqV0Xlc"
      },
      "execution_count": 57,
      "outputs": []
    },
    {
      "cell_type": "code",
      "source": [
        "df.info()"
      ],
      "metadata": {
        "colab": {
          "base_uri": "https://localhost:8080/"
        },
        "id": "p70JfndW0T5S",
        "outputId": "e3a4614c-35b3-4e23-9e4b-994e66e7636a"
      },
      "execution_count": 58,
      "outputs": [
        {
          "output_type": "stream",
          "name": "stdout",
          "text": [
            "<class 'pandas.core.frame.DataFrame'>\n",
            "RangeIndex: 3664 entries, 0 to 3663\n",
            "Data columns (total 17 columns):\n",
            " #   Column            Non-Null Count  Dtype   \n",
            "---  ------            --------------  -----   \n",
            " 0   lyrics            3664 non-null   object  \n",
            " 1   danceability      3664 non-null   float64 \n",
            " 2   energy            3664 non-null   float64 \n",
            " 3   loudness          3664 non-null   float64 \n",
            " 4   speechiness       3664 non-null   float64 \n",
            " 5   acousticness      3664 non-null   float64 \n",
            " 6   instrumentalness  3664 non-null   float64 \n",
            " 7   liveness          3664 non-null   float64 \n",
            " 8   valence           3664 non-null   float64 \n",
            " 9   tempo             3664 non-null   float64 \n",
            " 10  key               3664 non-null   int64   \n",
            " 11  mode              3664 non-null   int64   \n",
            " 12  duration_ms       3664 non-null   int64   \n",
            " 13  Popularity        3664 non-null   float64 \n",
            " 14  label             3664 non-null   category\n",
            " 15  emotion_label     3664 non-null   category\n",
            " 16  Hit_3             3664 non-null   int64   \n",
            "dtypes: category(2), float64(10), int64(4), object(1)\n",
            "memory usage: 437.0+ KB\n"
          ]
        }
      ]
    },
    {
      "cell_type": "markdown",
      "source": [
        "# Preprocessing the Text data"
      ],
      "metadata": {
        "id": "06alhM-9ynG_"
      }
    },
    {
      "cell_type": "code",
      "source": [
        "import re\n",
        "import nltk\n",
        "nltk.download('punkt')\n",
        "from nltk.corpus import stopwords\n",
        "from nltk.stem import WordNetLemmatizer\n",
        "\n",
        "nltk.download('stopwords')\n",
        "nltk.download('wordnet')\n",
        "\n",
        "def preprocess_text(text):\n",
        "    # Convert text to lowercase\n",
        "    text = text.lower()\n",
        "\n",
        "    # Remove punctuation\n",
        "    text = re.sub(r'[^\\w\\s]', '', text)\n",
        "\n",
        "    # Tokenize the text\n",
        "    tokens = nltk.word_tokenize(text)\n",
        "\n",
        "    # Remove stopwords\n",
        "    stop_words = set(stopwords.words('english'))\n",
        "    tokens = [word for word in tokens if word not in stop_words]\n",
        "\n",
        "    # Lemmatize the tokens\n",
        "    lemmatizer = WordNetLemmatizer()\n",
        "    tokens = [lemmatizer.lemmatize(word) for word in tokens]\n",
        "\n",
        "    # Join the tokens back into a single string\n",
        "    preprocessed_text = ' '.join(tokens)\n",
        "\n",
        "    return preprocessed_text\n"
      ],
      "metadata": {
        "colab": {
          "base_uri": "https://localhost:8080/"
        },
        "id": "gWVEItlHye96",
        "outputId": "6e51e229-aab0-4ba3-a745-b0c058bc37b3"
      },
      "execution_count": 59,
      "outputs": [
        {
          "output_type": "stream",
          "name": "stderr",
          "text": [
            "[nltk_data] Downloading package punkt to /root/nltk_data...\n",
            "[nltk_data]   Package punkt is already up-to-date!\n",
            "[nltk_data] Downloading package stopwords to /root/nltk_data...\n",
            "[nltk_data]   Package stopwords is already up-to-date!\n",
            "[nltk_data] Downloading package wordnet to /root/nltk_data...\n",
            "[nltk_data]   Package wordnet is already up-to-date!\n"
          ]
        }
      ]
    },
    {
      "cell_type": "code",
      "source": [
        "# Assuming you have a 'lyrics' column containing the text data\n",
        "df['lyrics'] = df['lyrics'].apply(preprocess_text)"
      ],
      "metadata": {
        "id": "aong4ZsmytEf"
      },
      "execution_count": 60,
      "outputs": []
    },
    {
      "cell_type": "markdown",
      "source": [
        "# Splitting the data into dependent and independent features"
      ],
      "metadata": {
        "id": "yOzl-bUbyyg5"
      }
    },
    {
      "cell_type": "code",
      "source": [
        "X = df.drop('Hit_3',axis=1)"
      ],
      "metadata": {
        "id": "nPVfiSZDyzHc"
      },
      "execution_count": 61,
      "outputs": []
    },
    {
      "cell_type": "code",
      "source": [
        "X.columns"
      ],
      "metadata": {
        "colab": {
          "base_uri": "https://localhost:8080/"
        },
        "id": "KmjOiwQGy4j0",
        "outputId": "1fcd95b1-19b3-4c6b-c3e3-844e0e07019c"
      },
      "execution_count": 62,
      "outputs": [
        {
          "output_type": "execute_result",
          "data": {
            "text/plain": [
              "Index(['lyrics', 'danceability', 'energy', 'loudness', 'speechiness',\n",
              "       'acousticness', 'instrumentalness', 'liveness', 'valence', 'tempo',\n",
              "       'key', 'mode', 'duration_ms', 'Popularity', 'label', 'emotion_label'],\n",
              "      dtype='object')"
            ]
          },
          "metadata": {},
          "execution_count": 62
        }
      ]
    },
    {
      "cell_type": "code",
      "source": [
        "y = df[\"Hit_3\"]"
      ],
      "metadata": {
        "id": "rTfUH4mdy5jk"
      },
      "execution_count": 63,
      "outputs": []
    },
    {
      "cell_type": "markdown",
      "source": [
        "# TF-IDF Vectorizer for Text Data"
      ],
      "metadata": {
        "id": "H8IhwDh9y9xu"
      }
    },
    {
      "cell_type": "code",
      "source": [
        "tfidf_vectorizer = TfidfVectorizer()\n",
        "X_text = tfidf_vectorizer.fit_transform(X['lyrics'])"
      ],
      "metadata": {
        "id": "C5YEb9u_zBCm"
      },
      "execution_count": 64,
      "outputs": []
    },
    {
      "cell_type": "markdown",
      "source": [
        "# Combine Text- & Numeric Features"
      ],
      "metadata": {
        "id": "nf58moOdzG3U"
      }
    },
    {
      "cell_type": "code",
      "source": [
        "# Combine Text- & Numeric Features\n",
        "X_combined = pd.concat([X.drop('lyrics', axis=1), pd.DataFrame(X_text.toarray())], axis=1)"
      ],
      "metadata": {
        "id": "M65_GyYBzC5K"
      },
      "execution_count": 65,
      "outputs": []
    },
    {
      "cell_type": "markdown",
      "source": [
        "# Training- & Testsplit"
      ],
      "metadata": {
        "id": "o2ww3g8czPqz"
      }
    },
    {
      "cell_type": "code",
      "source": [
        "from sklearn.model_selection import train_test_split"
      ],
      "metadata": {
        "id": "iU1m4wXVzPUb"
      },
      "execution_count": 66,
      "outputs": []
    },
    {
      "cell_type": "code",
      "source": [
        "# Splitting into train and test sets\n",
        "x_train, x_test, y_train, y_test = train_test_split(X_combined, y, test_size=0.20)"
      ],
      "metadata": {
        "id": "YtgENyPFzJhz"
      },
      "execution_count": 67,
      "outputs": []
    },
    {
      "cell_type": "markdown",
      "source": [
        "# Model Selection"
      ],
      "metadata": {
        "id": "s93q4WN6zXeP"
      }
    },
    {
      "cell_type": "code",
      "source": [
        "from xgboost import XGBClassifier"
      ],
      "metadata": {
        "id": "4suptY4GzXFw"
      },
      "execution_count": 68,
      "outputs": []
    },
    {
      "cell_type": "code",
      "source": [
        "classifier = XGBClassifier(enable_categorical=True, tree_method='hist')"
      ],
      "metadata": {
        "id": "ui9KV573zamN"
      },
      "execution_count": 69,
      "outputs": []
    },
    {
      "cell_type": "markdown",
      "source": [
        "# Import Randomized Search Cross Validation"
      ],
      "metadata": {
        "id": "jzttv8jQzdA3"
      }
    },
    {
      "cell_type": "code",
      "source": [
        "from sklearn.model_selection import RandomizedSearchCV"
      ],
      "metadata": {
        "id": "QqwsLLkfzfwo"
      },
      "execution_count": 70,
      "outputs": []
    },
    {
      "cell_type": "markdown",
      "source": [
        "# Parameter Selection"
      ],
      "metadata": {
        "id": "S05xLmZ0ziqT"
      }
    },
    {
      "cell_type": "code",
      "source": [
        "params = {\n",
        "    'learning_rate':[0.05,0.10,0.15,0.20,0.25,0.30],\n",
        "    'max_depth': [3,4,5,6,8,10,12,15],\n",
        "    'min_child_weight':[1,3,5,7],\n",
        "    'gamma':[0.0, 0.1, 0.2, 0.3, 0.4],\n",
        "    'colsample_bytree': [0.3, 0.4, 0.5, 0.7]\n",
        "}"
      ],
      "metadata": {
        "id": "EU4kGZndzhKM"
      },
      "execution_count": 71,
      "outputs": []
    },
    {
      "cell_type": "code",
      "source": [
        "random_search = RandomizedSearchCV(classifier, param_distributions=params, n_iter=5, scoring=\"roc_auc\", n_jobs=-1, cv=5, verbose=3)"
      ],
      "metadata": {
        "id": "SVemkKzfzlmM"
      },
      "execution_count": 72,
      "outputs": []
    },
    {
      "cell_type": "code",
      "source": [
        "random_search.fit(x_train, y_train)"
      ],
      "metadata": {
        "id": "kPk__gAQznRy",
        "colab": {
          "base_uri": "https://localhost:8080/"
        },
        "outputId": "3809d1cf-5adb-479e-a49a-b7df62888852"
      },
      "execution_count": null,
      "outputs": [
        {
          "output_type": "stream",
          "name": "stdout",
          "text": [
            "Fitting 5 folds for each of 5 candidates, totalling 25 fits\n"
          ]
        }
      ]
    },
    {
      "cell_type": "code",
      "source": [
        "random_search.best_estimator_"
      ],
      "metadata": {
        "id": "_Y-3j7MozqqK"
      },
      "execution_count": null,
      "outputs": []
    },
    {
      "cell_type": "code",
      "source": [
        "classifier= XGBClassifier(enable_categorical=True, base_score=0.5, booster='gbtree', colsample_bylevel=1,\n",
        "              colsample_bynode=1, colsample_bytree=0.7, gamma=0.2, device='cpu',\n",
        "              importance_type=None, interaction_constraints='',\n",
        "              learning_rate=0.1, max_delta_step=0, max_depth=5,\n",
        "              min_child_weight=1, monotone_constraints='()',\n",
        "              n_estimators=100, n_jobs=8, num_parallel_tree=1, #predictor='auto',\n",
        "              random_state=0, reg_alpha=0, reg_lambda=1, scale_pos_weight=1,\n",
        "              subsample=1, tree_method='hist', validate_parameters=1,\n",
        "              verbosity=None)"
      ],
      "metadata": {
        "id": "8Xi0cLaf75Ux"
      },
      "execution_count": null,
      "outputs": []
    },
    {
      "cell_type": "code",
      "source": [
        "from sklearn.model_selection import cross_val_score\n",
        "from sklearn.metrics import accuracy_score,precision_score,recall_score,confusion_matrix,classification_report"
      ],
      "metadata": {
        "id": "pCogL44H76ie"
      },
      "execution_count": null,
      "outputs": []
    },
    {
      "cell_type": "code",
      "source": [
        "cross = cross_val_score(classifier, x_train, y_train, cv=10, verbose=0)"
      ],
      "metadata": {
        "id": "jq3QCHLU78Jn"
      },
      "execution_count": null,
      "outputs": []
    },
    {
      "cell_type": "code",
      "source": [
        "print(\"Accuracy after cross validation is: {}\".format(cross.mean()*100))"
      ],
      "metadata": {
        "id": "GxzYN0aL8GS5"
      },
      "execution_count": null,
      "outputs": []
    },
    {
      "cell_type": "markdown",
      "source": [
        "# Prediction"
      ],
      "metadata": {
        "id": "4z4nC6PtDg8l"
      }
    },
    {
      "cell_type": "code",
      "source": [
        "classifier.fit(x_train,y_train)"
      ],
      "metadata": {
        "id": "YYwjFUz__iZm"
      },
      "execution_count": null,
      "outputs": []
    },
    {
      "cell_type": "code",
      "source": [
        "y_pred = classifier.predict(x_test)"
      ],
      "metadata": {
        "id": "aDOIcKmIDjPz"
      },
      "execution_count": null,
      "outputs": []
    },
    {
      "cell_type": "code",
      "source": [
        "print(classification_report(y_test,y_pred))"
      ],
      "metadata": {
        "id": "O4BEAAZSD3A8"
      },
      "execution_count": null,
      "outputs": []
    },
    {
      "cell_type": "code",
      "source": [
        "cm = confusion_matrix(y_test,y_pred)\n",
        "sns.heatmap(cm,annot=True,fmt=\"g\")\n",
        "plt.xlabel('Predicted')\n",
        "plt.ylabel('Actual')"
      ],
      "metadata": {
        "id": "KKANAf0ND5eq"
      },
      "execution_count": null,
      "outputs": []
    },
    {
      "cell_type": "markdown",
      "source": [
        "# Visualise classification report"
      ],
      "metadata": {
        "id": "yeRDVWIEVJoS"
      }
    },
    {
      "cell_type": "code",
      "source": [
        "import matplotlib.pyplot as plt\n",
        "from sklearn.metrics import classification_report\n",
        "\n",
        "def plot_classification_report(report):\n",
        "    report_data = []\n",
        "    lines = report.split('\\n')\n",
        "\n",
        "    # Extract class names and metrics\n",
        "    class_names = []\n",
        "    precision = []\n",
        "    recall = []\n",
        "    f1_score = []\n",
        "    #support = []\n",
        "\n",
        "    for line in lines[2:4]:\n",
        "        row = line.split()\n",
        "        class_names.append(row[0])\n",
        "        precision.append(float(row[1]))\n",
        "        recall.append(float(row[2]))\n",
        "        f1_score.append(float(row[3]))\n",
        "        #support.append(int(row[4]))\n",
        "\n",
        "    # Create a bar chart\n",
        "    width = 0.2\n",
        "    x = range(len(class_names))\n",
        "\n",
        "    fig, ax = plt.subplots(figsize=(10, 6))\n",
        "    ax.bar(x, precision, width, label='Precision')\n",
        "    ax.bar([i + width for i in x], recall, width, label='Recall')\n",
        "    ax.bar([i + 2 * width for i in x], f1_score, width, label='F1-Score')\n",
        "    #ax.bar([i + 3 * width for i in x], support, width, label='Support')\n",
        "\n",
        "    ax.set_xlabel('Classes')\n",
        "    ax.set_ylabel('Metrics')\n",
        "    ax.set_title('Classification Metrics')\n",
        "    ax.set_xticks([i + 1.5 * width for i in x])\n",
        "    ax.set_xticklabels(class_names)\n",
        "    ax.legend()\n",
        "\n",
        "    plt.grid(True)\n",
        "    plt.tight_layout()\n",
        "    plt.show()\n",
        "\n",
        "# Classification report as a string (replace with your actual report)\n",
        "report = \"\"\"              precision    recall  f1-score   support\n",
        "\n",
        "           0       0.56      0.51      0.53       184\n",
        "           1       0.53      0.58      0.55       177\n",
        "\n",
        "    accuracy                           0.54       361\n",
        "   macro avg       0.54      0.54      0.54       361\n",
        "weighted avg       0.54      0.54      0.54       361\"\"\"\n",
        "\n",
        "# Call the function to plot the classification report\n",
        "plot_classification_report(report)\n"
      ],
      "metadata": {
        "id": "XbqSJ8-SVJNe"
      },
      "execution_count": null,
      "outputs": []
    },
    {
      "cell_type": "markdown",
      "source": [
        "# Feature Importance"
      ],
      "metadata": {
        "id": "p5tO_5sOEIQ2"
      }
    },
    {
      "cell_type": "code",
      "source": [
        "import xgboost as xgb\n",
        "import matplotlib.pyplot as plt\n",
        "\n",
        "# Plot feature importance\n",
        "xgb.plot_importance(classifier, max_num_features=20)  # Set max_num_features to 5\n",
        "plt.rcParams['figure.figsize'] = [6, 4]  # Adjust the figure size if needed\n",
        "plt.show()\n"
      ],
      "metadata": {
        "id": "YQUHDMIED_Kf"
      },
      "execution_count": null,
      "outputs": []
    },
    {
      "cell_type": "markdown",
      "source": [
        "# Test with another device"
      ],
      "metadata": {
        "id": "9KIxMLiPE07G"
      }
    },
    {
      "cell_type": "code",
      "source": [
        "classifier = XGBClassifier(enable_categorical=True, tree_method='hist', device = \"cuda\")"
      ],
      "metadata": {
        "id": "Drj_Tsk8E_0H"
      },
      "execution_count": null,
      "outputs": []
    },
    {
      "cell_type": "code",
      "source": [
        "random_search = RandomizedSearchCV(classifier, param_distributions=params, n_iter=5, scoring=\"roc_auc\", n_jobs=-1, cv=5, verbose=3)"
      ],
      "metadata": {
        "id": "SkAJH04zFaRD"
      },
      "execution_count": null,
      "outputs": []
    },
    {
      "cell_type": "code",
      "source": [
        "random_search.fit(x_train, y_train)"
      ],
      "metadata": {
        "id": "chYRHlDdFfSf"
      },
      "execution_count": null,
      "outputs": []
    },
    {
      "cell_type": "code",
      "source": [
        "random_search.best_estimator_"
      ],
      "metadata": {
        "id": "FA0RdYSTFfyO"
      },
      "execution_count": null,
      "outputs": []
    },
    {
      "cell_type": "code",
      "source": [
        "classifier= XGBClassifier(enable_categorical=True, base_score=0.5, booster='gbtree', colsample_bylevel=1,\n",
        "              colsample_bynode=1, colsample_bytree=0.7, gamma=0.2,\n",
        "              importance_type=None, interaction_constraints='',\n",
        "              learning_rate=0.1, max_delta_step=0, max_depth=5,\n",
        "              min_child_weight=1, monotone_constraints='()',\n",
        "              n_estimators=100, n_jobs=8, num_parallel_tree=1, #predictor='auto',\n",
        "              random_state=0, reg_alpha=0, reg_lambda=1, scale_pos_weight=1,\n",
        "              subsample=1, tree_method='hist', device = \"cuda\", validate_parameters=1,\n",
        "              verbosity=None)"
      ],
      "metadata": {
        "id": "4mIUmyijKxlR"
      },
      "execution_count": null,
      "outputs": []
    },
    {
      "cell_type": "code",
      "source": [
        "from sklearn.model_selection import cross_val_score\n",
        "from sklearn.metrics import accuracy_score,precision_score,recall_score,confusion_matrix,classification_report"
      ],
      "metadata": {
        "id": "ns42BH8FK4dY"
      },
      "execution_count": null,
      "outputs": []
    },
    {
      "cell_type": "code",
      "source": [
        "cross = cross_val_score(classifier, x_train, y_train, cv=10, verbose=0)"
      ],
      "metadata": {
        "id": "BwwRXSXgK7J_"
      },
      "execution_count": null,
      "outputs": []
    },
    {
      "cell_type": "code",
      "source": [
        "print(\"Accuracy after cross validation is: {}\".format(cross.mean()*100))"
      ],
      "metadata": {
        "id": "jnawSJnvK-fX"
      },
      "execution_count": null,
      "outputs": []
    },
    {
      "cell_type": "markdown",
      "source": [
        "# Prediction"
      ],
      "metadata": {
        "id": "MFOsovzzM5R1"
      }
    },
    {
      "cell_type": "code",
      "source": [
        "classifier.fit(x_train,y_train)"
      ],
      "metadata": {
        "id": "jryrfax0M6Kb"
      },
      "execution_count": null,
      "outputs": []
    },
    {
      "cell_type": "code",
      "source": [
        "y_pred = classifier.predict(x_test)"
      ],
      "metadata": {
        "id": "qlCXZKdKM8rr"
      },
      "execution_count": null,
      "outputs": []
    },
    {
      "cell_type": "code",
      "source": [
        "print(classification_report(y_test,y_pred))"
      ],
      "metadata": {
        "id": "frVbg80pM_We"
      },
      "execution_count": null,
      "outputs": []
    },
    {
      "cell_type": "code",
      "source": [
        "cm = confusion_matrix(y_test,y_pred)\n",
        "sns.heatmap(cm,annot=True,fmt=\"g\")\n",
        "plt.xlabel('Predicted')\n",
        "plt.ylabel('Actual')"
      ],
      "metadata": {
        "id": "rK2FDDpqNBH_"
      },
      "execution_count": null,
      "outputs": []
    },
    {
      "cell_type": "markdown",
      "source": [
        "# Visualise classification report"
      ],
      "metadata": {
        "id": "JYAEb10AxMzI"
      }
    },
    {
      "cell_type": "code",
      "source": [
        "import matplotlib.pyplot as plt\n",
        "from sklearn.metrics import classification_report\n",
        "\n",
        "def plot_classification_report(report):\n",
        "    report_data = []\n",
        "    lines = report.split('\\n')\n",
        "\n",
        "    # Extract class names and metrics\n",
        "    class_names = []\n",
        "    precision = []\n",
        "    recall = []\n",
        "    f1_score = []\n",
        "    #support = []\n",
        "\n",
        "    for line in lines[2:4]:\n",
        "        row = line.split()\n",
        "        class_names.append(row[0])\n",
        "        precision.append(float(row[1]))\n",
        "        recall.append(float(row[2]))\n",
        "        f1_score.append(float(row[3]))\n",
        "        #support.append(int(row[4]))\n",
        "\n",
        "    # Create a bar chart\n",
        "    width = 0.2\n",
        "    x = range(len(class_names))\n",
        "\n",
        "    fig, ax = plt.subplots(figsize=(10, 6))\n",
        "    ax.bar(x, precision, width, label='Precision')\n",
        "    ax.bar([i + width for i in x], recall, width, label='Recall')\n",
        "    ax.bar([i + 2 * width for i in x], f1_score, width, label='F1-Score')\n",
        "    #ax.bar([i + 3 * width for i in x], support, width, label='Support')\n",
        "\n",
        "    ax.set_xlabel('Classes')\n",
        "    ax.set_ylabel('Metrics')\n",
        "    ax.set_title('Classification Metrics')\n",
        "    ax.set_xticks([i + 1.5 * width for i in x])\n",
        "    ax.set_xticklabels(class_names)\n",
        "    ax.legend()\n",
        "\n",
        "    plt.grid(True)\n",
        "    plt.tight_layout()\n",
        "    plt.show()\n",
        "\n",
        "# Classification report as a string (replace with your actual report)\n",
        "report = \"\"\"precision    recall  f1-score   support\n",
        "\n",
        "           0       0.57      0.52      0.55       184\n",
        "           1       0.54      0.59      0.57       177\n",
        "\n",
        "    accuracy                           0.56       361\n",
        "   macro avg       0.56      0.56      0.56       361\n",
        "weighted avg       0.56      0.56      0.56       361\n",
        "\"\"\"\n",
        "\n",
        "# Call the function to plot the classification report\n",
        "plot_classification_report(report)\n"
      ],
      "metadata": {
        "id": "jeW87WMKxRfo"
      },
      "execution_count": null,
      "outputs": []
    },
    {
      "cell_type": "markdown",
      "source": [
        "# Feature Importance"
      ],
      "metadata": {
        "id": "fMsVxh3rNEO9"
      }
    },
    {
      "cell_type": "code",
      "source": [
        "import xgboost as xgb\n",
        "import matplotlib.pyplot as plt\n",
        "\n",
        "# Plot feature importance\n",
        "xgb.plot_importance(classifier, max_num_features=20)  # Set max_num_features to 5\n",
        "plt.rcParams['figure.figsize'] = [6, 4]  # Adjust the figure size if needed\n",
        "plt.show()\n"
      ],
      "metadata": {
        "id": "0DffkV3BNFpt"
      },
      "execution_count": null,
      "outputs": []
    }
  ]
}