{
 "cells": [
  {
   "cell_type": "code",
   "execution_count": null,
   "metadata": {
    "colab": {
     "base_uri": "https://localhost:8080/"
    },
    "executionInfo": {
     "elapsed": 4902,
     "status": "ok",
     "timestamp": 1686311043999,
     "user": {
      "displayName": "Timo Günther",
      "userId": "10776521663799464357"
     },
     "user_tz": -120
    },
    "id": "ExFVf5Kb9hgS",
    "outputId": "a9bc20b5-af23-4546-fcbe-a475a95ad8a4"
   },
   "outputs": [
    {
     "name": "stdout",
     "output_type": "stream",
     "text": [
      "There are 1 GPU(s) available.\n",
      "We will use the GPU: Tesla T4\n"
     ]
    }
   ],
   "source": [
    "import torch\n",
    "\n",
    "# If there's a GPU available...\n",
    "if torch.cuda.is_available():\n",
    "\n",
    "    # Tell PyTorch to use the GPU.\n",
    "    device = torch.device(\"cuda\")\n",
    "\n",
    "    print('There are %d GPU(s) available.' % torch.cuda.device_count())\n",
    "\n",
    "    print('We will use the GPU:', torch.cuda.get_device_name(0))\n",
    "\n",
    "# If not...\n",
    "else:\n",
    "    print('No GPU available, using the CPU instead.')\n",
    "    device = torch.device(\"cpu\")"
   ]
  },
  {
   "cell_type": "code",
   "execution_count": null,
   "metadata": {
    "colab": {
     "base_uri": "https://localhost:8080/"
    },
    "executionInfo": {
     "elapsed": 31691,
     "status": "ok",
     "timestamp": 1686311075685,
     "user": {
      "displayName": "Timo Günther",
      "userId": "10776521663799464357"
     },
     "user_tz": -120
    },
    "id": "mWL9x_By-Fmj",
    "outputId": "0c941805-25e0-4bd7-9985-94cb6c317715"
   },
   "outputs": [
    {
     "name": "stdout",
     "output_type": "stream",
     "text": [
      "Mounted at /content/gdrive\n"
     ]
    }
   ],
   "source": [
    "from google.colab import drive\n",
    "drive.mount('/content/gdrive')"
   ]
  },
  {
   "cell_type": "code",
   "execution_count": null,
   "metadata": {
    "colab": {
     "base_uri": "https://localhost:8080/"
    },
    "executionInfo": {
     "elapsed": 11110,
     "status": "ok",
     "timestamp": 1686311213072,
     "user": {
      "displayName": "Timo Günther",
      "userId": "10776521663799464357"
     },
     "user_tz": -120
    },
    "id": "oAzZ7O44-s7Y",
    "outputId": "4d558663-c6e4-443e-88c8-79738670547e"
   },
   "outputs": [
    {
     "name": "stdout",
     "output_type": "stream",
     "text": [
      "Found GPU at: /device:GPU:0\n"
     ]
    }
   ],
   "source": [
    "import tensorflow as tf\n",
    "\n",
    "# Get the GPU device name.\n",
    "device_name = tf.test.gpu_device_name()\n",
    "\n",
    "# The device name should look like the following:\n",
    "if device_name == '/device:GPU:0':\n",
    "    print('Found GPU at: {}'.format(device_name))\n",
    "else:\n",
    "    raise SystemError('GPU device not found')"
   ]
  },
  {
   "cell_type": "markdown",
   "metadata": {
    "id": "tcc9M-9mFUo0"
   },
   "source": [
    "# Important Imports"
   ]
  },
  {
   "cell_type": "code",
   "execution_count": null,
   "metadata": {
    "id": "f_mZG1Jj-v48"
   },
   "outputs": [],
   "source": [
    "from sklearn.feature_extraction.text import TfidfVectorizer\n",
    "import pandas as pd\n",
    "import numpy as np\n",
    "import matplotlib.pyplot as plt\n",
    "import seaborn as sns"
   ]
  },
  {
   "cell_type": "code",
   "execution_count": null,
   "metadata": {
    "id": "JRop__eO-03I"
   },
   "outputs": [],
   "source": [
    "data = pd.read_csv('/content/gdrive/My Drive/Colab Datasets/dataset_ML.csv')"
   ]
  },
  {
   "cell_type": "code",
   "execution_count": null,
   "metadata": {
    "colab": {
     "base_uri": "https://localhost:8080/",
     "height": 664
    },
    "executionInfo": {
     "elapsed": 239,
     "status": "ok",
     "timestamp": 1686311248392,
     "user": {
      "displayName": "Timo Günther",
      "userId": "10776521663799464357"
     },
     "user_tz": -120
    },
    "id": "XQpcpXOw-5dX",
    "outputId": "9d8796d9-aaec-419d-e4aa-89d73ab23d4f"
   },
   "outputs": [
    {
     "data": {
      "text/html": [
       "\n",
       "  <div id=\"df-758b3d6b-9c13-46b7-ba2d-c84f8235656b\">\n",
       "    <div class=\"colab-df-container\">\n",
       "      <div>\n",
       "<style scoped>\n",
       "    .dataframe tbody tr th:only-of-type {\n",
       "        vertical-align: middle;\n",
       "    }\n",
       "\n",
       "    .dataframe tbody tr th {\n",
       "        vertical-align: top;\n",
       "    }\n",
       "\n",
       "    .dataframe thead th {\n",
       "        text-align: right;\n",
       "    }\n",
       "</style>\n",
       "<table border=\"1\" class=\"dataframe\">\n",
       "  <thead>\n",
       "    <tr style=\"text-align: right;\">\n",
       "      <th></th>\n",
       "      <th>lyrics</th>\n",
       "      <th>genre</th>\n",
       "      <th>num_syllables</th>\n",
       "      <th>pos</th>\n",
       "      <th>year</th>\n",
       "      <th>fog_index</th>\n",
       "      <th>flesch_index</th>\n",
       "      <th>num_lines</th>\n",
       "      <th>sentiment</th>\n",
       "      <th>title</th>\n",
       "      <th>...</th>\n",
       "      <th>key</th>\n",
       "      <th>mode</th>\n",
       "      <th>duration_ms</th>\n",
       "      <th>Popularity</th>\n",
       "      <th>values</th>\n",
       "      <th>pred</th>\n",
       "      <th>label</th>\n",
       "      <th>score</th>\n",
       "      <th>emotion_label</th>\n",
       "      <th>Hit</th>\n",
       "    </tr>\n",
       "  </thead>\n",
       "  <tbody>\n",
       "    <tr>\n",
       "      <th>0</th>\n",
       "      <td>look into my eyes  you will seewhat you mean t...</td>\n",
       "      <td>['acoustic rock', 'adult contemporary', 'album...</td>\n",
       "      <td>258.3</td>\n",
       "      <td>1</td>\n",
       "      <td>1991</td>\n",
       "      <td>4.4</td>\n",
       "      <td>107.69</td>\n",
       "      <td>36</td>\n",
       "      <td>{'neg': 0.14100000000000001, 'neu': 0.708, 'po...</td>\n",
       "      <td>(Everything I Do) I Do It For You</td>\n",
       "      <td>...</td>\n",
       "      <td>1</td>\n",
       "      <td>1</td>\n",
       "      <td>393640</td>\n",
       "      <td>77.0</td>\n",
       "      <td>1.000000</td>\n",
       "      <td>1</td>\n",
       "      <td>POSITIVE</td>\n",
       "      <td>0.998717</td>\n",
       "      <td>joy</td>\n",
       "      <td>Yes</td>\n",
       "    </tr>\n",
       "    <tr>\n",
       "      <th>1</th>\n",
       "      <td>i can't get no satisfactioni can't get no sati...</td>\n",
       "      <td>['blues', 'blues rock', 'britannique', 'britis...</td>\n",
       "      <td>296.1</td>\n",
       "      <td>3</td>\n",
       "      <td>1965</td>\n",
       "      <td>4.8</td>\n",
       "      <td>106.67</td>\n",
       "      <td>37</td>\n",
       "      <td>{'neg': 0.126, 'neu': 0.667, 'pos': 0.20800000...</td>\n",
       "      <td>(I Can't Get No) Satisfaction</td>\n",
       "      <td>...</td>\n",
       "      <td>2</td>\n",
       "      <td>1</td>\n",
       "      <td>222813</td>\n",
       "      <td>78.0</td>\n",
       "      <td>0.333333</td>\n",
       "      <td>0</td>\n",
       "      <td>NEGATIVE</td>\n",
       "      <td>0.999485</td>\n",
       "      <td>joy</td>\n",
       "      <td>Yes</td>\n",
       "    </tr>\n",
       "    <tr>\n",
       "      <th>2</th>\n",
       "      <td>our life together is so precious togetherwe ha...</td>\n",
       "      <td>['britannique', 'british', 'classic pop and ro...</td>\n",
       "      <td>288.0</td>\n",
       "      <td>4</td>\n",
       "      <td>1981</td>\n",
       "      <td>4.8</td>\n",
       "      <td>81.29</td>\n",
       "      <td>28</td>\n",
       "      <td>{'neg': 0.068, 'neu': 0.625, 'pos': 0.308, 'co...</td>\n",
       "      <td>(Just Like) Starting Over</td>\n",
       "      <td>...</td>\n",
       "      <td>9</td>\n",
       "      <td>1</td>\n",
       "      <td>236547</td>\n",
       "      <td>61.0</td>\n",
       "      <td>0.250000</td>\n",
       "      <td>1</td>\n",
       "      <td>POSITIVE</td>\n",
       "      <td>0.998593</td>\n",
       "      <td>joy</td>\n",
       "      <td>Yes</td>\n",
       "    </tr>\n",
       "    <tr>\n",
       "      <th>3</th>\n",
       "      <td>love is higher than a mountain love is thicker...</td>\n",
       "      <td>['classic pop and rock', 'death by myocarditis']</td>\n",
       "      <td>224.1</td>\n",
       "      <td>8</td>\n",
       "      <td>1978</td>\n",
       "      <td>4.0</td>\n",
       "      <td>91.78</td>\n",
       "      <td>30</td>\n",
       "      <td>{'neg': 0.062, 'neu': 0.7000000000000001, 'pos...</td>\n",
       "      <td>(Love Is) Thicker Than Water</td>\n",
       "      <td>...</td>\n",
       "      <td>6</td>\n",
       "      <td>0</td>\n",
       "      <td>255960</td>\n",
       "      <td>47.0</td>\n",
       "      <td>0.125000</td>\n",
       "      <td>1</td>\n",
       "      <td>POSITIVE</td>\n",
       "      <td>0.998285</td>\n",
       "      <td>sadness</td>\n",
       "      <td>Yes</td>\n",
       "    </tr>\n",
       "    <tr>\n",
       "      <th>4</th>\n",
       "      <td>sittin' in the morning suni'll be sittin' when...</td>\n",
       "      <td>['american', 'blues', 'death by airplane', 'de...</td>\n",
       "      <td>223.2</td>\n",
       "      <td>4</td>\n",
       "      <td>1968</td>\n",
       "      <td>4.8</td>\n",
       "      <td>98.21</td>\n",
       "      <td>25</td>\n",
       "      <td>{'neg': 0.018000000000000002, 'neu': 0.927, 'p...</td>\n",
       "      <td>(Sittin' On) The Dock Of The Bay</td>\n",
       "      <td>...</td>\n",
       "      <td>2</td>\n",
       "      <td>1</td>\n",
       "      <td>163756</td>\n",
       "      <td>80.0</td>\n",
       "      <td>0.250000</td>\n",
       "      <td>0</td>\n",
       "      <td>NEGATIVE</td>\n",
       "      <td>0.994735</td>\n",
       "      <td>joy</td>\n",
       "      <td>Yes</td>\n",
       "    </tr>\n",
       "  </tbody>\n",
       "</table>\n",
       "<p>5 rows × 45 columns</p>\n",
       "</div>\n",
       "      <button class=\"colab-df-convert\" onclick=\"convertToInteractive('df-758b3d6b-9c13-46b7-ba2d-c84f8235656b')\"\n",
       "              title=\"Convert this dataframe to an interactive table.\"\n",
       "              style=\"display:none;\">\n",
       "        \n",
       "  <svg xmlns=\"http://www.w3.org/2000/svg\" height=\"24px\"viewBox=\"0 0 24 24\"\n",
       "       width=\"24px\">\n",
       "    <path d=\"M0 0h24v24H0V0z\" fill=\"none\"/>\n",
       "    <path d=\"M18.56 5.44l.94 2.06.94-2.06 2.06-.94-2.06-.94-.94-2.06-.94 2.06-2.06.94zm-11 1L8.5 8.5l.94-2.06 2.06-.94-2.06-.94L8.5 2.5l-.94 2.06-2.06.94zm10 10l.94 2.06.94-2.06 2.06-.94-2.06-.94-.94-2.06-.94 2.06-2.06.94z\"/><path d=\"M17.41 7.96l-1.37-1.37c-.4-.4-.92-.59-1.43-.59-.52 0-1.04.2-1.43.59L10.3 9.45l-7.72 7.72c-.78.78-.78 2.05 0 2.83L4 21.41c.39.39.9.59 1.41.59.51 0 1.02-.2 1.41-.59l7.78-7.78 2.81-2.81c.8-.78.8-2.07 0-2.86zM5.41 20L4 18.59l7.72-7.72 1.47 1.35L5.41 20z\"/>\n",
       "  </svg>\n",
       "      </button>\n",
       "      \n",
       "  <style>\n",
       "    .colab-df-container {\n",
       "      display:flex;\n",
       "      flex-wrap:wrap;\n",
       "      gap: 12px;\n",
       "    }\n",
       "\n",
       "    .colab-df-convert {\n",
       "      background-color: #E8F0FE;\n",
       "      border: none;\n",
       "      border-radius: 50%;\n",
       "      cursor: pointer;\n",
       "      display: none;\n",
       "      fill: #1967D2;\n",
       "      height: 32px;\n",
       "      padding: 0 0 0 0;\n",
       "      width: 32px;\n",
       "    }\n",
       "\n",
       "    .colab-df-convert:hover {\n",
       "      background-color: #E2EBFA;\n",
       "      box-shadow: 0px 1px 2px rgba(60, 64, 67, 0.3), 0px 1px 3px 1px rgba(60, 64, 67, 0.15);\n",
       "      fill: #174EA6;\n",
       "    }\n",
       "\n",
       "    [theme=dark] .colab-df-convert {\n",
       "      background-color: #3B4455;\n",
       "      fill: #D2E3FC;\n",
       "    }\n",
       "\n",
       "    [theme=dark] .colab-df-convert:hover {\n",
       "      background-color: #434B5C;\n",
       "      box-shadow: 0px 1px 3px 1px rgba(0, 0, 0, 0.15);\n",
       "      filter: drop-shadow(0px 1px 2px rgba(0, 0, 0, 0.3));\n",
       "      fill: #FFFFFF;\n",
       "    }\n",
       "  </style>\n",
       "\n",
       "      <script>\n",
       "        const buttonEl =\n",
       "          document.querySelector('#df-758b3d6b-9c13-46b7-ba2d-c84f8235656b button.colab-df-convert');\n",
       "        buttonEl.style.display =\n",
       "          google.colab.kernel.accessAllowed ? 'block' : 'none';\n",
       "\n",
       "        async function convertToInteractive(key) {\n",
       "          const element = document.querySelector('#df-758b3d6b-9c13-46b7-ba2d-c84f8235656b');\n",
       "          const dataTable =\n",
       "            await google.colab.kernel.invokeFunction('convertToInteractive',\n",
       "                                                     [key], {});\n",
       "          if (!dataTable) return;\n",
       "\n",
       "          const docLinkHtml = 'Like what you see? Visit the ' +\n",
       "            '<a target=\"_blank\" href=https://colab.research.google.com/notebooks/data_table.ipynb>data table notebook</a>'\n",
       "            + ' to learn more about interactive tables.';\n",
       "          element.innerHTML = '';\n",
       "          dataTable['output_type'] = 'display_data';\n",
       "          await google.colab.output.renderOutput(dataTable, element);\n",
       "          const docLink = document.createElement('div');\n",
       "          docLink.innerHTML = docLinkHtml;\n",
       "          element.appendChild(docLink);\n",
       "        }\n",
       "      </script>\n",
       "    </div>\n",
       "  </div>\n",
       "  "
      ],
      "text/plain": [
       "                                              lyrics  \\\n",
       "0  look into my eyes  you will seewhat you mean t...   \n",
       "1  i can't get no satisfactioni can't get no sati...   \n",
       "2  our life together is so precious togetherwe ha...   \n",
       "3  love is higher than a mountain love is thicker...   \n",
       "4  sittin' in the morning suni'll be sittin' when...   \n",
       "\n",
       "                                               genre  num_syllables  pos  \\\n",
       "0  ['acoustic rock', 'adult contemporary', 'album...          258.3    1   \n",
       "1  ['blues', 'blues rock', 'britannique', 'britis...          296.1    3   \n",
       "2  ['britannique', 'british', 'classic pop and ro...          288.0    4   \n",
       "3   ['classic pop and rock', 'death by myocarditis']          224.1    8   \n",
       "4  ['american', 'blues', 'death by airplane', 'de...          223.2    4   \n",
       "\n",
       "   year  fog_index  flesch_index  num_lines  \\\n",
       "0  1991        4.4        107.69         36   \n",
       "1  1965        4.8        106.67         37   \n",
       "2  1981        4.8         81.29         28   \n",
       "3  1978        4.0         91.78         30   \n",
       "4  1968        4.8         98.21         25   \n",
       "\n",
       "                                           sentiment  \\\n",
       "0  {'neg': 0.14100000000000001, 'neu': 0.708, 'po...   \n",
       "1  {'neg': 0.126, 'neu': 0.667, 'pos': 0.20800000...   \n",
       "2  {'neg': 0.068, 'neu': 0.625, 'pos': 0.308, 'co...   \n",
       "3  {'neg': 0.062, 'neu': 0.7000000000000001, 'pos...   \n",
       "4  {'neg': 0.018000000000000002, 'neu': 0.927, 'p...   \n",
       "\n",
       "                               title  ...  key mode  duration_ms  Popularity  \\\n",
       "0  (Everything I Do) I Do It For You  ...    1    1       393640        77.0   \n",
       "1      (I Can't Get No) Satisfaction  ...    2    1       222813        78.0   \n",
       "2          (Just Like) Starting Over  ...    9    1       236547        61.0   \n",
       "3       (Love Is) Thicker Than Water  ...    6    0       255960        47.0   \n",
       "4   (Sittin' On) The Dock Of The Bay  ...    2    1       163756        80.0   \n",
       "\n",
       "     values  pred     label     score emotion_label  Hit  \n",
       "0  1.000000     1  POSITIVE  0.998717           joy  Yes  \n",
       "1  0.333333     0  NEGATIVE  0.999485           joy  Yes  \n",
       "2  0.250000     1  POSITIVE  0.998593           joy  Yes  \n",
       "3  0.125000     1  POSITIVE  0.998285       sadness  Yes  \n",
       "4  0.250000     0  NEGATIVE  0.994735           joy  Yes  \n",
       "\n",
       "[5 rows x 45 columns]"
      ]
     },
     "execution_count": 6,
     "metadata": {},
     "output_type": "execute_result"
    }
   ],
   "source": [
    "data.head()"
   ]
  },
  {
   "cell_type": "code",
   "execution_count": null,
   "metadata": {
    "colab": {
     "base_uri": "https://localhost:8080/"
    },
    "executionInfo": {
     "elapsed": 4,
     "status": "ok",
     "timestamp": 1686311275880,
     "user": {
      "displayName": "Timo Günther",
      "userId": "10776521663799464357"
     },
     "user_tz": -120
    },
    "id": "lDPLVFE9-_2K",
    "outputId": "875adfa4-75f9-45b9-e747-90bc58c69ee7"
   },
   "outputs": [
    {
     "data": {
      "text/plain": [
       "(1801, 45)"
      ]
     },
     "execution_count": 8,
     "metadata": {},
     "output_type": "execute_result"
    }
   ],
   "source": [
    "data.shape"
   ]
  },
  {
   "cell_type": "code",
   "execution_count": null,
   "metadata": {
    "colab": {
     "base_uri": "https://localhost:8080/"
    },
    "executionInfo": {
     "elapsed": 211,
     "status": "ok",
     "timestamp": 1686311265346,
     "user": {
      "displayName": "Timo Günther",
      "userId": "10776521663799464357"
     },
     "user_tz": -120
    },
    "id": "ovtRUlHl-9k3",
    "outputId": "673e9cee-b8c3-4cee-f498-59bbe024403b"
   },
   "outputs": [
    {
     "data": {
      "text/plain": [
       "Index(['lyrics', 'genre', 'num_syllables', 'pos', 'year', 'fog_index',\n",
       "       'flesch_index', 'num_lines', 'sentiment', 'title', 'f_k_grade',\n",
       "       'artist', 'difficult_words', 'num_dupes', 'number_of_tokens',\n",
       "       'number_of_types', 'decades', 'stemmed_text', 'POS_tags', 'POS',\n",
       "       'playlistID', 'TrackName', 'TrackID', 'SampleURL', 'ReleaseYear',\n",
       "       'Genres', 'danceability', 'energy', 'loudness', 'speechiness',\n",
       "       'acousticness', 'instrumentalness', 'liveness', 'valence', 'tempo',\n",
       "       'key', 'mode', 'duration_ms', 'Popularity', 'values', 'pred', 'label',\n",
       "       'score', 'emotion_label', 'Hit'],\n",
       "      dtype='object')"
      ]
     },
     "execution_count": 7,
     "metadata": {},
     "output_type": "execute_result"
    }
   ],
   "source": [
    "data.columns"
   ]
  },
  {
   "cell_type": "code",
   "execution_count": null,
   "metadata": {
    "id": "D8yahneO_C3X"
   },
   "outputs": [],
   "source": [
    "data = data.drop(['genre', 'num_syllables', 'pos', 'year', 'fog_index',\n",
    "       'flesch_index', 'num_lines', 'sentiment','f_k_grade', 'difficult_words', 'num_dupes', 'number_of_tokens',\n",
    "       'number_of_types', 'decades', 'stemmed_text', 'POS_tags', 'POS','values', 'pred', 'label',\n",
    "       'score', 'emotion_label'], axis=1)"
   ]
  },
  {
   "cell_type": "code",
   "execution_count": null,
   "metadata": {
    "colab": {
     "base_uri": "https://localhost:8080/",
     "height": 664
    },
    "executionInfo": {
     "elapsed": 8,
     "status": "ok",
     "timestamp": 1686311332360,
     "user": {
      "displayName": "Timo Günther",
      "userId": "10776521663799464357"
     },
     "user_tz": -120
    },
    "id": "soiVmh41_NUk",
    "outputId": "19d9a3ef-faba-49f0-88a2-079e10afbef5"
   },
   "outputs": [
    {
     "data": {
      "text/html": [
       "\n",
       "  <div id=\"df-055481f1-84a6-41d2-9541-dc44ea65afce\">\n",
       "    <div class=\"colab-df-container\">\n",
       "      <div>\n",
       "<style scoped>\n",
       "    .dataframe tbody tr th:only-of-type {\n",
       "        vertical-align: middle;\n",
       "    }\n",
       "\n",
       "    .dataframe tbody tr th {\n",
       "        vertical-align: top;\n",
       "    }\n",
       "\n",
       "    .dataframe thead th {\n",
       "        text-align: right;\n",
       "    }\n",
       "</style>\n",
       "<table border=\"1\" class=\"dataframe\">\n",
       "  <thead>\n",
       "    <tr style=\"text-align: right;\">\n",
       "      <th></th>\n",
       "      <th>lyrics</th>\n",
       "      <th>title</th>\n",
       "      <th>artist</th>\n",
       "      <th>playlistID</th>\n",
       "      <th>TrackName</th>\n",
       "      <th>TrackID</th>\n",
       "      <th>SampleURL</th>\n",
       "      <th>ReleaseYear</th>\n",
       "      <th>Genres</th>\n",
       "      <th>danceability</th>\n",
       "      <th>...</th>\n",
       "      <th>acousticness</th>\n",
       "      <th>instrumentalness</th>\n",
       "      <th>liveness</th>\n",
       "      <th>valence</th>\n",
       "      <th>tempo</th>\n",
       "      <th>key</th>\n",
       "      <th>mode</th>\n",
       "      <th>duration_ms</th>\n",
       "      <th>Popularity</th>\n",
       "      <th>Hit</th>\n",
       "    </tr>\n",
       "  </thead>\n",
       "  <tbody>\n",
       "    <tr>\n",
       "      <th>0</th>\n",
       "      <td>look into my eyes  you will seewhat you mean t...</td>\n",
       "      <td>(Everything I Do) I Do It For You</td>\n",
       "      <td>Bryan Adams</td>\n",
       "      <td>2A4YfptOVIqtSvTQ6d32sm</td>\n",
       "      <td>(Everything I Do) I Do It For You</td>\n",
       "      <td>1Eb90nmqTrxylKFhcUzW8P</td>\n",
       "      <td>https://p.scdn.co/mp3-preview/b69589f6d0950835...</td>\n",
       "      <td>1991-09-24</td>\n",
       "      <td>['canadian pop', 'canadian singer-songwriter',...</td>\n",
       "      <td>0.533</td>\n",
       "      <td>...</td>\n",
       "      <td>0.0805</td>\n",
       "      <td>0.000010</td>\n",
       "      <td>0.0631</td>\n",
       "      <td>0.299</td>\n",
       "      <td>131.229</td>\n",
       "      <td>1</td>\n",
       "      <td>1</td>\n",
       "      <td>393640</td>\n",
       "      <td>77.0</td>\n",
       "      <td>Yes</td>\n",
       "    </tr>\n",
       "    <tr>\n",
       "      <th>1</th>\n",
       "      <td>i can't get no satisfactioni can't get no sati...</td>\n",
       "      <td>(I Can't Get No) Satisfaction</td>\n",
       "      <td>Rolling Stones</td>\n",
       "      <td>2A4YfptOVIqtSvTQ6d32sm</td>\n",
       "      <td>(I Can't Get No) Satisfaction - Mono Version</td>\n",
       "      <td>2PzU4IB8Dr6mxV3lHuaG34</td>\n",
       "      <td>https://p.scdn.co/mp3-preview/22782e4be2eb4daa...</td>\n",
       "      <td>1965-07-30</td>\n",
       "      <td>['album rock', 'british invasion', 'classic ro...</td>\n",
       "      <td>0.723</td>\n",
       "      <td>...</td>\n",
       "      <td>0.0383</td>\n",
       "      <td>0.031700</td>\n",
       "      <td>0.1280</td>\n",
       "      <td>0.931</td>\n",
       "      <td>136.302</td>\n",
       "      <td>2</td>\n",
       "      <td>1</td>\n",
       "      <td>222813</td>\n",
       "      <td>78.0</td>\n",
       "      <td>Yes</td>\n",
       "    </tr>\n",
       "    <tr>\n",
       "      <th>2</th>\n",
       "      <td>our life together is so precious togetherwe ha...</td>\n",
       "      <td>(Just Like) Starting Over</td>\n",
       "      <td>John Lennon</td>\n",
       "      <td>2A4YfptOVIqtSvTQ6d32sm</td>\n",
       "      <td>(Just Like) Starting Over - Remastered 2010</td>\n",
       "      <td>5y0YreEOnQiKFAnCrcFIXz</td>\n",
       "      <td>https://p.scdn.co/mp3-preview/a79a8808230f4ded...</td>\n",
       "      <td>1980-11-17</td>\n",
       "      <td>['beatlesque', 'classic rock', 'rock']</td>\n",
       "      <td>0.701</td>\n",
       "      <td>...</td>\n",
       "      <td>0.3010</td>\n",
       "      <td>0.000061</td>\n",
       "      <td>0.1790</td>\n",
       "      <td>0.421</td>\n",
       "      <td>99.104</td>\n",
       "      <td>9</td>\n",
       "      <td>1</td>\n",
       "      <td>236547</td>\n",
       "      <td>61.0</td>\n",
       "      <td>Yes</td>\n",
       "    </tr>\n",
       "    <tr>\n",
       "      <th>3</th>\n",
       "      <td>love is higher than a mountain love is thicker...</td>\n",
       "      <td>(Love Is) Thicker Than Water</td>\n",
       "      <td>Andy Gibb</td>\n",
       "      <td>2A4YfptOVIqtSvTQ6d32sm</td>\n",
       "      <td>(Love Is) Thicker Than Water</td>\n",
       "      <td>3jdBf1cJ2QmTzNUixplppA</td>\n",
       "      <td>https://p.scdn.co/mp3-preview/ce0e47fb6c886802...</td>\n",
       "      <td>1977-01-01</td>\n",
       "      <td>['disco', 'mellow gold', 'soft rock']</td>\n",
       "      <td>0.582</td>\n",
       "      <td>...</td>\n",
       "      <td>0.1370</td>\n",
       "      <td>0.000050</td>\n",
       "      <td>0.0755</td>\n",
       "      <td>0.528</td>\n",
       "      <td>96.361</td>\n",
       "      <td>6</td>\n",
       "      <td>0</td>\n",
       "      <td>255960</td>\n",
       "      <td>47.0</td>\n",
       "      <td>Yes</td>\n",
       "    </tr>\n",
       "    <tr>\n",
       "      <th>4</th>\n",
       "      <td>sittin' in the morning suni'll be sittin' when...</td>\n",
       "      <td>(Sittin' On) The Dock Of The Bay</td>\n",
       "      <td>Otis Redding</td>\n",
       "      <td>2A4YfptOVIqtSvTQ6d32sm</td>\n",
       "      <td>(Sittin' On) the Dock of the Bay</td>\n",
       "      <td>3zBhihYUHBmGd2bcQIobrF</td>\n",
       "      <td>https://p.scdn.co/mp3-preview/404976a4a56d8c1c...</td>\n",
       "      <td>1968</td>\n",
       "      <td>['classic soul', 'memphis soul', 'soul', 'soul...</td>\n",
       "      <td>0.769</td>\n",
       "      <td>...</td>\n",
       "      <td>0.6840</td>\n",
       "      <td>0.000016</td>\n",
       "      <td>0.0810</td>\n",
       "      <td>0.535</td>\n",
       "      <td>103.621</td>\n",
       "      <td>2</td>\n",
       "      <td>1</td>\n",
       "      <td>163756</td>\n",
       "      <td>80.0</td>\n",
       "      <td>Yes</td>\n",
       "    </tr>\n",
       "  </tbody>\n",
       "</table>\n",
       "<p>5 rows × 23 columns</p>\n",
       "</div>\n",
       "      <button class=\"colab-df-convert\" onclick=\"convertToInteractive('df-055481f1-84a6-41d2-9541-dc44ea65afce')\"\n",
       "              title=\"Convert this dataframe to an interactive table.\"\n",
       "              style=\"display:none;\">\n",
       "        \n",
       "  <svg xmlns=\"http://www.w3.org/2000/svg\" height=\"24px\"viewBox=\"0 0 24 24\"\n",
       "       width=\"24px\">\n",
       "    <path d=\"M0 0h24v24H0V0z\" fill=\"none\"/>\n",
       "    <path d=\"M18.56 5.44l.94 2.06.94-2.06 2.06-.94-2.06-.94-.94-2.06-.94 2.06-2.06.94zm-11 1L8.5 8.5l.94-2.06 2.06-.94-2.06-.94L8.5 2.5l-.94 2.06-2.06.94zm10 10l.94 2.06.94-2.06 2.06-.94-2.06-.94-.94-2.06-.94 2.06-2.06.94z\"/><path d=\"M17.41 7.96l-1.37-1.37c-.4-.4-.92-.59-1.43-.59-.52 0-1.04.2-1.43.59L10.3 9.45l-7.72 7.72c-.78.78-.78 2.05 0 2.83L4 21.41c.39.39.9.59 1.41.59.51 0 1.02-.2 1.41-.59l7.78-7.78 2.81-2.81c.8-.78.8-2.07 0-2.86zM5.41 20L4 18.59l7.72-7.72 1.47 1.35L5.41 20z\"/>\n",
       "  </svg>\n",
       "      </button>\n",
       "      \n",
       "  <style>\n",
       "    .colab-df-container {\n",
       "      display:flex;\n",
       "      flex-wrap:wrap;\n",
       "      gap: 12px;\n",
       "    }\n",
       "\n",
       "    .colab-df-convert {\n",
       "      background-color: #E8F0FE;\n",
       "      border: none;\n",
       "      border-radius: 50%;\n",
       "      cursor: pointer;\n",
       "      display: none;\n",
       "      fill: #1967D2;\n",
       "      height: 32px;\n",
       "      padding: 0 0 0 0;\n",
       "      width: 32px;\n",
       "    }\n",
       "\n",
       "    .colab-df-convert:hover {\n",
       "      background-color: #E2EBFA;\n",
       "      box-shadow: 0px 1px 2px rgba(60, 64, 67, 0.3), 0px 1px 3px 1px rgba(60, 64, 67, 0.15);\n",
       "      fill: #174EA6;\n",
       "    }\n",
       "\n",
       "    [theme=dark] .colab-df-convert {\n",
       "      background-color: #3B4455;\n",
       "      fill: #D2E3FC;\n",
       "    }\n",
       "\n",
       "    [theme=dark] .colab-df-convert:hover {\n",
       "      background-color: #434B5C;\n",
       "      box-shadow: 0px 1px 3px 1px rgba(0, 0, 0, 0.15);\n",
       "      filter: drop-shadow(0px 1px 2px rgba(0, 0, 0, 0.3));\n",
       "      fill: #FFFFFF;\n",
       "    }\n",
       "  </style>\n",
       "\n",
       "      <script>\n",
       "        const buttonEl =\n",
       "          document.querySelector('#df-055481f1-84a6-41d2-9541-dc44ea65afce button.colab-df-convert');\n",
       "        buttonEl.style.display =\n",
       "          google.colab.kernel.accessAllowed ? 'block' : 'none';\n",
       "\n",
       "        async function convertToInteractive(key) {\n",
       "          const element = document.querySelector('#df-055481f1-84a6-41d2-9541-dc44ea65afce');\n",
       "          const dataTable =\n",
       "            await google.colab.kernel.invokeFunction('convertToInteractive',\n",
       "                                                     [key], {});\n",
       "          if (!dataTable) return;\n",
       "\n",
       "          const docLinkHtml = 'Like what you see? Visit the ' +\n",
       "            '<a target=\"_blank\" href=https://colab.research.google.com/notebooks/data_table.ipynb>data table notebook</a>'\n",
       "            + ' to learn more about interactive tables.';\n",
       "          element.innerHTML = '';\n",
       "          dataTable['output_type'] = 'display_data';\n",
       "          await google.colab.output.renderOutput(dataTable, element);\n",
       "          const docLink = document.createElement('div');\n",
       "          docLink.innerHTML = docLinkHtml;\n",
       "          element.appendChild(docLink);\n",
       "        }\n",
       "      </script>\n",
       "    </div>\n",
       "  </div>\n",
       "  "
      ],
      "text/plain": [
       "                                              lyrics  \\\n",
       "0  look into my eyes  you will seewhat you mean t...   \n",
       "1  i can't get no satisfactioni can't get no sati...   \n",
       "2  our life together is so precious togetherwe ha...   \n",
       "3  love is higher than a mountain love is thicker...   \n",
       "4  sittin' in the morning suni'll be sittin' when...   \n",
       "\n",
       "                               title          artist              playlistID  \\\n",
       "0  (Everything I Do) I Do It For You     Bryan Adams  2A4YfptOVIqtSvTQ6d32sm   \n",
       "1      (I Can't Get No) Satisfaction  Rolling Stones  2A4YfptOVIqtSvTQ6d32sm   \n",
       "2          (Just Like) Starting Over     John Lennon  2A4YfptOVIqtSvTQ6d32sm   \n",
       "3       (Love Is) Thicker Than Water       Andy Gibb  2A4YfptOVIqtSvTQ6d32sm   \n",
       "4   (Sittin' On) The Dock Of The Bay    Otis Redding  2A4YfptOVIqtSvTQ6d32sm   \n",
       "\n",
       "                                      TrackName                 TrackID  \\\n",
       "0             (Everything I Do) I Do It For You  1Eb90nmqTrxylKFhcUzW8P   \n",
       "1  (I Can't Get No) Satisfaction - Mono Version  2PzU4IB8Dr6mxV3lHuaG34   \n",
       "2   (Just Like) Starting Over - Remastered 2010  5y0YreEOnQiKFAnCrcFIXz   \n",
       "3                  (Love Is) Thicker Than Water  3jdBf1cJ2QmTzNUixplppA   \n",
       "4              (Sittin' On) the Dock of the Bay  3zBhihYUHBmGd2bcQIobrF   \n",
       "\n",
       "                                           SampleURL ReleaseYear  \\\n",
       "0  https://p.scdn.co/mp3-preview/b69589f6d0950835...  1991-09-24   \n",
       "1  https://p.scdn.co/mp3-preview/22782e4be2eb4daa...  1965-07-30   \n",
       "2  https://p.scdn.co/mp3-preview/a79a8808230f4ded...  1980-11-17   \n",
       "3  https://p.scdn.co/mp3-preview/ce0e47fb6c886802...  1977-01-01   \n",
       "4  https://p.scdn.co/mp3-preview/404976a4a56d8c1c...        1968   \n",
       "\n",
       "                                              Genres  danceability  ...  \\\n",
       "0  ['canadian pop', 'canadian singer-songwriter',...         0.533  ...   \n",
       "1  ['album rock', 'british invasion', 'classic ro...         0.723  ...   \n",
       "2             ['beatlesque', 'classic rock', 'rock']         0.701  ...   \n",
       "3              ['disco', 'mellow gold', 'soft rock']         0.582  ...   \n",
       "4  ['classic soul', 'memphis soul', 'soul', 'soul...         0.769  ...   \n",
       "\n",
       "   acousticness  instrumentalness  liveness  valence    tempo  key  mode  \\\n",
       "0        0.0805          0.000010    0.0631    0.299  131.229    1     1   \n",
       "1        0.0383          0.031700    0.1280    0.931  136.302    2     1   \n",
       "2        0.3010          0.000061    0.1790    0.421   99.104    9     1   \n",
       "3        0.1370          0.000050    0.0755    0.528   96.361    6     0   \n",
       "4        0.6840          0.000016    0.0810    0.535  103.621    2     1   \n",
       "\n",
       "   duration_ms  Popularity  Hit  \n",
       "0       393640        77.0  Yes  \n",
       "1       222813        78.0  Yes  \n",
       "2       236547        61.0  Yes  \n",
       "3       255960        47.0  Yes  \n",
       "4       163756        80.0  Yes  \n",
       "\n",
       "[5 rows x 23 columns]"
      ]
     },
     "execution_count": 10,
     "metadata": {},
     "output_type": "execute_result"
    }
   ],
   "source": [
    "data.head(5)"
   ]
  },
  {
   "cell_type": "code",
   "execution_count": null,
   "metadata": {
    "id": "cRDODi1S_Odz"
   },
   "outputs": [],
   "source": [
    "data = data.drop(['playlistID', 'TrackName', 'SampleURL', 'ReleaseYear', 'Genres'], axis=1)"
   ]
  },
  {
   "cell_type": "code",
   "execution_count": null,
   "metadata": {
    "colab": {
     "base_uri": "https://localhost:8080/",
     "height": 635
    },
    "executionInfo": {
     "elapsed": 5,
     "status": "ok",
     "timestamp": 1686311384235,
     "user": {
      "displayName": "Timo Günther",
      "userId": "10776521663799464357"
     },
     "user_tz": -120
    },
    "id": "DgjZvS0f_aUM",
    "outputId": "6338931c-9246-4269-d77b-3b6d655dd715"
   },
   "outputs": [
    {
     "data": {
      "text/html": [
       "\n",
       "  <div id=\"df-6da04087-3d04-4ac8-9ad4-96a6e7957d55\">\n",
       "    <div class=\"colab-df-container\">\n",
       "      <div>\n",
       "<style scoped>\n",
       "    .dataframe tbody tr th:only-of-type {\n",
       "        vertical-align: middle;\n",
       "    }\n",
       "\n",
       "    .dataframe tbody tr th {\n",
       "        vertical-align: top;\n",
       "    }\n",
       "\n",
       "    .dataframe thead th {\n",
       "        text-align: right;\n",
       "    }\n",
       "</style>\n",
       "<table border=\"1\" class=\"dataframe\">\n",
       "  <thead>\n",
       "    <tr style=\"text-align: right;\">\n",
       "      <th></th>\n",
       "      <th>lyrics</th>\n",
       "      <th>title</th>\n",
       "      <th>artist</th>\n",
       "      <th>TrackID</th>\n",
       "      <th>danceability</th>\n",
       "      <th>energy</th>\n",
       "      <th>loudness</th>\n",
       "      <th>speechiness</th>\n",
       "      <th>acousticness</th>\n",
       "      <th>instrumentalness</th>\n",
       "      <th>liveness</th>\n",
       "      <th>valence</th>\n",
       "      <th>tempo</th>\n",
       "      <th>key</th>\n",
       "      <th>mode</th>\n",
       "      <th>duration_ms</th>\n",
       "      <th>Popularity</th>\n",
       "      <th>Hit</th>\n",
       "    </tr>\n",
       "  </thead>\n",
       "  <tbody>\n",
       "    <tr>\n",
       "      <th>0</th>\n",
       "      <td>look into my eyes  you will seewhat you mean t...</td>\n",
       "      <td>(Everything I Do) I Do It For You</td>\n",
       "      <td>Bryan Adams</td>\n",
       "      <td>1Eb90nmqTrxylKFhcUzW8P</td>\n",
       "      <td>0.533</td>\n",
       "      <td>0.360</td>\n",
       "      <td>-12.633</td>\n",
       "      <td>0.0282</td>\n",
       "      <td>0.0805</td>\n",
       "      <td>0.000010</td>\n",
       "      <td>0.0631</td>\n",
       "      <td>0.299</td>\n",
       "      <td>131.229</td>\n",
       "      <td>1</td>\n",
       "      <td>1</td>\n",
       "      <td>393640</td>\n",
       "      <td>77.0</td>\n",
       "      <td>Yes</td>\n",
       "    </tr>\n",
       "    <tr>\n",
       "      <th>1</th>\n",
       "      <td>i can't get no satisfactioni can't get no sati...</td>\n",
       "      <td>(I Can't Get No) Satisfaction</td>\n",
       "      <td>Rolling Stones</td>\n",
       "      <td>2PzU4IB8Dr6mxV3lHuaG34</td>\n",
       "      <td>0.723</td>\n",
       "      <td>0.863</td>\n",
       "      <td>-7.890</td>\n",
       "      <td>0.0338</td>\n",
       "      <td>0.0383</td>\n",
       "      <td>0.031700</td>\n",
       "      <td>0.1280</td>\n",
       "      <td>0.931</td>\n",
       "      <td>136.302</td>\n",
       "      <td>2</td>\n",
       "      <td>1</td>\n",
       "      <td>222813</td>\n",
       "      <td>78.0</td>\n",
       "      <td>Yes</td>\n",
       "    </tr>\n",
       "    <tr>\n",
       "      <th>2</th>\n",
       "      <td>our life together is so precious togetherwe ha...</td>\n",
       "      <td>(Just Like) Starting Over</td>\n",
       "      <td>John Lennon</td>\n",
       "      <td>5y0YreEOnQiKFAnCrcFIXz</td>\n",
       "      <td>0.701</td>\n",
       "      <td>0.790</td>\n",
       "      <td>-6.160</td>\n",
       "      <td>0.0725</td>\n",
       "      <td>0.3010</td>\n",
       "      <td>0.000061</td>\n",
       "      <td>0.1790</td>\n",
       "      <td>0.421</td>\n",
       "      <td>99.104</td>\n",
       "      <td>9</td>\n",
       "      <td>1</td>\n",
       "      <td>236547</td>\n",
       "      <td>61.0</td>\n",
       "      <td>Yes</td>\n",
       "    </tr>\n",
       "    <tr>\n",
       "      <th>3</th>\n",
       "      <td>love is higher than a mountain love is thicker...</td>\n",
       "      <td>(Love Is) Thicker Than Water</td>\n",
       "      <td>Andy Gibb</td>\n",
       "      <td>3jdBf1cJ2QmTzNUixplppA</td>\n",
       "      <td>0.582</td>\n",
       "      <td>0.462</td>\n",
       "      <td>-9.882</td>\n",
       "      <td>0.0254</td>\n",
       "      <td>0.1370</td>\n",
       "      <td>0.000050</td>\n",
       "      <td>0.0755</td>\n",
       "      <td>0.528</td>\n",
       "      <td>96.361</td>\n",
       "      <td>6</td>\n",
       "      <td>0</td>\n",
       "      <td>255960</td>\n",
       "      <td>47.0</td>\n",
       "      <td>Yes</td>\n",
       "    </tr>\n",
       "    <tr>\n",
       "      <th>4</th>\n",
       "      <td>sittin' in the morning suni'll be sittin' when...</td>\n",
       "      <td>(Sittin' On) The Dock Of The Bay</td>\n",
       "      <td>Otis Redding</td>\n",
       "      <td>3zBhihYUHBmGd2bcQIobrF</td>\n",
       "      <td>0.769</td>\n",
       "      <td>0.367</td>\n",
       "      <td>-11.226</td>\n",
       "      <td>0.0312</td>\n",
       "      <td>0.6840</td>\n",
       "      <td>0.000016</td>\n",
       "      <td>0.0810</td>\n",
       "      <td>0.535</td>\n",
       "      <td>103.621</td>\n",
       "      <td>2</td>\n",
       "      <td>1</td>\n",
       "      <td>163756</td>\n",
       "      <td>80.0</td>\n",
       "      <td>Yes</td>\n",
       "    </tr>\n",
       "  </tbody>\n",
       "</table>\n",
       "</div>\n",
       "      <button class=\"colab-df-convert\" onclick=\"convertToInteractive('df-6da04087-3d04-4ac8-9ad4-96a6e7957d55')\"\n",
       "              title=\"Convert this dataframe to an interactive table.\"\n",
       "              style=\"display:none;\">\n",
       "        \n",
       "  <svg xmlns=\"http://www.w3.org/2000/svg\" height=\"24px\"viewBox=\"0 0 24 24\"\n",
       "       width=\"24px\">\n",
       "    <path d=\"M0 0h24v24H0V0z\" fill=\"none\"/>\n",
       "    <path d=\"M18.56 5.44l.94 2.06.94-2.06 2.06-.94-2.06-.94-.94-2.06-.94 2.06-2.06.94zm-11 1L8.5 8.5l.94-2.06 2.06-.94-2.06-.94L8.5 2.5l-.94 2.06-2.06.94zm10 10l.94 2.06.94-2.06 2.06-.94-2.06-.94-.94-2.06-.94 2.06-2.06.94z\"/><path d=\"M17.41 7.96l-1.37-1.37c-.4-.4-.92-.59-1.43-.59-.52 0-1.04.2-1.43.59L10.3 9.45l-7.72 7.72c-.78.78-.78 2.05 0 2.83L4 21.41c.39.39.9.59 1.41.59.51 0 1.02-.2 1.41-.59l7.78-7.78 2.81-2.81c.8-.78.8-2.07 0-2.86zM5.41 20L4 18.59l7.72-7.72 1.47 1.35L5.41 20z\"/>\n",
       "  </svg>\n",
       "      </button>\n",
       "      \n",
       "  <style>\n",
       "    .colab-df-container {\n",
       "      display:flex;\n",
       "      flex-wrap:wrap;\n",
       "      gap: 12px;\n",
       "    }\n",
       "\n",
       "    .colab-df-convert {\n",
       "      background-color: #E8F0FE;\n",
       "      border: none;\n",
       "      border-radius: 50%;\n",
       "      cursor: pointer;\n",
       "      display: none;\n",
       "      fill: #1967D2;\n",
       "      height: 32px;\n",
       "      padding: 0 0 0 0;\n",
       "      width: 32px;\n",
       "    }\n",
       "\n",
       "    .colab-df-convert:hover {\n",
       "      background-color: #E2EBFA;\n",
       "      box-shadow: 0px 1px 2px rgba(60, 64, 67, 0.3), 0px 1px 3px 1px rgba(60, 64, 67, 0.15);\n",
       "      fill: #174EA6;\n",
       "    }\n",
       "\n",
       "    [theme=dark] .colab-df-convert {\n",
       "      background-color: #3B4455;\n",
       "      fill: #D2E3FC;\n",
       "    }\n",
       "\n",
       "    [theme=dark] .colab-df-convert:hover {\n",
       "      background-color: #434B5C;\n",
       "      box-shadow: 0px 1px 3px 1px rgba(0, 0, 0, 0.15);\n",
       "      filter: drop-shadow(0px 1px 2px rgba(0, 0, 0, 0.3));\n",
       "      fill: #FFFFFF;\n",
       "    }\n",
       "  </style>\n",
       "\n",
       "      <script>\n",
       "        const buttonEl =\n",
       "          document.querySelector('#df-6da04087-3d04-4ac8-9ad4-96a6e7957d55 button.colab-df-convert');\n",
       "        buttonEl.style.display =\n",
       "          google.colab.kernel.accessAllowed ? 'block' : 'none';\n",
       "\n",
       "        async function convertToInteractive(key) {\n",
       "          const element = document.querySelector('#df-6da04087-3d04-4ac8-9ad4-96a6e7957d55');\n",
       "          const dataTable =\n",
       "            await google.colab.kernel.invokeFunction('convertToInteractive',\n",
       "                                                     [key], {});\n",
       "          if (!dataTable) return;\n",
       "\n",
       "          const docLinkHtml = 'Like what you see? Visit the ' +\n",
       "            '<a target=\"_blank\" href=https://colab.research.google.com/notebooks/data_table.ipynb>data table notebook</a>'\n",
       "            + ' to learn more about interactive tables.';\n",
       "          element.innerHTML = '';\n",
       "          dataTable['output_type'] = 'display_data';\n",
       "          await google.colab.output.renderOutput(dataTable, element);\n",
       "          const docLink = document.createElement('div');\n",
       "          docLink.innerHTML = docLinkHtml;\n",
       "          element.appendChild(docLink);\n",
       "        }\n",
       "      </script>\n",
       "    </div>\n",
       "  </div>\n",
       "  "
      ],
      "text/plain": [
       "                                              lyrics  \\\n",
       "0  look into my eyes  you will seewhat you mean t...   \n",
       "1  i can't get no satisfactioni can't get no sati...   \n",
       "2  our life together is so precious togetherwe ha...   \n",
       "3  love is higher than a mountain love is thicker...   \n",
       "4  sittin' in the morning suni'll be sittin' when...   \n",
       "\n",
       "                               title          artist                 TrackID  \\\n",
       "0  (Everything I Do) I Do It For You     Bryan Adams  1Eb90nmqTrxylKFhcUzW8P   \n",
       "1      (I Can't Get No) Satisfaction  Rolling Stones  2PzU4IB8Dr6mxV3lHuaG34   \n",
       "2          (Just Like) Starting Over     John Lennon  5y0YreEOnQiKFAnCrcFIXz   \n",
       "3       (Love Is) Thicker Than Water       Andy Gibb  3jdBf1cJ2QmTzNUixplppA   \n",
       "4   (Sittin' On) The Dock Of The Bay    Otis Redding  3zBhihYUHBmGd2bcQIobrF   \n",
       "\n",
       "   danceability  energy  loudness  speechiness  acousticness  \\\n",
       "0         0.533   0.360   -12.633       0.0282        0.0805   \n",
       "1         0.723   0.863    -7.890       0.0338        0.0383   \n",
       "2         0.701   0.790    -6.160       0.0725        0.3010   \n",
       "3         0.582   0.462    -9.882       0.0254        0.1370   \n",
       "4         0.769   0.367   -11.226       0.0312        0.6840   \n",
       "\n",
       "   instrumentalness  liveness  valence    tempo  key  mode  duration_ms  \\\n",
       "0          0.000010    0.0631    0.299  131.229    1     1       393640   \n",
       "1          0.031700    0.1280    0.931  136.302    2     1       222813   \n",
       "2          0.000061    0.1790    0.421   99.104    9     1       236547   \n",
       "3          0.000050    0.0755    0.528   96.361    6     0       255960   \n",
       "4          0.000016    0.0810    0.535  103.621    2     1       163756   \n",
       "\n",
       "   Popularity  Hit  \n",
       "0        77.0  Yes  \n",
       "1        78.0  Yes  \n",
       "2        61.0  Yes  \n",
       "3        47.0  Yes  \n",
       "4        80.0  Yes  "
      ]
     },
     "execution_count": 12,
     "metadata": {},
     "output_type": "execute_result"
    }
   ],
   "source": [
    "data.head(5)"
   ]
  },
  {
   "cell_type": "code",
   "execution_count": null,
   "metadata": {
    "id": "N9ydRVX__bGn"
   },
   "outputs": [],
   "source": [
    "data.Hit = data.Hit.replace({'Yes': 1, 'No': 0})"
   ]
  },
  {
   "cell_type": "code",
   "execution_count": null,
   "metadata": {
    "colab": {
     "base_uri": "https://localhost:8080/",
     "height": 635
    },
    "executionInfo": {
     "elapsed": 323,
     "status": "ok",
     "timestamp": 1686311415106,
     "user": {
      "displayName": "Timo Günther",
      "userId": "10776521663799464357"
     },
     "user_tz": -120
    },
    "id": "ezkP5rRs_hvp",
    "outputId": "4eec6494-6a07-4b84-8289-08d102fb3a07"
   },
   "outputs": [
    {
     "data": {
      "text/html": [
       "\n",
       "  <div id=\"df-b0c0a056-bf85-4eba-bfdb-ece03c640fcb\">\n",
       "    <div class=\"colab-df-container\">\n",
       "      <div>\n",
       "<style scoped>\n",
       "    .dataframe tbody tr th:only-of-type {\n",
       "        vertical-align: middle;\n",
       "    }\n",
       "\n",
       "    .dataframe tbody tr th {\n",
       "        vertical-align: top;\n",
       "    }\n",
       "\n",
       "    .dataframe thead th {\n",
       "        text-align: right;\n",
       "    }\n",
       "</style>\n",
       "<table border=\"1\" class=\"dataframe\">\n",
       "  <thead>\n",
       "    <tr style=\"text-align: right;\">\n",
       "      <th></th>\n",
       "      <th>lyrics</th>\n",
       "      <th>title</th>\n",
       "      <th>artist</th>\n",
       "      <th>TrackID</th>\n",
       "      <th>danceability</th>\n",
       "      <th>energy</th>\n",
       "      <th>loudness</th>\n",
       "      <th>speechiness</th>\n",
       "      <th>acousticness</th>\n",
       "      <th>instrumentalness</th>\n",
       "      <th>liveness</th>\n",
       "      <th>valence</th>\n",
       "      <th>tempo</th>\n",
       "      <th>key</th>\n",
       "      <th>mode</th>\n",
       "      <th>duration_ms</th>\n",
       "      <th>Popularity</th>\n",
       "      <th>Hit</th>\n",
       "    </tr>\n",
       "  </thead>\n",
       "  <tbody>\n",
       "    <tr>\n",
       "      <th>0</th>\n",
       "      <td>look into my eyes  you will seewhat you mean t...</td>\n",
       "      <td>(Everything I Do) I Do It For You</td>\n",
       "      <td>Bryan Adams</td>\n",
       "      <td>1Eb90nmqTrxylKFhcUzW8P</td>\n",
       "      <td>0.533</td>\n",
       "      <td>0.360</td>\n",
       "      <td>-12.633</td>\n",
       "      <td>0.0282</td>\n",
       "      <td>0.0805</td>\n",
       "      <td>0.000010</td>\n",
       "      <td>0.0631</td>\n",
       "      <td>0.299</td>\n",
       "      <td>131.229</td>\n",
       "      <td>1</td>\n",
       "      <td>1</td>\n",
       "      <td>393640</td>\n",
       "      <td>77.0</td>\n",
       "      <td>1</td>\n",
       "    </tr>\n",
       "    <tr>\n",
       "      <th>1</th>\n",
       "      <td>i can't get no satisfactioni can't get no sati...</td>\n",
       "      <td>(I Can't Get No) Satisfaction</td>\n",
       "      <td>Rolling Stones</td>\n",
       "      <td>2PzU4IB8Dr6mxV3lHuaG34</td>\n",
       "      <td>0.723</td>\n",
       "      <td>0.863</td>\n",
       "      <td>-7.890</td>\n",
       "      <td>0.0338</td>\n",
       "      <td>0.0383</td>\n",
       "      <td>0.031700</td>\n",
       "      <td>0.1280</td>\n",
       "      <td>0.931</td>\n",
       "      <td>136.302</td>\n",
       "      <td>2</td>\n",
       "      <td>1</td>\n",
       "      <td>222813</td>\n",
       "      <td>78.0</td>\n",
       "      <td>1</td>\n",
       "    </tr>\n",
       "    <tr>\n",
       "      <th>2</th>\n",
       "      <td>our life together is so precious togetherwe ha...</td>\n",
       "      <td>(Just Like) Starting Over</td>\n",
       "      <td>John Lennon</td>\n",
       "      <td>5y0YreEOnQiKFAnCrcFIXz</td>\n",
       "      <td>0.701</td>\n",
       "      <td>0.790</td>\n",
       "      <td>-6.160</td>\n",
       "      <td>0.0725</td>\n",
       "      <td>0.3010</td>\n",
       "      <td>0.000061</td>\n",
       "      <td>0.1790</td>\n",
       "      <td>0.421</td>\n",
       "      <td>99.104</td>\n",
       "      <td>9</td>\n",
       "      <td>1</td>\n",
       "      <td>236547</td>\n",
       "      <td>61.0</td>\n",
       "      <td>1</td>\n",
       "    </tr>\n",
       "    <tr>\n",
       "      <th>3</th>\n",
       "      <td>love is higher than a mountain love is thicker...</td>\n",
       "      <td>(Love Is) Thicker Than Water</td>\n",
       "      <td>Andy Gibb</td>\n",
       "      <td>3jdBf1cJ2QmTzNUixplppA</td>\n",
       "      <td>0.582</td>\n",
       "      <td>0.462</td>\n",
       "      <td>-9.882</td>\n",
       "      <td>0.0254</td>\n",
       "      <td>0.1370</td>\n",
       "      <td>0.000050</td>\n",
       "      <td>0.0755</td>\n",
       "      <td>0.528</td>\n",
       "      <td>96.361</td>\n",
       "      <td>6</td>\n",
       "      <td>0</td>\n",
       "      <td>255960</td>\n",
       "      <td>47.0</td>\n",
       "      <td>1</td>\n",
       "    </tr>\n",
       "    <tr>\n",
       "      <th>4</th>\n",
       "      <td>sittin' in the morning suni'll be sittin' when...</td>\n",
       "      <td>(Sittin' On) The Dock Of The Bay</td>\n",
       "      <td>Otis Redding</td>\n",
       "      <td>3zBhihYUHBmGd2bcQIobrF</td>\n",
       "      <td>0.769</td>\n",
       "      <td>0.367</td>\n",
       "      <td>-11.226</td>\n",
       "      <td>0.0312</td>\n",
       "      <td>0.6840</td>\n",
       "      <td>0.000016</td>\n",
       "      <td>0.0810</td>\n",
       "      <td>0.535</td>\n",
       "      <td>103.621</td>\n",
       "      <td>2</td>\n",
       "      <td>1</td>\n",
       "      <td>163756</td>\n",
       "      <td>80.0</td>\n",
       "      <td>1</td>\n",
       "    </tr>\n",
       "  </tbody>\n",
       "</table>\n",
       "</div>\n",
       "      <button class=\"colab-df-convert\" onclick=\"convertToInteractive('df-b0c0a056-bf85-4eba-bfdb-ece03c640fcb')\"\n",
       "              title=\"Convert this dataframe to an interactive table.\"\n",
       "              style=\"display:none;\">\n",
       "        \n",
       "  <svg xmlns=\"http://www.w3.org/2000/svg\" height=\"24px\"viewBox=\"0 0 24 24\"\n",
       "       width=\"24px\">\n",
       "    <path d=\"M0 0h24v24H0V0z\" fill=\"none\"/>\n",
       "    <path d=\"M18.56 5.44l.94 2.06.94-2.06 2.06-.94-2.06-.94-.94-2.06-.94 2.06-2.06.94zm-11 1L8.5 8.5l.94-2.06 2.06-.94-2.06-.94L8.5 2.5l-.94 2.06-2.06.94zm10 10l.94 2.06.94-2.06 2.06-.94-2.06-.94-.94-2.06-.94 2.06-2.06.94z\"/><path d=\"M17.41 7.96l-1.37-1.37c-.4-.4-.92-.59-1.43-.59-.52 0-1.04.2-1.43.59L10.3 9.45l-7.72 7.72c-.78.78-.78 2.05 0 2.83L4 21.41c.39.39.9.59 1.41.59.51 0 1.02-.2 1.41-.59l7.78-7.78 2.81-2.81c.8-.78.8-2.07 0-2.86zM5.41 20L4 18.59l7.72-7.72 1.47 1.35L5.41 20z\"/>\n",
       "  </svg>\n",
       "      </button>\n",
       "      \n",
       "  <style>\n",
       "    .colab-df-container {\n",
       "      display:flex;\n",
       "      flex-wrap:wrap;\n",
       "      gap: 12px;\n",
       "    }\n",
       "\n",
       "    .colab-df-convert {\n",
       "      background-color: #E8F0FE;\n",
       "      border: none;\n",
       "      border-radius: 50%;\n",
       "      cursor: pointer;\n",
       "      display: none;\n",
       "      fill: #1967D2;\n",
       "      height: 32px;\n",
       "      padding: 0 0 0 0;\n",
       "      width: 32px;\n",
       "    }\n",
       "\n",
       "    .colab-df-convert:hover {\n",
       "      background-color: #E2EBFA;\n",
       "      box-shadow: 0px 1px 2px rgba(60, 64, 67, 0.3), 0px 1px 3px 1px rgba(60, 64, 67, 0.15);\n",
       "      fill: #174EA6;\n",
       "    }\n",
       "\n",
       "    [theme=dark] .colab-df-convert {\n",
       "      background-color: #3B4455;\n",
       "      fill: #D2E3FC;\n",
       "    }\n",
       "\n",
       "    [theme=dark] .colab-df-convert:hover {\n",
       "      background-color: #434B5C;\n",
       "      box-shadow: 0px 1px 3px 1px rgba(0, 0, 0, 0.15);\n",
       "      filter: drop-shadow(0px 1px 2px rgba(0, 0, 0, 0.3));\n",
       "      fill: #FFFFFF;\n",
       "    }\n",
       "  </style>\n",
       "\n",
       "      <script>\n",
       "        const buttonEl =\n",
       "          document.querySelector('#df-b0c0a056-bf85-4eba-bfdb-ece03c640fcb button.colab-df-convert');\n",
       "        buttonEl.style.display =\n",
       "          google.colab.kernel.accessAllowed ? 'block' : 'none';\n",
       "\n",
       "        async function convertToInteractive(key) {\n",
       "          const element = document.querySelector('#df-b0c0a056-bf85-4eba-bfdb-ece03c640fcb');\n",
       "          const dataTable =\n",
       "            await google.colab.kernel.invokeFunction('convertToInteractive',\n",
       "                                                     [key], {});\n",
       "          if (!dataTable) return;\n",
       "\n",
       "          const docLinkHtml = 'Like what you see? Visit the ' +\n",
       "            '<a target=\"_blank\" href=https://colab.research.google.com/notebooks/data_table.ipynb>data table notebook</a>'\n",
       "            + ' to learn more about interactive tables.';\n",
       "          element.innerHTML = '';\n",
       "          dataTable['output_type'] = 'display_data';\n",
       "          await google.colab.output.renderOutput(dataTable, element);\n",
       "          const docLink = document.createElement('div');\n",
       "          docLink.innerHTML = docLinkHtml;\n",
       "          element.appendChild(docLink);\n",
       "        }\n",
       "      </script>\n",
       "    </div>\n",
       "  </div>\n",
       "  "
      ],
      "text/plain": [
       "                                              lyrics  \\\n",
       "0  look into my eyes  you will seewhat you mean t...   \n",
       "1  i can't get no satisfactioni can't get no sati...   \n",
       "2  our life together is so precious togetherwe ha...   \n",
       "3  love is higher than a mountain love is thicker...   \n",
       "4  sittin' in the morning suni'll be sittin' when...   \n",
       "\n",
       "                               title          artist                 TrackID  \\\n",
       "0  (Everything I Do) I Do It For You     Bryan Adams  1Eb90nmqTrxylKFhcUzW8P   \n",
       "1      (I Can't Get No) Satisfaction  Rolling Stones  2PzU4IB8Dr6mxV3lHuaG34   \n",
       "2          (Just Like) Starting Over     John Lennon  5y0YreEOnQiKFAnCrcFIXz   \n",
       "3       (Love Is) Thicker Than Water       Andy Gibb  3jdBf1cJ2QmTzNUixplppA   \n",
       "4   (Sittin' On) The Dock Of The Bay    Otis Redding  3zBhihYUHBmGd2bcQIobrF   \n",
       "\n",
       "   danceability  energy  loudness  speechiness  acousticness  \\\n",
       "0         0.533   0.360   -12.633       0.0282        0.0805   \n",
       "1         0.723   0.863    -7.890       0.0338        0.0383   \n",
       "2         0.701   0.790    -6.160       0.0725        0.3010   \n",
       "3         0.582   0.462    -9.882       0.0254        0.1370   \n",
       "4         0.769   0.367   -11.226       0.0312        0.6840   \n",
       "\n",
       "   instrumentalness  liveness  valence    tempo  key  mode  duration_ms  \\\n",
       "0          0.000010    0.0631    0.299  131.229    1     1       393640   \n",
       "1          0.031700    0.1280    0.931  136.302    2     1       222813   \n",
       "2          0.000061    0.1790    0.421   99.104    9     1       236547   \n",
       "3          0.000050    0.0755    0.528   96.361    6     0       255960   \n",
       "4          0.000016    0.0810    0.535  103.621    2     1       163756   \n",
       "\n",
       "   Popularity  Hit  \n",
       "0        77.0    1  \n",
       "1        78.0    1  \n",
       "2        61.0    1  \n",
       "3        47.0    1  \n",
       "4        80.0    1  "
      ]
     },
     "execution_count": 14,
     "metadata": {},
     "output_type": "execute_result"
    }
   ],
   "source": [
    "data.head(5)"
   ]
  },
  {
   "cell_type": "markdown",
   "metadata": {
    "id": "ps2JCReF_lra"
   },
   "source": [
    "# Checking for null values"
   ]
  },
  {
   "cell_type": "code",
   "execution_count": null,
   "metadata": {
    "id": "8QbUgQyr_ilO"
   },
   "outputs": [],
   "source": [
    "df = data.copy()"
   ]
  },
  {
   "cell_type": "code",
   "execution_count": null,
   "metadata": {
    "colab": {
     "base_uri": "https://localhost:8080/"
    },
    "executionInfo": {
     "elapsed": 214,
     "status": "ok",
     "timestamp": 1686311452076,
     "user": {
      "displayName": "Timo Günther",
      "userId": "10776521663799464357"
     },
     "user_tz": -120
    },
    "id": "4-h9HDuQ_p0W",
    "outputId": "83a48a4c-6067-4d01-a958-f709268afbb1"
   },
   "outputs": [
    {
     "data": {
      "text/plain": [
       "lyrics              0\n",
       "title               0\n",
       "artist              0\n",
       "TrackID             0\n",
       "danceability        0\n",
       "energy              0\n",
       "loudness            0\n",
       "speechiness         0\n",
       "acousticness        0\n",
       "instrumentalness    0\n",
       "liveness            0\n",
       "valence             0\n",
       "tempo               0\n",
       "key                 0\n",
       "mode                0\n",
       "duration_ms         0\n",
       "Popularity          0\n",
       "Hit                 0\n",
       "dtype: int64"
      ]
     },
     "execution_count": 16,
     "metadata": {},
     "output_type": "execute_result"
    }
   ],
   "source": [
    "df.isna().sum()"
   ]
  },
  {
   "cell_type": "markdown",
   "metadata": {
    "id": "xYTpWYqc_vIV"
   },
   "source": [
    "# Getting insights of the data and its features"
   ]
  },
  {
   "cell_type": "code",
   "execution_count": null,
   "metadata": {
    "colab": {
     "base_uri": "https://localhost:8080/"
    },
    "executionInfo": {
     "elapsed": 232,
     "status": "ok",
     "timestamp": 1686311476905,
     "user": {
      "displayName": "Timo Günther",
      "userId": "10776521663799464357"
     },
     "user_tz": -120
    },
    "id": "YaaKohO5_rq0",
    "outputId": "947d44c8-ce6c-4b25-8f5a-9b644120eb02"
   },
   "outputs": [
    {
     "name": "stdout",
     "output_type": "stream",
     "text": [
      "<class 'pandas.core.frame.DataFrame'>\n",
      "RangeIndex: 1801 entries, 0 to 1800\n",
      "Data columns (total 18 columns):\n",
      " #   Column            Non-Null Count  Dtype  \n",
      "---  ------            --------------  -----  \n",
      " 0   lyrics            1801 non-null   object \n",
      " 1   title             1801 non-null   object \n",
      " 2   artist            1801 non-null   object \n",
      " 3   TrackID           1801 non-null   object \n",
      " 4   danceability      1801 non-null   float64\n",
      " 5   energy            1801 non-null   float64\n",
      " 6   loudness          1801 non-null   float64\n",
      " 7   speechiness       1801 non-null   float64\n",
      " 8   acousticness      1801 non-null   float64\n",
      " 9   instrumentalness  1801 non-null   float64\n",
      " 10  liveness          1801 non-null   float64\n",
      " 11  valence           1801 non-null   float64\n",
      " 12  tempo             1801 non-null   float64\n",
      " 13  key               1801 non-null   int64  \n",
      " 14  mode              1801 non-null   int64  \n",
      " 15  duration_ms       1801 non-null   int64  \n",
      " 16  Popularity        1801 non-null   float64\n",
      " 17  Hit               1801 non-null   int64  \n",
      "dtypes: float64(10), int64(4), object(4)\n",
      "memory usage: 253.4+ KB\n"
     ]
    }
   ],
   "source": [
    "df.info()"
   ]
  },
  {
   "cell_type": "code",
   "execution_count": null,
   "metadata": {
    "colab": {
     "base_uri": "https://localhost:8080/",
     "height": 364
    },
    "executionInfo": {
     "elapsed": 282,
     "status": "ok",
     "timestamp": 1686311497947,
     "user": {
      "displayName": "Timo Günther",
      "userId": "10776521663799464357"
     },
     "user_tz": -120
    },
    "id": "J_OYn_Q8_xuD",
    "outputId": "d1a699f5-7850-40c4-ab0d-a0499b1ef171"
   },
   "outputs": [
    {
     "data": {
      "text/html": [
       "\n",
       "  <div id=\"df-ef54468f-f88b-4b4a-85aa-21ddfe6885f5\">\n",
       "    <div class=\"colab-df-container\">\n",
       "      <div>\n",
       "<style scoped>\n",
       "    .dataframe tbody tr th:only-of-type {\n",
       "        vertical-align: middle;\n",
       "    }\n",
       "\n",
       "    .dataframe tbody tr th {\n",
       "        vertical-align: top;\n",
       "    }\n",
       "\n",
       "    .dataframe thead th {\n",
       "        text-align: right;\n",
       "    }\n",
       "</style>\n",
       "<table border=\"1\" class=\"dataframe\">\n",
       "  <thead>\n",
       "    <tr style=\"text-align: right;\">\n",
       "      <th></th>\n",
       "      <th>danceability</th>\n",
       "      <th>energy</th>\n",
       "      <th>loudness</th>\n",
       "      <th>speechiness</th>\n",
       "      <th>acousticness</th>\n",
       "      <th>instrumentalness</th>\n",
       "      <th>liveness</th>\n",
       "      <th>valence</th>\n",
       "      <th>tempo</th>\n",
       "      <th>key</th>\n",
       "      <th>mode</th>\n",
       "      <th>duration_ms</th>\n",
       "      <th>Popularity</th>\n",
       "      <th>Hit</th>\n",
       "    </tr>\n",
       "  </thead>\n",
       "  <tbody>\n",
       "    <tr>\n",
       "      <th>count</th>\n",
       "      <td>1801.000000</td>\n",
       "      <td>1801.000000</td>\n",
       "      <td>1801.00000</td>\n",
       "      <td>1801.000000</td>\n",
       "      <td>1801.000000</td>\n",
       "      <td>1801.000000</td>\n",
       "      <td>1801.000000</td>\n",
       "      <td>1801.000000</td>\n",
       "      <td>1801.000000</td>\n",
       "      <td>1801.000000</td>\n",
       "      <td>1801.000000</td>\n",
       "      <td>1801.000000</td>\n",
       "      <td>1801.000000</td>\n",
       "      <td>1801.000000</td>\n",
       "    </tr>\n",
       "    <tr>\n",
       "      <th>mean</th>\n",
       "      <td>0.620918</td>\n",
       "      <td>0.627535</td>\n",
       "      <td>-8.40445</td>\n",
       "      <td>0.065548</td>\n",
       "      <td>0.253917</td>\n",
       "      <td>0.014662</td>\n",
       "      <td>0.177682</td>\n",
       "      <td>0.609702</td>\n",
       "      <td>119.029904</td>\n",
       "      <td>5.255414</td>\n",
       "      <td>0.717379</td>\n",
       "      <td>238226.549139</td>\n",
       "      <td>60.091616</td>\n",
       "      <td>0.506385</td>\n",
       "    </tr>\n",
       "    <tr>\n",
       "      <th>std</th>\n",
       "      <td>0.151051</td>\n",
       "      <td>0.196532</td>\n",
       "      <td>3.54855</td>\n",
       "      <td>0.068454</td>\n",
       "      <td>0.257091</td>\n",
       "      <td>0.081908</td>\n",
       "      <td>0.148918</td>\n",
       "      <td>0.241335</td>\n",
       "      <td>27.471619</td>\n",
       "      <td>3.558441</td>\n",
       "      <td>0.450399</td>\n",
       "      <td>62016.504439</td>\n",
       "      <td>16.570118</td>\n",
       "      <td>0.500098</td>\n",
       "    </tr>\n",
       "    <tr>\n",
       "      <th>min</th>\n",
       "      <td>0.000000</td>\n",
       "      <td>0.026400</td>\n",
       "      <td>-24.33600</td>\n",
       "      <td>0.000000</td>\n",
       "      <td>0.000024</td>\n",
       "      <td>0.000000</td>\n",
       "      <td>0.018200</td>\n",
       "      <td>0.000000</td>\n",
       "      <td>0.000000</td>\n",
       "      <td>0.000000</td>\n",
       "      <td>0.000000</td>\n",
       "      <td>78200.000000</td>\n",
       "      <td>0.000000</td>\n",
       "      <td>0.000000</td>\n",
       "    </tr>\n",
       "    <tr>\n",
       "      <th>25%</th>\n",
       "      <td>0.530000</td>\n",
       "      <td>0.490000</td>\n",
       "      <td>-10.78200</td>\n",
       "      <td>0.031700</td>\n",
       "      <td>0.041900</td>\n",
       "      <td>0.000000</td>\n",
       "      <td>0.083800</td>\n",
       "      <td>0.424000</td>\n",
       "      <td>99.009000</td>\n",
       "      <td>2.000000</td>\n",
       "      <td>0.000000</td>\n",
       "      <td>201827.000000</td>\n",
       "      <td>51.000000</td>\n",
       "      <td>0.000000</td>\n",
       "    </tr>\n",
       "    <tr>\n",
       "      <th>50%</th>\n",
       "      <td>0.633000</td>\n",
       "      <td>0.643000</td>\n",
       "      <td>-7.78300</td>\n",
       "      <td>0.040500</td>\n",
       "      <td>0.154000</td>\n",
       "      <td>0.000003</td>\n",
       "      <td>0.120000</td>\n",
       "      <td>0.639000</td>\n",
       "      <td>117.287000</td>\n",
       "      <td>5.000000</td>\n",
       "      <td>1.000000</td>\n",
       "      <td>234000.000000</td>\n",
       "      <td>63.000000</td>\n",
       "      <td>1.000000</td>\n",
       "    </tr>\n",
       "    <tr>\n",
       "      <th>75%</th>\n",
       "      <td>0.725000</td>\n",
       "      <td>0.788000</td>\n",
       "      <td>-5.56200</td>\n",
       "      <td>0.061900</td>\n",
       "      <td>0.409000</td>\n",
       "      <td>0.000260</td>\n",
       "      <td>0.227000</td>\n",
       "      <td>0.813000</td>\n",
       "      <td>132.923000</td>\n",
       "      <td>8.000000</td>\n",
       "      <td>1.000000</td>\n",
       "      <td>266867.000000</td>\n",
       "      <td>72.000000</td>\n",
       "      <td>1.000000</td>\n",
       "    </tr>\n",
       "    <tr>\n",
       "      <th>max</th>\n",
       "      <td>0.975000</td>\n",
       "      <td>0.997000</td>\n",
       "      <td>-1.35700</td>\n",
       "      <td>0.576000</td>\n",
       "      <td>0.969000</td>\n",
       "      <td>0.929000</td>\n",
       "      <td>0.958000</td>\n",
       "      <td>0.985000</td>\n",
       "      <td>210.851000</td>\n",
       "      <td>11.000000</td>\n",
       "      <td>1.000000</td>\n",
       "      <td>830400.000000</td>\n",
       "      <td>90.000000</td>\n",
       "      <td>1.000000</td>\n",
       "    </tr>\n",
       "  </tbody>\n",
       "</table>\n",
       "</div>\n",
       "      <button class=\"colab-df-convert\" onclick=\"convertToInteractive('df-ef54468f-f88b-4b4a-85aa-21ddfe6885f5')\"\n",
       "              title=\"Convert this dataframe to an interactive table.\"\n",
       "              style=\"display:none;\">\n",
       "        \n",
       "  <svg xmlns=\"http://www.w3.org/2000/svg\" height=\"24px\"viewBox=\"0 0 24 24\"\n",
       "       width=\"24px\">\n",
       "    <path d=\"M0 0h24v24H0V0z\" fill=\"none\"/>\n",
       "    <path d=\"M18.56 5.44l.94 2.06.94-2.06 2.06-.94-2.06-.94-.94-2.06-.94 2.06-2.06.94zm-11 1L8.5 8.5l.94-2.06 2.06-.94-2.06-.94L8.5 2.5l-.94 2.06-2.06.94zm10 10l.94 2.06.94-2.06 2.06-.94-2.06-.94-.94-2.06-.94 2.06-2.06.94z\"/><path d=\"M17.41 7.96l-1.37-1.37c-.4-.4-.92-.59-1.43-.59-.52 0-1.04.2-1.43.59L10.3 9.45l-7.72 7.72c-.78.78-.78 2.05 0 2.83L4 21.41c.39.39.9.59 1.41.59.51 0 1.02-.2 1.41-.59l7.78-7.78 2.81-2.81c.8-.78.8-2.07 0-2.86zM5.41 20L4 18.59l7.72-7.72 1.47 1.35L5.41 20z\"/>\n",
       "  </svg>\n",
       "      </button>\n",
       "      \n",
       "  <style>\n",
       "    .colab-df-container {\n",
       "      display:flex;\n",
       "      flex-wrap:wrap;\n",
       "      gap: 12px;\n",
       "    }\n",
       "\n",
       "    .colab-df-convert {\n",
       "      background-color: #E8F0FE;\n",
       "      border: none;\n",
       "      border-radius: 50%;\n",
       "      cursor: pointer;\n",
       "      display: none;\n",
       "      fill: #1967D2;\n",
       "      height: 32px;\n",
       "      padding: 0 0 0 0;\n",
       "      width: 32px;\n",
       "    }\n",
       "\n",
       "    .colab-df-convert:hover {\n",
       "      background-color: #E2EBFA;\n",
       "      box-shadow: 0px 1px 2px rgba(60, 64, 67, 0.3), 0px 1px 3px 1px rgba(60, 64, 67, 0.15);\n",
       "      fill: #174EA6;\n",
       "    }\n",
       "\n",
       "    [theme=dark] .colab-df-convert {\n",
       "      background-color: #3B4455;\n",
       "      fill: #D2E3FC;\n",
       "    }\n",
       "\n",
       "    [theme=dark] .colab-df-convert:hover {\n",
       "      background-color: #434B5C;\n",
       "      box-shadow: 0px 1px 3px 1px rgba(0, 0, 0, 0.15);\n",
       "      filter: drop-shadow(0px 1px 2px rgba(0, 0, 0, 0.3));\n",
       "      fill: #FFFFFF;\n",
       "    }\n",
       "  </style>\n",
       "\n",
       "      <script>\n",
       "        const buttonEl =\n",
       "          document.querySelector('#df-ef54468f-f88b-4b4a-85aa-21ddfe6885f5 button.colab-df-convert');\n",
       "        buttonEl.style.display =\n",
       "          google.colab.kernel.accessAllowed ? 'block' : 'none';\n",
       "\n",
       "        async function convertToInteractive(key) {\n",
       "          const element = document.querySelector('#df-ef54468f-f88b-4b4a-85aa-21ddfe6885f5');\n",
       "          const dataTable =\n",
       "            await google.colab.kernel.invokeFunction('convertToInteractive',\n",
       "                                                     [key], {});\n",
       "          if (!dataTable) return;\n",
       "\n",
       "          const docLinkHtml = 'Like what you see? Visit the ' +\n",
       "            '<a target=\"_blank\" href=https://colab.research.google.com/notebooks/data_table.ipynb>data table notebook</a>'\n",
       "            + ' to learn more about interactive tables.';\n",
       "          element.innerHTML = '';\n",
       "          dataTable['output_type'] = 'display_data';\n",
       "          await google.colab.output.renderOutput(dataTable, element);\n",
       "          const docLink = document.createElement('div');\n",
       "          docLink.innerHTML = docLinkHtml;\n",
       "          element.appendChild(docLink);\n",
       "        }\n",
       "      </script>\n",
       "    </div>\n",
       "  </div>\n",
       "  "
      ],
      "text/plain": [
       "       danceability       energy    loudness  speechiness  acousticness  \\\n",
       "count   1801.000000  1801.000000  1801.00000  1801.000000   1801.000000   \n",
       "mean       0.620918     0.627535    -8.40445     0.065548      0.253917   \n",
       "std        0.151051     0.196532     3.54855     0.068454      0.257091   \n",
       "min        0.000000     0.026400   -24.33600     0.000000      0.000024   \n",
       "25%        0.530000     0.490000   -10.78200     0.031700      0.041900   \n",
       "50%        0.633000     0.643000    -7.78300     0.040500      0.154000   \n",
       "75%        0.725000     0.788000    -5.56200     0.061900      0.409000   \n",
       "max        0.975000     0.997000    -1.35700     0.576000      0.969000   \n",
       "\n",
       "       instrumentalness     liveness      valence        tempo          key  \\\n",
       "count       1801.000000  1801.000000  1801.000000  1801.000000  1801.000000   \n",
       "mean           0.014662     0.177682     0.609702   119.029904     5.255414   \n",
       "std            0.081908     0.148918     0.241335    27.471619     3.558441   \n",
       "min            0.000000     0.018200     0.000000     0.000000     0.000000   \n",
       "25%            0.000000     0.083800     0.424000    99.009000     2.000000   \n",
       "50%            0.000003     0.120000     0.639000   117.287000     5.000000   \n",
       "75%            0.000260     0.227000     0.813000   132.923000     8.000000   \n",
       "max            0.929000     0.958000     0.985000   210.851000    11.000000   \n",
       "\n",
       "              mode    duration_ms   Popularity          Hit  \n",
       "count  1801.000000    1801.000000  1801.000000  1801.000000  \n",
       "mean      0.717379  238226.549139    60.091616     0.506385  \n",
       "std       0.450399   62016.504439    16.570118     0.500098  \n",
       "min       0.000000   78200.000000     0.000000     0.000000  \n",
       "25%       0.000000  201827.000000    51.000000     0.000000  \n",
       "50%       1.000000  234000.000000    63.000000     1.000000  \n",
       "75%       1.000000  266867.000000    72.000000     1.000000  \n",
       "max       1.000000  830400.000000    90.000000     1.000000  "
      ]
     },
     "execution_count": 18,
     "metadata": {},
     "output_type": "execute_result"
    }
   ],
   "source": [
    "df.describe()"
   ]
  },
  {
   "cell_type": "code",
   "execution_count": null,
   "metadata": {
    "colab": {
     "base_uri": "https://localhost:8080/"
    },
    "executionInfo": {
     "elapsed": 4,
     "status": "ok",
     "timestamp": 1686311508270,
     "user": {
      "displayName": "Timo Günther",
      "userId": "10776521663799464357"
     },
     "user_tz": -120
    },
    "id": "BMY7EyLR_22Z",
    "outputId": "05044b51-3c88-49f0-d636-b839c8cfa29a"
   },
   "outputs": [
    {
     "data": {
      "text/plain": [
       "lyrics              1797\n",
       "title               1740\n",
       "artist               857\n",
       "TrackID             1798\n",
       "danceability         595\n",
       "energy               700\n",
       "loudness            1658\n",
       "speechiness          649\n",
       "acousticness        1123\n",
       "instrumentalness     899\n",
       "liveness             792\n",
       "valence              760\n",
       "tempo               1774\n",
       "key                   12\n",
       "mode                   2\n",
       "duration_ms         1696\n",
       "Popularity            86\n",
       "Hit                    2\n",
       "dtype: int64"
      ]
     },
     "execution_count": 19,
     "metadata": {},
     "output_type": "execute_result"
    }
   ],
   "source": [
    "df.nunique()"
   ]
  },
  {
   "cell_type": "code",
   "execution_count": null,
   "metadata": {
    "colab": {
     "base_uri": "https://localhost:8080/"
    },
    "executionInfo": {
     "elapsed": 215,
     "status": "ok",
     "timestamp": 1686311528759,
     "user": {
      "displayName": "Timo Günther",
      "userId": "10776521663799464357"
     },
     "user_tz": -120
    },
    "id": "k4duwzCx_5ah",
    "outputId": "663adb3f-cedc-4782-8b4b-5e625e47773a"
   },
   "outputs": [
    {
     "data": {
      "text/plain": [
       "1    912\n",
       "0    889\n",
       "Name: Hit, dtype: int64"
      ]
     },
     "execution_count": 20,
     "metadata": {},
     "output_type": "execute_result"
    }
   ],
   "source": [
    "df.Hit.value_counts()"
   ]
  },
  {
   "cell_type": "markdown",
   "metadata": {
    "id": "LrOtAYAJACol"
   },
   "source": [
    "# Correlation Matrix"
   ]
  },
  {
   "cell_type": "code",
   "execution_count": null,
   "metadata": {
    "colab": {
     "base_uri": "https://localhost:8080/",
     "height": 753
    },
    "executionInfo": {
     "elapsed": 4080,
     "status": "ok",
     "timestamp": 1686311565035,
     "user": {
      "displayName": "Timo Günther",
      "userId": "10776521663799464357"
     },
     "user_tz": -120
    },
    "id": "82AfvfB8_-XI",
    "outputId": "d735552e-ec54-45d4-ad75-dbed2f673464"
   },
   "outputs": [
    {
     "name": "stderr",
     "output_type": "stream",
     "text": [
      "<ipython-input-21-cb2350b31a03>:2: FutureWarning: The default value of numeric_only in DataFrame.corr is deprecated. In a future version, it will default to False. Select only valid columns or specify the value of numeric_only to silence this warning.\n",
      "  correl = df.corr()\n"
     ]
    },
    {
     "data": {
      "text/plain": [
       "<Axes: >"
      ]
     },
     "execution_count": 21,
     "metadata": {},
     "output_type": "execute_result"
    },
    {
     "data": {
      "image/png": "[encoded data removed]",
      "text/plain": [
       "<Figure size 1400x1400 with 2 Axes>"
      ]
     },
     "metadata": {},
     "output_type": "display_data"
    }
   ],
   "source": [
    "plt.figure(figsize=(14,14))\n",
    "correl = df.corr()\n",
    "sns.heatmap(correl,annot=True)"
   ]
  },
  {
   "cell_type": "code",
   "execution_count": null,
   "metadata": {
    "colab": {
     "base_uri": "https://localhost:8080/",
     "height": 552
    },
    "executionInfo": {
     "elapsed": 7,
     "status": "ok",
     "timestamp": 1686311586909,
     "user": {
      "displayName": "Timo Günther",
      "userId": "10776521663799464357"
     },
     "user_tz": -120
    },
    "id": "AwMNLKgdAGS6",
    "outputId": "b9e1839b-134b-4ae9-ab4c-03571484b32d"
   },
   "outputs": [
    {
     "data": {
      "text/html": [
       "\n",
       "  <div id=\"df-a1a893cd-f982-4712-b458-af6d678d753b\">\n",
       "    <div class=\"colab-df-container\">\n",
       "      <div>\n",
       "<style scoped>\n",
       "    .dataframe tbody tr th:only-of-type {\n",
       "        vertical-align: middle;\n",
       "    }\n",
       "\n",
       "    .dataframe tbody tr th {\n",
       "        vertical-align: top;\n",
       "    }\n",
       "\n",
       "    .dataframe thead th {\n",
       "        text-align: right;\n",
       "    }\n",
       "</style>\n",
       "<table border=\"1\" class=\"dataframe\">\n",
       "  <thead>\n",
       "    <tr style=\"text-align: right;\">\n",
       "      <th></th>\n",
       "      <th>danceability</th>\n",
       "      <th>energy</th>\n",
       "      <th>loudness</th>\n",
       "      <th>speechiness</th>\n",
       "      <th>acousticness</th>\n",
       "      <th>instrumentalness</th>\n",
       "      <th>liveness</th>\n",
       "      <th>valence</th>\n",
       "      <th>tempo</th>\n",
       "      <th>key</th>\n",
       "      <th>mode</th>\n",
       "      <th>duration_ms</th>\n",
       "      <th>Popularity</th>\n",
       "      <th>Hit</th>\n",
       "    </tr>\n",
       "  </thead>\n",
       "  <tbody>\n",
       "    <tr>\n",
       "      <th>danceability</th>\n",
       "      <td>1.000000</td>\n",
       "      <td>0.182428</td>\n",
       "      <td>0.095086</td>\n",
       "      <td>0.208557</td>\n",
       "      <td>-0.276779</td>\n",
       "      <td>0.024106</td>\n",
       "      <td>-0.095157</td>\n",
       "      <td>0.472004</td>\n",
       "      <td>-0.195185</td>\n",
       "      <td>0.017778</td>\n",
       "      <td>-0.192959</td>\n",
       "      <td>0.077231</td>\n",
       "      <td>0.097884</td>\n",
       "      <td>0.101748</td>\n",
       "    </tr>\n",
       "    <tr>\n",
       "      <th>energy</th>\n",
       "      <td>0.182428</td>\n",
       "      <td>1.000000</td>\n",
       "      <td>0.712304</td>\n",
       "      <td>0.158530</td>\n",
       "      <td>-0.605548</td>\n",
       "      <td>0.049811</td>\n",
       "      <td>0.126605</td>\n",
       "      <td>0.387512</td>\n",
       "      <td>0.121230</td>\n",
       "      <td>0.006101</td>\n",
       "      <td>-0.131870</td>\n",
       "      <td>0.023410</td>\n",
       "      <td>0.142631</td>\n",
       "      <td>-0.013925</td>\n",
       "    </tr>\n",
       "    <tr>\n",
       "      <th>loudness</th>\n",
       "      <td>0.095086</td>\n",
       "      <td>0.712304</td>\n",
       "      <td>1.000000</td>\n",
       "      <td>0.160644</td>\n",
       "      <td>-0.429981</td>\n",
       "      <td>-0.071859</td>\n",
       "      <td>0.069698</td>\n",
       "      <td>0.076098</td>\n",
       "      <td>0.058094</td>\n",
       "      <td>0.002820</td>\n",
       "      <td>-0.098064</td>\n",
       "      <td>-0.023060</td>\n",
       "      <td>0.229280</td>\n",
       "      <td>0.054933</td>\n",
       "    </tr>\n",
       "    <tr>\n",
       "      <th>speechiness</th>\n",
       "      <td>0.208557</td>\n",
       "      <td>0.158530</td>\n",
       "      <td>0.160644</td>\n",
       "      <td>1.000000</td>\n",
       "      <td>-0.180764</td>\n",
       "      <td>-0.028150</td>\n",
       "      <td>0.103860</td>\n",
       "      <td>0.106324</td>\n",
       "      <td>0.029052</td>\n",
       "      <td>0.022879</td>\n",
       "      <td>-0.109627</td>\n",
       "      <td>0.020300</td>\n",
       "      <td>0.041475</td>\n",
       "      <td>0.002102</td>\n",
       "    </tr>\n",
       "    <tr>\n",
       "      <th>acousticness</th>\n",
       "      <td>-0.276779</td>\n",
       "      <td>-0.605548</td>\n",
       "      <td>-0.429981</td>\n",
       "      <td>-0.180764</td>\n",
       "      <td>1.000000</td>\n",
       "      <td>-0.032947</td>\n",
       "      <td>0.004185</td>\n",
       "      <td>-0.226964</td>\n",
       "      <td>-0.094245</td>\n",
       "      <td>-0.002150</td>\n",
       "      <td>0.176800</td>\n",
       "      <td>-0.188602</td>\n",
       "      <td>-0.195651</td>\n",
       "      <td>0.016847</td>\n",
       "    </tr>\n",
       "    <tr>\n",
       "      <th>instrumentalness</th>\n",
       "      <td>0.024106</td>\n",
       "      <td>0.049811</td>\n",
       "      <td>-0.071859</td>\n",
       "      <td>-0.028150</td>\n",
       "      <td>-0.032947</td>\n",
       "      <td>1.000000</td>\n",
       "      <td>0.025930</td>\n",
       "      <td>0.046238</td>\n",
       "      <td>0.031864</td>\n",
       "      <td>0.026888</td>\n",
       "      <td>-0.027200</td>\n",
       "      <td>0.057365</td>\n",
       "      <td>-0.018748</td>\n",
       "      <td>-0.047988</td>\n",
       "    </tr>\n",
       "    <tr>\n",
       "      <th>liveness</th>\n",
       "      <td>-0.095157</td>\n",
       "      <td>0.126605</td>\n",
       "      <td>0.069698</td>\n",
       "      <td>0.103860</td>\n",
       "      <td>0.004185</td>\n",
       "      <td>0.025930</td>\n",
       "      <td>1.000000</td>\n",
       "      <td>0.014874</td>\n",
       "      <td>-0.015463</td>\n",
       "      <td>0.009751</td>\n",
       "      <td>0.028011</td>\n",
       "      <td>-0.071168</td>\n",
       "      <td>-0.084678</td>\n",
       "      <td>-0.044479</td>\n",
       "    </tr>\n",
       "    <tr>\n",
       "      <th>valence</th>\n",
       "      <td>0.472004</td>\n",
       "      <td>0.387512</td>\n",
       "      <td>0.076098</td>\n",
       "      <td>0.106324</td>\n",
       "      <td>-0.226964</td>\n",
       "      <td>0.046238</td>\n",
       "      <td>0.014874</td>\n",
       "      <td>1.000000</td>\n",
       "      <td>0.052633</td>\n",
       "      <td>0.030809</td>\n",
       "      <td>-0.115140</td>\n",
       "      <td>-0.169408</td>\n",
       "      <td>-0.066597</td>\n",
       "      <td>-0.002313</td>\n",
       "    </tr>\n",
       "    <tr>\n",
       "      <th>tempo</th>\n",
       "      <td>-0.195185</td>\n",
       "      <td>0.121230</td>\n",
       "      <td>0.058094</td>\n",
       "      <td>0.029052</td>\n",
       "      <td>-0.094245</td>\n",
       "      <td>0.031864</td>\n",
       "      <td>-0.015463</td>\n",
       "      <td>0.052633</td>\n",
       "      <td>1.000000</td>\n",
       "      <td>-0.034448</td>\n",
       "      <td>0.037303</td>\n",
       "      <td>-0.045535</td>\n",
       "      <td>0.018591</td>\n",
       "      <td>-0.045556</td>\n",
       "    </tr>\n",
       "    <tr>\n",
       "      <th>key</th>\n",
       "      <td>0.017778</td>\n",
       "      <td>0.006101</td>\n",
       "      <td>0.002820</td>\n",
       "      <td>0.022879</td>\n",
       "      <td>-0.002150</td>\n",
       "      <td>0.026888</td>\n",
       "      <td>0.009751</td>\n",
       "      <td>0.030809</td>\n",
       "      <td>-0.034448</td>\n",
       "      <td>1.000000</td>\n",
       "      <td>-0.092896</td>\n",
       "      <td>-0.002883</td>\n",
       "      <td>0.017608</td>\n",
       "      <td>-0.037130</td>\n",
       "    </tr>\n",
       "    <tr>\n",
       "      <th>mode</th>\n",
       "      <td>-0.192959</td>\n",
       "      <td>-0.131870</td>\n",
       "      <td>-0.098064</td>\n",
       "      <td>-0.109627</td>\n",
       "      <td>0.176800</td>\n",
       "      <td>-0.027200</td>\n",
       "      <td>0.028011</td>\n",
       "      <td>-0.115140</td>\n",
       "      <td>0.037303</td>\n",
       "      <td>-0.092896</td>\n",
       "      <td>1.000000</td>\n",
       "      <td>-0.103795</td>\n",
       "      <td>-0.109007</td>\n",
       "      <td>-0.037613</td>\n",
       "    </tr>\n",
       "    <tr>\n",
       "      <th>duration_ms</th>\n",
       "      <td>0.077231</td>\n",
       "      <td>0.023410</td>\n",
       "      <td>-0.023060</td>\n",
       "      <td>0.020300</td>\n",
       "      <td>-0.188602</td>\n",
       "      <td>0.057365</td>\n",
       "      <td>-0.071168</td>\n",
       "      <td>-0.169408</td>\n",
       "      <td>-0.045535</td>\n",
       "      <td>-0.002883</td>\n",
       "      <td>-0.103795</td>\n",
       "      <td>1.000000</td>\n",
       "      <td>0.071396</td>\n",
       "      <td>-0.027134</td>\n",
       "    </tr>\n",
       "    <tr>\n",
       "      <th>Popularity</th>\n",
       "      <td>0.097884</td>\n",
       "      <td>0.142631</td>\n",
       "      <td>0.229280</td>\n",
       "      <td>0.041475</td>\n",
       "      <td>-0.195651</td>\n",
       "      <td>-0.018748</td>\n",
       "      <td>-0.084678</td>\n",
       "      <td>-0.066597</td>\n",
       "      <td>0.018591</td>\n",
       "      <td>0.017608</td>\n",
       "      <td>-0.109007</td>\n",
       "      <td>0.071396</td>\n",
       "      <td>1.000000</td>\n",
       "      <td>0.375264</td>\n",
       "    </tr>\n",
       "    <tr>\n",
       "      <th>Hit</th>\n",
       "      <td>0.101748</td>\n",
       "      <td>-0.013925</td>\n",
       "      <td>0.054933</td>\n",
       "      <td>0.002102</td>\n",
       "      <td>0.016847</td>\n",
       "      <td>-0.047988</td>\n",
       "      <td>-0.044479</td>\n",
       "      <td>-0.002313</td>\n",
       "      <td>-0.045556</td>\n",
       "      <td>-0.037130</td>\n",
       "      <td>-0.037613</td>\n",
       "      <td>-0.027134</td>\n",
       "      <td>0.375264</td>\n",
       "      <td>1.000000</td>\n",
       "    </tr>\n",
       "  </tbody>\n",
       "</table>\n",
       "</div>\n",
       "      <button class=\"colab-df-convert\" onclick=\"convertToInteractive('df-a1a893cd-f982-4712-b458-af6d678d753b')\"\n",
       "              title=\"Convert this dataframe to an interactive table.\"\n",
       "              style=\"display:none;\">\n",
       "        \n",
       "  <svg xmlns=\"http://www.w3.org/2000/svg\" height=\"24px\"viewBox=\"0 0 24 24\"\n",
       "       width=\"24px\">\n",
       "    <path d=\"M0 0h24v24H0V0z\" fill=\"none\"/>\n",
       "    <path d=\"M18.56 5.44l.94 2.06.94-2.06 2.06-.94-2.06-.94-.94-2.06-.94 2.06-2.06.94zm-11 1L8.5 8.5l.94-2.06 2.06-.94-2.06-.94L8.5 2.5l-.94 2.06-2.06.94zm10 10l.94 2.06.94-2.06 2.06-.94-2.06-.94-.94-2.06-.94 2.06-2.06.94z\"/><path d=\"M17.41 7.96l-1.37-1.37c-.4-.4-.92-.59-1.43-.59-.52 0-1.04.2-1.43.59L10.3 9.45l-7.72 7.72c-.78.78-.78 2.05 0 2.83L4 21.41c.39.39.9.59 1.41.59.51 0 1.02-.2 1.41-.59l7.78-7.78 2.81-2.81c.8-.78.8-2.07 0-2.86zM5.41 20L4 18.59l7.72-7.72 1.47 1.35L5.41 20z\"/>\n",
       "  </svg>\n",
       "      </button>\n",
       "      \n",
       "  <style>\n",
       "    .colab-df-container {\n",
       "      display:flex;\n",
       "      flex-wrap:wrap;\n",
       "      gap: 12px;\n",
       "    }\n",
       "\n",
       "    .colab-df-convert {\n",
       "      background-color: #E8F0FE;\n",
       "      border: none;\n",
       "      border-radius: 50%;\n",
       "      cursor: pointer;\n",
       "      display: none;\n",
       "      fill: #1967D2;\n",
       "      height: 32px;\n",
       "      padding: 0 0 0 0;\n",
       "      width: 32px;\n",
       "    }\n",
       "\n",
       "    .colab-df-convert:hover {\n",
       "      background-color: #E2EBFA;\n",
       "      box-shadow: 0px 1px 2px rgba(60, 64, 67, 0.3), 0px 1px 3px 1px rgba(60, 64, 67, 0.15);\n",
       "      fill: #174EA6;\n",
       "    }\n",
       "\n",
       "    [theme=dark] .colab-df-convert {\n",
       "      background-color: #3B4455;\n",
       "      fill: #D2E3FC;\n",
       "    }\n",
       "\n",
       "    [theme=dark] .colab-df-convert:hover {\n",
       "      background-color: #434B5C;\n",
       "      box-shadow: 0px 1px 3px 1px rgba(0, 0, 0, 0.15);\n",
       "      filter: drop-shadow(0px 1px 2px rgba(0, 0, 0, 0.3));\n",
       "      fill: #FFFFFF;\n",
       "    }\n",
       "  </style>\n",
       "\n",
       "      <script>\n",
       "        const buttonEl =\n",
       "          document.querySelector('#df-a1a893cd-f982-4712-b458-af6d678d753b button.colab-df-convert');\n",
       "        buttonEl.style.display =\n",
       "          google.colab.kernel.accessAllowed ? 'block' : 'none';\n",
       "\n",
       "        async function convertToInteractive(key) {\n",
       "          const element = document.querySelector('#df-a1a893cd-f982-4712-b458-af6d678d753b');\n",
       "          const dataTable =\n",
       "            await google.colab.kernel.invokeFunction('convertToInteractive',\n",
       "                                                     [key], {});\n",
       "          if (!dataTable) return;\n",
       "\n",
       "          const docLinkHtml = 'Like what you see? Visit the ' +\n",
       "            '<a target=\"_blank\" href=https://colab.research.google.com/notebooks/data_table.ipynb>data table notebook</a>'\n",
       "            + ' to learn more about interactive tables.';\n",
       "          element.innerHTML = '';\n",
       "          dataTable['output_type'] = 'display_data';\n",
       "          await google.colab.output.renderOutput(dataTable, element);\n",
       "          const docLink = document.createElement('div');\n",
       "          docLink.innerHTML = docLinkHtml;\n",
       "          element.appendChild(docLink);\n",
       "        }\n",
       "      </script>\n",
       "    </div>\n",
       "  </div>\n",
       "  "
      ],
      "text/plain": [
       "                  danceability    energy  loudness  speechiness  acousticness  \\\n",
       "danceability          1.000000  0.182428  0.095086     0.208557     -0.276779   \n",
       "energy                0.182428  1.000000  0.712304     0.158530     -0.605548   \n",
       "loudness              0.095086  0.712304  1.000000     0.160644     -0.429981   \n",
       "speechiness           0.208557  0.158530  0.160644     1.000000     -0.180764   \n",
       "acousticness         -0.276779 -0.605548 -0.429981    -0.180764      1.000000   \n",
       "instrumentalness      0.024106  0.049811 -0.071859    -0.028150     -0.032947   \n",
       "liveness             -0.095157  0.126605  0.069698     0.103860      0.004185   \n",
       "valence               0.472004  0.387512  0.076098     0.106324     -0.226964   \n",
       "tempo                -0.195185  0.121230  0.058094     0.029052     -0.094245   \n",
       "key                   0.017778  0.006101  0.002820     0.022879     -0.002150   \n",
       "mode                 -0.192959 -0.131870 -0.098064    -0.109627      0.176800   \n",
       "duration_ms           0.077231  0.023410 -0.023060     0.020300     -0.188602   \n",
       "Popularity            0.097884  0.142631  0.229280     0.041475     -0.195651   \n",
       "Hit                   0.101748 -0.013925  0.054933     0.002102      0.016847   \n",
       "\n",
       "                  instrumentalness  liveness   valence     tempo       key  \\\n",
       "danceability              0.024106 -0.095157  0.472004 -0.195185  0.017778   \n",
       "energy                    0.049811  0.126605  0.387512  0.121230  0.006101   \n",
       "loudness                 -0.071859  0.069698  0.076098  0.058094  0.002820   \n",
       "speechiness              -0.028150  0.103860  0.106324  0.029052  0.022879   \n",
       "acousticness             -0.032947  0.004185 -0.226964 -0.094245 -0.002150   \n",
       "instrumentalness          1.000000  0.025930  0.046238  0.031864  0.026888   \n",
       "liveness                  0.025930  1.000000  0.014874 -0.015463  0.009751   \n",
       "valence                   0.046238  0.014874  1.000000  0.052633  0.030809   \n",
       "tempo                     0.031864 -0.015463  0.052633  1.000000 -0.034448   \n",
       "key                       0.026888  0.009751  0.030809 -0.034448  1.000000   \n",
       "mode                     -0.027200  0.028011 -0.115140  0.037303 -0.092896   \n",
       "duration_ms               0.057365 -0.071168 -0.169408 -0.045535 -0.002883   \n",
       "Popularity               -0.018748 -0.084678 -0.066597  0.018591  0.017608   \n",
       "Hit                      -0.047988 -0.044479 -0.002313 -0.045556 -0.037130   \n",
       "\n",
       "                      mode  duration_ms  Popularity       Hit  \n",
       "danceability     -0.192959     0.077231    0.097884  0.101748  \n",
       "energy           -0.131870     0.023410    0.142631 -0.013925  \n",
       "loudness         -0.098064    -0.023060    0.229280  0.054933  \n",
       "speechiness      -0.109627     0.020300    0.041475  0.002102  \n",
       "acousticness      0.176800    -0.188602   -0.195651  0.016847  \n",
       "instrumentalness -0.027200     0.057365   -0.018748 -0.047988  \n",
       "liveness          0.028011    -0.071168   -0.084678 -0.044479  \n",
       "valence          -0.115140    -0.169408   -0.066597 -0.002313  \n",
       "tempo             0.037303    -0.045535    0.018591 -0.045556  \n",
       "key              -0.092896    -0.002883    0.017608 -0.037130  \n",
       "mode              1.000000    -0.103795   -0.109007 -0.037613  \n",
       "duration_ms      -0.103795     1.000000    0.071396 -0.027134  \n",
       "Popularity       -0.109007     0.071396    1.000000  0.375264  \n",
       "Hit              -0.037613    -0.027134    0.375264  1.000000  "
      ]
     },
     "execution_count": 22,
     "metadata": {},
     "output_type": "execute_result"
    }
   ],
   "source": [
    "correl"
   ]
  },
  {
   "cell_type": "markdown",
   "metadata": {
    "id": "x3BMtX1AAQfc"
   },
   "source": [
    "# Seperative the categorical and numeric features"
   ]
  },
  {
   "cell_type": "code",
   "execution_count": null,
   "metadata": {
    "colab": {
     "base_uri": "https://localhost:8080/"
    },
    "executionInfo": {
     "elapsed": 220,
     "status": "ok",
     "timestamp": 1686311625347,
     "user": {
      "displayName": "Timo Günther",
      "userId": "10776521663799464357"
     },
     "user_tz": -120
    },
    "id": "AnqmVMDQAMmZ",
    "outputId": "5dea59bd-a771-493c-921b-22a214f9ec94"
   },
   "outputs": [
    {
     "data": {
      "text/plain": [
       "lyrics              1797\n",
       "title               1740\n",
       "artist               857\n",
       "TrackID             1798\n",
       "danceability         595\n",
       "energy               700\n",
       "loudness            1658\n",
       "speechiness          649\n",
       "acousticness        1123\n",
       "instrumentalness     899\n",
       "liveness             792\n",
       "valence              760\n",
       "tempo               1774\n",
       "key                   12\n",
       "mode                   2\n",
       "duration_ms         1696\n",
       "Popularity            86\n",
       "Hit                    2\n",
       "dtype: int64"
      ]
     },
     "execution_count": 23,
     "metadata": {},
     "output_type": "execute_result"
    }
   ],
   "source": [
    "df.nunique()"
   ]
  },
  {
   "cell_type": "code",
   "execution_count": null,
   "metadata": {
    "id": "aPJIR1dFAV77"
   },
   "outputs": [],
   "source": [
    "categorical = [x for x in df.columns if df[x].nunique()< 15]"
   ]
  },
  {
   "cell_type": "code",
   "execution_count": null,
   "metadata": {
    "colab": {
     "base_uri": "https://localhost:8080/"
    },
    "executionInfo": {
     "elapsed": 217,
     "status": "ok",
     "timestamp": 1686311645234,
     "user": {
      "displayName": "Timo Günther",
      "userId": "10776521663799464357"
     },
     "user_tz": -120
    },
    "id": "fDr8YVGiAYnV",
    "outputId": "b5b739db-319e-408d-94da-6f20f5878ce6"
   },
   "outputs": [
    {
     "data": {
      "text/plain": [
       "['key', 'mode', 'Hit']"
      ]
     },
     "execution_count": 25,
     "metadata": {},
     "output_type": "execute_result"
    }
   ],
   "source": [
    "categorical"
   ]
  },
  {
   "cell_type": "code",
   "execution_count": null,
   "metadata": {
    "id": "3-eYIT0JAa0t"
   },
   "outputs": [],
   "source": [
    "df = df.drop(['lyrics'],axis=1)"
   ]
  },
  {
   "cell_type": "code",
   "execution_count": null,
   "metadata": {
    "id": "h0JaysUxAf3K"
   },
   "outputs": [],
   "source": [
    "numeric = [x for x in df.columns if df[x].nunique() > 15]"
   ]
  },
  {
   "cell_type": "code",
   "execution_count": null,
   "metadata": {
    "colab": {
     "base_uri": "https://localhost:8080/"
    },
    "executionInfo": {
     "elapsed": 218,
     "status": "ok",
     "timestamp": 1686311859353,
     "user": {
      "displayName": "Timo Günther",
      "userId": "10776521663799464357"
     },
     "user_tz": -120
    },
    "id": "9nlRGGVQAhaH",
    "outputId": "760c0ea3-9a71-4095-db04-a8e34c0e7e59"
   },
   "outputs": [
    {
     "data": {
      "text/plain": [
       "['danceability',\n",
       " 'energy',\n",
       " 'loudness',\n",
       " 'speechiness',\n",
       " 'acousticness',\n",
       " 'instrumentalness',\n",
       " 'liveness',\n",
       " 'valence',\n",
       " 'tempo',\n",
       " 'duration_ms',\n",
       " 'Popularity']"
      ]
     },
     "execution_count": 34,
     "metadata": {},
     "output_type": "execute_result"
    }
   ],
   "source": [
    "numeric"
   ]
  },
  {
   "cell_type": "code",
   "execution_count": null,
   "metadata": {
    "colab": {
     "base_uri": "https://localhost:8080/",
     "height": 352
    },
    "executionInfo": {
     "elapsed": 1165,
     "status": "ok",
     "timestamp": 1686311869531,
     "user": {
      "displayName": "Timo Günther",
      "userId": "10776521663799464357"
     },
     "user_tz": -120
    },
    "id": "48dGCjNDAjr4",
    "outputId": "da54fb12-5d5b-4cd9-eb1b-46294ba3964c"
   },
   "outputs": [
    {
     "data": {
      "image/png": "[encoded data removed]",
      "text/plain": [
       "<Figure size 1800x2000 with 2 Axes>"
      ]
     },
     "metadata": {},
     "output_type": "display_data"
    }
   ],
   "source": [
    "plt.figure(figsize=(18,20))\n",
    "i = 1\n",
    "for features in categorical[:-1]:\n",
    "    plt.subplot(2,2,i)\n",
    "    sns.countplot(x=df[features],hue=data.Hit).set_title(features)\n",
    "    i=i+1\n",
    "plt.show()"
   ]
  },
  {
   "cell_type": "code",
   "execution_count": null,
   "metadata": {
    "colab": {
     "base_uri": "https://localhost:8080/",
     "height": 707
    },
    "executionInfo": {
     "elapsed": 3014,
     "status": "ok",
     "timestamp": 1686311876686,
     "user": {
      "displayName": "Timo Günther",
      "userId": "10776521663799464357"
     },
     "user_tz": -120
    },
    "id": "px6-7FpFA0Kt",
    "outputId": "8d3a3a5f-ae0c-4445-ba30-5f2949c64f14"
   },
   "outputs": [
    {
     "data": {
      "image/png": "[encoded data removed]",
      "text/plain": [
       "<Figure size 1800x2000 with 11 Axes>"
      ]
     },
     "metadata": {},
     "output_type": "display_data"
    }
   ],
   "source": [
    "plt.figure(figsize=(18,20))\n",
    "i = 1\n",
    "for features in numeric:\n",
    "    plt.subplot(3,4,i)\n",
    "    sns.histplot(x=df[features],hue= df.Hit, bins=10).set_title(features)\n",
    "    i=i+1\n",
    "plt.show()"
   ]
  },
  {
   "cell_type": "code",
   "execution_count": null,
   "metadata": {
    "colab": {
     "base_uri": "https://localhost:8080/",
     "height": 732
    },
    "executionInfo": {
     "elapsed": 3100,
     "status": "ok",
     "timestamp": 1686311905936,
     "user": {
      "displayName": "Timo Günther",
      "userId": "10776521663799464357"
     },
     "user_tz": -120
    },
    "id": "w0Sm85SAA5_C",
    "outputId": "c7b0a8e1-1f8d-43dc-8ad8-793cccbfb457"
   },
   "outputs": [
    {
     "data": {
      "image/png": "[encoded data removed]",
      "text/plain": [
       "<Figure size 1800x2000 with 11 Axes>"
      ]
     },
     "metadata": {},
     "output_type": "display_data"
    }
   ],
   "source": [
    "plt.figure(figsize=(18,20))\n",
    "i = 1\n",
    "for features in numeric:\n",
    "    plt.subplot(3,4,i)\n",
    "    sns.boxplot(x=df[features]).set_title(features)\n",
    "    i=i+1\n",
    "plt.show()"
   ]
  },
  {
   "cell_type": "code",
   "execution_count": null,
   "metadata": {
    "colab": {
     "base_uri": "https://localhost:8080/"
    },
    "executionInfo": {
     "elapsed": 238,
     "status": "ok",
     "timestamp": 1686311919616,
     "user": {
      "displayName": "Timo Günther",
      "userId": "10776521663799464357"
     },
     "user_tz": -120
    },
    "id": "u7f_HLJaBZub",
    "outputId": "a479f26b-8cdf-46f6-8b9e-74a4a7303074"
   },
   "outputs": [
    {
     "data": {
      "text/plain": [
       "Index(['danceability', 'energy', 'loudness', 'speechiness', 'acousticness',\n",
       "       'instrumentalness', 'liveness', 'valence', 'tempo', 'key', 'mode',\n",
       "       'duration_ms', 'Popularity', 'Hit'],\n",
       "      dtype='object')"
      ]
     },
     "execution_count": 38,
     "metadata": {},
     "output_type": "execute_result"
    }
   ],
   "source": [
    "df.columns"
   ]
  },
  {
   "cell_type": "markdown",
   "metadata": {
    "id": "fM3mRbxnBe7o"
   },
   "source": [
    "# Feature Engineering"
   ]
  },
  {
   "cell_type": "markdown",
   "metadata": {
    "id": "Pwxm0L9EGO6y"
   },
   "source": [
    "## Import Dataset and Preprocessing Steps"
   ]
  },
  {
   "cell_type": "code",
   "execution_count": null,
   "metadata": {
    "id": "Glr_G74uBdzT"
   },
   "outputs": [],
   "source": [
    "import pandas as pd\n",
    "\n",
    "df = pd.read_csv('/content/gdrive/My Drive/Colab Datasets/dataset_ML.csv')"
   ]
  },
  {
   "cell_type": "code",
   "execution_count": null,
   "metadata": {
    "id": "BxoOUf3fBoYO"
   },
   "outputs": [],
   "source": [
    "df = df.drop(['genre', 'num_syllables', 'pos', 'year', 'fog_index',\n",
    "       'flesch_index', 'num_lines', 'sentiment','f_k_grade', 'difficult_words', 'num_dupes', 'number_of_tokens',\n",
    "       'number_of_types', 'decades', 'stemmed_text', 'POS_tags', 'POS','values', 'pred', 'label',\n",
    "       'score', 'emotion_label'], axis=1)"
   ]
  },
  {
   "cell_type": "code",
   "execution_count": null,
   "metadata": {
    "id": "rhMmfUvsBwVA"
   },
   "outputs": [],
   "source": [
    "df = df.drop(['playlistID', 'TrackName', 'SampleURL', 'ReleaseYear', 'Genres'], axis=1)"
   ]
  },
  {
   "cell_type": "code",
   "execution_count": null,
   "metadata": {
    "id": "MjXV8OaEBxD5"
   },
   "outputs": [],
   "source": [
    "df.Hit = df.Hit.replace({'Yes': 1, 'No': 0})"
   ]
  },
  {
   "cell_type": "code",
   "execution_count": null,
   "metadata": {
    "colab": {
     "base_uri": "https://localhost:8080/"
    },
    "executionInfo": {
     "elapsed": 224,
     "status": "ok",
     "timestamp": 1686312102979,
     "user": {
      "displayName": "Timo Günther",
      "userId": "10776521663799464357"
     },
     "user_tz": -120
    },
    "id": "QhkR7XAVCHRY",
    "outputId": "ccaadb16-7cbf-479b-ecaa-d371d9126bf1"
   },
   "outputs": [
    {
     "data": {
      "text/plain": [
       "Counter({1: 912, 0: 889})"
      ]
     },
     "execution_count": 45,
     "metadata": {},
     "output_type": "execute_result"
    }
   ],
   "source": [
    "from collections import Counter\n",
    "\n",
    "Counter(df.Hit)"
   ]
  },
  {
   "cell_type": "code",
   "execution_count": null,
   "metadata": {
    "colab": {
     "base_uri": "https://localhost:8080/"
    },
    "executionInfo": {
     "elapsed": 4,
     "status": "ok",
     "timestamp": 1686312191843,
     "user": {
      "displayName": "Timo Günther",
      "userId": "10776521663799464357"
     },
     "user_tz": -120
    },
    "id": "Ay7TtQVACeAs",
    "outputId": "85a4f0b6-47f1-4ccd-8dda-5f78342195ba"
   },
   "outputs": [
    {
     "data": {
      "text/plain": [
       "Index(['lyrics', 'danceability', 'energy', 'loudness', 'speechiness',\n",
       "       'acousticness', 'instrumentalness', 'liveness', 'valence', 'tempo',\n",
       "       'key', 'mode', 'duration_ms', 'Popularity', 'Hit'],\n",
       "      dtype='object')"
      ]
     },
     "execution_count": 48,
     "metadata": {},
     "output_type": "execute_result"
    }
   ],
   "source": [
    "df = df.drop(['title','artist','TrackID'],axis=1)\n",
    "\n",
    "df.columns"
   ]
  },
  {
   "cell_type": "markdown",
   "metadata": {
    "id": "TULuMhTeGUNr"
   },
   "source": [
    "## Preprocessing the Text data"
   ]
  },
  {
   "cell_type": "code",
   "execution_count": null,
   "metadata": {
    "colab": {
     "base_uri": "https://localhost:8080/"
    },
    "executionInfo": {
     "elapsed": 639,
     "status": "ok",
     "timestamp": 1686313281142,
     "user": {
      "displayName": "Timo Günther",
      "userId": "10776521663799464357"
     },
     "user_tz": -120
    },
    "id": "dTat9v7iGXDc",
    "outputId": "3858911a-aa0f-42f8-853b-ecaeedfdb203"
   },
   "outputs": [
    {
     "name": "stderr",
     "output_type": "stream",
     "text": [
      "[nltk_data] Downloading package punkt to /root/nltk_data...\n",
      "[nltk_data]   Unzipping tokenizers/punkt.zip.\n",
      "[nltk_data] Downloading package stopwords to /root/nltk_data...\n",
      "[nltk_data]   Package stopwords is already up-to-date!\n",
      "[nltk_data] Downloading package wordnet to /root/nltk_data...\n",
      "[nltk_data]   Package wordnet is already up-to-date!\n"
     ]
    }
   ],
   "source": [
    "import re\n",
    "import nltk\n",
    "nltk.download('punkt')\n",
    "from nltk.corpus import stopwords\n",
    "from nltk.stem import WordNetLemmatizer\n",
    "\n",
    "nltk.download('stopwords')\n",
    "nltk.download('wordnet')\n",
    "\n",
    "def preprocess_text(text):\n",
    "    # Convert text to lowercase\n",
    "    text = text.lower()\n",
    "\n",
    "    # Remove punctuation\n",
    "    text = re.sub(r'[^\\w\\s]', '', text)\n",
    "\n",
    "    # Tokenize the text\n",
    "    tokens = nltk.word_tokenize(text)\n",
    "\n",
    "    # Remove stopwords\n",
    "    stop_words = set(stopwords.words('english'))\n",
    "    tokens = [word for word in tokens if word not in stop_words]\n",
    "\n",
    "    # Lemmatize the tokens\n",
    "    lemmatizer = WordNetLemmatizer()\n",
    "    tokens = [lemmatizer.lemmatize(word) for word in tokens]\n",
    "\n",
    "    # Join the tokens back into a single string\n",
    "    preprocessed_text = ' '.join(tokens)\n",
    "\n",
    "    return preprocessed_text\n"
   ]
  },
  {
   "cell_type": "code",
   "execution_count": null,
   "metadata": {
    "id": "iWqK2XDhFnCT"
   },
   "outputs": [],
   "source": [
    "# Assuming you have a 'lyrics' column containing the text data\n",
    "df['lyrics'] = df['lyrics'].apply(preprocess_text)"
   ]
  },
  {
   "cell_type": "markdown",
   "metadata": {
    "id": "zjLCrNseCMJP"
   },
   "source": [
    "## Splitting the data into dependent and independent features"
   ]
  },
  {
   "cell_type": "code",
   "execution_count": null,
   "metadata": {
    "id": "r4EoBMlbCKeb"
   },
   "outputs": [],
   "source": [
    "X = df.drop('Hit',axis=1)"
   ]
  },
  {
   "cell_type": "code",
   "execution_count": null,
   "metadata": {
    "colab": {
     "base_uri": "https://localhost:8080/"
    },
    "executionInfo": {
     "elapsed": 3,
     "status": "ok",
     "timestamp": 1686314257064,
     "user": {
      "displayName": "Timo Günther",
      "userId": "10776521663799464357"
     },
     "user_tz": -120
    },
    "id": "m0cs935HCWHC",
    "outputId": "42174b8d-2a2a-412a-96f3-ba0d1e4e4cdf"
   },
   "outputs": [
    {
     "data": {
      "text/plain": [
       "Index(['lyrics', 'danceability', 'energy', 'loudness', 'speechiness',\n",
       "       'acousticness', 'instrumentalness', 'liveness', 'valence', 'tempo',\n",
       "       'key', 'mode', 'duration_ms', 'Popularity'],\n",
       "      dtype='object')"
      ]
     },
     "execution_count": 97,
     "metadata": {},
     "output_type": "execute_result"
    }
   ],
   "source": [
    "X.columns"
   ]
  },
  {
   "cell_type": "code",
   "execution_count": null,
   "metadata": {
    "id": "y7empGyKCX1K"
   },
   "outputs": [],
   "source": [
    "y = df[\"Hit\"]"
   ]
  },
  {
   "cell_type": "markdown",
   "metadata": {
    "id": "EeV7cK_QG_zf"
   },
   "source": [
    "## TF-IDF Vectorizer for Text Data"
   ]
  },
  {
   "cell_type": "code",
   "execution_count": null,
   "metadata": {
    "id": "dgm9zEWwHIk6"
   },
   "outputs": [],
   "source": [
    "tfidf_vectorizer = TfidfVectorizer()\n",
    "X_text = tfidf_vectorizer.fit_transform(X['lyrics'])"
   ]
  },
  {
   "cell_type": "markdown",
   "metadata": {
    "id": "iltz0TeXHNIh"
   },
   "source": [
    "## Combine Text- & Numeric Features"
   ]
  },
  {
   "cell_type": "code",
   "execution_count": null,
   "metadata": {
    "id": "tZ4R3Vu7HMg8"
   },
   "outputs": [],
   "source": [
    "# Combine Text- & Numeric Features\n",
    "X_combined = pd.concat([X.drop('lyrics', axis=1), pd.DataFrame(X_text.toarray())], axis=1)"
   ]
  },
  {
   "cell_type": "markdown",
   "metadata": {
    "id": "P0XWACbyCsgt"
   },
   "source": [
    "## Training- & Testsplit"
   ]
  },
  {
   "cell_type": "code",
   "execution_count": null,
   "metadata": {
    "id": "G63ZMJxcCp5t"
   },
   "outputs": [],
   "source": [
    "from sklearn.model_selection import train_test_split"
   ]
  },
  {
   "cell_type": "code",
   "execution_count": null,
   "metadata": {
    "id": "FlFzrquEC0Ch"
   },
   "outputs": [],
   "source": [
    "# Splitting into train and test sets\n",
    "x_train, x_test, y_train, y_test = train_test_split(X_combined, y, test_size=0.20)"
   ]
  },
  {
   "cell_type": "markdown",
   "metadata": {
    "id": "aXjkMLm8C3fO"
   },
   "source": [
    "## Model Selection"
   ]
  },
  {
   "cell_type": "code",
   "execution_count": null,
   "metadata": {
    "id": "eSPcROINC5Bi"
   },
   "outputs": [],
   "source": [
    "from xgboost import XGBClassifier"
   ]
  },
  {
   "cell_type": "code",
   "execution_count": null,
   "metadata": {
    "id": "qgWji7idC6VQ"
   },
   "outputs": [],
   "source": [
    "classifier = XGBClassifier()"
   ]
  },
  {
   "cell_type": "markdown",
   "metadata": {
    "id": "OWaZkcl-C_JR"
   },
   "source": [
    "## Import Randomized Search Cross Validation"
   ]
  },
  {
   "cell_type": "code",
   "execution_count": null,
   "metadata": {
    "id": "sHdiSF4FC7zW"
   },
   "outputs": [],
   "source": [
    "from sklearn.model_selection import RandomizedSearchCV"
   ]
  },
  {
   "cell_type": "markdown",
   "metadata": {
    "id": "piG6ojcfDGVq"
   },
   "source": [
    "## Parameter Selection"
   ]
  },
  {
   "cell_type": "code",
   "execution_count": null,
   "metadata": {
    "id": "CPp9DR3QDFo0"
   },
   "outputs": [],
   "source": [
    "params = {\n",
    "    'learning_rate':[0.05,0.10,0.15,0.20,0.25,0.30],\n",
    "    'max_depth': [3,4,5,6,8,10,12,15],\n",
    "    'min_child_weight':[1,3,5,7],\n",
    "    'gamma':[0.0, 0.1, 0.2, 0.3, 0.4],\n",
    "    'colsample_bytree': [0.3, 0.4, 0.5, 0.7]\n",
    "}"
   ]
  },
  {
   "cell_type": "code",
   "execution_count": null,
   "metadata": {
    "id": "pTWdJuacDMK2"
   },
   "outputs": [],
   "source": [
    "random_search = RandomizedSearchCV(classifier, param_distributions=params, n_iter=5, scoring=\"roc_auc\", n_jobs=-1, cv=5, verbose=3)"
   ]
  },
  {
   "cell_type": "code",
   "execution_count": null,
   "metadata": {
    "colab": {
     "base_uri": "https://localhost:8080/",
     "height": 136
    },
    "executionInfo": {
     "elapsed": 3357588,
     "status": "ok",
     "timestamp": 1686317743918,
     "user": {
      "displayName": "Timo Günther",
      "userId": "10776521663799464357"
     },
     "user_tz": -120
    },
    "id": "ns6qdPkWDQtF",
    "outputId": "0c7424b7-95d1-4b48-c717-5cb88566635b"
   },
   "outputs": [
    {
     "name": "stdout",
     "output_type": "stream",
     "text": [
      "Fitting 5 folds for each of 5 candidates, totalling 25 fits\n"
     ]
    },
    {
     "data": {
      "text/html": [
       "<style>#sk-container-id-1 {color: black;background-color: white;}#sk-container-id-1 pre{padding: 0;}#sk-container-id-1 div.sk-toggleable {background-color: white;}#sk-container-id-1 label.sk-toggleable__label {cursor: pointer;display: block;width: 100%;margin-bottom: 0;padding: 0.3em;box-sizing: border-box;text-align: center;}#sk-container-id-1 label.sk-toggleable__label-arrow:before {content: \"▸\";float: left;margin-right: 0.25em;color: #696969;}#sk-container-id-1 label.sk-toggleable__label-arrow:hover:before {color: black;}#sk-container-id-1 div.sk-estimator:hover label.sk-toggleable__label-arrow:before {color: black;}#sk-container-id-1 div.sk-toggleable__content {max-height: 0;max-width: 0;overflow: hidden;text-align: left;background-color: #f0f8ff;}#sk-container-id-1 div.sk-toggleable__content pre {margin: 0.2em;color: black;border-radius: 0.25em;background-color: #f0f8ff;}#sk-container-id-1 input.sk-toggleable__control:checked~div.sk-toggleable__content {max-height: 200px;max-width: 100%;overflow: auto;}#sk-container-id-1 input.sk-toggleable__control:checked~label.sk-toggleable__label-arrow:before {content: \"▾\";}#sk-container-id-1 div.sk-estimator input.sk-toggleable__control:checked~label.sk-toggleable__label {background-color: #d4ebff;}#sk-container-id-1 div.sk-label input.sk-toggleable__control:checked~label.sk-toggleable__label {background-color: #d4ebff;}#sk-container-id-1 input.sk-hidden--visually {border: 0;clip: rect(1px 1px 1px 1px);clip: rect(1px, 1px, 1px, 1px);height: 1px;margin: -1px;overflow: hidden;padding: 0;position: absolute;width: 1px;}#sk-container-id-1 div.sk-estimator {font-family: monospace;background-color: #f0f8ff;border: 1px dotted black;border-radius: 0.25em;box-sizing: border-box;margin-bottom: 0.5em;}#sk-container-id-1 div.sk-estimator:hover {background-color: #d4ebff;}#sk-container-id-1 div.sk-parallel-item::after {content: \"\";width: 100%;border-bottom: 1px solid gray;flex-grow: 1;}#sk-container-id-1 div.sk-label:hover label.sk-toggleable__label {background-color: #d4ebff;}#sk-container-id-1 div.sk-serial::before {content: \"\";position: absolute;border-left: 1px solid gray;box-sizing: border-box;top: 0;bottom: 0;left: 50%;z-index: 0;}#sk-container-id-1 div.sk-serial {display: flex;flex-direction: column;align-items: center;background-color: white;padding-right: 0.2em;padding-left: 0.2em;position: relative;}#sk-container-id-1 div.sk-item {position: relative;z-index: 1;}#sk-container-id-1 div.sk-parallel {display: flex;align-items: stretch;justify-content: center;background-color: white;position: relative;}#sk-container-id-1 div.sk-item::before, #sk-container-id-1 div.sk-parallel-item::before {content: \"\";position: absolute;border-left: 1px solid gray;box-sizing: border-box;top: 0;bottom: 0;left: 50%;z-index: -1;}#sk-container-id-1 div.sk-parallel-item {display: flex;flex-direction: column;z-index: 1;position: relative;background-color: white;}#sk-container-id-1 div.sk-parallel-item:first-child::after {align-self: flex-end;width: 50%;}#sk-container-id-1 div.sk-parallel-item:last-child::after {align-self: flex-start;width: 50%;}#sk-container-id-1 div.sk-parallel-item:only-child::after {width: 0;}#sk-container-id-1 div.sk-dashed-wrapped {border: 1px dashed gray;margin: 0 0.4em 0.5em 0.4em;box-sizing: border-box;padding-bottom: 0.4em;background-color: white;}#sk-container-id-1 div.sk-label label {font-family: monospace;font-weight: bold;display: inline-block;line-height: 1.2em;}#sk-container-id-1 div.sk-label-container {text-align: center;}#sk-container-id-1 div.sk-container {/* jupyter's `normalize.less` sets `[hidden] { display: none; }` but bootstrap.min.css set `[hidden] { display: none !important; }` so we also need the `!important` here to be able to override the default hidden behavior on the sphinx rendered scikit-learn.org. See: https://github.com/scikit-learn/scikit-learn/issues/21755 */display: inline-block !important;position: relative;}#sk-container-id-1 div.sk-text-repr-fallback {display: none;}</style><div id=\"sk-container-id-1\" class=\"sk-top-container\"><div class=\"sk-text-repr-fallback\"><pre>RandomizedSearchCV(cv=5,\n",
       "                   estimator=XGBClassifier(base_score=None, booster=None,\n",
       "                                           callbacks=None,\n",
       "                                           colsample_bylevel=None,\n",
       "                                           colsample_bynode=None,\n",
       "                                           colsample_bytree=None,\n",
       "                                           early_stopping_rounds=None,\n",
       "                                           enable_categorical=False,\n",
       "                                           eval_metric=None, feature_types=None,\n",
       "                                           gamma=None, gpu_id=None,\n",
       "                                           grow_policy=None,\n",
       "                                           importance_type=None,\n",
       "                                           interaction_constraints=None,\n",
       "                                           learning_rate...\n",
       "                                           monotone_constraints=None,\n",
       "                                           n_estimators=100, n_jobs=None,\n",
       "                                           num_parallel_tree=None,\n",
       "                                           predictor=None, random_state=None, ...),\n",
       "                   n_iter=5, n_jobs=-1,\n",
       "                   param_distributions={&#x27;colsample_bytree&#x27;: [0.3, 0.4, 0.5,\n",
       "                                                             0.7],\n",
       "                                        &#x27;gamma&#x27;: [0.0, 0.1, 0.2, 0.3, 0.4],\n",
       "                                        &#x27;learning_rate&#x27;: [0.05, 0.1, 0.15, 0.2,\n",
       "                                                          0.25, 0.3],\n",
       "                                        &#x27;max_depth&#x27;: [3, 4, 5, 6, 8, 10, 12,\n",
       "                                                      15],\n",
       "                                        &#x27;min_child_weight&#x27;: [1, 3, 5, 7]},\n",
       "                   scoring=&#x27;roc_auc&#x27;, verbose=3)</pre><b>In a Jupyter environment, please rerun this cell to show the HTML representation or trust the notebook. <br />On GitHub, the HTML representation is unable to render, please try loading this page with nbviewer.org.</b></div><div class=\"sk-container\" hidden><div class=\"sk-item sk-dashed-wrapped\"><div class=\"sk-label-container\"><div class=\"sk-label sk-toggleable\"><input class=\"sk-toggleable__control sk-hidden--visually\" id=\"sk-estimator-id-1\" type=\"checkbox\" ><label for=\"sk-estimator-id-1\" class=\"sk-toggleable__label sk-toggleable__label-arrow\">RandomizedSearchCV</label><div class=\"sk-toggleable__content\"><pre>RandomizedSearchCV(cv=5,\n",
       "                   estimator=XGBClassifier(base_score=None, booster=None,\n",
       "                                           callbacks=None,\n",
       "                                           colsample_bylevel=None,\n",
       "                                           colsample_bynode=None,\n",
       "                                           colsample_bytree=None,\n",
       "                                           early_stopping_rounds=None,\n",
       "                                           enable_categorical=False,\n",
       "                                           eval_metric=None, feature_types=None,\n",
       "                                           gamma=None, gpu_id=None,\n",
       "                                           grow_policy=None,\n",
       "                                           importance_type=None,\n",
       "                                           interaction_constraints=None,\n",
       "                                           learning_rate...\n",
       "                                           monotone_constraints=None,\n",
       "                                           n_estimators=100, n_jobs=None,\n",
       "                                           num_parallel_tree=None,\n",
       "                                           predictor=None, random_state=None, ...),\n",
       "                   n_iter=5, n_jobs=-1,\n",
       "                   param_distributions={&#x27;colsample_bytree&#x27;: [0.3, 0.4, 0.5,\n",
       "                                                             0.7],\n",
       "                                        &#x27;gamma&#x27;: [0.0, 0.1, 0.2, 0.3, 0.4],\n",
       "                                        &#x27;learning_rate&#x27;: [0.05, 0.1, 0.15, 0.2,\n",
       "                                                          0.25, 0.3],\n",
       "                                        &#x27;max_depth&#x27;: [3, 4, 5, 6, 8, 10, 12,\n",
       "                                                      15],\n",
       "                                        &#x27;min_child_weight&#x27;: [1, 3, 5, 7]},\n",
       "                   scoring=&#x27;roc_auc&#x27;, verbose=3)</pre></div></div></div><div class=\"sk-parallel\"><div class=\"sk-parallel-item\"><div class=\"sk-item\"><div class=\"sk-label-container\"><div class=\"sk-label sk-toggleable\"><input class=\"sk-toggleable__control sk-hidden--visually\" id=\"sk-estimator-id-2\" type=\"checkbox\" ><label for=\"sk-estimator-id-2\" class=\"sk-toggleable__label sk-toggleable__label-arrow\">estimator: XGBClassifier</label><div class=\"sk-toggleable__content\"><pre>XGBClassifier(base_score=None, booster=None, callbacks=None,\n",
       "              colsample_bylevel=None, colsample_bynode=None,\n",
       "              colsample_bytree=None, early_stopping_rounds=None,\n",
       "              enable_categorical=False, eval_metric=None, feature_types=None,\n",
       "              gamma=None, gpu_id=None, grow_policy=None, importance_type=None,\n",
       "              interaction_constraints=None, learning_rate=None, max_bin=None,\n",
       "              max_cat_threshold=None, max_cat_to_onehot=None,\n",
       "              max_delta_step=None, max_depth=None, max_leaves=None,\n",
       "              min_child_weight=None, missing=nan, monotone_constraints=None,\n",
       "              n_estimators=100, n_jobs=None, num_parallel_tree=None,\n",
       "              predictor=None, random_state=None, ...)</pre></div></div></div><div class=\"sk-serial\"><div class=\"sk-item\"><div class=\"sk-estimator sk-toggleable\"><input class=\"sk-toggleable__control sk-hidden--visually\" id=\"sk-estimator-id-3\" type=\"checkbox\" ><label for=\"sk-estimator-id-3\" class=\"sk-toggleable__label sk-toggleable__label-arrow\">XGBClassifier</label><div class=\"sk-toggleable__content\"><pre>XGBClassifier(base_score=None, booster=None, callbacks=None,\n",
       "              colsample_bylevel=None, colsample_bynode=None,\n",
       "              colsample_bytree=None, early_stopping_rounds=None,\n",
       "              enable_categorical=False, eval_metric=None, feature_types=None,\n",
       "              gamma=None, gpu_id=None, grow_policy=None, importance_type=None,\n",
       "              interaction_constraints=None, learning_rate=None, max_bin=None,\n",
       "              max_cat_threshold=None, max_cat_to_onehot=None,\n",
       "              max_delta_step=None, max_depth=None, max_leaves=None,\n",
       "              min_child_weight=None, missing=nan, monotone_constraints=None,\n",
       "              n_estimators=100, n_jobs=None, num_parallel_tree=None,\n",
       "              predictor=None, random_state=None, ...)</pre></div></div></div></div></div></div></div></div></div></div>"
      ],
      "text/plain": [
       "RandomizedSearchCV(cv=5,\n",
       "                   estimator=XGBClassifier(base_score=None, booster=None,\n",
       "                                           callbacks=None,\n",
       "                                           colsample_bylevel=None,\n",
       "                                           colsample_bynode=None,\n",
       "                                           colsample_bytree=None,\n",
       "                                           early_stopping_rounds=None,\n",
       "                                           enable_categorical=False,\n",
       "                                           eval_metric=None, feature_types=None,\n",
       "                                           gamma=None, gpu_id=None,\n",
       "                                           grow_policy=None,\n",
       "                                           importance_type=None,\n",
       "                                           interaction_constraints=None,\n",
       "                                           learning_rate...\n",
       "                                           monotone_constraints=None,\n",
       "                                           n_estimators=100, n_jobs=None,\n",
       "                                           num_parallel_tree=None,\n",
       "                                           predictor=None, random_state=None, ...),\n",
       "                   n_iter=5, n_jobs=-1,\n",
       "                   param_distributions={'colsample_bytree': [0.3, 0.4, 0.5,\n",
       "                                                             0.7],\n",
       "                                        'gamma': [0.0, 0.1, 0.2, 0.3, 0.4],\n",
       "                                        'learning_rate': [0.05, 0.1, 0.15, 0.2,\n",
       "                                                          0.25, 0.3],\n",
       "                                        'max_depth': [3, 4, 5, 6, 8, 10, 12,\n",
       "                                                      15],\n",
       "                                        'min_child_weight': [1, 3, 5, 7]},\n",
       "                   scoring='roc_auc', verbose=3)"
      ]
     },
     "execution_count": 108,
     "metadata": {},
     "output_type": "execute_result"
    }
   ],
   "source": [
    "random_search.fit(x_train, y_train)"
   ]
  },
  {
   "cell_type": "code",
   "execution_count": null,
   "metadata": {
    "colab": {
     "base_uri": "https://localhost:8080/",
     "height": 268
    },
    "executionInfo": {
     "elapsed": 275,
     "status": "ok",
     "timestamp": 1686318228040,
     "user": {
      "displayName": "Timo Günther",
      "userId": "10776521663799464357"
     },
     "user_tz": -120
    },
    "id": "zImXkSQyIBWY",
    "outputId": "ac37a8d0-a14d-4cb7-d763-c943e5e88ac8"
   },
   "outputs": [
    {
     "data": {
      "text/html": [
       "<style>#sk-container-id-2 {color: black;background-color: white;}#sk-container-id-2 pre{padding: 0;}#sk-container-id-2 div.sk-toggleable {background-color: white;}#sk-container-id-2 label.sk-toggleable__label {cursor: pointer;display: block;width: 100%;margin-bottom: 0;padding: 0.3em;box-sizing: border-box;text-align: center;}#sk-container-id-2 label.sk-toggleable__label-arrow:before {content: \"▸\";float: left;margin-right: 0.25em;color: #696969;}#sk-container-id-2 label.sk-toggleable__label-arrow:hover:before {color: black;}#sk-container-id-2 div.sk-estimator:hover label.sk-toggleable__label-arrow:before {color: black;}#sk-container-id-2 div.sk-toggleable__content {max-height: 0;max-width: 0;overflow: hidden;text-align: left;background-color: #f0f8ff;}#sk-container-id-2 div.sk-toggleable__content pre {margin: 0.2em;color: black;border-radius: 0.25em;background-color: #f0f8ff;}#sk-container-id-2 input.sk-toggleable__control:checked~div.sk-toggleable__content {max-height: 200px;max-width: 100%;overflow: auto;}#sk-container-id-2 input.sk-toggleable__control:checked~label.sk-toggleable__label-arrow:before {content: \"▾\";}#sk-container-id-2 div.sk-estimator input.sk-toggleable__control:checked~label.sk-toggleable__label {background-color: #d4ebff;}#sk-container-id-2 div.sk-label input.sk-toggleable__control:checked~label.sk-toggleable__label {background-color: #d4ebff;}#sk-container-id-2 input.sk-hidden--visually {border: 0;clip: rect(1px 1px 1px 1px);clip: rect(1px, 1px, 1px, 1px);height: 1px;margin: -1px;overflow: hidden;padding: 0;position: absolute;width: 1px;}#sk-container-id-2 div.sk-estimator {font-family: monospace;background-color: #f0f8ff;border: 1px dotted black;border-radius: 0.25em;box-sizing: border-box;margin-bottom: 0.5em;}#sk-container-id-2 div.sk-estimator:hover {background-color: #d4ebff;}#sk-container-id-2 div.sk-parallel-item::after {content: \"\";width: 100%;border-bottom: 1px solid gray;flex-grow: 1;}#sk-container-id-2 div.sk-label:hover label.sk-toggleable__label {background-color: #d4ebff;}#sk-container-id-2 div.sk-serial::before {content: \"\";position: absolute;border-left: 1px solid gray;box-sizing: border-box;top: 0;bottom: 0;left: 50%;z-index: 0;}#sk-container-id-2 div.sk-serial {display: flex;flex-direction: column;align-items: center;background-color: white;padding-right: 0.2em;padding-left: 0.2em;position: relative;}#sk-container-id-2 div.sk-item {position: relative;z-index: 1;}#sk-container-id-2 div.sk-parallel {display: flex;align-items: stretch;justify-content: center;background-color: white;position: relative;}#sk-container-id-2 div.sk-item::before, #sk-container-id-2 div.sk-parallel-item::before {content: \"\";position: absolute;border-left: 1px solid gray;box-sizing: border-box;top: 0;bottom: 0;left: 50%;z-index: -1;}#sk-container-id-2 div.sk-parallel-item {display: flex;flex-direction: column;z-index: 1;position: relative;background-color: white;}#sk-container-id-2 div.sk-parallel-item:first-child::after {align-self: flex-end;width: 50%;}#sk-container-id-2 div.sk-parallel-item:last-child::after {align-self: flex-start;width: 50%;}#sk-container-id-2 div.sk-parallel-item:only-child::after {width: 0;}#sk-container-id-2 div.sk-dashed-wrapped {border: 1px dashed gray;margin: 0 0.4em 0.5em 0.4em;box-sizing: border-box;padding-bottom: 0.4em;background-color: white;}#sk-container-id-2 div.sk-label label {font-family: monospace;font-weight: bold;display: inline-block;line-height: 1.2em;}#sk-container-id-2 div.sk-label-container {text-align: center;}#sk-container-id-2 div.sk-container {/* jupyter's `normalize.less` sets `[hidden] { display: none; }` but bootstrap.min.css set `[hidden] { display: none !important; }` so we also need the `!important` here to be able to override the default hidden behavior on the sphinx rendered scikit-learn.org. See: https://github.com/scikit-learn/scikit-learn/issues/21755 */display: inline-block !important;position: relative;}#sk-container-id-2 div.sk-text-repr-fallback {display: none;}</style><div id=\"sk-container-id-2\" class=\"sk-top-container\"><div class=\"sk-text-repr-fallback\"><pre>XGBClassifier(base_score=None, booster=None, callbacks=None,\n",
       "              colsample_bylevel=None, colsample_bynode=None,\n",
       "              colsample_bytree=0.7, early_stopping_rounds=None,\n",
       "              enable_categorical=False, eval_metric=None, feature_types=None,\n",
       "              gamma=0.3, gpu_id=None, grow_policy=None, importance_type=None,\n",
       "              interaction_constraints=None, learning_rate=0.2, max_bin=None,\n",
       "              max_cat_threshold=None, max_cat_to_onehot=None,\n",
       "              max_delta_step=None, max_depth=6, max_leaves=None,\n",
       "              min_child_weight=7, missing=nan, monotone_constraints=None,\n",
       "              n_estimators=100, n_jobs=None, num_parallel_tree=None,\n",
       "              predictor=None, random_state=None, ...)</pre><b>In a Jupyter environment, please rerun this cell to show the HTML representation or trust the notebook. <br />On GitHub, the HTML representation is unable to render, please try loading this page with nbviewer.org.</b></div><div class=\"sk-container\" hidden><div class=\"sk-item\"><div class=\"sk-estimator sk-toggleable\"><input class=\"sk-toggleable__control sk-hidden--visually\" id=\"sk-estimator-id-4\" type=\"checkbox\" checked><label for=\"sk-estimator-id-4\" class=\"sk-toggleable__label sk-toggleable__label-arrow\">XGBClassifier</label><div class=\"sk-toggleable__content\"><pre>XGBClassifier(base_score=None, booster=None, callbacks=None,\n",
       "              colsample_bylevel=None, colsample_bynode=None,\n",
       "              colsample_bytree=0.7, early_stopping_rounds=None,\n",
       "              enable_categorical=False, eval_metric=None, feature_types=None,\n",
       "              gamma=0.3, gpu_id=None, grow_policy=None, importance_type=None,\n",
       "              interaction_constraints=None, learning_rate=0.2, max_bin=None,\n",
       "              max_cat_threshold=None, max_cat_to_onehot=None,\n",
       "              max_delta_step=None, max_depth=6, max_leaves=None,\n",
       "              min_child_weight=7, missing=nan, monotone_constraints=None,\n",
       "              n_estimators=100, n_jobs=None, num_parallel_tree=None,\n",
       "              predictor=None, random_state=None, ...)</pre></div></div></div></div></div>"
      ],
      "text/plain": [
       "XGBClassifier(base_score=None, booster=None, callbacks=None,\n",
       "              colsample_bylevel=None, colsample_bynode=None,\n",
       "              colsample_bytree=0.7, early_stopping_rounds=None,\n",
       "              enable_categorical=False, eval_metric=None, feature_types=None,\n",
       "              gamma=0.3, gpu_id=None, grow_policy=None, importance_type=None,\n",
       "              interaction_constraints=None, learning_rate=0.2, max_bin=None,\n",
       "              max_cat_threshold=None, max_cat_to_onehot=None,\n",
       "              max_delta_step=None, max_depth=6, max_leaves=None,\n",
       "              min_child_weight=7, missing=nan, monotone_constraints=None,\n",
       "              n_estimators=100, n_jobs=None, num_parallel_tree=None,\n",
       "              predictor=None, random_state=None, ...)"
      ]
     },
     "execution_count": 109,
     "metadata": {},
     "output_type": "execute_result"
    }
   ],
   "source": [
    "random_search.best_estimator_"
   ]
  },
  {
   "cell_type": "code",
   "execution_count": null,
   "metadata": {
    "id": "nfQHC1kYID-W"
   },
   "outputs": [],
   "source": [
    "classifier= XGBClassifier(base_score=0.5, booster='gbtree', colsample_bylevel=1,\n",
    "              colsample_bynode=1, colsample_bytree=0.7,\n",
    "              enable_categorical=False, gamma=0.2, gpu_id=-1,\n",
    "              importance_type=None, interaction_constraints='',\n",
    "              learning_rate=0.1, max_delta_step=0, max_depth=5,\n",
    "              min_child_weight=1, monotone_constraints='()',\n",
    "              n_estimators=100, n_jobs=8, num_parallel_tree=1, predictor='auto',\n",
    "              random_state=0, reg_alpha=0, reg_lambda=1, scale_pos_weight=1,\n",
    "              subsample=1, tree_method='exact', validate_parameters=1,\n",
    "              verbosity=None)"
   ]
  },
  {
   "cell_type": "code",
   "execution_count": null,
   "metadata": {
    "id": "gK0npQlzZkXF"
   },
   "outputs": [],
   "source": [
    "from sklearn.model_selection import cross_val_score\n",
    "from sklearn.metrics import accuracy_score,precision_score,recall_score,confusion_matrix,classification_report"
   ]
  },
  {
   "cell_type": "code",
   "execution_count": null,
   "metadata": {
    "id": "b5-zCvDLZmf-"
   },
   "outputs": [],
   "source": [
    "cross = cross_val_score(classifier,x_train,y_train,cv=10,verbose=0)"
   ]
  },
  {
   "cell_type": "code",
   "execution_count": null,
   "metadata": {
    "colab": {
     "base_uri": "https://localhost:8080/"
    },
    "executionInfo": {
     "elapsed": 240,
     "status": "ok",
     "timestamp": 1686320142059,
     "user": {
      "displayName": "Timo Günther",
      "userId": "10776521663799464357"
     },
     "user_tz": -120
    },
    "id": "B3FhA1gPZpkS",
    "outputId": "1658d14f-f8ae-40eb-952e-c369687207e8"
   },
   "outputs": [
    {
     "name": "stdout",
     "output_type": "stream",
     "text": [
      "Accuracy after cross validation is: 68.54166666666666\n"
     ]
    }
   ],
   "source": [
    "print(\"Accuracy after cross validation is: {}\".format(cross.mean()*100))"
   ]
  },
  {
   "cell_type": "markdown",
   "metadata": {
    "id": "9P3iFNoUg418"
   },
   "source": [
    "# Prediction"
   ]
  },
  {
   "cell_type": "code",
   "execution_count": null,
   "metadata": {
    "colab": {
     "base_uri": "https://localhost:8080/",
     "height": 251
    },
    "executionInfo": {
     "elapsed": 185955,
     "status": "ok",
     "timestamp": 1686320354989,
     "user": {
      "displayName": "Timo Günther",
      "userId": "10776521663799464357"
     },
     "user_tz": -120
    },
    "id": "FvhTsDVCg5_8",
    "outputId": "98f739e2-63b4-4b0d-8d9e-e3e012a2a02b"
   },
   "outputs": [
    {
     "data": {
      "text/html": [
       "<style>#sk-container-id-3 {color: black;background-color: white;}#sk-container-id-3 pre{padding: 0;}#sk-container-id-3 div.sk-toggleable {background-color: white;}#sk-container-id-3 label.sk-toggleable__label {cursor: pointer;display: block;width: 100%;margin-bottom: 0;padding: 0.3em;box-sizing: border-box;text-align: center;}#sk-container-id-3 label.sk-toggleable__label-arrow:before {content: \"▸\";float: left;margin-right: 0.25em;color: #696969;}#sk-container-id-3 label.sk-toggleable__label-arrow:hover:before {color: black;}#sk-container-id-3 div.sk-estimator:hover label.sk-toggleable__label-arrow:before {color: black;}#sk-container-id-3 div.sk-toggleable__content {max-height: 0;max-width: 0;overflow: hidden;text-align: left;background-color: #f0f8ff;}#sk-container-id-3 div.sk-toggleable__content pre {margin: 0.2em;color: black;border-radius: 0.25em;background-color: #f0f8ff;}#sk-container-id-3 input.sk-toggleable__control:checked~div.sk-toggleable__content {max-height: 200px;max-width: 100%;overflow: auto;}#sk-container-id-3 input.sk-toggleable__control:checked~label.sk-toggleable__label-arrow:before {content: \"▾\";}#sk-container-id-3 div.sk-estimator input.sk-toggleable__control:checked~label.sk-toggleable__label {background-color: #d4ebff;}#sk-container-id-3 div.sk-label input.sk-toggleable__control:checked~label.sk-toggleable__label {background-color: #d4ebff;}#sk-container-id-3 input.sk-hidden--visually {border: 0;clip: rect(1px 1px 1px 1px);clip: rect(1px, 1px, 1px, 1px);height: 1px;margin: -1px;overflow: hidden;padding: 0;position: absolute;width: 1px;}#sk-container-id-3 div.sk-estimator {font-family: monospace;background-color: #f0f8ff;border: 1px dotted black;border-radius: 0.25em;box-sizing: border-box;margin-bottom: 0.5em;}#sk-container-id-3 div.sk-estimator:hover {background-color: #d4ebff;}#sk-container-id-3 div.sk-parallel-item::after {content: \"\";width: 100%;border-bottom: 1px solid gray;flex-grow: 1;}#sk-container-id-3 div.sk-label:hover label.sk-toggleable__label {background-color: #d4ebff;}#sk-container-id-3 div.sk-serial::before {content: \"\";position: absolute;border-left: 1px solid gray;box-sizing: border-box;top: 0;bottom: 0;left: 50%;z-index: 0;}#sk-container-id-3 div.sk-serial {display: flex;flex-direction: column;align-items: center;background-color: white;padding-right: 0.2em;padding-left: 0.2em;position: relative;}#sk-container-id-3 div.sk-item {position: relative;z-index: 1;}#sk-container-id-3 div.sk-parallel {display: flex;align-items: stretch;justify-content: center;background-color: white;position: relative;}#sk-container-id-3 div.sk-item::before, #sk-container-id-3 div.sk-parallel-item::before {content: \"\";position: absolute;border-left: 1px solid gray;box-sizing: border-box;top: 0;bottom: 0;left: 50%;z-index: -1;}#sk-container-id-3 div.sk-parallel-item {display: flex;flex-direction: column;z-index: 1;position: relative;background-color: white;}#sk-container-id-3 div.sk-parallel-item:first-child::after {align-self: flex-end;width: 50%;}#sk-container-id-3 div.sk-parallel-item:last-child::after {align-self: flex-start;width: 50%;}#sk-container-id-3 div.sk-parallel-item:only-child::after {width: 0;}#sk-container-id-3 div.sk-dashed-wrapped {border: 1px dashed gray;margin: 0 0.4em 0.5em 0.4em;box-sizing: border-box;padding-bottom: 0.4em;background-color: white;}#sk-container-id-3 div.sk-label label {font-family: monospace;font-weight: bold;display: inline-block;line-height: 1.2em;}#sk-container-id-3 div.sk-label-container {text-align: center;}#sk-container-id-3 div.sk-container {/* jupyter's `normalize.less` sets `[hidden] { display: none; }` but bootstrap.min.css set `[hidden] { display: none !important; }` so we also need the `!important` here to be able to override the default hidden behavior on the sphinx rendered scikit-learn.org. See: https://github.com/scikit-learn/scikit-learn/issues/21755 */display: inline-block !important;position: relative;}#sk-container-id-3 div.sk-text-repr-fallback {display: none;}</style><div id=\"sk-container-id-3\" class=\"sk-top-container\"><div class=\"sk-text-repr-fallback\"><pre>XGBClassifier(base_score=0.5, booster=&#x27;gbtree&#x27;, callbacks=None,\n",
       "              colsample_bylevel=1, colsample_bynode=1, colsample_bytree=0.7,\n",
       "              early_stopping_rounds=None, enable_categorical=False,\n",
       "              eval_metric=None, feature_types=None, gamma=0.2, gpu_id=-1,\n",
       "              grow_policy=None, importance_type=None,\n",
       "              interaction_constraints=&#x27;&#x27;, learning_rate=0.1, max_bin=None,\n",
       "              max_cat_threshold=None, max_cat_to_onehot=None, max_delta_step=0,\n",
       "              max_depth=5, max_leaves=None, min_child_weight=1, missing=nan,\n",
       "              monotone_constraints=&#x27;()&#x27;, n_estimators=100, n_jobs=8,\n",
       "              num_parallel_tree=1, predictor=&#x27;auto&#x27;, random_state=0, ...)</pre><b>In a Jupyter environment, please rerun this cell to show the HTML representation or trust the notebook. <br />On GitHub, the HTML representation is unable to render, please try loading this page with nbviewer.org.</b></div><div class=\"sk-container\" hidden><div class=\"sk-item\"><div class=\"sk-estimator sk-toggleable\"><input class=\"sk-toggleable__control sk-hidden--visually\" id=\"sk-estimator-id-5\" type=\"checkbox\" checked><label for=\"sk-estimator-id-5\" class=\"sk-toggleable__label sk-toggleable__label-arrow\">XGBClassifier</label><div class=\"sk-toggleable__content\"><pre>XGBClassifier(base_score=0.5, booster=&#x27;gbtree&#x27;, callbacks=None,\n",
       "              colsample_bylevel=1, colsample_bynode=1, colsample_bytree=0.7,\n",
       "              early_stopping_rounds=None, enable_categorical=False,\n",
       "              eval_metric=None, feature_types=None, gamma=0.2, gpu_id=-1,\n",
       "              grow_policy=None, importance_type=None,\n",
       "              interaction_constraints=&#x27;&#x27;, learning_rate=0.1, max_bin=None,\n",
       "              max_cat_threshold=None, max_cat_to_onehot=None, max_delta_step=0,\n",
       "              max_depth=5, max_leaves=None, min_child_weight=1, missing=nan,\n",
       "              monotone_constraints=&#x27;()&#x27;, n_estimators=100, n_jobs=8,\n",
       "              num_parallel_tree=1, predictor=&#x27;auto&#x27;, random_state=0, ...)</pre></div></div></div></div></div>"
      ],
      "text/plain": [
       "XGBClassifier(base_score=0.5, booster='gbtree', callbacks=None,\n",
       "              colsample_bylevel=1, colsample_bynode=1, colsample_bytree=0.7,\n",
       "              early_stopping_rounds=None, enable_categorical=False,\n",
       "              eval_metric=None, feature_types=None, gamma=0.2, gpu_id=-1,\n",
       "              grow_policy=None, importance_type=None,\n",
       "              interaction_constraints='', learning_rate=0.1, max_bin=None,\n",
       "              max_cat_threshold=None, max_cat_to_onehot=None, max_delta_step=0,\n",
       "              max_depth=5, max_leaves=None, min_child_weight=1, missing=nan,\n",
       "              monotone_constraints='()', n_estimators=100, n_jobs=8,\n",
       "              num_parallel_tree=1, predictor='auto', random_state=0, ...)"
      ]
     },
     "execution_count": 114,
     "metadata": {},
     "output_type": "execute_result"
    }
   ],
   "source": [
    "classifier.fit(x_train,y_train)"
   ]
  },
  {
   "cell_type": "code",
   "execution_count": null,
   "metadata": {
    "id": "LY_inrmEg74E"
   },
   "outputs": [],
   "source": [
    "y_pred = classifier.predict(x_test)"
   ]
  },
  {
   "cell_type": "code",
   "execution_count": null,
   "metadata": {
    "colab": {
     "base_uri": "https://localhost:8080/"
    },
    "executionInfo": {
     "elapsed": 239,
     "status": "ok",
     "timestamp": 1686320369003,
     "user": {
      "displayName": "Timo Günther",
      "userId": "10776521663799464357"
     },
     "user_tz": -120
    },
    "id": "PJfZoDFShAQ5",
    "outputId": "65f7f49b-3b89-427f-e194-5c9e0a6ecdde"
   },
   "outputs": [
    {
     "name": "stdout",
     "output_type": "stream",
     "text": [
      "              precision    recall  f1-score   support\n",
      "\n",
      "           0       0.65      0.59      0.62       180\n",
      "           1       0.63      0.69      0.66       181\n",
      "\n",
      "    accuracy                           0.64       361\n",
      "   macro avg       0.64      0.64      0.64       361\n",
      "weighted avg       0.64      0.64      0.64       361\n",
      "\n"
     ]
    }
   ],
   "source": [
    "print(classification_report(y_test,y_pred))"
   ]
  },
  {
   "cell_type": "code",
   "execution_count": null,
   "metadata": {
    "colab": {
     "base_uri": "https://localhost:8080/",
     "height": 467
    },
    "executionInfo": {
     "elapsed": 606,
     "status": "ok",
     "timestamp": 1686320388474,
     "user": {
      "displayName": "Timo Günther",
      "userId": "10776521663799464357"
     },
     "user_tz": -120
    },
    "id": "wu6BGGAIhBVG",
    "outputId": "1b355878-9aee-42e1-ebb7-28f0a7ac4983"
   },
   "outputs": [
    {
     "data": {
      "text/plain": [
       "Text(50.722222222222214, 0.5, 'Actual')"
      ]
     },
     "execution_count": 117,
     "metadata": {},
     "output_type": "execute_result"
    },
    {
     "data": {
      "image/png": "[encoded data removed]",
      "text/plain": [
       "<Figure size 640x480 with 2 Axes>"
      ]
     },
     "metadata": {},
     "output_type": "display_data"
    }
   ],
   "source": [
    "cm = confusion_matrix(y_test,y_pred)\n",
    "sns.heatmap(cm,annot=True,fmt=\"g\")\n",
    "plt.xlabel('Predicted')\n",
    "plt.ylabel('Actual')"
   ]
  },
  {
   "cell_type": "markdown",
   "metadata": {
    "id": "GTUTCzcyh8rs"
   },
   "source": [
    "# Features Importance"
   ]
  },
  {
   "cell_type": "code",
   "execution_count": null,
   "metadata": {
    "colab": {
     "base_uri": "https://localhost:8080/",
     "height": 406
    },
    "executionInfo": {
     "elapsed": 866,
     "status": "ok",
     "timestamp": 1686320590077,
     "user": {
      "displayName": "Timo Günther",
      "userId": "10776521663799464357"
     },
     "user_tz": -120
    },
    "id": "Wm8eOdDBh9Rw",
    "outputId": "133d2660-563e-48f0-dd53-52c638adafa6"
   },
   "outputs": [
    {
     "data": {
      "image/png": "[encoded data removed]",
      "text/plain": [
       "<Figure size 600x400 with 1 Axes>"
      ]
     },
     "metadata": {},
     "output_type": "display_data"
    }
   ],
   "source": [
    "import xgboost as xgb\n",
    "import matplotlib.pyplot as plt\n",
    "\n",
    "# Plot feature importance\n",
    "xgb.plot_importance(classifier, max_num_features=20)  # Set max_num_features to 5\n",
    "plt.rcParams['figure.figsize'] = [6, 4]  # Adjust the figure size if needed\n",
    "plt.show()\n"
   ]
  }
 ],
 "metadata": {
  "accelerator": "GPU",
  "colab": {
   "authorship_tag": "ABX9TyM3wksSWoT3C7w5Lz1gZkns",
   "gpuType": "T4",
   "provenance": [],
   "toc_visible": true
  },
  "kernelspec": {
   "display_name": "Python 3 (ipykernel)",
   "language": "python",
   "name": "python3"
  },
  "language_info": {
   "codemirror_mode": {
    "name": "ipython",
    "version": 3
   },
   "file_extension": ".py",
   "mimetype": "text/x-python",
   "name": "python",
   "nbconvert_exporter": "python",
   "pygments_lexer": "ipython3",
   "version": "3.9.15"
  },
  "toc": {
   "base_numbering": 1,
   "nav_menu": {},
   "number_sections": true,
   "sideBar": true,
   "skip_h1_title": false,
   "title_cell": "Table of Contents",
   "title_sidebar": "Contents",
   "toc_cell": false,
   "toc_position": {},
   "toc_section_display": true,
   "toc_window_display": true
  },
  "varInspector": {
   "cols": {
    "lenName": 16,
    "lenType": 16,
    "lenVar": 40
   },
   "kernels_config": {
    "python": {
     "delete_cmd_postfix": "",
     "delete_cmd_prefix": "del ",
     "library": "var_list.py",
     "varRefreshCmd": "print(var_dic_list())"
    },
    "r": {
     "delete_cmd_postfix": ") ",
     "delete_cmd_prefix": "rm(",
     "library": "var_list.r",
     "varRefreshCmd": "cat(var_dic_list()) "
    }
   },
   "types_to_exclude": [
    "module",
    "function",
    "builtin_function_or_method",
    "instance",
    "_Feature"
   ],
   "window_display": false
  }
 },
 "nbformat": 4,
 "nbformat_minor": 1
}
