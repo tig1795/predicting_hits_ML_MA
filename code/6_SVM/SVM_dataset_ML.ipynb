{
 "cells": [
  {
   "cell_type": "code",
   "execution_count": 26,
   "id": "ff3e56e9",
   "metadata": {},
   "outputs": [],
   "source": [
    "import warnings\n",
    "\n",
    "def fxn():\n",
    "    warnings.warn(\"deprecated\", DeprecationWarning)\n",
    "\n",
    "with warnings.catch_warnings():\n",
    "    warnings.simplefilter(\"ignore\")\n",
    "    fxn()"
   ]
  },
  {
   "cell_type": "markdown",
   "id": "6b8ef694",
   "metadata": {},
   "source": [
    "# Imports"
   ]
  },
  {
   "cell_type": "code",
   "execution_count": 52,
   "id": "86e8eae8",
   "metadata": {},
   "outputs": [],
   "source": [
    "import pandas as pd\n",
    "\n",
    "df = pd.read_csv(\"../../data/CSV/ML_Datasets/dataset_ML.csv\")"
   ]
  },
  {
   "cell_type": "code",
   "execution_count": 2,
   "id": "cb5b9f48",
   "metadata": {},
   "outputs": [
    {
     "data": {
      "text/html": [
       "<div>\n",
       "<style scoped>\n",
       "    .dataframe tbody tr th:only-of-type {\n",
       "        vertical-align: middle;\n",
       "    }\n",
       "\n",
       "    .dataframe tbody tr th {\n",
       "        vertical-align: top;\n",
       "    }\n",
       "\n",
       "    .dataframe thead th {\n",
       "        text-align: right;\n",
       "    }\n",
       "</style>\n",
       "<table border=\"1\" class=\"dataframe\">\n",
       "  <thead>\n",
       "    <tr style=\"text-align: right;\">\n",
       "      <th></th>\n",
       "      <th>lyrics</th>\n",
       "      <th>genre</th>\n",
       "      <th>num_syllables</th>\n",
       "      <th>pos</th>\n",
       "      <th>year</th>\n",
       "      <th>fog_index</th>\n",
       "      <th>flesch_index</th>\n",
       "      <th>num_lines</th>\n",
       "      <th>sentiment</th>\n",
       "      <th>title</th>\n",
       "      <th>f_k_grade</th>\n",
       "      <th>artist</th>\n",
       "      <th>difficult_words</th>\n",
       "      <th>num_dupes</th>\n",
       "      <th>number_of_tokens</th>\n",
       "      <th>number_of_types</th>\n",
       "      <th>decades</th>\n",
       "      <th>stemmed_text</th>\n",
       "      <th>POS_tags</th>\n",
       "      <th>POS</th>\n",
       "      <th>playlistID</th>\n",
       "      <th>TrackName</th>\n",
       "      <th>TrackID</th>\n",
       "      <th>SampleURL</th>\n",
       "      <th>ReleaseYear</th>\n",
       "      <th>Genres</th>\n",
       "      <th>danceability</th>\n",
       "      <th>energy</th>\n",
       "      <th>loudness</th>\n",
       "      <th>speechiness</th>\n",
       "      <th>acousticness</th>\n",
       "      <th>instrumentalness</th>\n",
       "      <th>liveness</th>\n",
       "      <th>valence</th>\n",
       "      <th>tempo</th>\n",
       "      <th>key</th>\n",
       "      <th>mode</th>\n",
       "      <th>duration_ms</th>\n",
       "      <th>Popularity</th>\n",
       "      <th>values</th>\n",
       "      <th>pred</th>\n",
       "      <th>label</th>\n",
       "      <th>score</th>\n",
       "      <th>emotion_label</th>\n",
       "      <th>Hit</th>\n",
       "    </tr>\n",
       "  </thead>\n",
       "  <tbody>\n",
       "    <tr>\n",
       "      <th>0</th>\n",
       "      <td>look into my eyes  you will seewhat you mean t...</td>\n",
       "      <td>['acoustic rock', 'adult contemporary', 'album...</td>\n",
       "      <td>258.3</td>\n",
       "      <td>1</td>\n",
       "      <td>1991</td>\n",
       "      <td>4.4</td>\n",
       "      <td>107.69</td>\n",
       "      <td>36</td>\n",
       "      <td>{'neg': 0.14100000000000001, 'neu': 0.708, 'po...</td>\n",
       "      <td>(Everything I Do) I Do It For You</td>\n",
       "      <td>-0.3</td>\n",
       "      <td>Bryan Adams</td>\n",
       "      <td>6</td>\n",
       "      <td>12</td>\n",
       "      <td>233.0</td>\n",
       "      <td>95.0</td>\n",
       "      <td>1990s</td>\n",
       "      <td>look into my eye you will seewhat you mean to...</td>\n",
       "      <td>['VB', 'IN', 'PRP$', 'NNS', '_SP', 'PRP', 'MD'...</td>\n",
       "      <td>worth worth worth other worth worth heart soul...</td>\n",
       "      <td>2A4YfptOVIqtSvTQ6d32sm</td>\n",
       "      <td>(Everything I Do) I Do It For You</td>\n",
       "      <td>1Eb90nmqTrxylKFhcUzW8P</td>\n",
       "      <td>https://p.scdn.co/mp3-preview/b69589f6d0950835...</td>\n",
       "      <td>1991-09-24</td>\n",
       "      <td>['canadian pop', 'canadian singer-songwriter',...</td>\n",
       "      <td>0.533</td>\n",
       "      <td>0.360</td>\n",
       "      <td>-12.633</td>\n",
       "      <td>0.0282</td>\n",
       "      <td>0.0805</td>\n",
       "      <td>0.000010</td>\n",
       "      <td>0.0631</td>\n",
       "      <td>0.299</td>\n",
       "      <td>131.229</td>\n",
       "      <td>1</td>\n",
       "      <td>1</td>\n",
       "      <td>393640</td>\n",
       "      <td>77.0</td>\n",
       "      <td>1.000000</td>\n",
       "      <td>1</td>\n",
       "      <td>POSITIVE</td>\n",
       "      <td>0.998717</td>\n",
       "      <td>joy</td>\n",
       "      <td>Yes</td>\n",
       "    </tr>\n",
       "    <tr>\n",
       "      <th>1</th>\n",
       "      <td>i can't get no satisfactioni can't get no sati...</td>\n",
       "      <td>['blues', 'blues rock', 'britannique', 'britis...</td>\n",
       "      <td>296.1</td>\n",
       "      <td>3</td>\n",
       "      <td>1965</td>\n",
       "      <td>4.8</td>\n",
       "      <td>106.67</td>\n",
       "      <td>37</td>\n",
       "      <td>{'neg': 0.126, 'neu': 0.667, 'pos': 0.20800000...</td>\n",
       "      <td>(I Can't Get No) Satisfaction</td>\n",
       "      <td>0.1</td>\n",
       "      <td>Rolling Stones</td>\n",
       "      <td>18</td>\n",
       "      <td>22</td>\n",
       "      <td>260.0</td>\n",
       "      <td>83.0</td>\n",
       "      <td>1960s</td>\n",
       "      <td>i ca n't get no satisfactioni ca n't get no s...</td>\n",
       "      <td>['PRP', 'MD', 'RB', 'VB', 'DT', 'NN', 'MD', 'R...</td>\n",
       "      <td>satisfaction'cause nowhen drivin useless satis...</td>\n",
       "      <td>2A4YfptOVIqtSvTQ6d32sm</td>\n",
       "      <td>(I Can't Get No) Satisfaction - Mono Version</td>\n",
       "      <td>2PzU4IB8Dr6mxV3lHuaG34</td>\n",
       "      <td>https://p.scdn.co/mp3-preview/22782e4be2eb4daa...</td>\n",
       "      <td>1965-07-30</td>\n",
       "      <td>['album rock', 'british invasion', 'classic ro...</td>\n",
       "      <td>0.723</td>\n",
       "      <td>0.863</td>\n",
       "      <td>-7.890</td>\n",
       "      <td>0.0338</td>\n",
       "      <td>0.0383</td>\n",
       "      <td>0.031700</td>\n",
       "      <td>0.1280</td>\n",
       "      <td>0.931</td>\n",
       "      <td>136.302</td>\n",
       "      <td>2</td>\n",
       "      <td>1</td>\n",
       "      <td>222813</td>\n",
       "      <td>78.0</td>\n",
       "      <td>0.333333</td>\n",
       "      <td>0</td>\n",
       "      <td>NEGATIVE</td>\n",
       "      <td>0.999485</td>\n",
       "      <td>joy</td>\n",
       "      <td>Yes</td>\n",
       "    </tr>\n",
       "    <tr>\n",
       "      <th>2</th>\n",
       "      <td>our life together is so precious togetherwe ha...</td>\n",
       "      <td>['britannique', 'british', 'classic pop and ro...</td>\n",
       "      <td>288.0</td>\n",
       "      <td>4</td>\n",
       "      <td>1981</td>\n",
       "      <td>4.8</td>\n",
       "      <td>81.29</td>\n",
       "      <td>28</td>\n",
       "      <td>{'neg': 0.068, 'neu': 0.625, 'pos': 0.308, 'co...</td>\n",
       "      <td>(Just Like) Starting Over</td>\n",
       "      <td>3.7</td>\n",
       "      <td>John Lennon</td>\n",
       "      <td>18</td>\n",
       "      <td>14</td>\n",
       "      <td>212.0</td>\n",
       "      <td>91.0</td>\n",
       "      <td>1980s</td>\n",
       "      <td>our life togeth is so preciou togetherw have ...</td>\n",
       "      <td>['PRP$', 'NN', 'RB', 'VBZ', 'RB', 'JJ', 'NN', ...</td>\n",
       "      <td>precious speciallet long lovewhy nice alone ea...</td>\n",
       "      <td>2A4YfptOVIqtSvTQ6d32sm</td>\n",
       "      <td>(Just Like) Starting Over - Remastered 2010</td>\n",
       "      <td>5y0YreEOnQiKFAnCrcFIXz</td>\n",
       "      <td>https://p.scdn.co/mp3-preview/a79a8808230f4ded...</td>\n",
       "      <td>1980-11-17</td>\n",
       "      <td>['beatlesque', 'classic rock', 'rock']</td>\n",
       "      <td>0.701</td>\n",
       "      <td>0.790</td>\n",
       "      <td>-6.160</td>\n",
       "      <td>0.0725</td>\n",
       "      <td>0.3010</td>\n",
       "      <td>0.000061</td>\n",
       "      <td>0.1790</td>\n",
       "      <td>0.421</td>\n",
       "      <td>99.104</td>\n",
       "      <td>9</td>\n",
       "      <td>1</td>\n",
       "      <td>236547</td>\n",
       "      <td>61.0</td>\n",
       "      <td>0.250000</td>\n",
       "      <td>1</td>\n",
       "      <td>POSITIVE</td>\n",
       "      <td>0.998593</td>\n",
       "      <td>joy</td>\n",
       "      <td>Yes</td>\n",
       "    </tr>\n",
       "    <tr>\n",
       "      <th>3</th>\n",
       "      <td>love is higher than a mountain love is thicker...</td>\n",
       "      <td>['classic pop and rock', 'death by myocarditis']</td>\n",
       "      <td>224.1</td>\n",
       "      <td>8</td>\n",
       "      <td>1978</td>\n",
       "      <td>4.0</td>\n",
       "      <td>91.78</td>\n",
       "      <td>30</td>\n",
       "      <td>{'neg': 0.062, 'neu': 0.7000000000000001, 'pos...</td>\n",
       "      <td>(Love Is) Thicker Than Water</td>\n",
       "      <td>1.7</td>\n",
       "      <td>Andy Gibb</td>\n",
       "      <td>13</td>\n",
       "      <td>18</td>\n",
       "      <td>177.0</td>\n",
       "      <td>68.0</td>\n",
       "      <td>1970s</td>\n",
       "      <td>love is higher than a mountain love is thicke...</td>\n",
       "      <td>['NN', 'VBZ', 'JJR', 'IN', 'DT', 'NN', 'NN', '...</td>\n",
       "      <td>dreamheaven silent crazy dreamheaven dreamheav...</td>\n",
       "      <td>2A4YfptOVIqtSvTQ6d32sm</td>\n",
       "      <td>(Love Is) Thicker Than Water</td>\n",
       "      <td>3jdBf1cJ2QmTzNUixplppA</td>\n",
       "      <td>https://p.scdn.co/mp3-preview/ce0e47fb6c886802...</td>\n",
       "      <td>1977-01-01</td>\n",
       "      <td>['disco', 'mellow gold', 'soft rock']</td>\n",
       "      <td>0.582</td>\n",
       "      <td>0.462</td>\n",
       "      <td>-9.882</td>\n",
       "      <td>0.0254</td>\n",
       "      <td>0.1370</td>\n",
       "      <td>0.000050</td>\n",
       "      <td>0.0755</td>\n",
       "      <td>0.528</td>\n",
       "      <td>96.361</td>\n",
       "      <td>6</td>\n",
       "      <td>0</td>\n",
       "      <td>255960</td>\n",
       "      <td>47.0</td>\n",
       "      <td>0.125000</td>\n",
       "      <td>1</td>\n",
       "      <td>POSITIVE</td>\n",
       "      <td>0.998285</td>\n",
       "      <td>sadness</td>\n",
       "      <td>Yes</td>\n",
       "    </tr>\n",
       "    <tr>\n",
       "      <th>4</th>\n",
       "      <td>sittin' in the morning suni'll be sittin' when...</td>\n",
       "      <td>['american', 'blues', 'death by airplane', 'de...</td>\n",
       "      <td>223.2</td>\n",
       "      <td>4</td>\n",
       "      <td>1968</td>\n",
       "      <td>4.8</td>\n",
       "      <td>98.21</td>\n",
       "      <td>25</td>\n",
       "      <td>{'neg': 0.018000000000000002, 'neu': 0.927, 'p...</td>\n",
       "      <td>(Sittin' On) The Dock Of The Bay</td>\n",
       "      <td>1.3</td>\n",
       "      <td>Otis Redding</td>\n",
       "      <td>20</td>\n",
       "      <td>10</td>\n",
       "      <td>181.0</td>\n",
       "      <td>92.0</td>\n",
       "      <td>1960s</td>\n",
       "      <td>sittin ' in the morn suni 'll be sittin ' whe...</td>\n",
       "      <td>['NNP', \"''\", 'IN', 'DT', 'NN', 'NN', 'VB', 'N...</td>\n",
       "      <td>same listentwo morning suni'll sittin evening ...</td>\n",
       "      <td>2A4YfptOVIqtSvTQ6d32sm</td>\n",
       "      <td>(Sittin' On) the Dock of the Bay</td>\n",
       "      <td>3zBhihYUHBmGd2bcQIobrF</td>\n",
       "      <td>https://p.scdn.co/mp3-preview/404976a4a56d8c1c...</td>\n",
       "      <td>1968</td>\n",
       "      <td>['classic soul', 'memphis soul', 'soul', 'soul...</td>\n",
       "      <td>0.769</td>\n",
       "      <td>0.367</td>\n",
       "      <td>-11.226</td>\n",
       "      <td>0.0312</td>\n",
       "      <td>0.6840</td>\n",
       "      <td>0.000016</td>\n",
       "      <td>0.0810</td>\n",
       "      <td>0.535</td>\n",
       "      <td>103.621</td>\n",
       "      <td>2</td>\n",
       "      <td>1</td>\n",
       "      <td>163756</td>\n",
       "      <td>80.0</td>\n",
       "      <td>0.250000</td>\n",
       "      <td>0</td>\n",
       "      <td>NEGATIVE</td>\n",
       "      <td>0.994735</td>\n",
       "      <td>joy</td>\n",
       "      <td>Yes</td>\n",
       "    </tr>\n",
       "  </tbody>\n",
       "</table>\n",
       "</div>"
      ],
      "text/plain": [
       "                                              lyrics  ...  Hit\n",
       "0  look into my eyes  you will seewhat you mean t...  ...  Yes\n",
       "1  i can't get no satisfactioni can't get no sati...  ...  Yes\n",
       "2  our life together is so precious togetherwe ha...  ...  Yes\n",
       "3  love is higher than a mountain love is thicker...  ...  Yes\n",
       "4  sittin' in the morning suni'll be sittin' when...  ...  Yes\n",
       "\n",
       "[5 rows x 45 columns]"
      ]
     },
     "execution_count": 2,
     "metadata": {},
     "output_type": "execute_result"
    }
   ],
   "source": [
    "df.head(5)"
   ]
  },
  {
   "cell_type": "code",
   "execution_count": 3,
   "id": "f79ccc39",
   "metadata": {},
   "outputs": [
    {
     "data": {
      "text/plain": [
       "(1801, 45)"
      ]
     },
     "execution_count": 3,
     "metadata": {},
     "output_type": "execute_result"
    }
   ],
   "source": [
    "df.shape"
   ]
  },
  {
   "cell_type": "code",
   "execution_count": 4,
   "id": "8edcff95",
   "metadata": {},
   "outputs": [
    {
     "data": {
      "text/plain": [
       "Counter({'Yes': 912, 'No': 889})"
      ]
     },
     "execution_count": 4,
     "metadata": {},
     "output_type": "execute_result"
    }
   ],
   "source": [
    "from collections import Counter\n",
    "\n",
    "Counter(df.Hit)"
   ]
  },
  {
   "cell_type": "markdown",
   "id": "61c6275d",
   "metadata": {},
   "source": [
    "# Support Vector Machine (SVM) Features lyrics, label, emotion_label und dancebility"
   ]
  },
  {
   "cell_type": "markdown",
   "id": "9f5e30a7",
   "metadata": {},
   "source": [
    "## Implementierung in Scikit-learn"
   ]
  },
  {
   "cell_type": "code",
   "execution_count": 9,
   "id": "baaf15a9",
   "metadata": {},
   "outputs": [
    {
     "name": "stdout",
     "output_type": "stream",
     "text": [
      "Der Mittelwert der Cross-Validation bei der Klassifizierung mit SVM ist 0.565.\n",
      "\n",
      "Der F1-Score für die Klassifizierung mit SVM ist 0.543.\n"
     ]
    }
   ],
   "source": [
    "from sklearn.feature_extraction.text import TfidfVectorizer\n",
    "from sklearn.svm import LinearSVC\n",
    "from sklearn.model_selection import train_test_split\n",
    "from sklearn.metrics import f1_score\n",
    "from sklearn.model_selection import cross_val_score\n",
    "import numpy as np\n",
    "\n",
    "# Definieren der Merkmale als separate Arrays oder Listen\n",
    "lyrics = df[\"lyrics\"]\n",
    "label = df[\"label\"]\n",
    "emotion_label = df[\"emotion_label\"]\n",
    "danceability = df[\"danceability\"]\n",
    "\n",
    "labels = df[\"Hit\"]\n",
    "\n",
    "# Kombinieren der Merkmale zu einem einzigen 2D-Array\n",
    "features = np.column_stack((lyrics, label, emotion_label, danceability))\n",
    "\n",
    "# Aufteilung der Daten, einschließlich aller Merkmale\n",
    "X_train, X_test, y_train, y_test = train_test_split(features, labels,\n",
    "                                                    test_size=0.2,\n",
    "                                                    random_state=42)\n",
    "\n",
    "# Trennen der Merkmalsspalten\n",
    "X_train_lyrics = X_train[:, 0]  # Lyrics\n",
    "X_train_label = X_train[:, 1]  # Label\n",
    "X_train_emotion_label = X_train[:, 2]  # Emotion Label\n",
    "X_train_danceability = X_train[:, 3]  # Danceability\n",
    "\n",
    "X_test_lyrics = X_test[:, 0]  # Lyrics\n",
    "X_test_label = X_test[:, 1]  # Label\n",
    "X_test_emotion_label = X_test[:, 2]  # Emotion Label\n",
    "X_test_danceability = X_test[:, 3]  # Danceability\n",
    "\n",
    "# Umwandlung von Zeichenfolgenmerkmalen in numerische Darstellungen\n",
    "lyrics_vectorizer = TfidfVectorizer()\n",
    "lyrics_vectorizer.fit(X_train_lyrics)\n",
    "X_train_lyrics = lyrics_vectorizer.transform(X_train_lyrics)\n",
    "X_test_lyrics = lyrics_vectorizer.transform(X_test_lyrics)\n",
    "\n",
    "# Verkettung der numerischen Merkmale (Floats) mit den transformierten String-Merkmalen\n",
    "X_train_combined = np.hstack((X_train_lyrics.toarray(), X_train_danceability.reshape(-1, 1)))\n",
    "X_test_combined = np.hstack((X_test_lyrics.toarray(), X_test_danceability.reshape(-1, 1)))\n",
    "\n",
    "def classify_svm(C=1.0, cv=3):\n",
    "    # SVM\n",
    "    svm_classifier = LinearSVC(C=C)\n",
    "    svm = svm_classifier.fit(X_train_combined, y_train)\n",
    "\n",
    "    # Kreuzvalidierung des Trainingsdatensatzes\n",
    "    svm_scores = cross_val_score(svm_classifier, X_train_combined, y_train, cv=cv)\n",
    "    svm_mean = np.mean(svm_scores)\n",
    "\n",
    "    print(\"Der Mittelwert der Cross-Validation bei der Klassifizierung mit SVM ist \"\n",
    "          + f\"{str(np.around(svm_mean, decimals=3))}.\\n\")\n",
    "\n",
    "    # F1-Score des Testdatensatzes\n",
    "    y_pred = svm_classifier.predict(X_test_combined)\n",
    "    svm_f1 = f1_score(y_test, y_pred, average=\"micro\")\n",
    "\n",
    "    print(\"Der F1-Score für die Klassifizierung mit SVM ist \"\n",
    "          + f\"{str(np.around(svm_f1, decimals=3))}.\")\n",
    "\n",
    "classify_svm()"
   ]
  },
  {
   "cell_type": "markdown",
   "id": "dd1d8615",
   "metadata": {},
   "source": [
    "## Hyperparameteroptimierung von SVM"
   ]
  },
  {
   "cell_type": "code",
   "execution_count": 13,
   "id": "65aab8ac",
   "metadata": {},
   "outputs": [
    {
     "name": "stdout",
     "output_type": "stream",
     "text": [
      "Der beste Hyperparameter für C ist 0.5.\n",
      "Der beste Score ist 0.5736.\n"
     ]
    }
   ],
   "source": [
    "from sklearn.model_selection import GridSearchCV\n",
    "\n",
    "parameters = {\"C\": np.array([0.5, 1.0, 1.5, 2.0, 2.5, 3.0, 3.5, 4.0, 4.5, 5.0, 20.0])}\n",
    "\n",
    "grid = GridSearchCV(LinearSVC(), parameters, cv=3, scoring=\"f1_micro\")\n",
    "grid.fit(X_train_combined, y_train)\n",
    "\n",
    "# Ergebnisse\n",
    "print(f\"Der beste Hyperparameter für C ist {str(grid.best_estimator_.C)}.\")\n",
    "print(f\"Der beste Score ist {str(np.around(grid.best_score_, decimals=4))}.\")"
   ]
  },
  {
   "cell_type": "code",
   "execution_count": 14,
   "id": "dad8097b",
   "metadata": {},
   "outputs": [
    {
     "name": "stdout",
     "output_type": "stream",
     "text": [
      "Der Mittelwert der Cross-Validation bei der Klassifizierung mit SVM ist 0.574.\n",
      "\n",
      "Der F1-Score für die Klassifizierung mit SVM ist 0.54.\n"
     ]
    }
   ],
   "source": [
    "classify_svm(C=0.5, cv=3)"
   ]
  },
  {
   "cell_type": "code",
   "execution_count": 15,
   "id": "8de47c8a",
   "metadata": {},
   "outputs": [
    {
     "name": "stdout",
     "output_type": "stream",
     "text": [
      "Der Mittelwert der Cross-Validation bei der Klassifizierung mit SVM ist 0.572.\n",
      "\n",
      "Der F1-Score für die Klassifizierung mit SVM ist 0.54.\n"
     ]
    }
   ],
   "source": [
    "classify_svm(C=0.5, cv=10)"
   ]
  },
  {
   "cell_type": "markdown",
   "id": "e7d23eaf",
   "metadata": {},
   "source": [
    "## Visualisierung der SVM mit der Confusion Matrix"
   ]
  },
  {
   "cell_type": "code",
   "execution_count": 18,
   "id": "0ba8c6cf",
   "metadata": {},
   "outputs": [
    {
     "data": {
      "image/png": "[encoded data removed]",
      "text/plain": [
       "<Figure size 792x792 with 2 Axes>"
      ]
     },
     "metadata": {
      "needs_background": "light"
     },
     "output_type": "display_data"
    }
   ],
   "source": [
    "import seaborn as sns\n",
    "import matplotlib.pyplot as plt\n",
    "from sklearn.metrics import confusion_matrix\n",
    "\n",
    "svm_classifier = LinearSVC(C=0.5)\n",
    "svm = svm_classifier.fit(X_train_combined, y_train)\n",
    "\n",
    "y_pred = svm_classifier.predict(X_test_combined)\n",
    "\n",
    "cnf_matrix = confusion_matrix(y_test, y_pred)\n",
    "\n",
    "# Die Original Kategorienbezeichnungen\n",
    "classes = df[\"Hit\"].drop_duplicates().tolist()\n",
    "\n",
    "# Ein DataFrame mit den Kategorienbezeichnungen als Reihen und Spalten\n",
    "cnf_df = pd.DataFrame(cnf_matrix, index=classes, columns=classes)\n",
    "    \n",
    "plt.figure(figsize=(11,11))\n",
    "sns.heatmap(cnf_df, annot=True, cmap=sns.color_palette(\"Blues\"))\n",
    "plt.tight_layout()\n",
    "plt.show()"
   ]
  },
  {
   "cell_type": "markdown",
   "id": "1417b288",
   "metadata": {},
   "source": [
    "## Classification Report"
   ]
  },
  {
   "cell_type": "code",
   "execution_count": 19,
   "id": "25faaad8",
   "metadata": {},
   "outputs": [
    {
     "name": "stdout",
     "output_type": "stream",
     "text": [
      "              precision    recall  f1-score   support\n",
      "\n",
      "          No       0.54      0.54      0.54       182\n",
      "         Yes       0.54      0.54      0.54       179\n",
      "\n",
      "    accuracy                           0.54       361\n",
      "   macro avg       0.54      0.54      0.54       361\n",
      "weighted avg       0.54      0.54      0.54       361\n",
      "\n"
     ]
    }
   ],
   "source": [
    "from sklearn.metrics import classification_report\n",
    "print(classification_report(y_test, y_pred))"
   ]
  },
  {
   "cell_type": "markdown",
   "id": "02b152c8",
   "metadata": {},
   "source": [
    "# SVM nur mit Audiofeatures"
   ]
  },
  {
   "cell_type": "code",
   "execution_count": 20,
   "id": "e919a0da",
   "metadata": {},
   "outputs": [
    {
     "data": {
      "text/plain": [
       "Index(['lyrics', 'genre', 'num_syllables', 'pos', 'year', 'fog_index',\n",
       "       'flesch_index', 'num_lines', 'sentiment', 'title', 'f_k_grade',\n",
       "       'artist', 'difficult_words', 'num_dupes', 'number_of_tokens',\n",
       "       'number_of_types', 'decades', 'stemmed_text', 'POS_tags', 'POS',\n",
       "       'playlistID', 'TrackName', 'TrackID', 'SampleURL', 'ReleaseYear',\n",
       "       'Genres', 'danceability', 'energy', 'loudness', 'speechiness',\n",
       "       'acousticness', 'instrumentalness', 'liveness', 'valence', 'tempo',\n",
       "       'key', 'mode', 'duration_ms', 'Popularity', 'values', 'pred', 'label',\n",
       "       'score', 'emotion_label', 'Hit'],\n",
       "      dtype='object')"
      ]
     },
     "execution_count": 20,
     "metadata": {},
     "output_type": "execute_result"
    }
   ],
   "source": [
    "df.columns"
   ]
  },
  {
   "cell_type": "code",
   "execution_count": 31,
   "id": "be933d27",
   "metadata": {},
   "outputs": [
    {
     "name": "stdout",
     "output_type": "stream",
     "text": [
      "Der Mittelwert der Cross-Validation bei der Klassifizierung mit SVM ist 0.491.\n",
      "\n",
      "Der F1-Score für die Klassifizierung mit SVM ist 0.496.\n"
     ]
    },
    {
     "name": "stderr",
     "output_type": "stream",
     "text": [
      "/usr/local/lib/python3.9/site-packages/sklearn/svm/_base.py:1206: ConvergenceWarning: Liblinear failed to converge, increase the number of iterations.\n",
      "  warnings.warn(\n",
      "/usr/local/lib/python3.9/site-packages/sklearn/svm/_base.py:1206: ConvergenceWarning: Liblinear failed to converge, increase the number of iterations.\n",
      "  warnings.warn(\n",
      "/usr/local/lib/python3.9/site-packages/sklearn/svm/_base.py:1206: ConvergenceWarning: Liblinear failed to converge, increase the number of iterations.\n",
      "  warnings.warn(\n",
      "/usr/local/lib/python3.9/site-packages/sklearn/svm/_base.py:1206: ConvergenceWarning: Liblinear failed to converge, increase the number of iterations.\n",
      "  warnings.warn(\n"
     ]
    }
   ],
   "source": [
    "from sklearn.feature_extraction.text import CountVectorizer, TfidfVectorizer\n",
    "from sklearn.svm import LinearSVC\n",
    "from sklearn.model_selection import train_test_split\n",
    "from sklearn.metrics import f1_score\n",
    "from sklearn.model_selection import cross_val_score\n",
    "import numpy as np\n",
    "\n",
    "# Define your features as separate arrays or lists\n",
    "danceability = df[\"danceability\"]\n",
    "energy = df['energy']\n",
    "loudness = df['loudness']\n",
    "speechiness = df['speechiness']\n",
    "acousticness = df['acousticness']\n",
    "instrumentalness = df['instrumentalness']\n",
    "liveness = df['liveness']\n",
    "valence = df['valence']\n",
    "tempo = df['tempo']\n",
    "key = df['key']\n",
    "mode = df['mode']\n",
    "duration_ms = df['duration_ms']\n",
    "Popularity = df['Popularity']\n",
    "labels = df[\"Hit\"]\n",
    "\n",
    "# Combine the features into a single 2D array\n",
    "features = np.column_stack((danceability, energy, loudness, speechiness, acousticness,\n",
    "                            instrumentalness, liveness, valence, tempo, key, mode,\n",
    "                            duration_ms, Popularity))\n",
    "\n",
    "# Split the data, including all features\n",
    "X_train, X_test, y_train, y_test = train_test_split(features, labels,\n",
    "                                                    test_size=0.2,\n",
    "                                                    random_state=42)\n",
    "\n",
    "def classify_svm(C=1.0, cv=3, max_iter=1000):\n",
    "    # SVM\n",
    "    svm_classifier = LinearSVC(C=C, max_iter=max_iter)\n",
    "    svm = svm_classifier.fit(X_train, y_train)\n",
    "\n",
    "    # Cross-validation of the training dataset\n",
    "    svm_scores = cross_val_score(svm_classifier, X_train, y_train, cv=cv)\n",
    "    svm_mean = np.mean(svm_scores)\n",
    "\n",
    "    print(\"Der Mittelwert der Cross-Validation bei der Klassifizierung mit SVM ist \"\n",
    "          + f\"{str(np.around(svm_mean, decimals=3))}.\\n\")\n",
    "\n",
    "    # F1-score of the test dataset\n",
    "    y_pred = svm_classifier.predict(X_test)\n",
    "    svm_f1 = f1_score(y_test, y_pred, average=\"micro\")\n",
    "\n",
    "    print(\"Der F1-Score für die Klassifizierung mit SVM ist \"\n",
    "          + f\"{str(np.around(svm_f1, decimals=3))}.\")\n",
    "\n",
    "classify_svm(C=1.0, cv=3, max_iter=1000)"
   ]
  },
  {
   "cell_type": "markdown",
   "id": "c80d1f2b",
   "metadata": {},
   "source": [
    "## Hyperparameteroptimierung von SVM"
   ]
  },
  {
   "cell_type": "code",
   "execution_count": 32,
   "id": "b569c337",
   "metadata": {},
   "outputs": [
    {
     "name": "stderr",
     "output_type": "stream",
     "text": [
      "/usr/local/lib/python3.9/site-packages/sklearn/svm/_base.py:1206: ConvergenceWarning: Liblinear failed to converge, increase the number of iterations.\n",
      "  warnings.warn(\n",
      "/usr/local/lib/python3.9/site-packages/sklearn/svm/_base.py:1206: ConvergenceWarning: Liblinear failed to converge, increase the number of iterations.\n",
      "  warnings.warn(\n",
      "/usr/local/lib/python3.9/site-packages/sklearn/svm/_base.py:1206: ConvergenceWarning: Liblinear failed to converge, increase the number of iterations.\n",
      "  warnings.warn(\n",
      "/usr/local/lib/python3.9/site-packages/sklearn/svm/_base.py:1206: ConvergenceWarning: Liblinear failed to converge, increase the number of iterations.\n",
      "  warnings.warn(\n",
      "/usr/local/lib/python3.9/site-packages/sklearn/svm/_base.py:1206: ConvergenceWarning: Liblinear failed to converge, increase the number of iterations.\n",
      "  warnings.warn(\n",
      "/usr/local/lib/python3.9/site-packages/sklearn/svm/_base.py:1206: ConvergenceWarning: Liblinear failed to converge, increase the number of iterations.\n",
      "  warnings.warn(\n",
      "/usr/local/lib/python3.9/site-packages/sklearn/svm/_base.py:1206: ConvergenceWarning: Liblinear failed to converge, increase the number of iterations.\n",
      "  warnings.warn(\n",
      "/usr/local/lib/python3.9/site-packages/sklearn/svm/_base.py:1206: ConvergenceWarning: Liblinear failed to converge, increase the number of iterations.\n",
      "  warnings.warn(\n",
      "/usr/local/lib/python3.9/site-packages/sklearn/svm/_base.py:1206: ConvergenceWarning: Liblinear failed to converge, increase the number of iterations.\n",
      "  warnings.warn(\n",
      "/usr/local/lib/python3.9/site-packages/sklearn/svm/_base.py:1206: ConvergenceWarning: Liblinear failed to converge, increase the number of iterations.\n",
      "  warnings.warn(\n",
      "/usr/local/lib/python3.9/site-packages/sklearn/svm/_base.py:1206: ConvergenceWarning: Liblinear failed to converge, increase the number of iterations.\n",
      "  warnings.warn(\n",
      "/usr/local/lib/python3.9/site-packages/sklearn/svm/_base.py:1206: ConvergenceWarning: Liblinear failed to converge, increase the number of iterations.\n",
      "  warnings.warn(\n",
      "/usr/local/lib/python3.9/site-packages/sklearn/svm/_base.py:1206: ConvergenceWarning: Liblinear failed to converge, increase the number of iterations.\n",
      "  warnings.warn(\n",
      "/usr/local/lib/python3.9/site-packages/sklearn/svm/_base.py:1206: ConvergenceWarning: Liblinear failed to converge, increase the number of iterations.\n",
      "  warnings.warn(\n",
      "/usr/local/lib/python3.9/site-packages/sklearn/svm/_base.py:1206: ConvergenceWarning: Liblinear failed to converge, increase the number of iterations.\n",
      "  warnings.warn(\n",
      "/usr/local/lib/python3.9/site-packages/sklearn/svm/_base.py:1206: ConvergenceWarning: Liblinear failed to converge, increase the number of iterations.\n",
      "  warnings.warn(\n",
      "/usr/local/lib/python3.9/site-packages/sklearn/svm/_base.py:1206: ConvergenceWarning: Liblinear failed to converge, increase the number of iterations.\n",
      "  warnings.warn(\n",
      "/usr/local/lib/python3.9/site-packages/sklearn/svm/_base.py:1206: ConvergenceWarning: Liblinear failed to converge, increase the number of iterations.\n",
      "  warnings.warn(\n",
      "/usr/local/lib/python3.9/site-packages/sklearn/svm/_base.py:1206: ConvergenceWarning: Liblinear failed to converge, increase the number of iterations.\n",
      "  warnings.warn(\n",
      "/usr/local/lib/python3.9/site-packages/sklearn/svm/_base.py:1206: ConvergenceWarning: Liblinear failed to converge, increase the number of iterations.\n",
      "  warnings.warn(\n",
      "/usr/local/lib/python3.9/site-packages/sklearn/svm/_base.py:1206: ConvergenceWarning: Liblinear failed to converge, increase the number of iterations.\n",
      "  warnings.warn(\n",
      "/usr/local/lib/python3.9/site-packages/sklearn/svm/_base.py:1206: ConvergenceWarning: Liblinear failed to converge, increase the number of iterations.\n",
      "  warnings.warn(\n",
      "/usr/local/lib/python3.9/site-packages/sklearn/svm/_base.py:1206: ConvergenceWarning: Liblinear failed to converge, increase the number of iterations.\n",
      "  warnings.warn(\n",
      "/usr/local/lib/python3.9/site-packages/sklearn/svm/_base.py:1206: ConvergenceWarning: Liblinear failed to converge, increase the number of iterations.\n",
      "  warnings.warn(\n",
      "/usr/local/lib/python3.9/site-packages/sklearn/svm/_base.py:1206: ConvergenceWarning: Liblinear failed to converge, increase the number of iterations.\n",
      "  warnings.warn(\n",
      "/usr/local/lib/python3.9/site-packages/sklearn/svm/_base.py:1206: ConvergenceWarning: Liblinear failed to converge, increase the number of iterations.\n",
      "  warnings.warn(\n",
      "/usr/local/lib/python3.9/site-packages/sklearn/svm/_base.py:1206: ConvergenceWarning: Liblinear failed to converge, increase the number of iterations.\n",
      "  warnings.warn(\n",
      "/usr/local/lib/python3.9/site-packages/sklearn/svm/_base.py:1206: ConvergenceWarning: Liblinear failed to converge, increase the number of iterations.\n",
      "  warnings.warn(\n",
      "/usr/local/lib/python3.9/site-packages/sklearn/svm/_base.py:1206: ConvergenceWarning: Liblinear failed to converge, increase the number of iterations.\n",
      "  warnings.warn(\n",
      "/usr/local/lib/python3.9/site-packages/sklearn/svm/_base.py:1206: ConvergenceWarning: Liblinear failed to converge, increase the number of iterations.\n",
      "  warnings.warn(\n",
      "/usr/local/lib/python3.9/site-packages/sklearn/svm/_base.py:1206: ConvergenceWarning: Liblinear failed to converge, increase the number of iterations.\n",
      "  warnings.warn(\n",
      "/usr/local/lib/python3.9/site-packages/sklearn/svm/_base.py:1206: ConvergenceWarning: Liblinear failed to converge, increase the number of iterations.\n",
      "  warnings.warn(\n",
      "/usr/local/lib/python3.9/site-packages/sklearn/svm/_base.py:1206: ConvergenceWarning: Liblinear failed to converge, increase the number of iterations.\n",
      "  warnings.warn(\n"
     ]
    },
    {
     "name": "stdout",
     "output_type": "stream",
     "text": [
      "Der beste Hyperparameter für C ist 0.5.\n",
      "Der beste Score ist 0.509.\n"
     ]
    },
    {
     "name": "stderr",
     "output_type": "stream",
     "text": [
      "/usr/local/lib/python3.9/site-packages/sklearn/svm/_base.py:1206: ConvergenceWarning: Liblinear failed to converge, increase the number of iterations.\n",
      "  warnings.warn(\n"
     ]
    }
   ],
   "source": [
    "from sklearn.model_selection import GridSearchCV\n",
    "\n",
    "parameters = {\"C\": np.array([0.5, 1.0, 1.5, 2.0, 2.5, 3.0, 3.5, 4.0, 4.5, 5.0, 20.0])}\n",
    "\n",
    "grid = GridSearchCV(LinearSVC(), parameters, cv=3, scoring=\"f1_micro\")\n",
    "grid.fit(X_train, y_train)\n",
    "\n",
    "# Ergebnisse\n",
    "print(f\"Der beste Hyperparameter für C ist {str(grid.best_estimator_.C)}.\")\n",
    "print(f\"Der beste Score ist {str(np.around(grid.best_score_, decimals=4))}.\")"
   ]
  },
  {
   "cell_type": "code",
   "execution_count": 33,
   "id": "e807fee3",
   "metadata": {},
   "outputs": [
    {
     "name": "stdout",
     "output_type": "stream",
     "text": [
      "Der Mittelwert der Cross-Validation bei der Klassifizierung mit SVM ist 0.498.\n",
      "\n",
      "Der F1-Score für die Klassifizierung mit SVM ist 0.504.\n"
     ]
    },
    {
     "name": "stderr",
     "output_type": "stream",
     "text": [
      "/usr/local/lib/python3.9/site-packages/sklearn/svm/_base.py:1206: ConvergenceWarning: Liblinear failed to converge, increase the number of iterations.\n",
      "  warnings.warn(\n",
      "/usr/local/lib/python3.9/site-packages/sklearn/svm/_base.py:1206: ConvergenceWarning: Liblinear failed to converge, increase the number of iterations.\n",
      "  warnings.warn(\n",
      "/usr/local/lib/python3.9/site-packages/sklearn/svm/_base.py:1206: ConvergenceWarning: Liblinear failed to converge, increase the number of iterations.\n",
      "  warnings.warn(\n",
      "/usr/local/lib/python3.9/site-packages/sklearn/svm/_base.py:1206: ConvergenceWarning: Liblinear failed to converge, increase the number of iterations.\n",
      "  warnings.warn(\n"
     ]
    }
   ],
   "source": [
    "classify_svm(C=0.5, cv=3)"
   ]
  },
  {
   "cell_type": "code",
   "execution_count": 34,
   "id": "43002c99",
   "metadata": {},
   "outputs": [
    {
     "name": "stderr",
     "output_type": "stream",
     "text": [
      "/usr/local/lib/python3.9/site-packages/sklearn/svm/_base.py:1206: ConvergenceWarning: Liblinear failed to converge, increase the number of iterations.\n",
      "  warnings.warn(\n",
      "/usr/local/lib/python3.9/site-packages/sklearn/svm/_base.py:1206: ConvergenceWarning: Liblinear failed to converge, increase the number of iterations.\n",
      "  warnings.warn(\n",
      "/usr/local/lib/python3.9/site-packages/sklearn/svm/_base.py:1206: ConvergenceWarning: Liblinear failed to converge, increase the number of iterations.\n",
      "  warnings.warn(\n",
      "/usr/local/lib/python3.9/site-packages/sklearn/svm/_base.py:1206: ConvergenceWarning: Liblinear failed to converge, increase the number of iterations.\n",
      "  warnings.warn(\n",
      "/usr/local/lib/python3.9/site-packages/sklearn/svm/_base.py:1206: ConvergenceWarning: Liblinear failed to converge, increase the number of iterations.\n",
      "  warnings.warn(\n",
      "/usr/local/lib/python3.9/site-packages/sklearn/svm/_base.py:1206: ConvergenceWarning: Liblinear failed to converge, increase the number of iterations.\n",
      "  warnings.warn(\n",
      "/usr/local/lib/python3.9/site-packages/sklearn/svm/_base.py:1206: ConvergenceWarning: Liblinear failed to converge, increase the number of iterations.\n",
      "  warnings.warn(\n",
      "/usr/local/lib/python3.9/site-packages/sklearn/svm/_base.py:1206: ConvergenceWarning: Liblinear failed to converge, increase the number of iterations.\n",
      "  warnings.warn(\n"
     ]
    },
    {
     "name": "stdout",
     "output_type": "stream",
     "text": [
      "Der Mittelwert der Cross-Validation bei der Klassifizierung mit SVM ist 0.499.\n",
      "\n",
      "Der F1-Score für die Klassifizierung mit SVM ist 0.496.\n"
     ]
    },
    {
     "name": "stderr",
     "output_type": "stream",
     "text": [
      "/usr/local/lib/python3.9/site-packages/sklearn/svm/_base.py:1206: ConvergenceWarning: Liblinear failed to converge, increase the number of iterations.\n",
      "  warnings.warn(\n",
      "/usr/local/lib/python3.9/site-packages/sklearn/svm/_base.py:1206: ConvergenceWarning: Liblinear failed to converge, increase the number of iterations.\n",
      "  warnings.warn(\n",
      "/usr/local/lib/python3.9/site-packages/sklearn/svm/_base.py:1206: ConvergenceWarning: Liblinear failed to converge, increase the number of iterations.\n",
      "  warnings.warn(\n"
     ]
    }
   ],
   "source": [
    "classify_svm(C=0.5, cv=10)"
   ]
  },
  {
   "cell_type": "markdown",
   "id": "da38278a",
   "metadata": {},
   "source": [
    "## Visualisierung der SVM mit der Confusion Matrix"
   ]
  },
  {
   "cell_type": "code",
   "execution_count": 36,
   "id": "a9bb2f74",
   "metadata": {},
   "outputs": [
    {
     "name": "stderr",
     "output_type": "stream",
     "text": [
      "/usr/local/lib/python3.9/site-packages/sklearn/svm/_base.py:1206: ConvergenceWarning: Liblinear failed to converge, increase the number of iterations.\n",
      "  warnings.warn(\n"
     ]
    },
    {
     "data": {
      "image/png": "[encoded data removed]",
      "text/plain": [
       "<Figure size 792x792 with 2 Axes>"
      ]
     },
     "metadata": {
      "needs_background": "light"
     },
     "output_type": "display_data"
    }
   ],
   "source": [
    "import seaborn as sns\n",
    "import matplotlib.pyplot as plt\n",
    "from sklearn.metrics import confusion_matrix\n",
    "\n",
    "svm_classifier = LinearSVC(C=3.0)\n",
    "svm = svm_classifier.fit(X_train, y_train)\n",
    "\n",
    "y_pred = svm_classifier.predict(X_test)\n",
    "\n",
    "cnf_matrix = confusion_matrix(y_test, y_pred)\n",
    "\n",
    "# Die Original Kategorienbezeichnungen\n",
    "classes = df[\"Hit\"].drop_duplicates().tolist()\n",
    "\n",
    "# Ein DataFrame mit den Kategorienbezeichnungen als Reihen und Spalten\n",
    "cnf_df = pd.DataFrame(cnf_matrix, index=classes, columns=classes)\n",
    "    \n",
    "plt.figure(figsize=(11,11))\n",
    "sns.heatmap(cnf_df, annot=True, cmap=sns.color_palette(\"Blues\"))\n",
    "plt.tight_layout()\n",
    "plt.show()"
   ]
  },
  {
   "cell_type": "markdown",
   "id": "8c6decd2",
   "metadata": {},
   "source": [
    "## Classification Report"
   ]
  },
  {
   "cell_type": "code",
   "execution_count": 37,
   "id": "eebcad89",
   "metadata": {},
   "outputs": [
    {
     "name": "stdout",
     "output_type": "stream",
     "text": [
      "              precision    recall  f1-score   support\n",
      "\n",
      "          No       0.00      0.00      0.00       182\n",
      "         Yes       0.50      1.00      0.66       179\n",
      "\n",
      "    accuracy                           0.50       361\n",
      "   macro avg       0.25      0.50      0.33       361\n",
      "weighted avg       0.25      0.50      0.33       361\n",
      "\n"
     ]
    },
    {
     "name": "stderr",
     "output_type": "stream",
     "text": [
      "/usr/local/lib/python3.9/site-packages/sklearn/metrics/_classification.py:1318: UndefinedMetricWarning: Precision and F-score are ill-defined and being set to 0.0 in labels with no predicted samples. Use `zero_division` parameter to control this behavior.\n",
      "  _warn_prf(average, modifier, msg_start, len(result))\n",
      "/usr/local/lib/python3.9/site-packages/sklearn/metrics/_classification.py:1318: UndefinedMetricWarning: Precision and F-score are ill-defined and being set to 0.0 in labels with no predicted samples. Use `zero_division` parameter to control this behavior.\n",
      "  _warn_prf(average, modifier, msg_start, len(result))\n",
      "/usr/local/lib/python3.9/site-packages/sklearn/metrics/_classification.py:1318: UndefinedMetricWarning: Precision and F-score are ill-defined and being set to 0.0 in labels with no predicted samples. Use `zero_division` parameter to control this behavior.\n",
      "  _warn_prf(average, modifier, msg_start, len(result))\n"
     ]
    }
   ],
   "source": [
    "from sklearn.metrics import classification_report\n",
    "print(classification_report(y_test, y_pred))"
   ]
  },
  {
   "cell_type": "markdown",
   "id": "0c437e22",
   "metadata": {},
   "source": [
    "# SVM mit allen Featuren"
   ]
  },
  {
   "cell_type": "code",
   "execution_count": 53,
   "id": "728db18e",
   "metadata": {},
   "outputs": [
    {
     "data": {
      "text/html": [
       "<div>\n",
       "<style scoped>\n",
       "    .dataframe tbody tr th:only-of-type {\n",
       "        vertical-align: middle;\n",
       "    }\n",
       "\n",
       "    .dataframe tbody tr th {\n",
       "        vertical-align: top;\n",
       "    }\n",
       "\n",
       "    .dataframe thead th {\n",
       "        text-align: right;\n",
       "    }\n",
       "</style>\n",
       "<table border=\"1\" class=\"dataframe\">\n",
       "  <thead>\n",
       "    <tr style=\"text-align: right;\">\n",
       "      <th></th>\n",
       "      <th>lyrics</th>\n",
       "      <th>genre</th>\n",
       "      <th>num_syllables</th>\n",
       "      <th>pos</th>\n",
       "      <th>year</th>\n",
       "      <th>fog_index</th>\n",
       "      <th>flesch_index</th>\n",
       "      <th>num_lines</th>\n",
       "      <th>sentiment</th>\n",
       "      <th>title</th>\n",
       "      <th>f_k_grade</th>\n",
       "      <th>artist</th>\n",
       "      <th>difficult_words</th>\n",
       "      <th>num_dupes</th>\n",
       "      <th>number_of_tokens</th>\n",
       "      <th>number_of_types</th>\n",
       "      <th>decades</th>\n",
       "      <th>stemmed_text</th>\n",
       "      <th>POS_tags</th>\n",
       "      <th>POS</th>\n",
       "      <th>playlistID</th>\n",
       "      <th>TrackName</th>\n",
       "      <th>TrackID</th>\n",
       "      <th>SampleURL</th>\n",
       "      <th>ReleaseYear</th>\n",
       "      <th>Genres</th>\n",
       "      <th>danceability</th>\n",
       "      <th>energy</th>\n",
       "      <th>loudness</th>\n",
       "      <th>speechiness</th>\n",
       "      <th>acousticness</th>\n",
       "      <th>instrumentalness</th>\n",
       "      <th>liveness</th>\n",
       "      <th>valence</th>\n",
       "      <th>tempo</th>\n",
       "      <th>key</th>\n",
       "      <th>mode</th>\n",
       "      <th>duration_ms</th>\n",
       "      <th>Popularity</th>\n",
       "      <th>values</th>\n",
       "      <th>pred</th>\n",
       "      <th>label</th>\n",
       "      <th>score</th>\n",
       "      <th>emotion_label</th>\n",
       "      <th>Hit</th>\n",
       "    </tr>\n",
       "  </thead>\n",
       "  <tbody>\n",
       "    <tr>\n",
       "      <th>0</th>\n",
       "      <td>look into my eyes  you will seewhat you mean t...</td>\n",
       "      <td>['acoustic rock', 'adult contemporary', 'album...</td>\n",
       "      <td>258.3</td>\n",
       "      <td>1</td>\n",
       "      <td>1991</td>\n",
       "      <td>4.4</td>\n",
       "      <td>107.69</td>\n",
       "      <td>36</td>\n",
       "      <td>{'neg': 0.14100000000000001, 'neu': 0.708, 'po...</td>\n",
       "      <td>(Everything I Do) I Do It For You</td>\n",
       "      <td>-0.3</td>\n",
       "      <td>Bryan Adams</td>\n",
       "      <td>6</td>\n",
       "      <td>12</td>\n",
       "      <td>233.0</td>\n",
       "      <td>95.0</td>\n",
       "      <td>1990s</td>\n",
       "      <td>look into my eye you will seewhat you mean to...</td>\n",
       "      <td>['VB', 'IN', 'PRP$', 'NNS', '_SP', 'PRP', 'MD'...</td>\n",
       "      <td>worth worth worth other worth worth heart soul...</td>\n",
       "      <td>2A4YfptOVIqtSvTQ6d32sm</td>\n",
       "      <td>(Everything I Do) I Do It For You</td>\n",
       "      <td>1Eb90nmqTrxylKFhcUzW8P</td>\n",
       "      <td>https://p.scdn.co/mp3-preview/b69589f6d0950835...</td>\n",
       "      <td>1991-09-24</td>\n",
       "      <td>['canadian pop', 'canadian singer-songwriter',...</td>\n",
       "      <td>0.533</td>\n",
       "      <td>0.360</td>\n",
       "      <td>-12.633</td>\n",
       "      <td>0.0282</td>\n",
       "      <td>0.0805</td>\n",
       "      <td>0.000010</td>\n",
       "      <td>0.0631</td>\n",
       "      <td>0.299</td>\n",
       "      <td>131.229</td>\n",
       "      <td>1</td>\n",
       "      <td>1</td>\n",
       "      <td>393640</td>\n",
       "      <td>77.0</td>\n",
       "      <td>1.000000</td>\n",
       "      <td>1</td>\n",
       "      <td>POSITIVE</td>\n",
       "      <td>0.998717</td>\n",
       "      <td>joy</td>\n",
       "      <td>Yes</td>\n",
       "    </tr>\n",
       "    <tr>\n",
       "      <th>1</th>\n",
       "      <td>i can't get no satisfactioni can't get no sati...</td>\n",
       "      <td>['blues', 'blues rock', 'britannique', 'britis...</td>\n",
       "      <td>296.1</td>\n",
       "      <td>3</td>\n",
       "      <td>1965</td>\n",
       "      <td>4.8</td>\n",
       "      <td>106.67</td>\n",
       "      <td>37</td>\n",
       "      <td>{'neg': 0.126, 'neu': 0.667, 'pos': 0.20800000...</td>\n",
       "      <td>(I Can't Get No) Satisfaction</td>\n",
       "      <td>0.1</td>\n",
       "      <td>Rolling Stones</td>\n",
       "      <td>18</td>\n",
       "      <td>22</td>\n",
       "      <td>260.0</td>\n",
       "      <td>83.0</td>\n",
       "      <td>1960s</td>\n",
       "      <td>i ca n't get no satisfactioni ca n't get no s...</td>\n",
       "      <td>['PRP', 'MD', 'RB', 'VB', 'DT', 'NN', 'MD', 'R...</td>\n",
       "      <td>satisfaction'cause nowhen drivin useless satis...</td>\n",
       "      <td>2A4YfptOVIqtSvTQ6d32sm</td>\n",
       "      <td>(I Can't Get No) Satisfaction - Mono Version</td>\n",
       "      <td>2PzU4IB8Dr6mxV3lHuaG34</td>\n",
       "      <td>https://p.scdn.co/mp3-preview/22782e4be2eb4daa...</td>\n",
       "      <td>1965-07-30</td>\n",
       "      <td>['album rock', 'british invasion', 'classic ro...</td>\n",
       "      <td>0.723</td>\n",
       "      <td>0.863</td>\n",
       "      <td>-7.890</td>\n",
       "      <td>0.0338</td>\n",
       "      <td>0.0383</td>\n",
       "      <td>0.031700</td>\n",
       "      <td>0.1280</td>\n",
       "      <td>0.931</td>\n",
       "      <td>136.302</td>\n",
       "      <td>2</td>\n",
       "      <td>1</td>\n",
       "      <td>222813</td>\n",
       "      <td>78.0</td>\n",
       "      <td>0.333333</td>\n",
       "      <td>0</td>\n",
       "      <td>NEGATIVE</td>\n",
       "      <td>0.999485</td>\n",
       "      <td>joy</td>\n",
       "      <td>Yes</td>\n",
       "    </tr>\n",
       "    <tr>\n",
       "      <th>2</th>\n",
       "      <td>our life together is so precious togetherwe ha...</td>\n",
       "      <td>['britannique', 'british', 'classic pop and ro...</td>\n",
       "      <td>288.0</td>\n",
       "      <td>4</td>\n",
       "      <td>1981</td>\n",
       "      <td>4.8</td>\n",
       "      <td>81.29</td>\n",
       "      <td>28</td>\n",
       "      <td>{'neg': 0.068, 'neu': 0.625, 'pos': 0.308, 'co...</td>\n",
       "      <td>(Just Like) Starting Over</td>\n",
       "      <td>3.7</td>\n",
       "      <td>John Lennon</td>\n",
       "      <td>18</td>\n",
       "      <td>14</td>\n",
       "      <td>212.0</td>\n",
       "      <td>91.0</td>\n",
       "      <td>1980s</td>\n",
       "      <td>our life togeth is so preciou togetherw have ...</td>\n",
       "      <td>['PRP$', 'NN', 'RB', 'VBZ', 'RB', 'JJ', 'NN', ...</td>\n",
       "      <td>precious speciallet long lovewhy nice alone ea...</td>\n",
       "      <td>2A4YfptOVIqtSvTQ6d32sm</td>\n",
       "      <td>(Just Like) Starting Over - Remastered 2010</td>\n",
       "      <td>5y0YreEOnQiKFAnCrcFIXz</td>\n",
       "      <td>https://p.scdn.co/mp3-preview/a79a8808230f4ded...</td>\n",
       "      <td>1980-11-17</td>\n",
       "      <td>['beatlesque', 'classic rock', 'rock']</td>\n",
       "      <td>0.701</td>\n",
       "      <td>0.790</td>\n",
       "      <td>-6.160</td>\n",
       "      <td>0.0725</td>\n",
       "      <td>0.3010</td>\n",
       "      <td>0.000061</td>\n",
       "      <td>0.1790</td>\n",
       "      <td>0.421</td>\n",
       "      <td>99.104</td>\n",
       "      <td>9</td>\n",
       "      <td>1</td>\n",
       "      <td>236547</td>\n",
       "      <td>61.0</td>\n",
       "      <td>0.250000</td>\n",
       "      <td>1</td>\n",
       "      <td>POSITIVE</td>\n",
       "      <td>0.998593</td>\n",
       "      <td>joy</td>\n",
       "      <td>Yes</td>\n",
       "    </tr>\n",
       "    <tr>\n",
       "      <th>3</th>\n",
       "      <td>love is higher than a mountain love is thicker...</td>\n",
       "      <td>['classic pop and rock', 'death by myocarditis']</td>\n",
       "      <td>224.1</td>\n",
       "      <td>8</td>\n",
       "      <td>1978</td>\n",
       "      <td>4.0</td>\n",
       "      <td>91.78</td>\n",
       "      <td>30</td>\n",
       "      <td>{'neg': 0.062, 'neu': 0.7000000000000001, 'pos...</td>\n",
       "      <td>(Love Is) Thicker Than Water</td>\n",
       "      <td>1.7</td>\n",
       "      <td>Andy Gibb</td>\n",
       "      <td>13</td>\n",
       "      <td>18</td>\n",
       "      <td>177.0</td>\n",
       "      <td>68.0</td>\n",
       "      <td>1970s</td>\n",
       "      <td>love is higher than a mountain love is thicke...</td>\n",
       "      <td>['NN', 'VBZ', 'JJR', 'IN', 'DT', 'NN', 'NN', '...</td>\n",
       "      <td>dreamheaven silent crazy dreamheaven dreamheav...</td>\n",
       "      <td>2A4YfptOVIqtSvTQ6d32sm</td>\n",
       "      <td>(Love Is) Thicker Than Water</td>\n",
       "      <td>3jdBf1cJ2QmTzNUixplppA</td>\n",
       "      <td>https://p.scdn.co/mp3-preview/ce0e47fb6c886802...</td>\n",
       "      <td>1977-01-01</td>\n",
       "      <td>['disco', 'mellow gold', 'soft rock']</td>\n",
       "      <td>0.582</td>\n",
       "      <td>0.462</td>\n",
       "      <td>-9.882</td>\n",
       "      <td>0.0254</td>\n",
       "      <td>0.1370</td>\n",
       "      <td>0.000050</td>\n",
       "      <td>0.0755</td>\n",
       "      <td>0.528</td>\n",
       "      <td>96.361</td>\n",
       "      <td>6</td>\n",
       "      <td>0</td>\n",
       "      <td>255960</td>\n",
       "      <td>47.0</td>\n",
       "      <td>0.125000</td>\n",
       "      <td>1</td>\n",
       "      <td>POSITIVE</td>\n",
       "      <td>0.998285</td>\n",
       "      <td>sadness</td>\n",
       "      <td>Yes</td>\n",
       "    </tr>\n",
       "    <tr>\n",
       "      <th>4</th>\n",
       "      <td>sittin' in the morning suni'll be sittin' when...</td>\n",
       "      <td>['american', 'blues', 'death by airplane', 'de...</td>\n",
       "      <td>223.2</td>\n",
       "      <td>4</td>\n",
       "      <td>1968</td>\n",
       "      <td>4.8</td>\n",
       "      <td>98.21</td>\n",
       "      <td>25</td>\n",
       "      <td>{'neg': 0.018000000000000002, 'neu': 0.927, 'p...</td>\n",
       "      <td>(Sittin' On) The Dock Of The Bay</td>\n",
       "      <td>1.3</td>\n",
       "      <td>Otis Redding</td>\n",
       "      <td>20</td>\n",
       "      <td>10</td>\n",
       "      <td>181.0</td>\n",
       "      <td>92.0</td>\n",
       "      <td>1960s</td>\n",
       "      <td>sittin ' in the morn suni 'll be sittin ' whe...</td>\n",
       "      <td>['NNP', \"''\", 'IN', 'DT', 'NN', 'NN', 'VB', 'N...</td>\n",
       "      <td>same listentwo morning suni'll sittin evening ...</td>\n",
       "      <td>2A4YfptOVIqtSvTQ6d32sm</td>\n",
       "      <td>(Sittin' On) the Dock of the Bay</td>\n",
       "      <td>3zBhihYUHBmGd2bcQIobrF</td>\n",
       "      <td>https://p.scdn.co/mp3-preview/404976a4a56d8c1c...</td>\n",
       "      <td>1968</td>\n",
       "      <td>['classic soul', 'memphis soul', 'soul', 'soul...</td>\n",
       "      <td>0.769</td>\n",
       "      <td>0.367</td>\n",
       "      <td>-11.226</td>\n",
       "      <td>0.0312</td>\n",
       "      <td>0.6840</td>\n",
       "      <td>0.000016</td>\n",
       "      <td>0.0810</td>\n",
       "      <td>0.535</td>\n",
       "      <td>103.621</td>\n",
       "      <td>2</td>\n",
       "      <td>1</td>\n",
       "      <td>163756</td>\n",
       "      <td>80.0</td>\n",
       "      <td>0.250000</td>\n",
       "      <td>0</td>\n",
       "      <td>NEGATIVE</td>\n",
       "      <td>0.994735</td>\n",
       "      <td>joy</td>\n",
       "      <td>Yes</td>\n",
       "    </tr>\n",
       "  </tbody>\n",
       "</table>\n",
       "</div>"
      ],
      "text/plain": [
       "                                              lyrics  ...  Hit\n",
       "0  look into my eyes  you will seewhat you mean t...  ...  Yes\n",
       "1  i can't get no satisfactioni can't get no sati...  ...  Yes\n",
       "2  our life together is so precious togetherwe ha...  ...  Yes\n",
       "3  love is higher than a mountain love is thicker...  ...  Yes\n",
       "4  sittin' in the morning suni'll be sittin' when...  ...  Yes\n",
       "\n",
       "[5 rows x 45 columns]"
      ]
     },
     "execution_count": 53,
     "metadata": {},
     "output_type": "execute_result"
    }
   ],
   "source": [
    "df.head(5)"
   ]
  },
  {
   "cell_type": "code",
   "execution_count": 54,
   "id": "8b51c0c4",
   "metadata": {},
   "outputs": [
    {
     "name": "stderr",
     "output_type": "stream",
     "text": [
      "/usr/local/lib/python3.9/site-packages/sklearn/svm/_base.py:1206: ConvergenceWarning: Liblinear failed to converge, increase the number of iterations.\n",
      "  warnings.warn(\n",
      "/usr/local/lib/python3.9/site-packages/sklearn/svm/_base.py:1206: ConvergenceWarning: Liblinear failed to converge, increase the number of iterations.\n",
      "  warnings.warn(\n",
      "/usr/local/lib/python3.9/site-packages/sklearn/svm/_base.py:1206: ConvergenceWarning: Liblinear failed to converge, increase the number of iterations.\n",
      "  warnings.warn(\n",
      "/usr/local/lib/python3.9/site-packages/sklearn/svm/_base.py:1206: ConvergenceWarning: Liblinear failed to converge, increase the number of iterations.\n",
      "  warnings.warn(\n"
     ]
    },
    {
     "name": "stdout",
     "output_type": "stream",
     "text": [
      "Der Mittelwert der Cross-Validation bei der Klassifizierung mit SVM ist 0.498.\n",
      "\n",
      "Der F1-Score für die Klassifizierung mit SVM ist 0.496.\n"
     ]
    }
   ],
   "source": [
    "from sklearn.feature_extraction.text import TfidfVectorizer\n",
    "from sklearn.svm import LinearSVC\n",
    "from sklearn.model_selection import train_test_split\n",
    "from sklearn.metrics import f1_score\n",
    "from sklearn.model_selection import cross_val_score\n",
    "import numpy as np\n",
    "\n",
    "# Define your features as separate arrays or lists\n",
    "lyrics = df[\"lyrics\"]\n",
    "label = df[\"label\"]\n",
    "emotion_label = df[\"emotion_label\"]\n",
    "danceability = df[\"danceability\"]\n",
    "energy = df['energy']\n",
    "loudness = df['loudness']\n",
    "speechiness = df['speechiness']\n",
    "acousticness = df['acousticness']\n",
    "instrumentalness = df['instrumentalness']\n",
    "liveness = df['liveness']\n",
    "valence = df['valence']\n",
    "tempo = df['tempo']\n",
    "key = df['key']\n",
    "mode = df['mode']\n",
    "duration_ms = df['duration_ms']\n",
    "Popularity = df['Popularity']\n",
    "\n",
    "labels = df[\"Hit\"]\n",
    "\n",
    "# Combine the numerical features into a single 2D array\n",
    "features_numerical = np.column_stack((danceability, energy, loudness, speechiness, acousticness,\n",
    "                                      instrumentalness, liveness, valence, tempo, key, mode,\n",
    "                                      duration_ms, Popularity))\n",
    "\n",
    "# Convert the string features into numerical representations\n",
    "lyrics_vectorizer = TfidfVectorizer()\n",
    "X_lyrics = lyrics_vectorizer.fit_transform(lyrics)\n",
    "X_label = lyrics_vectorizer.transform(label)\n",
    "X_emotion_label = lyrics_vectorizer.transform(emotion_label)\n",
    "\n",
    "# Combine the numerical features and the transformed string features into a single array\n",
    "features_combined = np.hstack((X_lyrics.toarray(), X_label.toarray(), X_emotion_label.toarray(), features_numerical))\n",
    "\n",
    "# Split the data, including all features\n",
    "X_train, X_test, y_train, y_test = train_test_split(features_combined, labels,\n",
    "                                                    test_size=0.2,\n",
    "                                                    random_state=42)\n",
    "\n",
    "def classify_svm(C=1.0, cv=3, max_iter=1000):\n",
    "    # SVM\n",
    "    svm_classifier = LinearSVC(C=C, max_iter=max_iter)\n",
    "    svm = svm_classifier.fit(X_train, y_train)\n",
    "\n",
    "    # Cross-validation of the training dataset\n",
    "    svm_scores = cross_val_score(svm_classifier, X_train, y_train, cv=cv)\n",
    "    svm_mean = np.mean(svm_scores)\n",
    "\n",
    "    print(\"Der Mittelwert der Cross-Validation bei der Klassifizierung mit SVM ist \"\n",
    "          + f\"{str(np.around(svm_mean, decimals=3))}.\\n\")\n",
    "\n",
    "    # F1-score of the test dataset\n",
    "    y_pred = svm_classifier.predict(X_test)\n",
    "    svm_f1 = f1_score(y_test, y_pred, average=\"micro\")\n",
    "\n",
    "    print(\"Der F1-Score für die Klassifizierung mit SVM ist \"\n",
    "          + f\"{str(np.around(svm_f1, decimals=3))}.\")\n",
    "\n",
    "classify_svm(C=1.0, cv=3, max_iter=1000)\n"
   ]
  },
  {
   "cell_type": "markdown",
   "id": "094c2ede",
   "metadata": {},
   "source": [
    "## Hyperparameteroptimierung von SVM"
   ]
  },
  {
   "cell_type": "code",
   "execution_count": 55,
   "id": "881e35e8",
   "metadata": {},
   "outputs": [
    {
     "name": "stderr",
     "output_type": "stream",
     "text": [
      "/usr/local/lib/python3.9/site-packages/sklearn/svm/_base.py:1206: ConvergenceWarning: Liblinear failed to converge, increase the number of iterations.\n",
      "  warnings.warn(\n",
      "/usr/local/lib/python3.9/site-packages/sklearn/svm/_base.py:1206: ConvergenceWarning: Liblinear failed to converge, increase the number of iterations.\n",
      "  warnings.warn(\n",
      "/usr/local/lib/python3.9/site-packages/sklearn/svm/_base.py:1206: ConvergenceWarning: Liblinear failed to converge, increase the number of iterations.\n",
      "  warnings.warn(\n",
      "/usr/local/lib/python3.9/site-packages/sklearn/svm/_base.py:1206: ConvergenceWarning: Liblinear failed to converge, increase the number of iterations.\n",
      "  warnings.warn(\n",
      "/usr/local/lib/python3.9/site-packages/sklearn/svm/_base.py:1206: ConvergenceWarning: Liblinear failed to converge, increase the number of iterations.\n",
      "  warnings.warn(\n",
      "/usr/local/lib/python3.9/site-packages/sklearn/svm/_base.py:1206: ConvergenceWarning: Liblinear failed to converge, increase the number of iterations.\n",
      "  warnings.warn(\n",
      "/usr/local/lib/python3.9/site-packages/sklearn/svm/_base.py:1206: ConvergenceWarning: Liblinear failed to converge, increase the number of iterations.\n",
      "  warnings.warn(\n",
      "/usr/local/lib/python3.9/site-packages/sklearn/svm/_base.py:1206: ConvergenceWarning: Liblinear failed to converge, increase the number of iterations.\n",
      "  warnings.warn(\n",
      "/usr/local/lib/python3.9/site-packages/sklearn/svm/_base.py:1206: ConvergenceWarning: Liblinear failed to converge, increase the number of iterations.\n",
      "  warnings.warn(\n",
      "/usr/local/lib/python3.9/site-packages/sklearn/svm/_base.py:1206: ConvergenceWarning: Liblinear failed to converge, increase the number of iterations.\n",
      "  warnings.warn(\n",
      "/usr/local/lib/python3.9/site-packages/sklearn/svm/_base.py:1206: ConvergenceWarning: Liblinear failed to converge, increase the number of iterations.\n",
      "  warnings.warn(\n",
      "/usr/local/lib/python3.9/site-packages/sklearn/svm/_base.py:1206: ConvergenceWarning: Liblinear failed to converge, increase the number of iterations.\n",
      "  warnings.warn(\n",
      "/usr/local/lib/python3.9/site-packages/sklearn/svm/_base.py:1206: ConvergenceWarning: Liblinear failed to converge, increase the number of iterations.\n",
      "  warnings.warn(\n",
      "/usr/local/lib/python3.9/site-packages/sklearn/svm/_base.py:1206: ConvergenceWarning: Liblinear failed to converge, increase the number of iterations.\n",
      "  warnings.warn(\n",
      "/usr/local/lib/python3.9/site-packages/sklearn/svm/_base.py:1206: ConvergenceWarning: Liblinear failed to converge, increase the number of iterations.\n",
      "  warnings.warn(\n",
      "/usr/local/lib/python3.9/site-packages/sklearn/svm/_base.py:1206: ConvergenceWarning: Liblinear failed to converge, increase the number of iterations.\n",
      "  warnings.warn(\n",
      "/usr/local/lib/python3.9/site-packages/sklearn/svm/_base.py:1206: ConvergenceWarning: Liblinear failed to converge, increase the number of iterations.\n",
      "  warnings.warn(\n",
      "/usr/local/lib/python3.9/site-packages/sklearn/svm/_base.py:1206: ConvergenceWarning: Liblinear failed to converge, increase the number of iterations.\n",
      "  warnings.warn(\n",
      "/usr/local/lib/python3.9/site-packages/sklearn/svm/_base.py:1206: ConvergenceWarning: Liblinear failed to converge, increase the number of iterations.\n",
      "  warnings.warn(\n",
      "/usr/local/lib/python3.9/site-packages/sklearn/svm/_base.py:1206: ConvergenceWarning: Liblinear failed to converge, increase the number of iterations.\n",
      "  warnings.warn(\n",
      "/usr/local/lib/python3.9/site-packages/sklearn/svm/_base.py:1206: ConvergenceWarning: Liblinear failed to converge, increase the number of iterations.\n",
      "  warnings.warn(\n",
      "/usr/local/lib/python3.9/site-packages/sklearn/svm/_base.py:1206: ConvergenceWarning: Liblinear failed to converge, increase the number of iterations.\n",
      "  warnings.warn(\n",
      "/usr/local/lib/python3.9/site-packages/sklearn/svm/_base.py:1206: ConvergenceWarning: Liblinear failed to converge, increase the number of iterations.\n",
      "  warnings.warn(\n",
      "/usr/local/lib/python3.9/site-packages/sklearn/svm/_base.py:1206: ConvergenceWarning: Liblinear failed to converge, increase the number of iterations.\n",
      "  warnings.warn(\n",
      "/usr/local/lib/python3.9/site-packages/sklearn/svm/_base.py:1206: ConvergenceWarning: Liblinear failed to converge, increase the number of iterations.\n",
      "  warnings.warn(\n",
      "/usr/local/lib/python3.9/site-packages/sklearn/svm/_base.py:1206: ConvergenceWarning: Liblinear failed to converge, increase the number of iterations.\n",
      "  warnings.warn(\n",
      "/usr/local/lib/python3.9/site-packages/sklearn/svm/_base.py:1206: ConvergenceWarning: Liblinear failed to converge, increase the number of iterations.\n",
      "  warnings.warn(\n",
      "/usr/local/lib/python3.9/site-packages/sklearn/svm/_base.py:1206: ConvergenceWarning: Liblinear failed to converge, increase the number of iterations.\n",
      "  warnings.warn(\n",
      "/usr/local/lib/python3.9/site-packages/sklearn/svm/_base.py:1206: ConvergenceWarning: Liblinear failed to converge, increase the number of iterations.\n",
      "  warnings.warn(\n",
      "/usr/local/lib/python3.9/site-packages/sklearn/svm/_base.py:1206: ConvergenceWarning: Liblinear failed to converge, increase the number of iterations.\n",
      "  warnings.warn(\n",
      "/usr/local/lib/python3.9/site-packages/sklearn/svm/_base.py:1206: ConvergenceWarning: Liblinear failed to converge, increase the number of iterations.\n",
      "  warnings.warn(\n",
      "/usr/local/lib/python3.9/site-packages/sklearn/svm/_base.py:1206: ConvergenceWarning: Liblinear failed to converge, increase the number of iterations.\n",
      "  warnings.warn(\n",
      "/usr/local/lib/python3.9/site-packages/sklearn/svm/_base.py:1206: ConvergenceWarning: Liblinear failed to converge, increase the number of iterations.\n",
      "  warnings.warn(\n"
     ]
    },
    {
     "name": "stdout",
     "output_type": "stream",
     "text": [
      "Der beste Hyperparameter für C ist 1.0.\n",
      "Der beste Score ist 0.5035.\n"
     ]
    },
    {
     "name": "stderr",
     "output_type": "stream",
     "text": [
      "/usr/local/lib/python3.9/site-packages/sklearn/svm/_base.py:1206: ConvergenceWarning: Liblinear failed to converge, increase the number of iterations.\n",
      "  warnings.warn(\n"
     ]
    }
   ],
   "source": [
    "from sklearn.model_selection import GridSearchCV\n",
    "\n",
    "parameters = {\"C\": np.array([0.5, 1.0, 1.5, 2.0, 2.5, 3.0, 3.5, 4.0, 4.5, 5.0, 20.0])}\n",
    "\n",
    "grid = GridSearchCV(LinearSVC(), parameters, cv=3, scoring=\"f1_micro\")\n",
    "grid.fit(X_train, y_train)\n",
    "\n",
    "# Ergebnisse\n",
    "print(f\"Der beste Hyperparameter für C ist {str(grid.best_estimator_.C)}.\")\n",
    "print(f\"Der beste Score ist {str(np.around(grid.best_score_, decimals=4))}.\")"
   ]
  },
  {
   "cell_type": "code",
   "execution_count": 56,
   "id": "fcbc5749",
   "metadata": {},
   "outputs": [
    {
     "name": "stderr",
     "output_type": "stream",
     "text": [
      "/usr/local/lib/python3.9/site-packages/sklearn/svm/_base.py:1206: ConvergenceWarning: Liblinear failed to converge, increase the number of iterations.\n",
      "  warnings.warn(\n",
      "/usr/local/lib/python3.9/site-packages/sklearn/svm/_base.py:1206: ConvergenceWarning: Liblinear failed to converge, increase the number of iterations.\n",
      "  warnings.warn(\n",
      "/usr/local/lib/python3.9/site-packages/sklearn/svm/_base.py:1206: ConvergenceWarning: Liblinear failed to converge, increase the number of iterations.\n",
      "  warnings.warn(\n"
     ]
    },
    {
     "name": "stdout",
     "output_type": "stream",
     "text": [
      "Der Mittelwert der Cross-Validation bei der Klassifizierung mit SVM ist 0.503.\n",
      "\n",
      "Der F1-Score für die Klassifizierung mit SVM ist 0.496.\n"
     ]
    },
    {
     "name": "stderr",
     "output_type": "stream",
     "text": [
      "/usr/local/lib/python3.9/site-packages/sklearn/svm/_base.py:1206: ConvergenceWarning: Liblinear failed to converge, increase the number of iterations.\n",
      "  warnings.warn(\n"
     ]
    }
   ],
   "source": [
    "classify_svm(C=1.0, cv=3, max_iter=1000)"
   ]
  },
  {
   "cell_type": "code",
   "execution_count": 57,
   "id": "d3535a00",
   "metadata": {},
   "outputs": [
    {
     "name": "stderr",
     "output_type": "stream",
     "text": [
      "/usr/local/lib/python3.9/site-packages/sklearn/svm/_base.py:1206: ConvergenceWarning: Liblinear failed to converge, increase the number of iterations.\n",
      "  warnings.warn(\n",
      "/usr/local/lib/python3.9/site-packages/sklearn/svm/_base.py:1206: ConvergenceWarning: Liblinear failed to converge, increase the number of iterations.\n",
      "  warnings.warn(\n",
      "/usr/local/lib/python3.9/site-packages/sklearn/svm/_base.py:1206: ConvergenceWarning: Liblinear failed to converge, increase the number of iterations.\n",
      "  warnings.warn(\n",
      "/usr/local/lib/python3.9/site-packages/sklearn/svm/_base.py:1206: ConvergenceWarning: Liblinear failed to converge, increase the number of iterations.\n",
      "  warnings.warn(\n",
      "/usr/local/lib/python3.9/site-packages/sklearn/svm/_base.py:1206: ConvergenceWarning: Liblinear failed to converge, increase the number of iterations.\n",
      "  warnings.warn(\n",
      "/usr/local/lib/python3.9/site-packages/sklearn/svm/_base.py:1206: ConvergenceWarning: Liblinear failed to converge, increase the number of iterations.\n",
      "  warnings.warn(\n",
      "/usr/local/lib/python3.9/site-packages/sklearn/svm/_base.py:1206: ConvergenceWarning: Liblinear failed to converge, increase the number of iterations.\n",
      "  warnings.warn(\n",
      "/usr/local/lib/python3.9/site-packages/sklearn/svm/_base.py:1206: ConvergenceWarning: Liblinear failed to converge, increase the number of iterations.\n",
      "  warnings.warn(\n",
      "/usr/local/lib/python3.9/site-packages/sklearn/svm/_base.py:1206: ConvergenceWarning: Liblinear failed to converge, increase the number of iterations.\n",
      "  warnings.warn(\n",
      "/usr/local/lib/python3.9/site-packages/sklearn/svm/_base.py:1206: ConvergenceWarning: Liblinear failed to converge, increase the number of iterations.\n",
      "  warnings.warn(\n"
     ]
    },
    {
     "name": "stdout",
     "output_type": "stream",
     "text": [
      "Der Mittelwert der Cross-Validation bei der Klassifizierung mit SVM ist 0.499.\n",
      "\n",
      "Der F1-Score für die Klassifizierung mit SVM ist 0.504.\n"
     ]
    },
    {
     "name": "stderr",
     "output_type": "stream",
     "text": [
      "/usr/local/lib/python3.9/site-packages/sklearn/svm/_base.py:1206: ConvergenceWarning: Liblinear failed to converge, increase the number of iterations.\n",
      "  warnings.warn(\n"
     ]
    }
   ],
   "source": [
    "classify_svm(C=1.0, cv=10, max_iter=1000)"
   ]
  },
  {
   "cell_type": "markdown",
   "id": "64ab5800",
   "metadata": {},
   "source": [
    "## Visualisierung der SVM mit der Confusion Matrix"
   ]
  },
  {
   "cell_type": "code",
   "execution_count": 58,
   "id": "af466ff7",
   "metadata": {},
   "outputs": [
    {
     "name": "stderr",
     "output_type": "stream",
     "text": [
      "/usr/local/lib/python3.9/site-packages/sklearn/svm/_base.py:1206: ConvergenceWarning: Liblinear failed to converge, increase the number of iterations.\n",
      "  warnings.warn(\n"
     ]
    },
    {
     "data": {
      "image/png": "[encoded data removed]",
      "text/plain": [
       "<Figure size 792x792 with 2 Axes>"
      ]
     },
     "metadata": {
      "needs_background": "light"
     },
     "output_type": "display_data"
    }
   ],
   "source": [
    "import seaborn as sns\n",
    "import matplotlib.pyplot as plt\n",
    "from sklearn.metrics import confusion_matrix\n",
    "\n",
    "svm_classifier = LinearSVC(C=1.0)\n",
    "svm = svm_classifier.fit(X_train, y_train)\n",
    "\n",
    "y_pred = svm_classifier.predict(X_test)\n",
    "\n",
    "cnf_matrix = confusion_matrix(y_test, y_pred)\n",
    "\n",
    "# Die Original Kategorienbezeichnungen\n",
    "classes = df[\"Hit\"].drop_duplicates().tolist()\n",
    "\n",
    "# Ein DataFrame mit den Kategorienbezeichnungen als Reihen und Spalten\n",
    "cnf_df = pd.DataFrame(cnf_matrix, index=classes, columns=classes)\n",
    "    \n",
    "plt.figure(figsize=(11,11))\n",
    "sns.heatmap(cnf_df, annot=True, cmap=sns.color_palette(\"Blues\"))\n",
    "plt.tight_layout()\n",
    "plt.show()"
   ]
  },
  {
   "cell_type": "markdown",
   "id": "dc22d25f",
   "metadata": {},
   "source": [
    "## Classification Report"
   ]
  },
  {
   "cell_type": "code",
   "execution_count": 59,
   "id": "2756d015",
   "metadata": {},
   "outputs": [
    {
     "name": "stdout",
     "output_type": "stream",
     "text": [
      "              precision    recall  f1-score   support\n",
      "\n",
      "          No       0.00      0.00      0.00       182\n",
      "         Yes       0.50      1.00      0.66       179\n",
      "\n",
      "    accuracy                           0.50       361\n",
      "   macro avg       0.25      0.50      0.33       361\n",
      "weighted avg       0.25      0.50      0.33       361\n",
      "\n"
     ]
    },
    {
     "name": "stderr",
     "output_type": "stream",
     "text": [
      "/usr/local/lib/python3.9/site-packages/sklearn/metrics/_classification.py:1318: UndefinedMetricWarning: Precision and F-score are ill-defined and being set to 0.0 in labels with no predicted samples. Use `zero_division` parameter to control this behavior.\n",
      "  _warn_prf(average, modifier, msg_start, len(result))\n",
      "/usr/local/lib/python3.9/site-packages/sklearn/metrics/_classification.py:1318: UndefinedMetricWarning: Precision and F-score are ill-defined and being set to 0.0 in labels with no predicted samples. Use `zero_division` parameter to control this behavior.\n",
      "  _warn_prf(average, modifier, msg_start, len(result))\n",
      "/usr/local/lib/python3.9/site-packages/sklearn/metrics/_classification.py:1318: UndefinedMetricWarning: Precision and F-score are ill-defined and being set to 0.0 in labels with no predicted samples. Use `zero_division` parameter to control this behavior.\n",
      "  _warn_prf(average, modifier, msg_start, len(result))\n"
     ]
    }
   ],
   "source": [
    "from sklearn.metrics import classification_report\n",
    "print(classification_report(y_test, y_pred))"
   ]
  }
 ],
 "metadata": {
  "kernelspec": {
   "display_name": "Python 3 (ipykernel)",
   "language": "python",
   "name": "python3"
  },
  "language_info": {
   "codemirror_mode": {
    "name": "ipython",
    "version": 3
   },
   "file_extension": ".py",
   "mimetype": "text/x-python",
   "name": "python",
   "nbconvert_exporter": "python",
   "pygments_lexer": "ipython3",
   "version": "3.9.15"
  },
  "toc": {
   "base_numbering": 1,
   "nav_menu": {},
   "number_sections": true,
   "sideBar": true,
   "skip_h1_title": false,
   "title_cell": "Table of Contents",
   "title_sidebar": "Contents",
   "toc_cell": false,
   "toc_position": {
    "height": "calc(100% - 180px)",
    "left": "10px",
    "top": "150px",
    "width": "288px"
   },
   "toc_section_display": true,
   "toc_window_display": true
  },
  "varInspector": {
   "cols": {
    "lenName": 16,
    "lenType": 16,
    "lenVar": 40
   },
   "kernels_config": {
    "python": {
     "delete_cmd_postfix": "",
     "delete_cmd_prefix": "del ",
     "library": "var_list.py",
     "varRefreshCmd": "print(var_dic_list())"
    },
    "r": {
     "delete_cmd_postfix": ") ",
     "delete_cmd_prefix": "rm(",
     "library": "var_list.r",
     "varRefreshCmd": "cat(var_dic_list()) "
    }
   },
   "types_to_exclude": [
    "module",
    "function",
    "builtin_function_or_method",
    "instance",
    "_Feature"
   ],
   "window_display": false
  }
 },
 "nbformat": 4,
 "nbformat_minor": 5
}
