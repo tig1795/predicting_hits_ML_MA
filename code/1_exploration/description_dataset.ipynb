{
 "cells": [
  {
   "cell_type": "markdown",
   "id": "aad044c3",
   "metadata": {},
   "source": [
    "# Imports"
   ]
  },
  {
   "cell_type": "code",
   "execution_count": 1,
   "id": "c3254646",
   "metadata": {},
   "outputs": [],
   "source": [
    "import pandas as pd\n",
    "\n",
    "df = pd.read_csv(\"../../data/CSV/deskriptiv/dataset_complete_without_two.csv\")"
   ]
  },
  {
   "cell_type": "code",
   "execution_count": 2,
   "id": "1320b519",
   "metadata": {},
   "outputs": [
    {
     "data": {
      "text/html": [
       "<div>\n",
       "<style scoped>\n",
       "    .dataframe tbody tr th:only-of-type {\n",
       "        vertical-align: middle;\n",
       "    }\n",
       "\n",
       "    .dataframe tbody tr th {\n",
       "        vertical-align: top;\n",
       "    }\n",
       "\n",
       "    .dataframe thead th {\n",
       "        text-align: right;\n",
       "    }\n",
       "</style>\n",
       "<table border=\"1\" class=\"dataframe\">\n",
       "  <thead>\n",
       "    <tr style=\"text-align: right;\">\n",
       "      <th></th>\n",
       "      <th>lyrics</th>\n",
       "      <th>genre</th>\n",
       "      <th>num_syllables</th>\n",
       "      <th>pos</th>\n",
       "      <th>year</th>\n",
       "      <th>fog_index</th>\n",
       "      <th>flesch_index</th>\n",
       "      <th>num_lines</th>\n",
       "      <th>sentiment</th>\n",
       "      <th>title</th>\n",
       "      <th>...</th>\n",
       "      <th>decades</th>\n",
       "      <th>stemmed_text</th>\n",
       "      <th>POS_tags</th>\n",
       "      <th>POS</th>\n",
       "      <th>values</th>\n",
       "      <th>pred</th>\n",
       "      <th>label</th>\n",
       "      <th>score</th>\n",
       "      <th>emotion_label</th>\n",
       "      <th>Hit</th>\n",
       "    </tr>\n",
       "  </thead>\n",
       "  <tbody>\n",
       "    <tr>\n",
       "      <th>0</th>\n",
       "      <td>here she comes  mmm  just like an angelseems ...</td>\n",
       "      <td>['alternative rock', 'glam metal', 'hard rock']</td>\n",
       "      <td>405.0</td>\n",
       "      <td>27</td>\n",
       "      <td>1990</td>\n",
       "      <td>4.8</td>\n",
       "      <td>89.75</td>\n",
       "      <td>43</td>\n",
       "      <td>{'neg': 0.156, 'neu': 0.714, 'pos': 0.131, 'co...</td>\n",
       "      <td>(Can't Live Without Your) Love And Affection</td>\n",
       "      <td>...</td>\n",
       "      <td>1990s</td>\n",
       "      <td>here she come mmm just like an angelseem like...</td>\n",
       "      <td>['_SP', 'RB', 'PRP', 'VBZ', '_SP', 'FW', '_SP'...</td>\n",
       "      <td>missingcan't outside hard mindbut nothing chan...</td>\n",
       "      <td>0.037037</td>\n",
       "      <td>1</td>\n",
       "      <td>POSITIVE</td>\n",
       "      <td>0.988107</td>\n",
       "      <td>sadness</td>\n",
       "      <td>None</td>\n",
       "    </tr>\n",
       "    <tr>\n",
       "      <th>1</th>\n",
       "      <td>look into my eyes  you will seewhat you mean t...</td>\n",
       "      <td>['acoustic rock', 'adult contemporary', 'album...</td>\n",
       "      <td>258.3</td>\n",
       "      <td>1</td>\n",
       "      <td>1991</td>\n",
       "      <td>4.4</td>\n",
       "      <td>107.69</td>\n",
       "      <td>36</td>\n",
       "      <td>{'neg': 0.14100000000000001, 'neu': 0.708, 'po...</td>\n",
       "      <td>(Everything I Do) I Do It For You</td>\n",
       "      <td>...</td>\n",
       "      <td>1990s</td>\n",
       "      <td>look into my eye you will seewhat you mean to...</td>\n",
       "      <td>['VB', 'IN', 'PRP$', 'NNS', '_SP', 'PRP', 'MD'...</td>\n",
       "      <td>worth worth worth other worth worth heart soul...</td>\n",
       "      <td>1.000000</td>\n",
       "      <td>1</td>\n",
       "      <td>POSITIVE</td>\n",
       "      <td>0.998717</td>\n",
       "      <td>joy</td>\n",
       "      <td>Yes</td>\n",
       "    </tr>\n",
       "    <tr>\n",
       "      <th>2</th>\n",
       "      <td>i can't get no satisfactioni can't get no sati...</td>\n",
       "      <td>['blues', 'blues rock', 'britannique', 'britis...</td>\n",
       "      <td>296.1</td>\n",
       "      <td>3</td>\n",
       "      <td>1965</td>\n",
       "      <td>4.8</td>\n",
       "      <td>106.67</td>\n",
       "      <td>37</td>\n",
       "      <td>{'neg': 0.126, 'neu': 0.667, 'pos': 0.20800000...</td>\n",
       "      <td>(I Can't Get No) Satisfaction</td>\n",
       "      <td>...</td>\n",
       "      <td>1960s</td>\n",
       "      <td>i ca n't get no satisfactioni ca n't get no s...</td>\n",
       "      <td>['PRP', 'MD', 'RB', 'VB', 'DT', 'NN', 'MD', 'R...</td>\n",
       "      <td>satisfaction'cause nowhen drivin useless satis...</td>\n",
       "      <td>0.333333</td>\n",
       "      <td>0</td>\n",
       "      <td>NEGATIVE</td>\n",
       "      <td>0.999485</td>\n",
       "      <td>joy</td>\n",
       "      <td>Yes</td>\n",
       "    </tr>\n",
       "    <tr>\n",
       "      <th>3</th>\n",
       "      <td>oh  i  i just died in your arms tonightit must...</td>\n",
       "      <td>['classic pop and rock']</td>\n",
       "      <td>372.6</td>\n",
       "      <td>32</td>\n",
       "      <td>1987</td>\n",
       "      <td>4.4</td>\n",
       "      <td>99.23</td>\n",
       "      <td>45</td>\n",
       "      <td>{'neg': 0.164, 'neu': 0.766, 'pos': 0.07, 'com...</td>\n",
       "      <td>(I Just) Died In Your Arms</td>\n",
       "      <td>...</td>\n",
       "      <td>1980s</td>\n",
       "      <td>oh i i just die in your arm tonightit must 'v...</td>\n",
       "      <td>['UH', '_SP', 'PRP', '_SP', 'PRP', 'RB', 'VBD'...</td>\n",
       "      <td>easy thisher final many long hot easy gonei to...</td>\n",
       "      <td>0.031250</td>\n",
       "      <td>0</td>\n",
       "      <td>NEGATIVE</td>\n",
       "      <td>0.998310</td>\n",
       "      <td>sadness</td>\n",
       "      <td>None</td>\n",
       "    </tr>\n",
       "    <tr>\n",
       "      <th>4</th>\n",
       "      <td>your love is fadin'  i feel it fadeah  your lo...</td>\n",
       "      <td>['american', 'psychedelic rock', 'psychedelic ...</td>\n",
       "      <td>251.1</td>\n",
       "      <td>55</td>\n",
       "      <td>1970</td>\n",
       "      <td>4.4</td>\n",
       "      <td>99.23</td>\n",
       "      <td>31</td>\n",
       "      <td>{'neg': 0.148, 'neu': 0.795, 'pos': 0.057, 'co...</td>\n",
       "      <td>(I Know) I'm Losing You</td>\n",
       "      <td>...</td>\n",
       "      <td>1970s</td>\n",
       "      <td>your love is fadin ' i feel it fadeah your lo...</td>\n",
       "      <td>['PRP$', 'NN', 'VBZ', 'VBG', \"''\", '_SP', 'PRP...</td>\n",
       "      <td>cancan eyesa hearted worried love love love wo...</td>\n",
       "      <td>0.018182</td>\n",
       "      <td>0</td>\n",
       "      <td>NEGATIVE</td>\n",
       "      <td>0.997664</td>\n",
       "      <td>sadness</td>\n",
       "      <td>None</td>\n",
       "    </tr>\n",
       "  </tbody>\n",
       "</table>\n",
       "<p>5 rows × 26 columns</p>\n",
       "</div>"
      ],
      "text/plain": [
       "                                              lyrics  \\\n",
       "0   here she comes  mmm  just like an angelseems ...   \n",
       "1  look into my eyes  you will seewhat you mean t...   \n",
       "2  i can't get no satisfactioni can't get no sati...   \n",
       "3  oh  i  i just died in your arms tonightit must...   \n",
       "4  your love is fadin'  i feel it fadeah  your lo...   \n",
       "\n",
       "                                               genre  num_syllables  pos  \\\n",
       "0    ['alternative rock', 'glam metal', 'hard rock']          405.0   27   \n",
       "1  ['acoustic rock', 'adult contemporary', 'album...          258.3    1   \n",
       "2  ['blues', 'blues rock', 'britannique', 'britis...          296.1    3   \n",
       "3                           ['classic pop and rock']          372.6   32   \n",
       "4  ['american', 'psychedelic rock', 'psychedelic ...          251.1   55   \n",
       "\n",
       "   year  fog_index  flesch_index  num_lines  \\\n",
       "0  1990        4.8         89.75         43   \n",
       "1  1991        4.4        107.69         36   \n",
       "2  1965        4.8        106.67         37   \n",
       "3  1987        4.4         99.23         45   \n",
       "4  1970        4.4         99.23         31   \n",
       "\n",
       "                                           sentiment  \\\n",
       "0  {'neg': 0.156, 'neu': 0.714, 'pos': 0.131, 'co...   \n",
       "1  {'neg': 0.14100000000000001, 'neu': 0.708, 'po...   \n",
       "2  {'neg': 0.126, 'neu': 0.667, 'pos': 0.20800000...   \n",
       "3  {'neg': 0.164, 'neu': 0.766, 'pos': 0.07, 'com...   \n",
       "4  {'neg': 0.148, 'neu': 0.795, 'pos': 0.057, 'co...   \n",
       "\n",
       "                                          title  ...  decades  \\\n",
       "0  (Can't Live Without Your) Love And Affection  ...    1990s   \n",
       "1             (Everything I Do) I Do It For You  ...    1990s   \n",
       "2                 (I Can't Get No) Satisfaction  ...    1960s   \n",
       "3                    (I Just) Died In Your Arms  ...    1980s   \n",
       "4                       (I Know) I'm Losing You  ...    1970s   \n",
       "\n",
       "                                        stemmed_text  \\\n",
       "0   here she come mmm just like an angelseem like...   \n",
       "1   look into my eye you will seewhat you mean to...   \n",
       "2   i ca n't get no satisfactioni ca n't get no s...   \n",
       "3   oh i i just die in your arm tonightit must 'v...   \n",
       "4   your love is fadin ' i feel it fadeah your lo...   \n",
       "\n",
       "                                            POS_tags  \\\n",
       "0  ['_SP', 'RB', 'PRP', 'VBZ', '_SP', 'FW', '_SP'...   \n",
       "1  ['VB', 'IN', 'PRP$', 'NNS', '_SP', 'PRP', 'MD'...   \n",
       "2  ['PRP', 'MD', 'RB', 'VB', 'DT', 'NN', 'MD', 'R...   \n",
       "3  ['UH', '_SP', 'PRP', '_SP', 'PRP', 'RB', 'VBD'...   \n",
       "4  ['PRP$', 'NN', 'VBZ', 'VBG', \"''\", '_SP', 'PRP...   \n",
       "\n",
       "                                                 POS    values  pred  \\\n",
       "0  missingcan't outside hard mindbut nothing chan...  0.037037     1   \n",
       "1  worth worth worth other worth worth heart soul...  1.000000     1   \n",
       "2  satisfaction'cause nowhen drivin useless satis...  0.333333     0   \n",
       "3  easy thisher final many long hot easy gonei to...  0.031250     0   \n",
       "4  cancan eyesa hearted worried love love love wo...  0.018182     0   \n",
       "\n",
       "      label     score emotion_label   Hit  \n",
       "0  POSITIVE  0.988107       sadness  None  \n",
       "1  POSITIVE  0.998717           joy   Yes  \n",
       "2  NEGATIVE  0.999485           joy   Yes  \n",
       "3  NEGATIVE  0.998310       sadness  None  \n",
       "4  NEGATIVE  0.997664       sadness  None  \n",
       "\n",
       "[5 rows x 26 columns]"
      ]
     },
     "execution_count": 2,
     "metadata": {},
     "output_type": "execute_result"
    }
   ],
   "source": [
    "df.head(5)"
   ]
  },
  {
   "cell_type": "code",
   "execution_count": 3,
   "id": "c8f1e136",
   "metadata": {},
   "outputs": [
    {
     "data": {
      "text/plain": [
       "(3667, 26)"
      ]
     },
     "execution_count": 3,
     "metadata": {},
     "output_type": "execute_result"
    }
   ],
   "source": [
    "df.shape"
   ]
  },
  {
   "cell_type": "code",
   "execution_count": 4,
   "id": "945cb5c6",
   "metadata": {},
   "outputs": [
    {
     "data": {
      "text/plain": [
       "Index(['lyrics', 'genre', 'num_syllables', 'pos', 'year', 'fog_index',\n",
       "       'flesch_index', 'num_lines', 'sentiment', 'title', 'f_k_grade',\n",
       "       'artist', 'difficult_words', 'num_dupes', 'number_of_tokens',\n",
       "       'number_of_types', 'decades', 'stemmed_text', 'POS_tags', 'POS',\n",
       "       'values', 'pred', 'label', 'score', 'emotion_label', 'Hit'],\n",
       "      dtype='object')"
      ]
     },
     "execution_count": 4,
     "metadata": {},
     "output_type": "execute_result"
    }
   ],
   "source": [
    "df.columns"
   ]
  },
  {
   "cell_type": "code",
   "execution_count": 4,
   "id": "8442ee83",
   "metadata": {},
   "outputs": [
    {
     "data": {
      "text/plain": [
       "Counter({'None': 1866, 'Yes': 912, 'No': 889})"
      ]
     },
     "execution_count": 4,
     "metadata": {},
     "output_type": "execute_result"
    }
   ],
   "source": [
    "from collections import Counter\n",
    "\n",
    "Counter(df.Hit)"
   ]
  },
  {
   "cell_type": "markdown",
   "id": "460030c7",
   "metadata": {},
   "source": [
    "# Anzahl der Songs pro Decade"
   ]
  },
  {
   "cell_type": "code",
   "execution_count": 16,
   "id": "96824110",
   "metadata": {},
   "outputs": [
    {
     "data": {
      "text/plain": [
       "Text(0, 0.5, 'Anzahl')"
      ]
     },
     "execution_count": 16,
     "metadata": {},
     "output_type": "execute_result"
    },
    {
     "data": {
      "image/png": "[encoded data removed]",
      "text/plain": [
       "<Figure size 864x360 with 1 Axes>"
      ]
     },
     "metadata": {
      "needs_background": "light"
     },
     "output_type": "display_data"
    }
   ],
   "source": [
    "s = df['decades'].value_counts().head(20)\n",
    "\n",
    "import matplotlib.pyplot as plt\n",
    "import seaborn as sns\n",
    "\n",
    "fig, ax = plt.subplots(figsize=(12,5))\n",
    "\n",
    "ax=s.plot.bar(width=.9, color=('blue', 'orange', 'green', 'red', 'purple', 'brown')) \n",
    "for i, v in s.reset_index().iterrows():\n",
    "    ax.text(i, v.decades + 0.2 , v.decades, color='black')\n",
    "\n",
    "ax.set_xlabel(len(df.decades))\n",
    "plt.title(\"Die Anzahl der Songs pro Dekade\")\n",
    "#plt.xlabel(len(df.Bemerkungen))\n",
    "plt.ylabel('Anzahl')\n",
    "#pltcountplotfig(\"songs_per_genre\")\n",
    "#plt.savefig('../Grafiken/Grafiken_SMS_2018_2019/Auswertung_SMS_2018_2019_BD.png', bbox_inches = \"tight\")"
   ]
  },
  {
   "cell_type": "markdown",
   "id": "5b739310",
   "metadata": {},
   "source": [
    "# Anzahl der Songs pro Jahr innerhalb einer Dekade"
   ]
  },
  {
   "cell_type": "markdown",
   "id": "d4112f4a",
   "metadata": {},
   "source": [
    "## 1960er"
   ]
  },
  {
   "cell_type": "code",
   "execution_count": 20,
   "id": "6234514c",
   "metadata": {},
   "outputs": [],
   "source": [
    "a = df[df['decades'] == \"1960s\"]"
   ]
  },
  {
   "cell_type": "code",
   "execution_count": 21,
   "id": "eda49aaa",
   "metadata": {},
   "outputs": [
    {
     "data": {
      "text/plain": [
       "Text(0, 0.5, 'Anzahl')"
      ]
     },
     "execution_count": 21,
     "metadata": {},
     "output_type": "execute_result"
    },
    {
     "data": {
      "image/png": "[encoded data removed]",
      "text/plain": [
       "<Figure size 864x360 with 1 Axes>"
      ]
     },
     "metadata": {
      "needs_background": "light"
     },
     "output_type": "display_data"
    }
   ],
   "source": [
    "s = a['year'].value_counts().head(20)\n",
    "\n",
    "import matplotlib.pyplot as plt\n",
    "import seaborn as sns\n",
    "\n",
    "fig, ax = plt.subplots(figsize=(12,5))\n",
    "\n",
    "ax=s.plot.bar(width=.9, color=('blue', 'orange', 'green', 'red', 'purple', 'brown')) \n",
    "for i, v in s.reset_index().iterrows():\n",
    "    ax.text(i, v.year + 0.2 , v.year, color='black')\n",
    "\n",
    "ax.set_xlabel(len(a.decades))\n",
    "plt.title(\"Die Anzahl der Songs pro Jahr in den 1960er\")\n",
    "#plt.xlabel(len(df.Bemerkungen))\n",
    "plt.ylabel('Anzahl')\n",
    "#pltcountplotfig(\"songs_per_genre\")\n",
    "#plt.savefig('../Grafiken/Grafiken_SMS_2018_2019/Auswertung_SMS_2018_2019_BD.png', bbox_inches = \"tight\")"
   ]
  },
  {
   "cell_type": "markdown",
   "id": "cb67a794",
   "metadata": {},
   "source": [
    "## 1970er"
   ]
  },
  {
   "cell_type": "code",
   "execution_count": 22,
   "id": "f146df8e",
   "metadata": {},
   "outputs": [],
   "source": [
    "a = df[df['decades'] == \"1970s\"]"
   ]
  },
  {
   "cell_type": "code",
   "execution_count": 23,
   "id": "51668bb9",
   "metadata": {},
   "outputs": [
    {
     "data": {
      "text/plain": [
       "Text(0, 0.5, 'Anzahl')"
      ]
     },
     "execution_count": 23,
     "metadata": {},
     "output_type": "execute_result"
    },
    {
     "data": {
      "image/png": "[encoded data removed]",
      "text/plain": [
       "<Figure size 864x360 with 1 Axes>"
      ]
     },
     "metadata": {
      "needs_background": "light"
     },
     "output_type": "display_data"
    }
   ],
   "source": [
    "s = a['year'].value_counts().head(20)\n",
    "\n",
    "import matplotlib.pyplot as plt\n",
    "import seaborn as sns\n",
    "\n",
    "fig, ax = plt.subplots(figsize=(12,5))\n",
    "\n",
    "ax=s.plot.bar(width=.9, color=('blue', 'orange', 'green', 'red', 'purple', 'brown')) \n",
    "for i, v in s.reset_index().iterrows():\n",
    "    ax.text(i, v.year + 0.2 , v.year, color='black')\n",
    "\n",
    "ax.set_xlabel(len(a.decades))\n",
    "plt.title(\"Die Anzahl der Songs pro Jahr in den 1970er\")\n",
    "#plt.xlabel(len(df.Bemerkungen))\n",
    "plt.ylabel('Anzahl')\n",
    "#pltcountplotfig(\"songs_per_genre\")\n",
    "#plt.savefig('../Grafiken/Grafiken_SMS_2018_2019/Auswertung_SMS_2018_2019_BD.png', bbox_inches = \"tight\")"
   ]
  },
  {
   "cell_type": "markdown",
   "id": "eba54fd8",
   "metadata": {},
   "source": [
    "## 1980er"
   ]
  },
  {
   "cell_type": "code",
   "execution_count": 24,
   "id": "ef651eee",
   "metadata": {},
   "outputs": [],
   "source": [
    "a = df[df['decades'] == \"1980s\"]"
   ]
  },
  {
   "cell_type": "code",
   "execution_count": 25,
   "id": "26441d1e",
   "metadata": {},
   "outputs": [
    {
     "data": {
      "text/plain": [
       "Text(0, 0.5, 'Anzahl')"
      ]
     },
     "execution_count": 25,
     "metadata": {},
     "output_type": "execute_result"
    },
    {
     "data": {
      "image/png": "[encoded data removed]",
      "text/plain": [
       "<Figure size 864x360 with 1 Axes>"
      ]
     },
     "metadata": {
      "needs_background": "light"
     },
     "output_type": "display_data"
    }
   ],
   "source": [
    "s = a['year'].value_counts().head(20)\n",
    "\n",
    "import matplotlib.pyplot as plt\n",
    "import seaborn as sns\n",
    "\n",
    "fig, ax = plt.subplots(figsize=(12,5))\n",
    "\n",
    "ax=s.plot.bar(width=.9, color=('blue', 'orange', 'green', 'red', 'purple', 'brown')) \n",
    "for i, v in s.reset_index().iterrows():\n",
    "    ax.text(i, v.year + 0.2 , v.year, color='black')\n",
    "\n",
    "ax.set_xlabel(len(a.decades))\n",
    "plt.title(\"Die Anzahl der Songs pro Jahr in den 1980er\")\n",
    "#plt.xlabel(len(df.Bemerkungen))\n",
    "plt.ylabel('Anzahl')\n",
    "#pltcountplotfig(\"songs_per_genre\")\n",
    "#plt.savefig('../Grafiken/Grafiken_SMS_2018_2019/Auswertung_SMS_2018_2019_BD.png', bbox_inches = \"tight\")"
   ]
  },
  {
   "cell_type": "markdown",
   "id": "7ac5aab4",
   "metadata": {},
   "source": [
    "## 1990er"
   ]
  },
  {
   "cell_type": "code",
   "execution_count": 27,
   "id": "3af2260e",
   "metadata": {},
   "outputs": [],
   "source": [
    "e = df[df['decades'] == \"1990s\"]"
   ]
  },
  {
   "cell_type": "code",
   "execution_count": 28,
   "id": "8d02655a",
   "metadata": {},
   "outputs": [
    {
     "data": {
      "text/plain": [
       "Text(0, 0.5, 'Anzahl')"
      ]
     },
     "execution_count": 28,
     "metadata": {},
     "output_type": "execute_result"
    },
    {
     "data": {
      "image/png": "[encoded data removed]",
      "text/plain": [
       "<Figure size 864x360 with 1 Axes>"
      ]
     },
     "metadata": {
      "needs_background": "light"
     },
     "output_type": "display_data"
    }
   ],
   "source": [
    "s = e['year'].value_counts().head(20)\n",
    "\n",
    "import matplotlib.pyplot as plt\n",
    "import seaborn as sns\n",
    "\n",
    "fig, ax = plt.subplots(figsize=(12,5))\n",
    "\n",
    "ax=s.plot.bar(width=.9, color=('blue', 'orange', 'green', 'red', 'purple', 'brown')) \n",
    "for i, v in s.reset_index().iterrows():\n",
    "    ax.text(i, v.year + 0.2 , v.year, color='black')\n",
    "\n",
    "ax.set_xlabel(len(e.decades))\n",
    "plt.title(\"Die Anzahl der Songs pro Jahr in den 1990er\")\n",
    "#plt.xlabel(len(df.Bemerkungen))\n",
    "plt.ylabel('Anzahl')\n",
    "#pltcountplotfig(\"songs_per_genre\")\n",
    "#plt.savefig('../Grafiken/Grafiken_SMS_2018_2019/Auswertung_SMS_2018_2019_BD.png', bbox_inches = \"tight\")"
   ]
  },
  {
   "cell_type": "markdown",
   "id": "3f3e34e7",
   "metadata": {},
   "source": [
    "## 2000er"
   ]
  },
  {
   "cell_type": "code",
   "execution_count": 30,
   "id": "03ad7b5b",
   "metadata": {},
   "outputs": [],
   "source": [
    "f = df[df['decades'] == \"2000s\"]"
   ]
  },
  {
   "cell_type": "code",
   "execution_count": 31,
   "id": "ede8a32c",
   "metadata": {},
   "outputs": [
    {
     "data": {
      "text/plain": [
       "Text(0, 0.5, 'Anzahl')"
      ]
     },
     "execution_count": 31,
     "metadata": {},
     "output_type": "execute_result"
    },
    {
     "data": {
      "image/png": "[encoded data removed]",
      "text/plain": [
       "<Figure size 864x360 with 1 Axes>"
      ]
     },
     "metadata": {
      "needs_background": "light"
     },
     "output_type": "display_data"
    }
   ],
   "source": [
    "s = f['year'].value_counts().head(20)\n",
    "\n",
    "import matplotlib.pyplot as plt\n",
    "import seaborn as sns\n",
    "\n",
    "fig, ax = plt.subplots(figsize=(12,5))\n",
    "\n",
    "ax=s.plot.bar(width=.9, color=('blue', 'orange', 'green', 'red', 'purple', 'brown')) \n",
    "for i, v in s.reset_index().iterrows():\n",
    "    ax.text(i, v.year + 0.2 , v.year, color='black')\n",
    "\n",
    "ax.set_xlabel(len(f.decades))\n",
    "plt.title(\"Die Anzahl der Songs pro Jahr in den 2000er\")\n",
    "#plt.xlabel(len(df.Bemerkungen))\n",
    "plt.ylabel('Anzahl')\n",
    "#pltcountplotfig(\"songs_per_genre\")\n",
    "#plt.savefig('../Grafiken/Grafiken_SMS_2018_2019/Auswertung_SMS_2018_2019_BD.png', bbox_inches = \"tight\")"
   ]
  },
  {
   "cell_type": "markdown",
   "id": "ec885b2c",
   "metadata": {},
   "source": [
    "## 2010er"
   ]
  },
  {
   "cell_type": "code",
   "execution_count": 33,
   "id": "e4d0a2bb",
   "metadata": {},
   "outputs": [],
   "source": [
    "g = df[df['decades'] == \"2010s\"]"
   ]
  },
  {
   "cell_type": "code",
   "execution_count": 34,
   "id": "0617942c",
   "metadata": {},
   "outputs": [
    {
     "data": {
      "text/plain": [
       "Text(0, 0.5, 'Anzahl')"
      ]
     },
     "execution_count": 34,
     "metadata": {},
     "output_type": "execute_result"
    },
    {
     "data": {
      "image/png": "[encoded data removed]",
      "text/plain": [
       "<Figure size 864x360 with 1 Axes>"
      ]
     },
     "metadata": {
      "needs_background": "light"
     },
     "output_type": "display_data"
    }
   ],
   "source": [
    "s = g['year'].value_counts().head(20)\n",
    "\n",
    "import matplotlib.pyplot as plt\n",
    "import seaborn as sns\n",
    "\n",
    "fig, ax = plt.subplots(figsize=(12,5))\n",
    "\n",
    "ax=s.plot.bar(width=.9, color=('blue', 'orange', 'green', 'red', 'purple', 'brown')) \n",
    "for i, v in s.reset_index().iterrows():\n",
    "    ax.text(i, v.year + 0.2 , v.year, color='black')\n",
    "\n",
    "ax.set_xlabel(len(g.decades))\n",
    "plt.title(\"Die Anzahl der Songs pro Jahr in den 2010er\")\n",
    "#plt.xlabel(len(df.Bemerkungen))\n",
    "plt.ylabel('Anzahl')\n",
    "#pltcountplotfig(\"songs_per_genre\")\n",
    "#plt.savefig('../Grafiken/Grafiken_SMS_2018_2019/Auswertung_SMS_2018_2019_BD.png', bbox_inches = \"tight\")"
   ]
  },
  {
   "cell_type": "markdown",
   "id": "481816f8",
   "metadata": {},
   "source": [
    "# Die Top 10 der Anzahl der Künstler, die am häufigsten in den Top 100 vorkommen "
   ]
  },
  {
   "cell_type": "code",
   "execution_count": 35,
   "id": "4e96e06b",
   "metadata": {},
   "outputs": [
    {
     "data": {
      "text/plain": [
       "Text(0, 0.5, 'Anzahl')"
      ]
     },
     "execution_count": 35,
     "metadata": {},
     "output_type": "execute_result"
    },
    {
     "data": {
      "image/png": "[encoded data removed]",
      "text/plain": [
       "<Figure size 864x360 with 1 Axes>"
      ]
     },
     "metadata": {
      "needs_background": "light"
     },
     "output_type": "display_data"
    }
   ],
   "source": [
    "s = df['artist'].value_counts().head(10)\n",
    "\n",
    "import matplotlib.pyplot as plt\n",
    "import seaborn as sns\n",
    "\n",
    "fig, ax = plt.subplots(figsize=(12,5))\n",
    "\n",
    "ax=s.plot.bar(width=.9, color=('blue', 'orange', 'green', 'red', 'purple', 'brown')) \n",
    "for i, v in s.reset_index().iterrows():\n",
    "    ax.text(i, v.artist + 0.2 , v.artist, color='black')\n",
    "\n",
    "ax.set_xlabel(len(df.artist))\n",
    "plt.title(\"Die Top 10 der Anzahl der Künstler, die am häufigsten in den Top 100 vorkommen\")\n",
    "#plt.xlabel(len(df.Bemerkungen))\n",
    "plt.ylabel('Anzahl')\n",
    "#pltcountplotfig(\"songs_per_genre\")\n",
    "#plt.savefig('../Grafiken/Grafiken_SMS_2018_2019/Auswertung_SMS_2018_2019_BD.png', bbox_inches = \"tight\")"
   ]
  },
  {
   "cell_type": "markdown",
   "id": "387e6b40",
   "metadata": {},
   "source": [
    "# Songlängenentwicklung über die Dekaden"
   ]
  },
  {
   "cell_type": "code",
   "execution_count": 44,
   "id": "02fe97ec",
   "metadata": {},
   "outputs": [
    {
     "data": {
      "image/png": "[encoded data removed]",
      "text/plain": [
       "<Figure size 432x288 with 1 Axes>"
      ]
     },
     "metadata": {
      "needs_background": "light"
     },
     "output_type": "display_data"
    }
   ],
   "source": [
    "import matplotlib.pyplot as plt\n",
    "\n",
    "# Sort the decades and song_lengths lists based on the decades\n",
    "sorted_indices = sorted(range(len(df.decades)), key=lambda k: df.decades[k])\n",
    "sorted_decades = [df.decades[i] for i in sorted_indices]\n",
    "sorted_song_lengths = [df.number_of_tokens[i] for i in sorted_indices]\n",
    "\n",
    "plt.bar(sorted_decades, sorted_song_lengths)\n",
    "plt.title(\"Song Lengths by Decades\")\n",
    "plt.xlabel(\"Decades\")\n",
    "plt.ylabel(\"Song Length\")\n",
    "plt.tight_layout()\n",
    "plt.show()\n"
   ]
  },
  {
   "cell_type": "markdown",
   "id": "28b5e21d",
   "metadata": {},
   "source": [
    "# Hit-Einteilung"
   ]
  },
  {
   "cell_type": "code",
   "execution_count": 49,
   "id": "009fd4dd",
   "metadata": {},
   "outputs": [
    {
     "data": {
      "text/plain": [
       "Text(0, 0.5, 'Anzahl')"
      ]
     },
     "execution_count": 49,
     "metadata": {},
     "output_type": "execute_result"
    },
    {
     "data": {
      "image/png": "[encoded data removed]",
      "text/plain": [
       "<Figure size 864x360 with 1 Axes>"
      ]
     },
     "metadata": {
      "needs_background": "light"
     },
     "output_type": "display_data"
    }
   ],
   "source": [
    "x = df['Hit'].value_counts().head(20)\n",
    "\n",
    "import matplotlib.pyplot as plt\n",
    "import seaborn as sns\n",
    "\n",
    "fig, ax = plt.subplots(figsize=(12,5))\n",
    "\n",
    "ax=x.plot.bar(width=.9, color=('blue', 'orange', 'green', 'red', 'purple', 'brown')) \n",
    "for i, v in x.reset_index().iterrows():\n",
    "    ax.text(i, v.Hit + 0.2 , v.Hit, color='black')\n",
    "\n",
    "ax.set_xlabel(len(df.Hit))\n",
    "plt.title(\"Einteilung der Songs in Hits, keine Hits und weder noch\")\n",
    "#plt.xlabel(len(df.Bemerkungen))\n",
    "plt.ylabel('Anzahl')\n",
    "#pltcountplotfig(\"songs_per_genre\")\n",
    "#plt.savefig('../Grafiken/Grafiken_SMS_2018_2019/Auswertung_SMS_2018_2019_BD.png', bbox_inches = \"tight\")"
   ]
  },
  {
   "cell_type": "markdown",
   "id": "23fdc58b",
   "metadata": {},
   "source": [
    "# Sentimental Analysis"
   ]
  },
  {
   "cell_type": "code",
   "execution_count": 11,
   "id": "4555a231",
   "metadata": {},
   "outputs": [
    {
     "data": {
      "text/plain": [
       "Text(0, 0.5, 'Anzahl')"
      ]
     },
     "execution_count": 11,
     "metadata": {},
     "output_type": "execute_result"
    },
    {
     "data": {
      "image/png": "[encoded data removed]",
      "text/plain": [
       "<Figure size 864x360 with 1 Axes>"
      ]
     },
     "metadata": {
      "needs_background": "light"
     },
     "output_type": "display_data"
    }
   ],
   "source": [
    "x = df['label'].value_counts().head(20)\n",
    "\n",
    "import matplotlib.pyplot as plt\n",
    "import seaborn as sns\n",
    "\n",
    "fig, ax = plt.subplots(figsize=(12,5))\n",
    "\n",
    "ax=x.plot.bar(width=.9, color=('red', 'yellow')) \n",
    "for i, v in x.reset_index().iterrows():\n",
    "    ax.text(i, v.label + 0.2 , v.label, color='black')\n",
    "\n",
    "ax.set_xlabel(len(df.label))\n",
    "plt.title(\"Einteilung der Liedtexte in positiv und negativ\")\n",
    "#plt.xlabel(len(df.Bemerkungen))\n",
    "plt.ylabel('Anzahl')\n",
    "#pltcountplotfig(\"songs_per_genre\")\n",
    "#plt.savefig('../Grafiken/Grafiken_SMS_2018_2019/Auswertung_SMS_2018_2019_BD.png', bbox_inches = \"tight\")"
   ]
  },
  {
   "cell_type": "markdown",
   "id": "c0be41ac",
   "metadata": {},
   "source": [
    "## Einteilung Sentimental Analysis Hits/no Hits"
   ]
  },
  {
   "cell_type": "code",
   "execution_count": 36,
   "id": "329fa043",
   "metadata": {},
   "outputs": [
    {
     "data": {
      "image/png": "[encoded data removed]",
      "text/plain": [
       "<Figure size 864x360 with 1 Axes>"
      ]
     },
     "metadata": {
      "needs_background": "light"
     },
     "output_type": "display_data"
    }
   ],
   "source": [
    "import pandas as pd\n",
    "import matplotlib.pyplot as plt\n",
    "import numpy as np\n",
    "\n",
    "# Group the data based on Hit and Sentiment columns, and count the occurrences\n",
    "grouped_data = df.groupby(['Hit', 'label']).size().unstack(fill_value=0)\n",
    "\n",
    "# Get the unique \"Hit\" categories and sentiment categories\n",
    "hits = grouped_data.index\n",
    "sentiments = grouped_data.columns\n",
    "\n",
    "# Set the width of each bar and the positions for the grouped bars\n",
    "bar_width = 0.2\n",
    "x = np.arange(len(hits))\n",
    "\n",
    "# Plot the grouped data as separate bar plots\n",
    "fig, ax = plt.subplots(figsize=(12,5))\n",
    "\n",
    "for i, sentiment in enumerate(sentiments):\n",
    "    ax.bar(x + (i - 1) * bar_width, grouped_data[sentiment], width=bar_width, label=sentiment)\n",
    "\n",
    "# Customize the plot\n",
    "plt.title('Distribution of Hits by Sentiment')\n",
    "plt.xlabel('Hit')\n",
    "plt.ylabel('Count')\n",
    "plt.xticks(x, hits)\n",
    "plt.legend(title='Sentiment')\n",
    "\n",
    "# Display the plot\n",
    "plt.show()\n"
   ]
  },
  {
   "cell_type": "markdown",
   "id": "11c46c78",
   "metadata": {},
   "source": [
    "# Einteilung von Emotions"
   ]
  },
  {
   "cell_type": "code",
   "execution_count": 13,
   "id": "c79f6712",
   "metadata": {},
   "outputs": [
    {
     "data": {
      "text/plain": [
       "Text(0, 0.5, 'Anzahl')"
      ]
     },
     "execution_count": 13,
     "metadata": {},
     "output_type": "execute_result"
    },
    {
     "data": {
      "image/png": "[encoded data removed]",
      "text/plain": [
       "<Figure size 864x360 with 1 Axes>"
      ]
     },
     "metadata": {
      "needs_background": "light"
     },
     "output_type": "display_data"
    }
   ],
   "source": [
    "x = df['emotion_label'].value_counts().head(20)\n",
    "\n",
    "import matplotlib.pyplot as plt\n",
    "import seaborn as sns\n",
    "\n",
    "fig, ax = plt.subplots(figsize=(12,5))\n",
    "\n",
    "ax=x.plot.bar(width=.9, color=('red', 'yellow', 'blue', 'green', 'orange')) \n",
    "for i, v in x.reset_index().iterrows():\n",
    "    ax.text(i, v.emotion_label + 0.2 , v.emotion_label, color='black')\n",
    "\n",
    "ax.set_xlabel(len(df.emotion_label))\n",
    "plt.title(\"Einteilung welcher Emotion die Liedtexte am ehesten zugeordnet wurden\")\n",
    "#plt.xlabel(len(df.Bemerkungen))\n",
    "plt.ylabel('Anzahl')\n",
    "#pltcountplotfig(\"songs_per_genre\")\n",
    "#plt.savefig('../Grafiken/Grafiken_SMS_2018_2019/Auswertung_SMS_2018_2019_BD.png', bbox_inches = \"tight\")"
   ]
  },
  {
   "cell_type": "markdown",
   "id": "668a0bfe",
   "metadata": {},
   "source": [
    "## Einteilung Emotionen nach Hits/no Hits"
   ]
  },
  {
   "cell_type": "code",
   "execution_count": 22,
   "id": "7af7965a",
   "metadata": {},
   "outputs": [
    {
     "data": {
      "image/png": "[encoded data removed]",
      "text/plain": [
       "<Figure size 864x576 with 1 Axes>"
      ]
     },
     "metadata": {
      "needs_background": "light"
     },
     "output_type": "display_data"
    }
   ],
   "source": [
    "import pandas as pd\n",
    "import matplotlib.pyplot as plt\n",
    "\n",
    "# Group the data based on Hit and Sentiment columns, and count the occurrences\n",
    "grouped_data = df.groupby(['Hit', 'emotion_label']).size().unstack(fill_value=0)\n",
    "\n",
    "# Plot the grouped data as a stacked bar plot\n",
    "grouped_data.plot(kind='bar', stacked=True, figsize=(12, 8))\n",
    "\n",
    "# Customize the plot\n",
    "plt.title('Distribution of Hits by Sentiment')\n",
    "plt.xlabel('keine Hits, weder noch, Hits')\n",
    "plt.ylabel('Count')\n",
    "plt.xticks(rotation=0)\n",
    "plt.legend(title='Sentiment')\n",
    "\n",
    "# Display the plot\n",
    "plt.show()\n"
   ]
  },
  {
   "cell_type": "markdown",
   "id": "61f1e741",
   "metadata": {},
   "source": [
    "### Unter den Hit-Songs"
   ]
  },
  {
   "cell_type": "code",
   "execution_count": 30,
   "id": "252c6c87",
   "metadata": {},
   "outputs": [],
   "source": [
    "g = df[df['Hit'] == \"Yes\"]"
   ]
  },
  {
   "cell_type": "code",
   "execution_count": 31,
   "id": "77e47fa3",
   "metadata": {},
   "outputs": [
    {
     "data": {
      "text/plain": [
       "Text(0, 0.5, 'Anzahl')"
      ]
     },
     "execution_count": 31,
     "metadata": {},
     "output_type": "execute_result"
    },
    {
     "data": {
      "image/png": "[encoded data removed]",
      "text/plain": [
       "<Figure size 864x360 with 1 Axes>"
      ]
     },
     "metadata": {
      "needs_background": "light"
     },
     "output_type": "display_data"
    }
   ],
   "source": [
    "s = g['emotion_label'].value_counts().head(20)\n",
    "\n",
    "import matplotlib.pyplot as plt\n",
    "import seaborn as sns\n",
    "\n",
    "fig, ax = plt.subplots(figsize=(12,5))\n",
    "\n",
    "ax=s.plot.bar(width=.9, color=('blue', 'orange', 'green', 'red', 'purple', 'brown')) \n",
    "for i, v in s.reset_index().iterrows():\n",
    "    ax.text(i, v.emotion_label + 0.2 , v.emotion_label, color='black')\n",
    "\n",
    "ax.set_xlabel(len(g.Hit))\n",
    "plt.title(\"Emotionsverteilung unter den Hit-Songs\")\n",
    "#plt.xlabel(len(df.Bemerkungen))\n",
    "plt.ylabel('Anzahl')\n",
    "#pltcountplotfig(\"songs_per_genre\")\n",
    "#plt.savefig('../Grafiken/Grafiken_SMS_2018_2019/Auswertung_SMS_2018_2019_BD.png', bbox_inches = \"tight\")"
   ]
  },
  {
   "cell_type": "markdown",
   "id": "53c3462d",
   "metadata": {},
   "source": [
    "### Unter den nicht Hit-Songs"
   ]
  },
  {
   "cell_type": "code",
   "execution_count": 28,
   "id": "e4fb822a",
   "metadata": {},
   "outputs": [],
   "source": [
    "k = df[df['Hit'] == \"No\"]"
   ]
  },
  {
   "cell_type": "code",
   "execution_count": 33,
   "id": "54844868",
   "metadata": {},
   "outputs": [
    {
     "data": {
      "text/plain": [
       "Text(0, 0.5, 'Anzahl')"
      ]
     },
     "execution_count": 33,
     "metadata": {},
     "output_type": "execute_result"
    },
    {
     "data": {
      "image/png": "[encoded data removed]",
      "text/plain": [
       "<Figure size 864x360 with 1 Axes>"
      ]
     },
     "metadata": {
      "needs_background": "light"
     },
     "output_type": "display_data"
    }
   ],
   "source": [
    "s = k['emotion_label'].value_counts().head(20)\n",
    "\n",
    "import matplotlib.pyplot as plt\n",
    "import seaborn as sns\n",
    "\n",
    "fig, ax = plt.subplots(figsize=(12,5))\n",
    "\n",
    "ax=s.plot.bar(width=.9, color=('blue', 'orange', 'green', 'red', 'purple', 'brown')) \n",
    "for i, v in s.reset_index().iterrows():\n",
    "    ax.text(i, v.emotion_label + 0.2 , v.emotion_label, color='black')\n",
    "\n",
    "ax.set_xlabel(len(k.Hit))\n",
    "plt.title(\"Emotionsverteilung unter den nicht Hit-Songs\")\n",
    "#plt.xlabel(len(df.Bemerkungen))\n",
    "plt.ylabel('Anzahl')\n",
    "#pltcountplotfig(\"songs_per_genre\")\n",
    "#plt.savefig('../Grafiken/Grafiken_SMS_2018_2019/Auswertung_SMS_2018_2019_BD.png', bbox_inches = \"tight\")"
   ]
  },
  {
   "cell_type": "markdown",
   "id": "38126bbf",
   "metadata": {},
   "source": [
    "### Unter den weder noch Songs"
   ]
  },
  {
   "cell_type": "code",
   "execution_count": 34,
   "id": "7d1b3cf1",
   "metadata": {},
   "outputs": [],
   "source": [
    "l = df[df['Hit'] == \"None\"]"
   ]
  },
  {
   "cell_type": "code",
   "execution_count": 35,
   "id": "e2d8be6f",
   "metadata": {},
   "outputs": [
    {
     "data": {
      "text/plain": [
       "Text(0, 0.5, 'Anzahl')"
      ]
     },
     "execution_count": 35,
     "metadata": {},
     "output_type": "execute_result"
    },
    {
     "data": {
      "image/png": "[encoded data removed]",
      "text/plain": [
       "<Figure size 864x360 with 1 Axes>"
      ]
     },
     "metadata": {
      "needs_background": "light"
     },
     "output_type": "display_data"
    }
   ],
   "source": [
    "s = l['emotion_label'].value_counts().head(20)\n",
    "\n",
    "import matplotlib.pyplot as plt\n",
    "import seaborn as sns\n",
    "\n",
    "fig, ax = plt.subplots(figsize=(12,5))\n",
    "\n",
    "ax=s.plot.bar(width=.9, color=('blue', 'orange', 'green', 'red', 'purple', 'brown')) \n",
    "for i, v in s.reset_index().iterrows():\n",
    "    ax.text(i, v.emotion_label + 0.2 , v.emotion_label, color='black')\n",
    "\n",
    "ax.set_xlabel(len(l.Hit))\n",
    "plt.title(\"Emotionsverteilung unter den weder noch Songs\")\n",
    "#plt.xlabel(len(df.Bemerkungen))\n",
    "plt.ylabel('Anzahl')\n",
    "#pltcountplotfig(\"songs_per_genre\")\n",
    "#plt.savefig('../Grafiken/Grafiken_SMS_2018_2019/Auswertung_SMS_2018_2019_BD.png', bbox_inches = \"tight\")"
   ]
  },
  {
   "cell_type": "markdown",
   "id": "4f930975",
   "metadata": {},
   "source": [
    "# Genreverteilung"
   ]
  },
  {
   "cell_type": "markdown",
   "id": "eb50a16b",
   "metadata": {},
   "source": [
    "## Hit-Songs ohne stopwords"
   ]
  },
  {
   "cell_type": "code",
   "execution_count": 37,
   "id": "dcb93ff2",
   "metadata": {},
   "outputs": [],
   "source": [
    "# Select first the hit genres\n",
    "\n",
    "hitGenres = list(df[df[\"Hit\"] == \"Yes\"][\"genre\"])"
   ]
  },
  {
   "cell_type": "code",
   "execution_count": 38,
   "id": "ce825b66",
   "metadata": {},
   "outputs": [
    {
     "data": {
      "text/plain": [
       "912"
      ]
     },
     "execution_count": 38,
     "metadata": {},
     "output_type": "execute_result"
    }
   ],
   "source": [
    "len(hitGenres)"
   ]
  },
  {
   "cell_type": "code",
   "execution_count": 39,
   "id": "0009859e",
   "metadata": {},
   "outputs": [],
   "source": [
    "# strip and replace bits in the Genre strings\n",
    "hitGenres_long = []\n",
    "for thisTrack in hitGenres:\n",
    "    thisTrackGenres = thisTrack.replace('\\'', '').replace('[', '').replace(']', '').replace(', ', ',').split(',')\n",
    "    hitGenres_long.extend(thisTrackGenres)"
   ]
  },
  {
   "cell_type": "code",
   "execution_count": 40,
   "id": "e19c6cee",
   "metadata": {},
   "outputs": [],
   "source": [
    "from collections import Counter\n",
    "\n",
    "hitGenres_count = Counter(hitGenres_long)"
   ]
  },
  {
   "cell_type": "code",
   "execution_count": 47,
   "id": "a1bc8c79",
   "metadata": {},
   "outputs": [],
   "source": [
    "from wordcloud import WordCloud\n",
    "import matplotlib\n",
    "import matplotlib.pyplot as plt\n",
    "\n",
    "hitWordcloud = WordCloud(stopwords='unknown', \n",
    "        height=700,\n",
    "        width=1400,\n",
    "        min_font_size=4,\n",
    "        colormap=matplotlib.cm.inferno,\n",
    "        background_color='white').generate_from_frequencies(hitGenres_count)"
   ]
  },
  {
   "cell_type": "code",
   "execution_count": 49,
   "id": "e04693f6",
   "metadata": {},
   "outputs": [
    {
     "data": {
      "text/plain": [
       "<wordcloud.wordcloud.WordCloud at 0x134f20700>"
      ]
     },
     "execution_count": 49,
     "metadata": {},
     "output_type": "execute_result"
    }
   ],
   "source": [
    "hitWordcloud.to_file('../../images/audiofeatures/wordclouds/wordcloud_hits.png')"
   ]
  },
  {
   "cell_type": "markdown",
   "id": "d85a0f03",
   "metadata": {},
   "source": [
    "## Hit-Songs mit stopwords"
   ]
  },
  {
   "cell_type": "code",
   "execution_count": 2,
   "id": "969981ff",
   "metadata": {},
   "outputs": [],
   "source": [
    "# Select first the hit genres\n",
    "\n",
    "hitGenres = list(df[df[\"Hit\"] == \"Yes\"][\"genre\"])"
   ]
  },
  {
   "cell_type": "code",
   "execution_count": 3,
   "id": "7ed89cd8",
   "metadata": {},
   "outputs": [
    {
     "data": {
      "text/plain": [
       "912"
      ]
     },
     "execution_count": 3,
     "metadata": {},
     "output_type": "execute_result"
    }
   ],
   "source": [
    "len(hitGenres)"
   ]
  },
  {
   "cell_type": "code",
   "execution_count": 4,
   "id": "f55cb0e1",
   "metadata": {},
   "outputs": [],
   "source": [
    "# strip and replace bits in the Genre strings\n",
    "hitGenres_long = []\n",
    "for thisTrack in hitGenres:\n",
    "    thisTrackGenres = thisTrack.replace('\\'', '').replace('[', '').replace(']', '').replace(', ', ',').split(',')\n",
    "    hitGenres_long.extend(thisTrackGenres)"
   ]
  },
  {
   "cell_type": "code",
   "execution_count": 5,
   "id": "b699b22e",
   "metadata": {},
   "outputs": [],
   "source": [
    "from collections import Counter\n",
    "\n",
    "hitGenres_count = Counter(hitGenres_long)"
   ]
  },
  {
   "cell_type": "code",
   "execution_count": 6,
   "id": "26e59f3d",
   "metadata": {},
   "outputs": [],
   "source": [
    "from wordcloud import WordCloud\n",
    "import matplotlib\n",
    "import matplotlib.pyplot as plt\n",
    "\n",
    "hitWordcloud = WordCloud(stopwords='english', \n",
    "        height=700,\n",
    "        width=1400,\n",
    "        min_font_size=4,\n",
    "        colormap=matplotlib.cm.inferno,\n",
    "        background_color='white').generate_from_frequencies(hitGenres_count)"
   ]
  },
  {
   "cell_type": "code",
   "execution_count": 7,
   "id": "58e387c8",
   "metadata": {},
   "outputs": [
    {
     "data": {
      "text/plain": [
       "<wordcloud.wordcloud.WordCloud at 0x114146b50>"
      ]
     },
     "execution_count": 7,
     "metadata": {},
     "output_type": "execute_result"
    }
   ],
   "source": [
    "hitWordcloud.to_file('../../images/audiofeatures/wordclouds/wordcloud_hits_stopwords.png')"
   ]
  },
  {
   "cell_type": "markdown",
   "id": "93e8f9b8",
   "metadata": {},
   "source": [
    "## no Hit-Songs ohne stopwords"
   ]
  },
  {
   "cell_type": "code",
   "execution_count": 50,
   "id": "85ced165",
   "metadata": {},
   "outputs": [],
   "source": [
    "# Select first the hit genres\n",
    "\n",
    "hitGenres = list(df[df[\"Hit\"] == \"No\"][\"genre\"])"
   ]
  },
  {
   "cell_type": "code",
   "execution_count": 51,
   "id": "d83c7961",
   "metadata": {},
   "outputs": [
    {
     "data": {
      "text/plain": [
       "889"
      ]
     },
     "execution_count": 51,
     "metadata": {},
     "output_type": "execute_result"
    }
   ],
   "source": [
    "len(hitGenres)"
   ]
  },
  {
   "cell_type": "code",
   "execution_count": 52,
   "id": "4096e66f",
   "metadata": {},
   "outputs": [],
   "source": [
    "# strip and replace bits in the Genre strings\n",
    "hitGenres_long = []\n",
    "for thisTrack in hitGenres:\n",
    "    thisTrackGenres = thisTrack.replace('\\'', '').replace('[', '').replace(']', '').replace(', ', ',').split(',')\n",
    "    hitGenres_long.extend(thisTrackGenres)"
   ]
  },
  {
   "cell_type": "code",
   "execution_count": 53,
   "id": "38a363df",
   "metadata": {},
   "outputs": [],
   "source": [
    "from collections import Counter\n",
    "\n",
    "hitGenres_count = Counter(hitGenres_long)"
   ]
  },
  {
   "cell_type": "code",
   "execution_count": 54,
   "id": "2a431d93",
   "metadata": {},
   "outputs": [],
   "source": [
    "from wordcloud import WordCloud\n",
    "import matplotlib\n",
    "import matplotlib.pyplot as plt\n",
    "\n",
    "hitWordcloud = WordCloud(stopwords='unknown', \n",
    "        height=700,\n",
    "        width=1400,\n",
    "        min_font_size=4,\n",
    "        colormap=matplotlib.cm.inferno,\n",
    "        background_color='white').generate_from_frequencies(hitGenres_count)"
   ]
  },
  {
   "cell_type": "code",
   "execution_count": 55,
   "id": "190b5058",
   "metadata": {},
   "outputs": [
    {
     "data": {
      "text/plain": [
       "<wordcloud.wordcloud.WordCloud at 0x134cdf160>"
      ]
     },
     "execution_count": 55,
     "metadata": {},
     "output_type": "execute_result"
    }
   ],
   "source": [
    "hitWordcloud.to_file('../../images/audiofeatures/wordclouds/wordcloud_no_hits.png')"
   ]
  },
  {
   "cell_type": "markdown",
   "id": "a2dc698d",
   "metadata": {},
   "source": [
    "## no Hit-Songs ohne stopwords"
   ]
  },
  {
   "cell_type": "code",
   "execution_count": 8,
   "id": "4656d9ca",
   "metadata": {},
   "outputs": [],
   "source": [
    "# Select first the hit genres\n",
    "\n",
    "hitGenres = list(df[df[\"Hit\"] == \"No\"][\"genre\"])"
   ]
  },
  {
   "cell_type": "code",
   "execution_count": 9,
   "id": "9eb406b3",
   "metadata": {},
   "outputs": [
    {
     "data": {
      "text/plain": [
       "889"
      ]
     },
     "execution_count": 9,
     "metadata": {},
     "output_type": "execute_result"
    }
   ],
   "source": [
    "len(hitGenres)"
   ]
  },
  {
   "cell_type": "code",
   "execution_count": 10,
   "id": "5cd8e928",
   "metadata": {},
   "outputs": [],
   "source": [
    "# strip and replace bits in the Genre strings\n",
    "hitGenres_long = []\n",
    "for thisTrack in hitGenres:\n",
    "    thisTrackGenres = thisTrack.replace('\\'', '').replace('[', '').replace(']', '').replace(', ', ',').split(',')\n",
    "    hitGenres_long.extend(thisTrackGenres)"
   ]
  },
  {
   "cell_type": "code",
   "execution_count": 11,
   "id": "6c71410c",
   "metadata": {},
   "outputs": [],
   "source": [
    "from collections import Counter\n",
    "\n",
    "hitGenres_count = Counter(hitGenres_long)"
   ]
  },
  {
   "cell_type": "code",
   "execution_count": 12,
   "id": "9ff22a90",
   "metadata": {},
   "outputs": [],
   "source": [
    "from wordcloud import WordCloud\n",
    "import matplotlib\n",
    "import matplotlib.pyplot as plt\n",
    "\n",
    "hitWordcloud = WordCloud(stopwords='english', \n",
    "        height=700,\n",
    "        width=1400,\n",
    "        min_font_size=4,\n",
    "        colormap=matplotlib.cm.inferno,\n",
    "        background_color='white').generate_from_frequencies(hitGenres_count)"
   ]
  },
  {
   "cell_type": "code",
   "execution_count": 13,
   "id": "e982d3d4",
   "metadata": {},
   "outputs": [
    {
     "data": {
      "text/plain": [
       "<wordcloud.wordcloud.WordCloud at 0x1133693a0>"
      ]
     },
     "execution_count": 13,
     "metadata": {},
     "output_type": "execute_result"
    }
   ],
   "source": [
    "hitWordcloud.to_file('../../images/audiofeatures/wordclouds/wordcloud_no_hits_stopwords.png')"
   ]
  }
 ],
 "metadata": {
  "kernelspec": {
   "display_name": "Python 3 (ipykernel)",
   "language": "python",
   "name": "python3"
  },
  "language_info": {
   "codemirror_mode": {
    "name": "ipython",
    "version": 3
   },
   "file_extension": ".py",
   "mimetype": "text/x-python",
   "name": "python",
   "nbconvert_exporter": "python",
   "pygments_lexer": "ipython3",
   "version": "3.9.15"
  },
  "toc": {
   "base_numbering": 1,
   "nav_menu": {},
   "number_sections": true,
   "sideBar": true,
   "skip_h1_title": false,
   "title_cell": "Table of Contents",
   "title_sidebar": "Contents",
   "toc_cell": false,
   "toc_position": {
    "height": "calc(100% - 180px)",
    "left": "10px",
    "top": "150px",
    "width": "384px"
   },
   "toc_section_display": true,
   "toc_window_display": true
  },
  "varInspector": {
   "cols": {
    "lenName": 16,
    "lenType": 16,
    "lenVar": 40
   },
   "kernels_config": {
    "python": {
     "delete_cmd_postfix": "",
     "delete_cmd_prefix": "del ",
     "library": "var_list.py",
     "varRefreshCmd": "print(var_dic_list())"
    },
    "r": {
     "delete_cmd_postfix": ") ",
     "delete_cmd_prefix": "rm(",
     "library": "var_list.r",
     "varRefreshCmd": "cat(var_dic_list()) "
    }
   },
   "types_to_exclude": [
    "module",
    "function",
    "builtin_function_or_method",
    "instance",
    "_Feature"
   ],
   "window_display": false
  }
 },
 "nbformat": 4,
 "nbformat_minor": 5
}
