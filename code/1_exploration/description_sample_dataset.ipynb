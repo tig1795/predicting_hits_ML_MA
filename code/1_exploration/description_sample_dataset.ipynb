{
 "cells": [
  {
   "cell_type": "markdown",
   "id": "aad044c3",
   "metadata": {},
   "source": [
    "# Imports"
   ]
  },
  {
   "cell_type": "code",
   "execution_count": 1,
   "id": "c3254646",
   "metadata": {},
   "outputs": [],
   "source": [
    "import pandas as pd\n",
    "\n",
    "df = pd.read_csv(\"../../data/CSV/ML_Datasets/sample_two_datasets_hit_column.csv\")"
   ]
  },
  {
   "cell_type": "code",
   "execution_count": 2,
   "id": "1320b519",
   "metadata": {},
   "outputs": [
    {
     "data": {
      "text/html": [
       "<div>\n",
       "<style scoped>\n",
       "    .dataframe tbody tr th:only-of-type {\n",
       "        vertical-align: middle;\n",
       "    }\n",
       "\n",
       "    .dataframe tbody tr th {\n",
       "        vertical-align: top;\n",
       "    }\n",
       "\n",
       "    .dataframe thead th {\n",
       "        text-align: right;\n",
       "    }\n",
       "</style>\n",
       "<table border=\"1\" class=\"dataframe\">\n",
       "  <thead>\n",
       "    <tr style=\"text-align: right;\">\n",
       "      <th></th>\n",
       "      <th>lyrics</th>\n",
       "      <th>genre</th>\n",
       "      <th>num_syllables</th>\n",
       "      <th>pos</th>\n",
       "      <th>year</th>\n",
       "      <th>fog_index</th>\n",
       "      <th>flesch_index</th>\n",
       "      <th>num_lines</th>\n",
       "      <th>sentiment</th>\n",
       "      <th>title</th>\n",
       "      <th>...</th>\n",
       "      <th>instrumentalness_y</th>\n",
       "      <th>liveness_y</th>\n",
       "      <th>valence_y</th>\n",
       "      <th>tempo_y</th>\n",
       "      <th>duration_ms_y</th>\n",
       "      <th>time_signature</th>\n",
       "      <th>chorus_hit</th>\n",
       "      <th>sections</th>\n",
       "      <th>target</th>\n",
       "      <th>Hit_y</th>\n",
       "    </tr>\n",
       "  </thead>\n",
       "  <tbody>\n",
       "    <tr>\n",
       "      <th>0</th>\n",
       "      <td>look into my eyes  you will seewhat you mean t...</td>\n",
       "      <td>['acoustic rock', 'adult contemporary', 'album...</td>\n",
       "      <td>258.3</td>\n",
       "      <td>1</td>\n",
       "      <td>1991</td>\n",
       "      <td>4.4</td>\n",
       "      <td>107.69</td>\n",
       "      <td>36</td>\n",
       "      <td>{'neg': 0.14100000000000001, 'neu': 0.708, 'po...</td>\n",
       "      <td>(Everything I Do) I Do It For You</td>\n",
       "      <td>...</td>\n",
       "      <td>0.000013</td>\n",
       "      <td>0.0618</td>\n",
       "      <td>0.253</td>\n",
       "      <td>131.253</td>\n",
       "      <td>394133</td>\n",
       "      <td>4</td>\n",
       "      <td>27.33440</td>\n",
       "      <td>16</td>\n",
       "      <td>1</td>\n",
       "      <td>Yes</td>\n",
       "    </tr>\n",
       "    <tr>\n",
       "      <th>1</th>\n",
       "      <td>our life together is so precious togetherwe ha...</td>\n",
       "      <td>['britannique', 'british', 'classic pop and ro...</td>\n",
       "      <td>288.0</td>\n",
       "      <td>4</td>\n",
       "      <td>1981</td>\n",
       "      <td>4.8</td>\n",
       "      <td>81.29</td>\n",
       "      <td>28</td>\n",
       "      <td>{'neg': 0.068, 'neu': 0.625, 'pos': 0.308, 'co...</td>\n",
       "      <td>(Just Like) Starting Over</td>\n",
       "      <td>...</td>\n",
       "      <td>0.000061</td>\n",
       "      <td>0.1790</td>\n",
       "      <td>0.421</td>\n",
       "      <td>99.104</td>\n",
       "      <td>236547</td>\n",
       "      <td>4</td>\n",
       "      <td>23.90755</td>\n",
       "      <td>10</td>\n",
       "      <td>1</td>\n",
       "      <td>Yes</td>\n",
       "    </tr>\n",
       "    <tr>\n",
       "      <th>2</th>\n",
       "      <td>love is higher than a mountain love is thicker...</td>\n",
       "      <td>['classic pop and rock', 'death by myocarditis']</td>\n",
       "      <td>224.1</td>\n",
       "      <td>8</td>\n",
       "      <td>1978</td>\n",
       "      <td>4.0</td>\n",
       "      <td>91.78</td>\n",
       "      <td>30</td>\n",
       "      <td>{'neg': 0.062, 'neu': 0.7000000000000001, 'pos...</td>\n",
       "      <td>(Love Is) Thicker Than Water</td>\n",
       "      <td>...</td>\n",
       "      <td>0.000050</td>\n",
       "      <td>0.0755</td>\n",
       "      <td>0.528</td>\n",
       "      <td>96.361</td>\n",
       "      <td>255960</td>\n",
       "      <td>4</td>\n",
       "      <td>45.24204</td>\n",
       "      <td>15</td>\n",
       "      <td>1</td>\n",
       "      <td>Yes</td>\n",
       "    </tr>\n",
       "    <tr>\n",
       "      <th>3</th>\n",
       "      <td>sittin' in the morning suni'll be sittin' when...</td>\n",
       "      <td>['american', 'blues', 'death by airplane', 'de...</td>\n",
       "      <td>223.2</td>\n",
       "      <td>4</td>\n",
       "      <td>1968</td>\n",
       "      <td>4.8</td>\n",
       "      <td>98.21</td>\n",
       "      <td>25</td>\n",
       "      <td>{'neg': 0.018000000000000002, 'neu': 0.927, 'p...</td>\n",
       "      <td>(Sittin' On) The Dock Of The Bay</td>\n",
       "      <td>...</td>\n",
       "      <td>0.000016</td>\n",
       "      <td>0.0810</td>\n",
       "      <td>0.535</td>\n",
       "      <td>103.621</td>\n",
       "      <td>163756</td>\n",
       "      <td>4</td>\n",
       "      <td>25.57982</td>\n",
       "      <td>9</td>\n",
       "      <td>1</td>\n",
       "      <td>Yes</td>\n",
       "    </tr>\n",
       "    <tr>\n",
       "      <th>4</th>\n",
       "      <td>why do birds suddenly appeareverytime you are ...</td>\n",
       "      <td>['adult contemporary', 'baroque pop', 'classic...</td>\n",
       "      <td>236.7</td>\n",
       "      <td>2</td>\n",
       "      <td>1970</td>\n",
       "      <td>4.0</td>\n",
       "      <td>100.24</td>\n",
       "      <td>35</td>\n",
       "      <td>{'neg': 0.0, 'neu': 0.866, 'pos': 0.134, 'comp...</td>\n",
       "      <td>(They Long To Be) Close To You</td>\n",
       "      <td>...</td>\n",
       "      <td>0.000042</td>\n",
       "      <td>0.1220</td>\n",
       "      <td>0.236</td>\n",
       "      <td>89.328</td>\n",
       "      <td>276000</td>\n",
       "      <td>4</td>\n",
       "      <td>36.98647</td>\n",
       "      <td>10</td>\n",
       "      <td>1</td>\n",
       "      <td>Yes</td>\n",
       "    </tr>\n",
       "  </tbody>\n",
       "</table>\n",
       "<p>5 rows × 63 columns</p>\n",
       "</div>"
      ],
      "text/plain": [
       "                                              lyrics  \\\n",
       "0  look into my eyes  you will seewhat you mean t...   \n",
       "1  our life together is so precious togetherwe ha...   \n",
       "2  love is higher than a mountain love is thicker...   \n",
       "3  sittin' in the morning suni'll be sittin' when...   \n",
       "4  why do birds suddenly appeareverytime you are ...   \n",
       "\n",
       "                                               genre  num_syllables  pos  \\\n",
       "0  ['acoustic rock', 'adult contemporary', 'album...          258.3    1   \n",
       "1  ['britannique', 'british', 'classic pop and ro...          288.0    4   \n",
       "2   ['classic pop and rock', 'death by myocarditis']          224.1    8   \n",
       "3  ['american', 'blues', 'death by airplane', 'de...          223.2    4   \n",
       "4  ['adult contemporary', 'baroque pop', 'classic...          236.7    2   \n",
       "\n",
       "   year  fog_index  flesch_index  num_lines  \\\n",
       "0  1991        4.4        107.69         36   \n",
       "1  1981        4.8         81.29         28   \n",
       "2  1978        4.0         91.78         30   \n",
       "3  1968        4.8         98.21         25   \n",
       "4  1970        4.0        100.24         35   \n",
       "\n",
       "                                           sentiment  \\\n",
       "0  {'neg': 0.14100000000000001, 'neu': 0.708, 'po...   \n",
       "1  {'neg': 0.068, 'neu': 0.625, 'pos': 0.308, 'co...   \n",
       "2  {'neg': 0.062, 'neu': 0.7000000000000001, 'pos...   \n",
       "3  {'neg': 0.018000000000000002, 'neu': 0.927, 'p...   \n",
       "4  {'neg': 0.0, 'neu': 0.866, 'pos': 0.134, 'comp...   \n",
       "\n",
       "                               title  ...  instrumentalness_y liveness_y  \\\n",
       "0  (Everything I Do) I Do It For You  ...            0.000013     0.0618   \n",
       "1          (Just Like) Starting Over  ...            0.000061     0.1790   \n",
       "2       (Love Is) Thicker Than Water  ...            0.000050     0.0755   \n",
       "3   (Sittin' On) The Dock Of The Bay  ...            0.000016     0.0810   \n",
       "4     (They Long To Be) Close To You  ...            0.000042     0.1220   \n",
       "\n",
       "   valence_y  tempo_y  duration_ms_y  time_signature chorus_hit sections  \\\n",
       "0      0.253  131.253         394133               4   27.33440       16   \n",
       "1      0.421   99.104         236547               4   23.90755       10   \n",
       "2      0.528   96.361         255960               4   45.24204       15   \n",
       "3      0.535  103.621         163756               4   25.57982        9   \n",
       "4      0.236   89.328         276000               4   36.98647       10   \n",
       "\n",
       "  target Hit_y  \n",
       "0      1   Yes  \n",
       "1      1   Yes  \n",
       "2      1   Yes  \n",
       "3      1   Yes  \n",
       "4      1   Yes  \n",
       "\n",
       "[5 rows x 63 columns]"
      ]
     },
     "execution_count": 2,
     "metadata": {},
     "output_type": "execute_result"
    }
   ],
   "source": [
    "df.head(5)"
   ]
  },
  {
   "cell_type": "code",
   "execution_count": 3,
   "id": "c8f1e136",
   "metadata": {},
   "outputs": [
    {
     "data": {
      "text/plain": [
       "(1116, 63)"
      ]
     },
     "execution_count": 3,
     "metadata": {},
     "output_type": "execute_result"
    }
   ],
   "source": [
    "df.shape"
   ]
  },
  {
   "cell_type": "code",
   "execution_count": 4,
   "id": "bb18283c",
   "metadata": {},
   "outputs": [
    {
     "data": {
      "text/plain": [
       "Index(['lyrics', 'genre', 'num_syllables', 'pos', 'year', 'fog_index',\n",
       "       'flesch_index', 'num_lines', 'sentiment', 'title', 'f_k_grade',\n",
       "       'artist', 'difficult_words', 'num_dupes', 'number_of_tokens',\n",
       "       'number_of_types', 'decades', 'stemmed_text', 'POS_tags', 'POS',\n",
       "       'playlistID', 'TrackName', 'TrackID', 'SampleURL', 'ReleaseYear',\n",
       "       'Genres', 'danceability_x', 'energy_x', 'loudness_x', 'speechiness_x',\n",
       "       'acousticness_x', 'instrumentalness_x', 'liveness_x', 'valence_x',\n",
       "       'tempo_x', 'key_x', 'mode_x', 'duration_ms_x', 'Popularity', 'values',\n",
       "       'pred', 'label', 'score', 'emotion_label', 'Hit_x', 'uri',\n",
       "       'danceability_y', 'energy_y', 'key_y', 'loudness_y', 'mode_y',\n",
       "       'speechiness_y', 'acousticness_y', 'instrumentalness_y', 'liveness_y',\n",
       "       'valence_y', 'tempo_y', 'duration_ms_y', 'time_signature', 'chorus_hit',\n",
       "       'sections', 'target', 'Hit_y'],\n",
       "      dtype='object')"
      ]
     },
     "execution_count": 4,
     "metadata": {},
     "output_type": "execute_result"
    }
   ],
   "source": [
    "df.columns"
   ]
  },
  {
   "cell_type": "code",
   "execution_count": 6,
   "id": "8442ee83",
   "metadata": {},
   "outputs": [
    {
     "data": {
      "text/plain": [
       "Counter({'Yes': 550, 'No': 566})"
      ]
     },
     "execution_count": 6,
     "metadata": {},
     "output_type": "execute_result"
    }
   ],
   "source": [
    "from collections import Counter\n",
    "\n",
    "Counter(df.Hit_y)"
   ]
  },
  {
   "cell_type": "markdown",
   "id": "460030c7",
   "metadata": {},
   "source": [
    "# Number of songs per decade"
   ]
  },
  {
   "cell_type": "code",
   "execution_count": 7,
   "id": "96824110",
   "metadata": {},
   "outputs": [
    {
     "data": {
      "text/plain": [
       "Text(0, 0.5, 'Anzahl')"
      ]
     },
     "execution_count": 7,
     "metadata": {},
     "output_type": "execute_result"
    },
    {
     "data": {
      "image/png": "[encoded data removed]",
      "text/plain": [
       "<Figure size 864x360 with 1 Axes>"
      ]
     },
     "metadata": {
      "needs_background": "light"
     },
     "output_type": "display_data"
    }
   ],
   "source": [
    "s = df['decades'].value_counts().head(20)\n",
    "\n",
    "import matplotlib.pyplot as plt\n",
    "import seaborn as sns\n",
    "\n",
    "fig, ax = plt.subplots(figsize=(12,5))\n",
    "\n",
    "ax=s.plot.bar(width=.9, color=('blue', 'orange', 'green', 'red', 'purple', 'brown')) \n",
    "for i, v in s.reset_index().iterrows():\n",
    "    ax.text(i, v.decades + 0.2 , v.decades, color='black')\n",
    "\n",
    "ax.set_xlabel(len(df.decades))\n",
    "plt.title(\"Die Anzahl der Songs pro Dekade\")\n",
    "#plt.xlabel(len())\n",
    "plt.ylabel('Anzahl')\n",
    "#pltcountplotfig(\"\")\n",
    "#plt.savefig('')"
   ]
  },
  {
   "cell_type": "markdown",
   "id": "5b739310",
   "metadata": {},
   "source": [
    "# Number of songs per year within a decade"
   ]
  },
  {
   "cell_type": "markdown",
   "id": "d4112f4a",
   "metadata": {},
   "source": [
    "## 1960er"
   ]
  },
  {
   "cell_type": "code",
   "execution_count": 8,
   "id": "6234514c",
   "metadata": {},
   "outputs": [],
   "source": [
    "a = df[df['decades'] == \"1960s\"]"
   ]
  },
  {
   "cell_type": "code",
   "execution_count": 9,
   "id": "eda49aaa",
   "metadata": {},
   "outputs": [
    {
     "data": {
      "text/plain": [
       "Text(0, 0.5, 'Anzahl')"
      ]
     },
     "execution_count": 9,
     "metadata": {},
     "output_type": "execute_result"
    },
    {
     "data": {
      "image/png": "[encoded data removed]",
      "text/plain": [
       "<Figure size 864x360 with 1 Axes>"
      ]
     },
     "metadata": {
      "needs_background": "light"
     },
     "output_type": "display_data"
    }
   ],
   "source": [
    "s = a['year'].value_counts().head(20)\n",
    "\n",
    "import matplotlib.pyplot as plt\n",
    "import seaborn as sns\n",
    "\n",
    "fig, ax = plt.subplots(figsize=(12,5))\n",
    "\n",
    "ax=s.plot.bar(width=.9, color=('blue', 'orange', 'green', 'red', 'purple', 'brown')) \n",
    "for i, v in s.reset_index().iterrows():\n",
    "    ax.text(i, v.year + 0.2 , v.year, color='black')\n",
    "\n",
    "ax.set_xlabel(len(a.decades))\n",
    "plt.title(\"Die Anzahl der Songs pro Jahr in den 1960er\")\n",
    "#plt.xlabel(len())\n",
    "plt.ylabel('Anzahl')\n",
    "#pltcountplotfig(\"\")\n",
    "#plt.savefig('')"
   ]
  },
  {
   "cell_type": "markdown",
   "id": "cb67a794",
   "metadata": {},
   "source": [
    "## 1970er"
   ]
  },
  {
   "cell_type": "code",
   "execution_count": 10,
   "id": "f146df8e",
   "metadata": {},
   "outputs": [],
   "source": [
    "a = df[df['decades'] == \"1970s\"]"
   ]
  },
  {
   "cell_type": "code",
   "execution_count": 11,
   "id": "51668bb9",
   "metadata": {},
   "outputs": [
    {
     "data": {
      "text/plain": [
       "Text(0, 0.5, 'Anzahl')"
      ]
     },
     "execution_count": 11,
     "metadata": {},
     "output_type": "execute_result"
    },
    {
     "data": {
      "image/png": "[encoded data removed]",
      "text/plain": [
       "<Figure size 864x360 with 1 Axes>"
      ]
     },
     "metadata": {
      "needs_background": "light"
     },
     "output_type": "display_data"
    }
   ],
   "source": [
    "s = a['year'].value_counts().head(20)\n",
    "\n",
    "import matplotlib.pyplot as plt\n",
    "import seaborn as sns\n",
    "\n",
    "fig, ax = plt.subplots(figsize=(12,5))\n",
    "\n",
    "ax=s.plot.bar(width=.9, color=('blue', 'orange', 'green', 'red', 'purple', 'brown')) \n",
    "for i, v in s.reset_index().iterrows():\n",
    "    ax.text(i, v.year + 0.2 , v.year, color='black')\n",
    "\n",
    "ax.set_xlabel(len(a.decades))\n",
    "plt.title(\"Die Anzahl der Songs pro Jahr in den 1970er\")\n",
    "#plt.xlabel(len())\n",
    "plt.ylabel('Anzahl')\n",
    "#pltcountplotfig(\"\")\n",
    "#plt.savefig('')"
   ]
  },
  {
   "cell_type": "markdown",
   "id": "eba54fd8",
   "metadata": {},
   "source": [
    "## 1980er"
   ]
  },
  {
   "cell_type": "code",
   "execution_count": 12,
   "id": "ef651eee",
   "metadata": {},
   "outputs": [],
   "source": [
    "a = df[df['decades'] == \"1980s\"]"
   ]
  },
  {
   "cell_type": "code",
   "execution_count": 13,
   "id": "26441d1e",
   "metadata": {},
   "outputs": [
    {
     "data": {
      "text/plain": [
       "Text(0, 0.5, 'Anzahl')"
      ]
     },
     "execution_count": 13,
     "metadata": {},
     "output_type": "execute_result"
    },
    {
     "data": {
      "image/png": "[encoded data removed]",
      "text/plain": [
       "<Figure size 864x360 with 1 Axes>"
      ]
     },
     "metadata": {
      "needs_background": "light"
     },
     "output_type": "display_data"
    }
   ],
   "source": [
    "s = a['year'].value_counts().head(20)\n",
    "\n",
    "import matplotlib.pyplot as plt\n",
    "import seaborn as sns\n",
    "\n",
    "fig, ax = plt.subplots(figsize=(12,5))\n",
    "\n",
    "ax=s.plot.bar(width=.9, color=('blue', 'orange', 'green', 'red', 'purple', 'brown')) \n",
    "for i, v in s.reset_index().iterrows():\n",
    "    ax.text(i, v.year + 0.2 , v.year, color='black')\n",
    "\n",
    "ax.set_xlabel(len(a.decades))\n",
    "plt.title(\"Die Anzahl der Songs pro Jahr in den 1980er\")\n",
    "#plt.xlabel(len())\n",
    "plt.ylabel('Anzahl')\n",
    "#pltcountplotfig(\"\")\n",
    "#plt.savefig('')"
   ]
  },
  {
   "cell_type": "markdown",
   "id": "7ac5aab4",
   "metadata": {},
   "source": [
    "## 1990er"
   ]
  },
  {
   "cell_type": "code",
   "execution_count": 14,
   "id": "3af2260e",
   "metadata": {},
   "outputs": [],
   "source": [
    "e = df[df['decades'] == \"1990s\"]"
   ]
  },
  {
   "cell_type": "code",
   "execution_count": 15,
   "id": "8d02655a",
   "metadata": {},
   "outputs": [
    {
     "data": {
      "text/plain": [
       "Text(0, 0.5, 'Anzahl')"
      ]
     },
     "execution_count": 15,
     "metadata": {},
     "output_type": "execute_result"
    },
    {
     "data": {
      "image/png": "[encoded data removed]",
      "text/plain": [
       "<Figure size 864x360 with 1 Axes>"
      ]
     },
     "metadata": {
      "needs_background": "light"
     },
     "output_type": "display_data"
    }
   ],
   "source": [
    "s = e['year'].value_counts().head(20)\n",
    "\n",
    "import matplotlib.pyplot as plt\n",
    "import seaborn as sns\n",
    "\n",
    "fig, ax = plt.subplots(figsize=(12,5))\n",
    "\n",
    "ax=s.plot.bar(width=.9, color=('blue', 'orange', 'green', 'red', 'purple', 'brown')) \n",
    "for i, v in s.reset_index().iterrows():\n",
    "    ax.text(i, v.year + 0.2 , v.year, color='black')\n",
    "\n",
    "ax.set_xlabel(len(e.decades))\n",
    "plt.title(\"Die Anzahl der Songs pro Jahr in den 1990er\")\n",
    "#plt.xlabel(len())\n",
    "plt.ylabel('Anzahl')\n",
    "#pltcountplotfig(\"\")\n",
    "#plt.savefig('')"
   ]
  },
  {
   "cell_type": "markdown",
   "id": "3f3e34e7",
   "metadata": {},
   "source": [
    "## 2000er"
   ]
  },
  {
   "cell_type": "code",
   "execution_count": 16,
   "id": "03ad7b5b",
   "metadata": {},
   "outputs": [],
   "source": [
    "f = df[df['decades'] == \"2000s\"]"
   ]
  },
  {
   "cell_type": "code",
   "execution_count": 17,
   "id": "ede8a32c",
   "metadata": {},
   "outputs": [
    {
     "data": {
      "text/plain": [
       "Text(0, 0.5, 'Anzahl')"
      ]
     },
     "execution_count": 17,
     "metadata": {},
     "output_type": "execute_result"
    },
    {
     "data": {
      "image/png": "[encoded data removed]",
      "text/plain": [
       "<Figure size 864x360 with 1 Axes>"
      ]
     },
     "metadata": {
      "needs_background": "light"
     },
     "output_type": "display_data"
    }
   ],
   "source": [
    "s = f['year'].value_counts().head(20)\n",
    "\n",
    "import matplotlib.pyplot as plt\n",
    "import seaborn as sns\n",
    "\n",
    "fig, ax = plt.subplots(figsize=(12,5))\n",
    "\n",
    "ax=s.plot.bar(width=.9, color=('blue', 'orange', 'green', 'red', 'purple', 'brown')) \n",
    "for i, v in s.reset_index().iterrows():\n",
    "    ax.text(i, v.year + 0.2 , v.year, color='black')\n",
    "\n",
    "ax.set_xlabel(len(f.decades))\n",
    "plt.title(\"Die Anzahl der Songs pro Jahr in den 2000er\")\n",
    "#plt.xlabel(len())\n",
    "plt.ylabel('Anzahl')\n",
    "#pltcountplotfig(\"\")\n",
    "#plt.savefig('')"
   ]
  },
  {
   "cell_type": "markdown",
   "id": "ec885b2c",
   "metadata": {},
   "source": [
    "## 2010er"
   ]
  },
  {
   "cell_type": "code",
   "execution_count": 18,
   "id": "e4d0a2bb",
   "metadata": {},
   "outputs": [],
   "source": [
    "g = df[df['decades'] == \"2010s\"]"
   ]
  },
  {
   "cell_type": "code",
   "execution_count": 19,
   "id": "0617942c",
   "metadata": {},
   "outputs": [
    {
     "data": {
      "text/plain": [
       "Text(0, 0.5, 'Anzahl')"
      ]
     },
     "execution_count": 19,
     "metadata": {},
     "output_type": "execute_result"
    },
    {
     "data": {
      "image/png": "[encoded data removed]",
      "text/plain": [
       "<Figure size 864x360 with 1 Axes>"
      ]
     },
     "metadata": {
      "needs_background": "light"
     },
     "output_type": "display_data"
    }
   ],
   "source": [
    "s = g['year'].value_counts().head(20)\n",
    "\n",
    "import matplotlib.pyplot as plt\n",
    "import seaborn as sns\n",
    "\n",
    "fig, ax = plt.subplots(figsize=(12,5))\n",
    "\n",
    "ax=s.plot.bar(width=.9, color=('blue', 'orange', 'green', 'red', 'purple', 'brown')) \n",
    "for i, v in s.reset_index().iterrows():\n",
    "    ax.text(i, v.year + 0.2 , v.year, color='black')\n",
    "\n",
    "ax.set_xlabel(len(g.decades))\n",
    "plt.title(\"Die Anzahl der Songs pro Jahr in den 2010er\")\n",
    "#plt.xlabel(len())\n",
    "plt.ylabel('Anzahl')\n",
    "#pltcountplotfig(\"\")\n",
    "#plt.savefig('')"
   ]
  },
  {
   "cell_type": "markdown",
   "id": "481816f8",
   "metadata": {},
   "source": [
    "# The Top 10 of the number of artists that appear most frequently in the Top 100 "
   ]
  },
  {
   "cell_type": "code",
   "execution_count": 21,
   "id": "4e96e06b",
   "metadata": {},
   "outputs": [
    {
     "data": {
      "text/plain": [
       "Text(0, 0.5, 'Anzahl')"
      ]
     },
     "execution_count": 21,
     "metadata": {},
     "output_type": "execute_result"
    },
    {
     "data": {
      "image/png": "[encoded data removed]",
      "text/plain": [
       "<Figure size 864x360 with 1 Axes>"
      ]
     },
     "metadata": {
      "needs_background": "light"
     },
     "output_type": "display_data"
    }
   ],
   "source": [
    "s = df['artist'].value_counts().head(10)\n",
    "\n",
    "import matplotlib.pyplot as plt\n",
    "import seaborn as sns\n",
    "\n",
    "fig, ax = plt.subplots(figsize=(12,5))\n",
    "\n",
    "ax=s.plot.bar(width=.9, color=('blue', 'orange', 'green', 'red', 'purple', 'brown')) \n",
    "for i, v in s.reset_index().iterrows():\n",
    "    ax.text(i, v.artist + 0.2 , v.artist, color='black')\n",
    "\n",
    "ax.set_xlabel(len(df.artist))\n",
    "plt.title(\"Die Top 10 der Anzahl der Künstler, die am häufigsten im Datensatz vorkommen\")\n",
    "#plt.xlabel(len())\n",
    "plt.ylabel('Anzahl')\n",
    "#pltcountplotfig(\"\")\n",
    "#plt.savefig('')"
   ]
  },
  {
   "cell_type": "markdown",
   "id": "387e6b40",
   "metadata": {},
   "source": [
    "# Song length development over the decades"
   ]
  },
  {
   "cell_type": "code",
   "execution_count": 22,
   "id": "02fe97ec",
   "metadata": {},
   "outputs": [
    {
     "data": {
      "image/png": "[encoded data removed]",
      "text/plain": [
       "<Figure size 432x288 with 1 Axes>"
      ]
     },
     "metadata": {
      "needs_background": "light"
     },
     "output_type": "display_data"
    }
   ],
   "source": [
    "import matplotlib.pyplot as plt\n",
    "\n",
    "# Sort the decades and song_lengths lists based on the decades\n",
    "sorted_indices = sorted(range(len(df.decades)), key=lambda k: df.decades[k])\n",
    "sorted_decades = [df.decades[i] for i in sorted_indices]\n",
    "sorted_song_lengths = [df.number_of_tokens[i] for i in sorted_indices]\n",
    "\n",
    "plt.bar(sorted_decades, sorted_song_lengths)\n",
    "plt.title(\"Song Lengths by Decades\")\n",
    "plt.xlabel(\"Decades\")\n",
    "plt.ylabel(\"Song Length\")\n",
    "plt.tight_layout()\n",
    "plt.show()\n"
   ]
  },
  {
   "cell_type": "markdown",
   "id": "28b5e21d",
   "metadata": {},
   "source": [
    "# Hit classification"
   ]
  },
  {
   "cell_type": "code",
   "execution_count": 25,
   "id": "009fd4dd",
   "metadata": {},
   "outputs": [
    {
     "data": {
      "text/plain": [
       "Text(0, 0.5, 'Anzahl')"
      ]
     },
     "execution_count": 25,
     "metadata": {},
     "output_type": "execute_result"
    },
    {
     "data": {
      "image/png": "[encoded data removed]",
      "text/plain": [
       "<Figure size 864x360 with 1 Axes>"
      ]
     },
     "metadata": {
      "needs_background": "light"
     },
     "output_type": "display_data"
    }
   ],
   "source": [
    "x = df['Hit_y'].value_counts().head(20)\n",
    "\n",
    "import matplotlib.pyplot as plt\n",
    "import seaborn as sns\n",
    "\n",
    "fig, ax = plt.subplots(figsize=(12,5))\n",
    "\n",
    "ax=x.plot.bar(width=.9, color=('blue', 'orange', 'green', 'red', 'purple', 'brown')) \n",
    "for i, v in x.reset_index().iterrows():\n",
    "    ax.text(i, v.Hit_y + 0.2 , v.Hit_y, color='black')\n",
    "\n",
    "ax.set_xlabel(len(df.Hit_y))\n",
    "plt.title(\"Einteilung der Songs in Hits und keine Hits\")\n",
    "#plt.xlabel(len())\n",
    "plt.ylabel('Anzahl')\n",
    "#pltcountplotfig(\"\")\n",
    "#plt.savefig('')"
   ]
  },
  {
   "cell_type": "markdown",
   "id": "23fdc58b",
   "metadata": {},
   "source": [
    "# Sentimental Analysis"
   ]
  },
  {
   "cell_type": "code",
   "execution_count": 26,
   "id": "4555a231",
   "metadata": {},
   "outputs": [
    {
     "data": {
      "text/plain": [
       "Text(0, 0.5, 'Anzahl')"
      ]
     },
     "execution_count": 26,
     "metadata": {},
     "output_type": "execute_result"
    },
    {
     "data": {
      "image/png": "[encoded data removed]",
      "text/plain": [
       "<Figure size 864x360 with 1 Axes>"
      ]
     },
     "metadata": {
      "needs_background": "light"
     },
     "output_type": "display_data"
    }
   ],
   "source": [
    "x = df['label'].value_counts().head(20)\n",
    "\n",
    "import matplotlib.pyplot as plt\n",
    "import seaborn as sns\n",
    "\n",
    "fig, ax = plt.subplots(figsize=(12,5))\n",
    "\n",
    "ax=x.plot.bar(width=.9, color=('red', 'yellow')) \n",
    "for i, v in x.reset_index().iterrows():\n",
    "    ax.text(i, v.label + 0.2 , v.label, color='black')\n",
    "\n",
    "ax.set_xlabel(len(df.label))\n",
    "plt.title(\"Einteilung der Liedtexte in positiv und negativ\")\n",
    "#plt.xlabel(len())\n",
    "plt.ylabel('Anzahl')\n",
    "#pltcountplotfig(\"\")\n",
    "#plt.savefig('')"
   ]
  },
  {
   "cell_type": "markdown",
   "id": "c0be41ac",
   "metadata": {},
   "source": [
    "## Classification Sentimental Analysis Hits/no Hits"
   ]
  },
  {
   "cell_type": "code",
   "execution_count": 27,
   "id": "329fa043",
   "metadata": {},
   "outputs": [
    {
     "data": {
      "image/png": "[encoded data removed]",
      "text/plain": [
       "<Figure size 864x360 with 1 Axes>"
      ]
     },
     "metadata": {
      "needs_background": "light"
     },
     "output_type": "display_data"
    }
   ],
   "source": [
    "import pandas as pd\n",
    "import matplotlib.pyplot as plt\n",
    "import numpy as np\n",
    "\n",
    "# Group the data based on Hit and Sentiment columns, and count the occurrences\n",
    "grouped_data = df.groupby(['Hit_y', 'label']).size().unstack(fill_value=0)\n",
    "\n",
    "# Get the unique \"Hit\" categories and sentiment categories\n",
    "hits = grouped_data.index\n",
    "sentiments = grouped_data.columns\n",
    "\n",
    "# Set the width of each bar and the positions for the grouped bars\n",
    "bar_width = 0.2\n",
    "x = np.arange(len(hits))\n",
    "\n",
    "# Plot the grouped data as separate bar plots\n",
    "fig, ax = plt.subplots(figsize=(12,5))\n",
    "\n",
    "for i, sentiment in enumerate(sentiments):\n",
    "    ax.bar(x + (i - 1) * bar_width, grouped_data[sentiment], width=bar_width, label=sentiment)\n",
    "\n",
    "# Customize the plot\n",
    "plt.title('Distribution of Hits by Sentiment')\n",
    "plt.xlabel('Hit')\n",
    "plt.ylabel('Count')\n",
    "plt.xticks(x, hits)\n",
    "plt.legend(title='Sentiment')\n",
    "\n",
    "# Display the plot\n",
    "plt.show()\n"
   ]
  },
  {
   "cell_type": "markdown",
   "id": "11c46c78",
   "metadata": {},
   "source": [
    "# Classification of emotions"
   ]
  },
  {
   "cell_type": "code",
   "execution_count": 28,
   "id": "c79f6712",
   "metadata": {},
   "outputs": [
    {
     "data": {
      "text/plain": [
       "Text(0, 0.5, 'Anzahl')"
      ]
     },
     "execution_count": 28,
     "metadata": {},
     "output_type": "execute_result"
    },
    {
     "data": {
      "image/png": "[encoded data removed]",
      "text/plain": [
       "<Figure size 864x360 with 1 Axes>"
      ]
     },
     "metadata": {
      "needs_background": "light"
     },
     "output_type": "display_data"
    }
   ],
   "source": [
    "x = df['emotion_label'].value_counts().head(20)\n",
    "\n",
    "import matplotlib.pyplot as plt\n",
    "import seaborn as sns\n",
    "\n",
    "fig, ax = plt.subplots(figsize=(12,5))\n",
    "\n",
    "ax=x.plot.bar(width=.9, color=('red', 'yellow', 'blue', 'green', 'orange')) \n",
    "for i, v in x.reset_index().iterrows():\n",
    "    ax.text(i, v.emotion_label + 0.2 , v.emotion_label, color='black')\n",
    "\n",
    "ax.set_xlabel(len(df.emotion_label))\n",
    "plt.title(\"Einteilung welcher Emotion die Liedtexte am ehesten zugeordnet wurden\")\n",
    "#plt.xlabel(len())\n",
    "plt.ylabel('Anzahl')\n",
    "#pltcountplotfig(\"\")\n",
    "#plt.savefig('')"
   ]
  },
  {
   "cell_type": "markdown",
   "id": "668a0bfe",
   "metadata": {},
   "source": [
    "## Classification of emotions according to hits/no hits"
   ]
  },
  {
   "cell_type": "code",
   "execution_count": 29,
   "id": "7af7965a",
   "metadata": {},
   "outputs": [
    {
     "data": {
      "image/png": "[encoded data removed]",
      "text/plain": [
       "<Figure size 864x576 with 1 Axes>"
      ]
     },
     "metadata": {
      "needs_background": "light"
     },
     "output_type": "display_data"
    }
   ],
   "source": [
    "import pandas as pd\n",
    "import matplotlib.pyplot as plt\n",
    "\n",
    "# Group the data based on Hit and Sentiment columns, and count the occurrences\n",
    "grouped_data = df.groupby(['Hit_y', 'emotion_label']).size().unstack(fill_value=0)\n",
    "\n",
    "# Plot the grouped data as a stacked bar plot\n",
    "grouped_data.plot(kind='bar', stacked=True, figsize=(12, 8))\n",
    "\n",
    "# Customize the plot\n",
    "plt.title('Distribution of Hits by Sentiment')\n",
    "plt.xlabel('keine Hits, weder noch, Hits')\n",
    "plt.ylabel('Count')\n",
    "plt.xticks(rotation=0)\n",
    "plt.legend(title='Sentiment')\n",
    "\n",
    "# Display the plot\n",
    "plt.show()\n"
   ]
  },
  {
   "cell_type": "markdown",
   "id": "61f1e741",
   "metadata": {},
   "source": [
    "### Among the hit songs"
   ]
  },
  {
   "cell_type": "code",
   "execution_count": 30,
   "id": "252c6c87",
   "metadata": {},
   "outputs": [],
   "source": [
    "g = df[df['Hit_y'] == \"Yes\"]"
   ]
  },
  {
   "cell_type": "code",
   "execution_count": 32,
   "id": "77e47fa3",
   "metadata": {},
   "outputs": [
    {
     "data": {
      "text/plain": [
       "Text(0, 0.5, 'Anzahl')"
      ]
     },
     "execution_count": 32,
     "metadata": {},
     "output_type": "execute_result"
    },
    {
     "data": {
      "image/png": "[encoded data removed]",
      "text/plain": [
       "<Figure size 864x360 with 1 Axes>"
      ]
     },
     "metadata": {
      "needs_background": "light"
     },
     "output_type": "display_data"
    }
   ],
   "source": [
    "s = g['emotion_label'].value_counts().head(20)\n",
    "\n",
    "import matplotlib.pyplot as plt\n",
    "import seaborn as sns\n",
    "\n",
    "fig, ax = plt.subplots(figsize=(12,5))\n",
    "\n",
    "ax=s.plot.bar(width=.9, color=('blue', 'orange', 'green', 'red', 'purple', 'brown')) \n",
    "for i, v in s.reset_index().iterrows():\n",
    "    ax.text(i, v.emotion_label + 0.2 , v.emotion_label, color='black')\n",
    "\n",
    "ax.set_xlabel(len(g.Hit_y))\n",
    "plt.title(\"Emotionsverteilung unter den Hit-Songs\")\n",
    "#plt.xlabel(len())\n",
    "plt.ylabel('Anzahl')\n",
    "#pltcountplotfig(\"\")\n",
    "#plt.savefig('')"
   ]
  },
  {
   "cell_type": "markdown",
   "id": "53c3462d",
   "metadata": {},
   "source": [
    "### Among the non-hit songs"
   ]
  },
  {
   "cell_type": "code",
   "execution_count": 33,
   "id": "e4fb822a",
   "metadata": {},
   "outputs": [],
   "source": [
    "k = df[df['Hit_y'] == \"No\"]"
   ]
  },
  {
   "cell_type": "code",
   "execution_count": 34,
   "id": "54844868",
   "metadata": {},
   "outputs": [
    {
     "data": {
      "text/plain": [
       "Text(0, 0.5, 'Anzahl')"
      ]
     },
     "execution_count": 34,
     "metadata": {},
     "output_type": "execute_result"
    },
    {
     "data": {
      "image/png": "[encoded data removed]",
      "text/plain": [
       "<Figure size 864x360 with 1 Axes>"
      ]
     },
     "metadata": {
      "needs_background": "light"
     },
     "output_type": "display_data"
    }
   ],
   "source": [
    "s = k['emotion_label'].value_counts().head(20)\n",
    "\n",
    "import matplotlib.pyplot as plt\n",
    "import seaborn as sns\n",
    "\n",
    "fig, ax = plt.subplots(figsize=(12,5))\n",
    "\n",
    "ax=s.plot.bar(width=.9, color=('blue', 'orange', 'green', 'red', 'purple', 'brown')) \n",
    "for i, v in s.reset_index().iterrows():\n",
    "    ax.text(i, v.emotion_label + 0.2 , v.emotion_label, color='black')\n",
    "\n",
    "ax.set_xlabel(len(k.Hit_y))\n",
    "plt.title(\"Emotionsverteilung unter den nicht Hit-Songs\")\n",
    "#plt.xlabel(len())\n",
    "plt.ylabel('Anzahl')\n",
    "#pltcountplotfig(\"\")\n",
    "#plt.savefig('')"
   ]
  },
  {
   "cell_type": "markdown",
   "id": "4f930975",
   "metadata": {},
   "source": [
    "# Genre distribution"
   ]
  },
  {
   "cell_type": "markdown",
   "id": "eb50a16b",
   "metadata": {},
   "source": [
    "## Hit songs without stopwords"
   ]
  },
  {
   "cell_type": "code",
   "execution_count": 35,
   "id": "dcb93ff2",
   "metadata": {},
   "outputs": [],
   "source": [
    "# Select first the hit genres\n",
    "\n",
    "hitGenres = list(df[df[\"Hit_y\"] == \"Yes\"][\"genre\"])"
   ]
  },
  {
   "cell_type": "code",
   "execution_count": 36,
   "id": "ce825b66",
   "metadata": {},
   "outputs": [
    {
     "data": {
      "text/plain": [
       "550"
      ]
     },
     "execution_count": 36,
     "metadata": {},
     "output_type": "execute_result"
    }
   ],
   "source": [
    "len(hitGenres)"
   ]
  },
  {
   "cell_type": "code",
   "execution_count": 37,
   "id": "0009859e",
   "metadata": {},
   "outputs": [],
   "source": [
    "# strip and replace bits in the Genre strings\n",
    "hitGenres_long = []\n",
    "for thisTrack in hitGenres:\n",
    "    thisTrackGenres = thisTrack.replace('\\'', '').replace('[', '').replace(']', '').replace(', ', ',').split(',')\n",
    "    hitGenres_long.extend(thisTrackGenres)"
   ]
  },
  {
   "cell_type": "code",
   "execution_count": 38,
   "id": "e19c6cee",
   "metadata": {},
   "outputs": [],
   "source": [
    "from collections import Counter\n",
    "\n",
    "hitGenres_count = Counter(hitGenres_long)"
   ]
  },
  {
   "cell_type": "code",
   "execution_count": 39,
   "id": "a1bc8c79",
   "metadata": {},
   "outputs": [],
   "source": [
    "from wordcloud import WordCloud\n",
    "import matplotlib\n",
    "import matplotlib.pyplot as plt\n",
    "\n",
    "hitWordcloud = WordCloud(stopwords='unknown', \n",
    "        height=700,\n",
    "        width=1400,\n",
    "        min_font_size=4,\n",
    "        colormap=matplotlib.cm.inferno,\n",
    "        background_color='white').generate_from_frequencies(hitGenres_count)"
   ]
  },
  {
   "cell_type": "code",
   "execution_count": 40,
   "id": "e04693f6",
   "metadata": {},
   "outputs": [
    {
     "data": {
      "text/plain": [
       "<wordcloud.wordcloud.WordCloud at 0x12bff2fa0>"
      ]
     },
     "execution_count": 40,
     "metadata": {},
     "output_type": "execute_result"
    }
   ],
   "source": [
    "hitWordcloud.to_file('../../images/audiofeatures/wordclouds/wordcloud_hits_sample.png')"
   ]
  },
  {
   "cell_type": "markdown",
   "id": "fb4b0bd2",
   "metadata": {},
   "source": [
    "## Hit songs with stopwords"
   ]
  },
  {
   "cell_type": "code",
   "execution_count": 47,
   "id": "0d068884",
   "metadata": {},
   "outputs": [],
   "source": [
    "# Select first the hit genres\n",
    "\n",
    "hitGenres = list(df[df[\"Hit_y\"] == \"Yes\"][\"genre\"])"
   ]
  },
  {
   "cell_type": "code",
   "execution_count": 48,
   "id": "9bdd6c72",
   "metadata": {},
   "outputs": [
    {
     "data": {
      "text/plain": [
       "550"
      ]
     },
     "execution_count": 48,
     "metadata": {},
     "output_type": "execute_result"
    }
   ],
   "source": [
    "len(hitGenres)"
   ]
  },
  {
   "cell_type": "code",
   "execution_count": 49,
   "id": "ad23c28d",
   "metadata": {},
   "outputs": [],
   "source": [
    "# strip and replace bits in the Genre strings\n",
    "hitGenres_long = []\n",
    "for thisTrack in hitGenres:\n",
    "    thisTrackGenres = thisTrack.replace('\\'', '').replace('[', '').replace(']', '').replace(', ', ',').split(',')\n",
    "    hitGenres_long.extend(thisTrackGenres)"
   ]
  },
  {
   "cell_type": "code",
   "execution_count": 50,
   "id": "d416b1d7",
   "metadata": {},
   "outputs": [],
   "source": [
    "from collections import Counter\n",
    "\n",
    "hitGenres_count = Counter(hitGenres_long)"
   ]
  },
  {
   "cell_type": "code",
   "execution_count": 51,
   "id": "972b51b9",
   "metadata": {},
   "outputs": [],
   "source": [
    "from wordcloud import WordCloud\n",
    "import matplotlib\n",
    "import matplotlib.pyplot as plt\n",
    "\n",
    "hitWordcloud = WordCloud(stopwords='english', \n",
    "        height=700,\n",
    "        width=1400,\n",
    "        min_font_size=4,\n",
    "        colormap=matplotlib.cm.inferno,\n",
    "        background_color='white').generate_from_frequencies(hitGenres_count)"
   ]
  },
  {
   "cell_type": "code",
   "execution_count": 52,
   "id": "71293d48",
   "metadata": {},
   "outputs": [
    {
     "data": {
      "text/plain": [
       "<wordcloud.wordcloud.WordCloud at 0x12bc573a0>"
      ]
     },
     "execution_count": 52,
     "metadata": {},
     "output_type": "execute_result"
    }
   ],
   "source": [
    "hitWordcloud.to_file('../../images/audiofeatures/wordclouds/wordcloud_hits_sample_stopwords.png')"
   ]
  },
  {
   "cell_type": "markdown",
   "id": "93e8f9b8",
   "metadata": {},
   "source": [
    "## no Hit songs without stopwords"
   ]
  },
  {
   "cell_type": "code",
   "execution_count": 41,
   "id": "85ced165",
   "metadata": {},
   "outputs": [],
   "source": [
    "# Select first the hit genres\n",
    "\n",
    "hitGenres = list(df[df[\"Hit_y\"] == \"No\"][\"genre\"])"
   ]
  },
  {
   "cell_type": "code",
   "execution_count": 42,
   "id": "d83c7961",
   "metadata": {},
   "outputs": [
    {
     "data": {
      "text/plain": [
       "566"
      ]
     },
     "execution_count": 42,
     "metadata": {},
     "output_type": "execute_result"
    }
   ],
   "source": [
    "len(hitGenres)"
   ]
  },
  {
   "cell_type": "code",
   "execution_count": 43,
   "id": "4096e66f",
   "metadata": {},
   "outputs": [],
   "source": [
    "# strip and replace bits in the Genre strings\n",
    "hitGenres_long = []\n",
    "for thisTrack in hitGenres:\n",
    "    thisTrackGenres = thisTrack.replace('\\'', '').replace('[', '').replace(']', '').replace(', ', ',').split(',')\n",
    "    hitGenres_long.extend(thisTrackGenres)"
   ]
  },
  {
   "cell_type": "code",
   "execution_count": 44,
   "id": "38a363df",
   "metadata": {},
   "outputs": [],
   "source": [
    "from collections import Counter\n",
    "\n",
    "hitGenres_count = Counter(hitGenres_long)"
   ]
  },
  {
   "cell_type": "code",
   "execution_count": 45,
   "id": "2a431d93",
   "metadata": {},
   "outputs": [],
   "source": [
    "from wordcloud import WordCloud\n",
    "import matplotlib\n",
    "import matplotlib.pyplot as plt\n",
    "\n",
    "hitWordcloud = WordCloud(stopwords='unknown', \n",
    "        height=700,\n",
    "        width=1400,\n",
    "        min_font_size=4,\n",
    "        colormap=matplotlib.cm.inferno,\n",
    "        background_color='white').generate_from_frequencies(hitGenres_count)"
   ]
  },
  {
   "cell_type": "code",
   "execution_count": 46,
   "id": "190b5058",
   "metadata": {},
   "outputs": [
    {
     "data": {
      "text/plain": [
       "<wordcloud.wordcloud.WordCloud at 0x12d8f4550>"
      ]
     },
     "execution_count": 46,
     "metadata": {},
     "output_type": "execute_result"
    }
   ],
   "source": [
    "hitWordcloud.to_file('../../images/audiofeatures/wordclouds/wordcloud_no_hits_sample.png')"
   ]
  },
  {
   "cell_type": "markdown",
   "id": "a9cad407",
   "metadata": {},
   "source": [
    "## no Hit songs with stopwords"
   ]
  },
  {
   "cell_type": "code",
   "execution_count": 53,
   "id": "ed586a7b",
   "metadata": {},
   "outputs": [],
   "source": [
    "# Select first the hit genres\n",
    "\n",
    "hitGenres = list(df[df[\"Hit_y\"] == \"No\"][\"genre\"])"
   ]
  },
  {
   "cell_type": "code",
   "execution_count": 54,
   "id": "5da424fe",
   "metadata": {},
   "outputs": [
    {
     "data": {
      "text/plain": [
       "566"
      ]
     },
     "execution_count": 54,
     "metadata": {},
     "output_type": "execute_result"
    }
   ],
   "source": [
    "len(hitGenres)"
   ]
  },
  {
   "cell_type": "code",
   "execution_count": 55,
   "id": "6a605cb6",
   "metadata": {},
   "outputs": [],
   "source": [
    "# strip and replace bits in the Genre strings\n",
    "hitGenres_long = []\n",
    "for thisTrack in hitGenres:\n",
    "    thisTrackGenres = thisTrack.replace('\\'', '').replace('[', '').replace(']', '').replace(', ', ',').split(',')\n",
    "    hitGenres_long.extend(thisTrackGenres)"
   ]
  },
  {
   "cell_type": "code",
   "execution_count": 56,
   "id": "dabb1d49",
   "metadata": {},
   "outputs": [],
   "source": [
    "from collections import Counter\n",
    "\n",
    "hitGenres_count = Counter(hitGenres_long)"
   ]
  },
  {
   "cell_type": "code",
   "execution_count": 57,
   "id": "368aedc4",
   "metadata": {},
   "outputs": [],
   "source": [
    "from wordcloud import WordCloud\n",
    "import matplotlib\n",
    "import matplotlib.pyplot as plt\n",
    "\n",
    "hitWordcloud = WordCloud(stopwords='english', \n",
    "        height=700,\n",
    "        width=1400,\n",
    "        min_font_size=4,\n",
    "        colormap=matplotlib.cm.inferno,\n",
    "        background_color='white').generate_from_frequencies(hitGenres_count)"
   ]
  },
  {
   "cell_type": "code",
   "execution_count": 58,
   "id": "953199c0",
   "metadata": {},
   "outputs": [
    {
     "data": {
      "text/plain": [
       "<wordcloud.wordcloud.WordCloud at 0x12d8f4d90>"
      ]
     },
     "execution_count": 58,
     "metadata": {},
     "output_type": "execute_result"
    }
   ],
   "source": [
    "hitWordcloud.to_file('../../images/audiofeatures/wordclouds/wordcloud_no_hits_sample_stopwords.png')"
   ]
  }
 ],
 "metadata": {
  "kernelspec": {
   "display_name": "Python 3 (ipykernel)",
   "language": "python",
   "name": "python3"
  },
  "language_info": {
   "codemirror_mode": {
    "name": "ipython",
    "version": 3
   },
   "file_extension": ".py",
   "mimetype": "text/x-python",
   "name": "python",
   "nbconvert_exporter": "python",
   "pygments_lexer": "ipython3",
   "version": "3.9.15"
  },
  "toc": {
   "base_numbering": 1,
   "nav_menu": {},
   "number_sections": true,
   "sideBar": true,
   "skip_h1_title": false,
   "title_cell": "Table of Contents",
   "title_sidebar": "Contents",
   "toc_cell": false,
   "toc_position": {
    "height": "calc(100% - 180px)",
    "left": "10px",
    "top": "150px",
    "width": "384px"
   },
   "toc_section_display": true,
   "toc_window_display": true
  },
  "varInspector": {
   "cols": {
    "lenName": 16,
    "lenType": 16,
    "lenVar": 40
   },
   "kernels_config": {
    "python": {
     "delete_cmd_postfix": "",
     "delete_cmd_prefix": "del ",
     "library": "var_list.py",
     "varRefreshCmd": "print(var_dic_list())"
    },
    "r": {
     "delete_cmd_postfix": ") ",
     "delete_cmd_prefix": "rm(",
     "library": "var_list.r",
     "varRefreshCmd": "cat(var_dic_list()) "
    }
   },
   "types_to_exclude": [
    "module",
    "function",
    "builtin_function_or_method",
    "instance",
    "_Feature"
   ],
   "window_display": false
  }
 },
 "nbformat": 4,
 "nbformat_minor": 5
}
