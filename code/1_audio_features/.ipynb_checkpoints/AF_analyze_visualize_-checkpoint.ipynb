{
 "cells": [
  {
   "cell_type": "markdown",
   "id": "850b3b4d",
   "metadata": {},
   "source": [
    "https://oleheggli.medium.com/easily-analyse-audio-features-from-spotify-playlists-part-3-ec00a55e87e4"
   ]
  },
  {
   "cell_type": "markdown",
   "id": "11343c9f",
   "metadata": {},
   "source": [
    "# Imports"
   ]
  },
  {
   "cell_type": "code",
   "execution_count": 5,
   "id": "26b60592",
   "metadata": {},
   "outputs": [],
   "source": [
    "# for handling data\n",
    "import pandas as pd\n",
    "# plot-related libraries\n",
    "import seaborn as sns\n",
    "import matplotlib\n",
    "import matplotlib.pyplot as plt\n",
    "import ptitprince as pt\n",
    "from wordcloud import WordCloud\n",
    "from collections import Counter\n",
    "# for easier access to file system\n",
    "import os\n",
    "# for stats\n",
    "import pingouin as pg"
   ]
  },
  {
   "cell_type": "markdown",
   "id": "98adcc6e",
   "metadata": {},
   "source": [
    "# Import dataset"
   ]
  },
  {
   "cell_type": "code",
   "execution_count": 6,
   "id": "83f12a55",
   "metadata": {},
   "outputs": [],
   "source": [
    "dataset = pd.read_csv(\"../../data/audiofeatures/hits_no_hits.csv\", encoding=\"UTF-8\", na_values=\"\", index_col=0)"
   ]
  },
  {
   "cell_type": "code",
   "execution_count": 7,
   "id": "deae1098",
   "metadata": {},
   "outputs": [
    {
     "data": {
      "text/html": [
       "<div>\n",
       "<style scoped>\n",
       "    .dataframe tbody tr th:only-of-type {\n",
       "        vertical-align: middle;\n",
       "    }\n",
       "\n",
       "    .dataframe tbody tr th {\n",
       "        vertical-align: top;\n",
       "    }\n",
       "\n",
       "    .dataframe thead th {\n",
       "        text-align: right;\n",
       "    }\n",
       "</style>\n",
       "<table border=\"1\" class=\"dataframe\">\n",
       "  <thead>\n",
       "    <tr style=\"text-align: right;\">\n",
       "      <th></th>\n",
       "      <th>playlistID</th>\n",
       "      <th>TrackName</th>\n",
       "      <th>TrackID</th>\n",
       "      <th>SampleURL</th>\n",
       "      <th>ReleaseYear</th>\n",
       "      <th>Genres</th>\n",
       "      <th>danceability</th>\n",
       "      <th>energy</th>\n",
       "      <th>loudness</th>\n",
       "      <th>speechiness</th>\n",
       "      <th>acousticness</th>\n",
       "      <th>instrumentalness</th>\n",
       "      <th>liveness</th>\n",
       "      <th>valence</th>\n",
       "      <th>tempo</th>\n",
       "      <th>key</th>\n",
       "      <th>mode</th>\n",
       "      <th>duration_ms</th>\n",
       "      <th>Popularity</th>\n",
       "      <th>category</th>\n",
       "    </tr>\n",
       "  </thead>\n",
       "  <tbody>\n",
       "    <tr>\n",
       "      <th>0</th>\n",
       "      <td>4WvZRxYq2ns3jdV7eHfALY</td>\n",
       "      <td>Hold On</td>\n",
       "      <td>4VZDv8sASBS8UruUBGTFdk</td>\n",
       "      <td>https://p.scdn.co/mp3-preview/b189e767a72485b3...</td>\n",
       "      <td>1990-05-08</td>\n",
       "      <td>['girl group', 'mellow gold', 'new wave pop', ...</td>\n",
       "      <td>0.679</td>\n",
       "      <td>0.657</td>\n",
       "      <td>-9.897</td>\n",
       "      <td>0.0255</td>\n",
       "      <td>0.40000</td>\n",
       "      <td>0.000000</td>\n",
       "      <td>0.0497</td>\n",
       "      <td>0.546</td>\n",
       "      <td>97.800</td>\n",
       "      <td>5</td>\n",
       "      <td>1</td>\n",
       "      <td>266867</td>\n",
       "      <td>65.0</td>\n",
       "      <td>Hit</td>\n",
       "    </tr>\n",
       "    <tr>\n",
       "      <th>1</th>\n",
       "      <td>4WvZRxYq2ns3jdV7eHfALY</td>\n",
       "      <td>It Must Have Been Love - From the Film \"Pretty...</td>\n",
       "      <td>6kvoHl80mfCVTv7XnZkjQn</td>\n",
       "      <td>https://p.scdn.co/mp3-preview/3a252a594cf752b8...</td>\n",
       "      <td>1990-05-20</td>\n",
       "      <td>['europop', 'new wave pop', 'soft rock', 'swed...</td>\n",
       "      <td>0.520</td>\n",
       "      <td>0.652</td>\n",
       "      <td>-6.655</td>\n",
       "      <td>0.0274</td>\n",
       "      <td>0.34000</td>\n",
       "      <td>0.000055</td>\n",
       "      <td>0.2560</td>\n",
       "      <td>0.722</td>\n",
       "      <td>80.609</td>\n",
       "      <td>5</td>\n",
       "      <td>1</td>\n",
       "      <td>258787</td>\n",
       "      <td>74.0</td>\n",
       "      <td>Hit</td>\n",
       "    </tr>\n",
       "    <tr>\n",
       "      <th>2</th>\n",
       "      <td>4WvZRxYq2ns3jdV7eHfALY</td>\n",
       "      <td>Nothing Compares 2 U - Live</td>\n",
       "      <td>7avYl4vrpv1agYF2bEVwSq</td>\n",
       "      <td>https://p.scdn.co/mp3-preview/c5b860a1c35493e8...</td>\n",
       "      <td>2013-10-28</td>\n",
       "      <td>['lilith', 'new wave pop']</td>\n",
       "      <td>0.464</td>\n",
       "      <td>0.692</td>\n",
       "      <td>-5.574</td>\n",
       "      <td>0.0281</td>\n",
       "      <td>0.24100</td>\n",
       "      <td>0.000040</td>\n",
       "      <td>0.9890</td>\n",
       "      <td>0.117</td>\n",
       "      <td>60.022</td>\n",
       "      <td>5</td>\n",
       "      <td>1</td>\n",
       "      <td>330947</td>\n",
       "      <td>26.0</td>\n",
       "      <td>Hit</td>\n",
       "    </tr>\n",
       "    <tr>\n",
       "      <th>3</th>\n",
       "      <td>4WvZRxYq2ns3jdV7eHfALY</td>\n",
       "      <td>Poison</td>\n",
       "      <td>6m59VvDUi0UQsB2eZ9wVbH</td>\n",
       "      <td>https://p.scdn.co/mp3-preview/34b23c14247e1508...</td>\n",
       "      <td>1990-01-01</td>\n",
       "      <td>['boy band', 'contemporary r&amp;b', 'hip hop', 'h...</td>\n",
       "      <td>0.840</td>\n",
       "      <td>0.560</td>\n",
       "      <td>-10.530</td>\n",
       "      <td>0.2100</td>\n",
       "      <td>0.00195</td>\n",
       "      <td>0.004170</td>\n",
       "      <td>0.6330</td>\n",
       "      <td>0.775</td>\n",
       "      <td>111.815</td>\n",
       "      <td>6</td>\n",
       "      <td>0</td>\n",
       "      <td>261853</td>\n",
       "      <td>68.0</td>\n",
       "      <td>Hit</td>\n",
       "    </tr>\n",
       "    <tr>\n",
       "      <th>4</th>\n",
       "      <td>4WvZRxYq2ns3jdV7eHfALY</td>\n",
       "      <td>Vogue</td>\n",
       "      <td>27QvYgBk0CHOVHthWnkuWt</td>\n",
       "      <td>https://p.scdn.co/mp3-preview/8a73ed584f818526...</td>\n",
       "      <td>2009-09-18</td>\n",
       "      <td>['dance pop']</td>\n",
       "      <td>0.737</td>\n",
       "      <td>0.880</td>\n",
       "      <td>-6.449</td>\n",
       "      <td>0.0433</td>\n",
       "      <td>0.00379</td>\n",
       "      <td>0.003510</td>\n",
       "      <td>0.4170</td>\n",
       "      <td>0.329</td>\n",
       "      <td>115.998</td>\n",
       "      <td>6</td>\n",
       "      <td>1</td>\n",
       "      <td>316813</td>\n",
       "      <td>63.0</td>\n",
       "      <td>Hit</td>\n",
       "    </tr>\n",
       "  </tbody>\n",
       "</table>\n",
       "</div>"
      ],
      "text/plain": [
       "               playlistID                                          TrackName  \\\n",
       "0  4WvZRxYq2ns3jdV7eHfALY                                            Hold On   \n",
       "1  4WvZRxYq2ns3jdV7eHfALY  It Must Have Been Love - From the Film \"Pretty...   \n",
       "2  4WvZRxYq2ns3jdV7eHfALY                        Nothing Compares 2 U - Live   \n",
       "3  4WvZRxYq2ns3jdV7eHfALY                                             Poison   \n",
       "4  4WvZRxYq2ns3jdV7eHfALY                                              Vogue   \n",
       "\n",
       "                  TrackID                                          SampleURL  \\\n",
       "0  4VZDv8sASBS8UruUBGTFdk  https://p.scdn.co/mp3-preview/b189e767a72485b3...   \n",
       "1  6kvoHl80mfCVTv7XnZkjQn  https://p.scdn.co/mp3-preview/3a252a594cf752b8...   \n",
       "2  7avYl4vrpv1agYF2bEVwSq  https://p.scdn.co/mp3-preview/c5b860a1c35493e8...   \n",
       "3  6m59VvDUi0UQsB2eZ9wVbH  https://p.scdn.co/mp3-preview/34b23c14247e1508...   \n",
       "4  27QvYgBk0CHOVHthWnkuWt  https://p.scdn.co/mp3-preview/8a73ed584f818526...   \n",
       "\n",
       "  ReleaseYear                                             Genres  \\\n",
       "0  1990-05-08  ['girl group', 'mellow gold', 'new wave pop', ...   \n",
       "1  1990-05-20  ['europop', 'new wave pop', 'soft rock', 'swed...   \n",
       "2  2013-10-28                         ['lilith', 'new wave pop']   \n",
       "3  1990-01-01  ['boy band', 'contemporary r&b', 'hip hop', 'h...   \n",
       "4  2009-09-18                                      ['dance pop']   \n",
       "\n",
       "   danceability  energy  loudness  speechiness  acousticness  \\\n",
       "0         0.679   0.657    -9.897       0.0255       0.40000   \n",
       "1         0.520   0.652    -6.655       0.0274       0.34000   \n",
       "2         0.464   0.692    -5.574       0.0281       0.24100   \n",
       "3         0.840   0.560   -10.530       0.2100       0.00195   \n",
       "4         0.737   0.880    -6.449       0.0433       0.00379   \n",
       "\n",
       "   instrumentalness  liveness  valence    tempo  key  mode  duration_ms  \\\n",
       "0          0.000000    0.0497    0.546   97.800    5     1       266867   \n",
       "1          0.000055    0.2560    0.722   80.609    5     1       258787   \n",
       "2          0.000040    0.9890    0.117   60.022    5     1       330947   \n",
       "3          0.004170    0.6330    0.775  111.815    6     0       261853   \n",
       "4          0.003510    0.4170    0.329  115.998    6     1       316813   \n",
       "\n",
       "   Popularity category  \n",
       "0        65.0      Hit  \n",
       "1        74.0      Hit  \n",
       "2        26.0      Hit  \n",
       "3        68.0      Hit  \n",
       "4        63.0      Hit  "
      ]
     },
     "execution_count": 7,
     "metadata": {},
     "output_type": "execute_result"
    }
   ],
   "source": [
    "dataset.head(5)"
   ]
  },
  {
   "cell_type": "code",
   "execution_count": 8,
   "id": "0c368e41",
   "metadata": {},
   "outputs": [
    {
     "data": {
      "text/plain": [
       "(1581, 20)"
      ]
     },
     "execution_count": 8,
     "metadata": {},
     "output_type": "execute_result"
    }
   ],
   "source": [
    "dataset.shape"
   ]
  },
  {
   "cell_type": "code",
   "execution_count": 31,
   "id": "f26db61d",
   "metadata": {},
   "outputs": [
    {
     "data": {
      "text/plain": [
       "Counter({'Hit': 821, 'no Hit': 760})"
      ]
     },
     "execution_count": 31,
     "metadata": {},
     "output_type": "execute_result"
    }
   ],
   "source": [
    "Counter(dataset.category)"
   ]
  },
  {
   "cell_type": "markdown",
   "id": "e96fa180",
   "metadata": {},
   "source": [
    "# Ordner für Grafiken erstellen"
   ]
  },
  {
   "cell_type": "code",
   "execution_count": 10,
   "id": "990f93b9",
   "metadata": {},
   "outputs": [],
   "source": [
    "# make a folder for plots\n",
    "if not os.path.exists(\"Plots\"):\n",
    "    os.makedirs(\"Plots\")"
   ]
  },
  {
   "cell_type": "markdown",
   "id": "9f6400fc",
   "metadata": {},
   "source": [
    "# Auswertung der Genre"
   ]
  },
  {
   "cell_type": "markdown",
   "id": "c3b62dc8",
   "metadata": {},
   "source": [
    "## Wordcloud für Genre-Tags der Hit-Songs"
   ]
  },
  {
   "cell_type": "markdown",
   "id": "c4f8eff6",
   "metadata": {},
   "source": [
    "Unsere erste Analyse wird sich mit den Genres befassen, die wir in Form einer Wortwolke visualisieren werden. Jeder Titel auf Spotify ist mit einem Künstler verbunden, und die meisten Künstler haben Genre-Tags. GSA speichert diese in einer Spalte namens \"Genres\".\n",
    "\n",
    "Hinweis: Wenn ein Titel mehrere Interpreten hat, werden nur die mit dem ersten Interpreten verbundenen Genre-Tags erfasst."
   ]
  },
  {
   "cell_type": "markdown",
   "id": "2ef9259f",
   "metadata": {},
   "source": [
    "Wir extrahieren alle Genre-Tags für die hits und non hits separat. Zunächst müssen wir die Genres ermitteln und sie in einzelne Einträge aufteilen."
   ]
  },
  {
   "cell_type": "code",
   "execution_count": 11,
   "id": "0369a4b2",
   "metadata": {},
   "outputs": [],
   "source": [
    "# Select first the hit genres\n",
    "\n",
    "hitGenres = list(dataset[dataset[\"category\"] == \"Hit\"][\"Genres\"])"
   ]
  },
  {
   "cell_type": "code",
   "execution_count": 13,
   "id": "2c091936",
   "metadata": {},
   "outputs": [
    {
     "data": {
      "text/plain": [
       "821"
      ]
     },
     "execution_count": 13,
     "metadata": {},
     "output_type": "execute_result"
    }
   ],
   "source": [
    "len(hitGenres)"
   ]
  },
  {
   "cell_type": "markdown",
   "id": "8e5abbf2",
   "metadata": {},
   "source": [
    "Da ein Künstler mehrere Genre-Tags haben kann, müssen wir diese Zeichenketten entfernen und ersetzen, damit wir jedes Genre-Tag separat erhalten."
   ]
  },
  {
   "cell_type": "code",
   "execution_count": 23,
   "id": "52e41a14",
   "metadata": {},
   "outputs": [],
   "source": [
    "# strip and replace bits in the Genre strings\n",
    "hitGenres_long = []\n",
    "for thisTrack in hitGenres:\n",
    "    thisTrackGenres = thisTrack.replace('\\'', '').replace('[', '').replace(']', '').replace(', ', ',').split(',')\n",
    "    hitGenres_long.extend(thisTrackGenres)"
   ]
  },
  {
   "cell_type": "markdown",
   "id": "20db6fa6",
   "metadata": {},
   "source": [
    "Das ist ein bisschen umständlich, aber im Allgemeinen werden wir einige Symbole los, damit wir die Genre-Tags schön aufteilen können."
   ]
  },
  {
   "cell_type": "markdown",
   "id": "9517f27f",
   "metadata": {},
   "source": [
    "Die Variable hitGenres_long enthält nun alle Genre-Tags für unsere Hit-Tracks. Jetzt zählen wir das Vorkommen jedes einzelnen Tags, damit wir eine skalierte Wortwolke erstellen können."
   ]
  },
  {
   "cell_type": "code",
   "execution_count": 24,
   "id": "607635a2",
   "metadata": {},
   "outputs": [],
   "source": [
    "hitGenres_count = Counter(hitGenres_long)"
   ]
  },
  {
   "cell_type": "markdown",
   "id": "d3680554",
   "metadata": {},
   "source": [
    "Wir sind jetzt bereit, die Wortwolke zu erstellen! Wir verwenden das Wordcloud-Paket und speichern den Plot in unserem Plots-Ordner."
   ]
  },
  {
   "cell_type": "code",
   "execution_count": 28,
   "id": "3f2e405a",
   "metadata": {},
   "outputs": [],
   "source": [
    "hitWordcloud = WordCloud(stopwords='unknown', \n",
    "        height=700,\n",
    "        width=1400,\n",
    "        min_font_size=4,\n",
    "        colormap=matplotlib.cm.inferno,\n",
    "        background_color='white').generate_from_frequencies(hitGenres_count)"
   ]
  },
  {
   "cell_type": "markdown",
   "id": "b109926e",
   "metadata": {},
   "source": [
    "Wir erstellen zunächst ein WordCloud-Objekt. Hier gibt es zwei interessante Parameter: stopwords geben Wörter an, die ignoriert werden. Hier ignorieren wir \"unknown\", was GSA ausgibt, wenn kein Genre-Tag gefunden wird. colormap gibt an, wie die einzelnen Genre-Tags eingefärbt werden, und hier wählen wir die infero colormap aus matplotlib.\n",
    "Anschließend verwenden wir die Funktion .generate_from_frequencies, die Häufigkeitsdaten (Zähldaten) als Input nimmt und mit unseren gezählten Hit-Genre-Tags füttert.\n",
    "Anschließend speichern wir das Diagramm mit der Funktion .to_file()."
   ]
  },
  {
   "cell_type": "code",
   "execution_count": 29,
   "id": "5a160fca",
   "metadata": {},
   "outputs": [
    {
     "data": {
      "text/plain": [
       "<wordcloud.wordcloud.WordCloud at 0x132d5f310>"
      ]
     },
     "execution_count": 29,
     "metadata": {},
     "output_type": "execute_result"
    }
   ],
   "source": [
    "hitWordcloud.to_file('Plots/wordcloud_hit_genres.png')"
   ]
  },
  {
   "cell_type": "markdown",
   "id": "80fe1e7a",
   "metadata": {},
   "source": [
    "## Wordcloud für Genre-Tags der Non-Hit-Songs"
   ]
  },
  {
   "cell_type": "code",
   "execution_count": 32,
   "id": "e4f82b9e",
   "metadata": {},
   "outputs": [],
   "source": [
    "# Select first the hit genres\n",
    "\n",
    "non_hit_Genres = list(dataset[dataset[\"category\"] == \"no Hit\"][\"Genres\"])"
   ]
  },
  {
   "cell_type": "code",
   "execution_count": 33,
   "id": "f66adc02",
   "metadata": {},
   "outputs": [
    {
     "data": {
      "text/plain": [
       "760"
      ]
     },
     "execution_count": 33,
     "metadata": {},
     "output_type": "execute_result"
    }
   ],
   "source": [
    "len(non_hit_Genres)"
   ]
  },
  {
   "cell_type": "code",
   "execution_count": 34,
   "id": "f52d2265",
   "metadata": {},
   "outputs": [],
   "source": [
    "# strip and replace bits in the Genre strings\n",
    "non_hit_Genres_long = []\n",
    "for thisTrack in non_hit_Genres:\n",
    "    thisTrackGenres = thisTrack.replace('\\'', '').replace('[', '').replace(']', '').replace(', ', ',').split(',')\n",
    "    non_hit_Genres_long.extend(thisTrackGenres)"
   ]
  },
  {
   "cell_type": "code",
   "execution_count": 35,
   "id": "84c4be7b",
   "metadata": {},
   "outputs": [],
   "source": [
    "non_hit_Genres_count = Counter(non_hit_Genres_long)"
   ]
  },
  {
   "cell_type": "code",
   "execution_count": 36,
   "id": "3941a06b",
   "metadata": {},
   "outputs": [],
   "source": [
    "non_hit_Wordcloud = WordCloud(stopwords='unknown', \n",
    "        height=700,\n",
    "        width=1400,\n",
    "        min_font_size=4,\n",
    "        colormap=matplotlib.cm.inferno,\n",
    "        background_color='white').generate_from_frequencies(non_hit_Genres_count)"
   ]
  },
  {
   "cell_type": "code",
   "execution_count": 37,
   "id": "15d0b545",
   "metadata": {},
   "outputs": [
    {
     "data": {
      "text/plain": [
       "<wordcloud.wordcloud.WordCloud at 0x132d0ea90>"
      ]
     },
     "execution_count": 37,
     "metadata": {},
     "output_type": "execute_result"
    }
   ],
   "source": [
    "non_hit_Wordcloud.to_file('Plots/wordcloud_non_hit_genres.png')"
   ]
  },
  {
   "cell_type": "markdown",
   "id": "7b4065c3",
   "metadata": {},
   "source": [
    "# Untersuchung der Veröffentlichungsjahre der Songs"
   ]
  },
  {
   "cell_type": "markdown",
   "id": "67485655",
   "metadata": {},
   "source": [
    "## Release years hits"
   ]
  },
  {
   "cell_type": "markdown",
   "id": "82788837",
   "metadata": {},
   "source": [
    "Es ist auch interessant zu sehen, ob wir einen Unterschied in der \"Produktivität\" zwischen hits und non hits feststellen können. Wir können das überprüfen, indem wir uns das Veröffentlichungsdatum der Titel in der Datenbank ansehen. GSA speichert dies in der Spalte \"ReleaseYear\". Für einige Titel erhalten wir ein vollständiges Datum, für andere nur das Jahr. Das Jahr steht immer an erster Stelle, was wir zur Vorverarbeitung unserer Daten nutzen können."
   ]
  },
  {
   "cell_type": "markdown",
   "id": "9c068826",
   "metadata": {},
   "source": [
    "Für dieses Beispiel nehmen wir die hits. Wir wählen zunächst nur die Kategorie \"Hit\" und dann die Spalte \"ReleaseYear\" aus. Wir behandeln diese als eine Zeichenkette, von der wir nur die ersten 4 Elemente nehmen, und wandeln sie dann in eine Ganzzahl um:"
   ]
  },
  {
   "cell_type": "code",
   "execution_count": 38,
   "id": "403af1d6",
   "metadata": {},
   "outputs": [],
   "source": [
    "hitYear = dataset[dataset['category'] == 'Hit']['ReleaseYear'].str[0:4].astype(int)"
   ]
  },
  {
   "cell_type": "markdown",
   "id": "6011f4e7",
   "metadata": {},
   "source": [
    "Hinweis: Wenn GSA kein Veröffentlichungsdatum findet, wird es auf 0 gesetzt. Diese können wir herausfiltern:"
   ]
  },
  {
   "cell_type": "code",
   "execution_count": 39,
   "id": "4dc3eae8",
   "metadata": {},
   "outputs": [],
   "source": [
    "hitYear = hitYear[hitYear > 0]"
   ]
  },
  {
   "cell_type": "code",
   "execution_count": 40,
   "id": "476862f5",
   "metadata": {},
   "outputs": [
    {
     "data": {
      "text/plain": [
       "(821,)"
      ]
     },
     "execution_count": 40,
     "metadata": {},
     "output_type": "execute_result"
    }
   ],
   "source": [
    "hitYear.shape"
   ]
  },
  {
   "cell_type": "markdown",
   "id": "ec4a6bae",
   "metadata": {},
   "source": [
    "Um ein gutes Gefühl für die Verteilung zu bekommen, können wir viele Arten der Visualisierung verwenden. Für dieses spezielle Beispiel entscheiden wir uns für ein Dichte-Diagramm, bei dem wir eine Kernel-Dichte-Schätzung verwenden, um unsere Kurve zu glätten. Hier verwenden wir das Paket Seaborn."
   ]
  },
  {
   "cell_type": "code",
   "execution_count": 56,
   "id": "e5dd05be",
   "metadata": {},
   "outputs": [
    {
     "data": {
      "image/png": "[encoded data removed]",
      "text/plain": [
       "<Figure size 360x360 with 1 Axes>"
      ]
     },
     "metadata": {
      "needs_background": "light"
     },
     "output_type": "display_data"
    }
   ],
   "source": [
    "hitYearPlot = sns.displot(hitYear, kind='kde', clip=(1940,2021), bw_adjust=.5)\n",
    "plt.savefig('Plots/HitYear.png')"
   ]
  },
  {
   "cell_type": "markdown",
   "id": "be753d2f",
   "metadata": {},
   "source": [
    "Hier zeigt kind='kde' an, dass wir eine Kernel-Dichte-Schätzung verwenden. Clip startet und stoppt einfach unsere Schätzung, und hier wählen wir 1940 und 2021 als Start- und Endpunkt. Mit dem Parameter bw_adjust können wir steuern, wie feinkörnig unsere Schätzung ist."
   ]
  },
  {
   "cell_type": "markdown",
   "id": "64b1b95a",
   "metadata": {},
   "source": [
    "Um sicherzustellen, dass unsere Diagramme für die hits und non hits Erscheinungsjahre den gleichen Maßstab haben, setzen wir die x- und y-Grenze manuell, bevor wir das Diagramm speichern:"
   ]
  },
  {
   "cell_type": "code",
   "execution_count": 59,
   "id": "f854eff7",
   "metadata": {},
   "outputs": [],
   "source": [
    "hitYearPlot.set(xlim=(1938,2021), ylim=(0,0.07))\n",
    "hitYearPlot.savefig('Plots/HitYear_gleichen_Maßstab.png', bbox_inches='tight')"
   ]
  },
  {
   "cell_type": "markdown",
   "id": "ee6bd65b",
   "metadata": {},
   "source": [
    "## Release years non hits"
   ]
  },
  {
   "cell_type": "code",
   "execution_count": 60,
   "id": "0f789551",
   "metadata": {},
   "outputs": [],
   "source": [
    "nonhitYear = dataset[dataset['category'] == 'no Hit']['ReleaseYear'].str[0:4].astype(int)"
   ]
  },
  {
   "cell_type": "code",
   "execution_count": 62,
   "id": "1b18bb62",
   "metadata": {},
   "outputs": [],
   "source": [
    "nonhitYear = nonhitYear[nonhitYear > 0]"
   ]
  },
  {
   "cell_type": "code",
   "execution_count": 63,
   "id": "93d59fc3",
   "metadata": {},
   "outputs": [
    {
     "data": {
      "text/plain": [
       "(760,)"
      ]
     },
     "execution_count": 63,
     "metadata": {},
     "output_type": "execute_result"
    }
   ],
   "source": [
    "nonhitYear.shape"
   ]
  },
  {
   "cell_type": "code",
   "execution_count": 65,
   "id": "946e5804",
   "metadata": {},
   "outputs": [
    {
     "data": {
      "image/png": "[encoded data removed]",
      "text/plain": [
       "<Figure size 360x360 with 1 Axes>"
      ]
     },
     "metadata": {
      "needs_background": "light"
     },
     "output_type": "display_data"
    }
   ],
   "source": [
    "nonhitYearPlot = sns.displot(nonhitYear, kind='kde', clip=(1940,2021), bw_adjust=.5)\n",
    "plt.savefig('Plots/nonHitYear.png')"
   ]
  },
  {
   "cell_type": "code",
   "execution_count": 66,
   "id": "5b503d37",
   "metadata": {},
   "outputs": [],
   "source": [
    "nonhitYearPlot.set(xlim=(1938,2021), ylim=(0,0.07))\n",
    "nonhitYearPlot.savefig('Plots/nonHitYear_gleichen_Maßstab.png', bbox_inches='tight')"
   ]
  },
  {
   "cell_type": "markdown",
   "id": "9d9f0fff",
   "metadata": {},
   "source": [
    "# Audio features"
   ]
  },
  {
   "cell_type": "code",
   "execution_count": null,
   "id": "0e8c1ded",
   "metadata": {
    "collapsed": true
   },
   "outputs": [],
   "source": []
  },
  {
   "cell_type": "code",
   "execution_count": null,
   "id": "c0947213",
   "metadata": {},
   "outputs": [],
   "source": []
  },
  {
   "cell_type": "code",
   "execution_count": null,
   "id": "9318d3f6",
   "metadata": {},
   "outputs": [],
   "source": []
  }
 ],
 "metadata": {
  "kernelspec": {
   "display_name": "Python 3 (ipykernel)",
   "language": "python",
   "name": "python3"
  },
  "language_info": {
   "codemirror_mode": {
    "name": "ipython",
    "version": 3
   },
   "file_extension": ".py",
   "mimetype": "text/x-python",
   "name": "python",
   "nbconvert_exporter": "python",
   "pygments_lexer": "ipython3",
   "version": "3.9.15"
  },
  "toc": {
   "base_numbering": 1,
   "nav_menu": {},
   "number_sections": true,
   "sideBar": true,
   "skip_h1_title": false,
   "title_cell": "Table of Contents",
   "title_sidebar": "Contents",
   "toc_cell": false,
   "toc_position": {},
   "toc_section_display": true,
   "toc_window_display": true
  },
  "varInspector": {
   "cols": {
    "lenName": 16,
    "lenType": 16,
    "lenVar": 40
   },
   "kernels_config": {
    "python": {
     "delete_cmd_postfix": "",
     "delete_cmd_prefix": "del ",
     "library": "var_list.py",
     "varRefreshCmd": "print(var_dic_list())"
    },
    "r": {
     "delete_cmd_postfix": ") ",
     "delete_cmd_prefix": "rm(",
     "library": "var_list.r",
     "varRefreshCmd": "cat(var_dic_list()) "
    }
   },
   "types_to_exclude": [
    "module",
    "function",
    "builtin_function_or_method",
    "instance",
    "_Feature"
   ],
   "window_display": false
  }
 },
 "nbformat": 4,
 "nbformat_minor": 5
}
