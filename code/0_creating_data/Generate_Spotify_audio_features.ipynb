{
 "cells": [
  {
   "cell_type": "markdown",
   "id": "62b42f12",
   "metadata": {},
   "source": [
    "https://stmorse.github.io/journal/spotify-api.html"
   ]
  },
  {
   "cell_type": "markdown",
   "id": "52777158",
   "metadata": {},
   "source": [
    "Spotify verfügt über eine sehr entwicklerfreundliche API, mit der man seine Dienste über Apps, Websites und andere seriöse Projekte streamen kann - oder man kann einfach in der riesigen Musikdatenbank herumstöbern und herausfinden, wie \"tanzbar\" die Playlist für 2020 war."
   ]
  },
  {
   "cell_type": "markdown",
   "id": "d54a9340",
   "metadata": {},
   "source": [
    "Zunächst lassen wir uns als Spotify-Entwickler registrieren und verwenden unsere Kundendaten, um ein Zugriffstoken zu erhalten; zweitens führen wir einige sehr grundlegende Untersuchungen von Dingen wie Albumlisten oder Trackeigenschaften durch; drittens kombinieren wir all dies zu einer interessanteren Analyse."
   ]
  },
  {
   "cell_type": "markdown",
   "id": "385e0d36",
   "metadata": {},
   "source": [
    "# Beispiel mit allen Alben eines Künstlers"
   ]
  },
  {
   "cell_type": "markdown",
   "id": "a64a7d46",
   "metadata": {},
   "source": [
    "## Abrufen eines Zugangstokens"
   ]
  },
  {
   "cell_type": "code",
   "execution_count": 10,
   "id": "97650193",
   "metadata": {},
   "outputs": [],
   "source": [
    "import requests\n",
    "\n",
    "CLIENT_ID = '961d9cfe0e7c426da68d7932c2693fc9'\n",
    "CLIENT_SECRET = '9f329e3768eb4681aab10caf2de7f10b'"
   ]
  },
  {
   "cell_type": "markdown",
   "id": "efd956f0",
   "metadata": {},
   "source": [
    "Um auf die verschiedenen Endpunkte der Spotify-API zugreifen zu können, müssen wir ein Zugriffs-Token übergeben. Dazu gibt es auf Spotify Dokumente oder Benutzer-Tutorials - aber im Wesentlichen müssen wir nur eine Anfrage mit unseren Client-Anmeldeinformationen posten und den entsprechenden Teil der Antwort speichern:"
   ]
  },
  {
   "cell_type": "code",
   "execution_count": 11,
   "id": "44061d4a",
   "metadata": {},
   "outputs": [],
   "source": [
    "AUTH_URL = 'https://accounts.spotify.com/api/token'\n",
    "\n",
    "# POST\n",
    "auth_response = requests.post(AUTH_URL, {\n",
    "    'grant_type': 'client_credentials',\n",
    "    'client_id': CLIENT_ID,\n",
    "    'client_secret': CLIENT_SECRET,\n",
    "})\n",
    "\n",
    "# convert the response to JSON\n",
    "auth_response_data = auth_response.json()\n",
    "\n",
    "# save the access token\n",
    "access_token = auth_response_data['access_token']"
   ]
  },
  {
   "cell_type": "markdown",
   "id": "21acd900",
   "metadata": {},
   "source": [
    "Das Zugriffstoken selbst ist nur eine lange alphanumerische Zeichenfolge, wie die Anmeldedaten des Kunden. Dies ist unser goldenes Ticket für den Zugriff auf die API."
   ]
  },
  {
   "cell_type": "markdown",
   "id": "54d64d86",
   "metadata": {},
   "source": [
    "## Herumstochern"
   ]
  },
  {
   "cell_type": "markdown",
   "id": "26ebb0d5",
   "metadata": {},
   "source": [
    "Es gibt eine Million Endpunkte für den Zugriff auf Dinge wie Albumlisten, Künstlerinformationen, Wiedergabelisten und sogar von Spotify generierte Audioanalysen einzelner Titel wie Tonart, Taktart oder \"Tanzbarkeit\".\n",
    "\n",
    "Um darauf zuzugreifen, senden wir eine korrekt geformte GET-Anfrage an den API-Server, mit unserem access_token in der Kopfzeile. Diese Header-Informationen speichern wir nun im folgenden, sehr spezifischen Format:"
   ]
  },
  {
   "cell_type": "code",
   "execution_count": 12,
   "id": "b050115c",
   "metadata": {},
   "outputs": [],
   "source": [
    "headers = {\n",
    "    'Authorization': 'Bearer {token}'.format(token=access_token)\n",
    "}"
   ]
  },
  {
   "cell_type": "markdown",
   "id": "5b635e07",
   "metadata": {},
   "source": [
    "Beginnen wir mit der Überprüfung der Audio-Funktionen für einen bestimmten Titel, indem wir den Endpunkt audio-features verwenden.\n",
    "\n",
    "Wir benötigen die Track-ID, die Sie erhalten, indem Sie auf Spotify gehen, auf das \"...\" neben einem Track klicken, dann auf \"Share\" und dann auf \"Copy Spotify URI\". In deiner Zwischenablage steht jetzt etwas wie: spotify:track:6y0igZArWVi6Iz0rj35c1Y. Die Endung ist die Track-ID, das ist alles, was wir brauchen:"
   ]
  },
  {
   "cell_type": "code",
   "execution_count": 13,
   "id": "ade7a902",
   "metadata": {},
   "outputs": [],
   "source": [
    "# base URL of all Spotify API endpoints\n",
    "BASE_URL = 'https://api.spotify.com/v1/'\n",
    "\n",
    "# Track ID from the URI\n",
    "track_id = '58ndZkvrKDchl5EnissIp0'\n",
    "\n",
    "# actual GET request with proper header\n",
    "r = requests.get(BASE_URL + 'audio-features/' + track_id, headers=headers)"
   ]
  },
  {
   "cell_type": "markdown",
   "id": "81a7795e",
   "metadata": {},
   "source": [
    "Jetzt können wir diese Antwort in JSON umwandeln und uns umsehen:"
   ]
  },
  {
   "cell_type": "code",
   "execution_count": 14,
   "id": "7eb96b95",
   "metadata": {},
   "outputs": [
    {
     "data": {
      "text/plain": [
       "{'danceability': 0.606,\n",
       " 'energy': 0.915,\n",
       " 'key': 1,\n",
       " 'loudness': -3.8,\n",
       " 'mode': 1,\n",
       " 'speechiness': 0.134,\n",
       " 'acousticness': 0.0192,\n",
       " 'instrumentalness': 7.12e-06,\n",
       " 'liveness': 0.375,\n",
       " 'valence': 0.497,\n",
       " 'tempo': 96.075,\n",
       " 'type': 'audio_features',\n",
       " 'id': '58ndZkvrKDchl5EnissIp0',\n",
       " 'uri': 'spotify:track:58ndZkvrKDchl5EnissIp0',\n",
       " 'track_href': 'https://api.spotify.com/v1/tracks/58ndZkvrKDchl5EnissIp0',\n",
       " 'analysis_url': 'https://api.spotify.com/v1/audio-analysis/58ndZkvrKDchl5EnissIp0',\n",
       " 'duration_ms': 219381,\n",
       " 'time_signature': 4}"
      ]
     },
     "execution_count": 14,
     "metadata": {},
     "output_type": "execute_result"
    }
   ],
   "source": [
    "r = r.json()\n",
    "r"
   ]
  },
  {
   "cell_type": "markdown",
   "id": "8fd9771a",
   "metadata": {},
   "source": [
    "Cool. Und noch cooler: In den Spotify-API-Dokumenten finden Sie ausführliche Erklärungen zu den Bedeutungen der einzelnen Werte (https://developer.spotify.com/documentation/web-api/reference/#/operations/get-audio-features)."
   ]
  },
  {
   "cell_type": "markdown",
   "id": "4c5c6ae2",
   "metadata": {},
   "source": [
    "(Technische Nebenbemerkung: Zuvor haben wir eine POST-Anfrage gestellt, bei der die Anmeldeinformationen im Nachrichtentext enthalten waren und die ziemlich sicher ist. Jetzt machen wir eine GET-Anfrage, die die Anfrage in der URL selbst überträgt und daher weniger sicher ist, aber für Datenanfragen wie diese gut geeignet ist).\n",
    "\n",
    "Mit einem wachsenden Gefühl für die Macht, die wir jetzt haben, können wir unsere Erkundung ausweiten."
   ]
  },
  {
   "cell_type": "markdown",
   "id": "13417fe0",
   "metadata": {},
   "source": [
    "## Zusammenstellung"
   ]
  },
  {
   "cell_type": "markdown",
   "id": "c1fdfeb0",
   "metadata": {},
   "source": [
    "### Abrufen der Daten"
   ]
  },
  {
   "cell_type": "markdown",
   "id": "99dc66e7",
   "metadata": {},
   "source": [
    "Wählen wir nun einen Künstler aus, erfassen alle seine Alben und alle Tracks von jedem Album und speichern die Audiomerkmale und die Analyse jedes einzelnen in einem großen Datenrahmen, um dann zu sehen, was für interessante Dinge wir finden.\n",
    "\n",
    "(Das erspart uns übrigens auch das manuelle Erfassen von Tonnen von URIs. Das ist nicht nötig, und außerdem gibt es riesige kommentierte Listen, zum Beispiel auf Kaggle).\n",
    "\n",
    "Ich nehme mir Led Zeppelin vor, weil sie eine große, vielfältige Diskografie haben, die zu erforschen Spaß machen dürfte (und weil ich einfach ein großer Fan bin). Ihre URI (wie bei einem Track) ist spotify:artist:36QJpDe2go2KgaRleHCDTp und der Endpunkt für das Abrufen von Alben ist artists/{id}/albums, wir machen also:"
   ]
  },
  {
   "cell_type": "code",
   "execution_count": 15,
   "id": "7c953e8b",
   "metadata": {},
   "outputs": [],
   "source": [
    "artist_id = '36QJpDe2go2KgaRleHCDTp'\n",
    "\n",
    "# pull all artists albums\n",
    "r = requests.get(BASE_URL + 'artists/' + artist_id + '/albums', \n",
    "                 headers=headers, \n",
    "                 params={'include_groups': 'album', 'limit': 50})\n",
    "d = r.json()"
   ]
  },
  {
   "cell_type": "markdown",
   "id": "d9d4ff57",
   "metadata": {},
   "source": [
    "Vergessen Sie nicht die Kopfzeilen und beachten Sie, dass ich eine Reihe von Parametern hinzugefügt habe, um Spotify mitzuteilen, dass ich nur vollständige Alben haben möchte (keine Singles, Auftritte usw.) und mir alles geben soll (maximal 50).\n",
    "\n",
    "Das Juwel dieses JSON ist die Liste der Alben in items, also z.B. d['items'][0] ist ein JSON des ersten Albums in der Liste. Wir können uns alle Alben, die wir erfasst haben, und ihre Veröffentlichungsdaten ansehen:"
   ]
  },
  {
   "cell_type": "code",
   "execution_count": 16,
   "id": "fa5c8db1",
   "metadata": {},
   "outputs": [
    {
     "name": "stdout",
     "output_type": "stream",
     "text": [
      "The Complete BBC Sessions (Remastered)  ---  2016-09-16\n",
      "Physical Graffiti (Deluxe Edition)  ---  2015-02-24\n",
      "Celebration Day  ---  2012-11-19\n",
      "Mothership (Remastered)  ---  2007\n",
      "How the West Was Won (Remaster)  ---  2003-05-27\n",
      "Coda (Deluxe Edition)  ---  1982-11-19\n",
      "Coda (Remaster)  ---  1982-11-19\n",
      "In Through the out Door (Deluxe Edition)  ---  1979-08-15\n",
      "In Through the out Door (Remaster)  ---  1979-08-15\n",
      "The Song Remains the Same (Remaster)  ---  1976-10-22\n",
      "Presence (Deluxe Edition)  ---  1976-03-31\n",
      "Presence (Remaster)  ---  1976-03-31\n",
      "Physical Graffiti (1994 Remaster)  ---  1975-02-24\n",
      "Physical Graffiti (Remaster)  ---  1975-02-24\n",
      "Physical Graffiti (Deluxe Edition)  ---  1975-02-24\n",
      "Houses of the Holy (Deluxe Edition)  ---  1973-03-28\n",
      "Houses of the Holy (Remaster)  ---  1973-03-28\n",
      "Led Zeppelin IV (Deluxe Edition)  ---  1971-11-08\n",
      "Led Zeppelin IV (Remaster)  ---  1971-11-08\n",
      "Led Zeppelin III (Deluxe Edition)  ---  1970-10-05\n",
      "Led Zeppelin III (Deluxe Edition)  ---  1970-10-05\n",
      "Led Zeppelin III (Remaster)  ---  1970\n",
      "Led Zeppelin II (Deluxe Edition)  ---  1969-10-22\n",
      "Led Zeppelin II (Deluxe Edition)  ---  1969-10-22\n",
      "Led Zeppelin II (Remaster)  ---  1969-10-22\n",
      "Led Zeppelin II (1994 Remaster)  ---  1969-10-22\n",
      "Led Zeppelin (Deluxe Edition)  ---  1969-01-12\n",
      "Led Zeppelin (Deluxe Edition)  ---  1969-01-12\n",
      "Led Zeppelin (Remaster)  ---  1969-01-12\n",
      "Led Zeppelin  ---  1969-01-12\n"
     ]
    }
   ],
   "source": [
    "for album in d['items']:\n",
    "    print(album['name'], ' --- ', album['release_date'])"
   ]
  },
  {
   "cell_type": "markdown",
   "id": "385d9a62",
   "metadata": {},
   "source": [
    "Es sind fast 40, und viele \"Duplikate\", ganz zu schweigen von Compilations, Live-Alben und Backing-Tracks, die wir vielleicht nicht analysieren wollen. Wir wollen das Problem angehen, indem wir Duplikate überspringen, alles nach dem letzten Studioalbum von 1982 auslassen und uns später um die einzelnen Titel kümmern.\n",
    "\n",
    "Wir wollen jedes Album in einer Schleife durchgehen, jeden Track mit albums/{id}/tracks erfassen, die Audioinformationen des Tracks wie im vorherigen Abschnitt erfassen und alles in einen Datenrahmen packen. Einfach genug!"
   ]
  },
  {
   "cell_type": "code",
   "execution_count": 17,
   "id": "96fde40b",
   "metadata": {},
   "outputs": [
    {
     "name": "stdout",
     "output_type": "stream",
     "text": [
      "Coda (Deluxe Edition)\n",
      "In Through the out Door (Deluxe Edition)\n",
      "The Song Remains the Same (Remaster)\n",
      "Presence (Deluxe Edition)\n",
      "Physical Graffiti (1994 Remaster)\n",
      "Houses of the Holy (Deluxe Edition)\n",
      "Led Zeppelin IV (Deluxe Edition)\n",
      "Led Zeppelin III (Deluxe Edition)\n",
      "Led Zeppelin II (Deluxe Edition)\n",
      "Led Zeppelin (Deluxe Edition)\n"
     ]
    }
   ],
   "source": [
    "data = []   # will hold all track info\n",
    "albums = [] # to keep track of duplicates\n",
    "\n",
    "# loop over albums and get all tracks\n",
    "for album in d['items']:\n",
    "    album_name = album['name']\n",
    "\n",
    "    # here's a hacky way to skip over albums we've already grabbed\n",
    "    trim_name = album_name.split('(')[0].strip()\n",
    "    if trim_name.upper() in albums or int(album['release_date'][:4]) > 1983:\n",
    "        continue\n",
    "    albums.append(trim_name.upper()) # use upper() to standardize\n",
    "    \n",
    "    # this takes a few seconds so let's keep track of progress    \n",
    "    print(album_name)\n",
    "    \n",
    "    # pull all tracks from this album\n",
    "    r = requests.get(BASE_URL + 'albums/' + album['id'] + '/tracks', \n",
    "        headers=headers)\n",
    "    tracks = r.json()['items']\n",
    "    \n",
    "    for track in tracks:\n",
    "        # get audio features (key, liveness, danceability, ...)\n",
    "        f = requests.get(BASE_URL + 'audio-features/' + track['id'], \n",
    "            headers=headers)\n",
    "        f = f.json()\n",
    "        \n",
    "        # combine with album info\n",
    "        f.update({\n",
    "            'track_name': track['name'],\n",
    "            'album_name': album_name,\n",
    "            'short_album_name': trim_name,\n",
    "            'release_date': album['release_date'],\n",
    "            'album_id': album['id']\n",
    "        })\n",
    "        \n",
    "        data.append(f)"
   ]
  },
  {
   "cell_type": "markdown",
   "id": "abcfca69",
   "metadata": {},
   "source": [
    "Okay, das ist die Teilmenge der Alben, die wir uns erhofft haben. Jetzt brauchen wir nur noch eine Möglichkeit, eine Liste von Dicts in einen schönen Datenrahmen zu konvertieren. Pandas als Retter in der Not:"
   ]
  },
  {
   "cell_type": "code",
   "execution_count": 18,
   "id": "8ba4a39f",
   "metadata": {},
   "outputs": [],
   "source": [
    "import pandas as pd\n",
    "\n",
    "df = pd.DataFrame(data)"
   ]
  },
  {
   "cell_type": "markdown",
   "id": "3844d030",
   "metadata": {},
   "source": [
    "Es ist wirklich so einfach. Wir können jetzt ein paar Hausputzarbeiten erledigen:"
   ]
  },
  {
   "cell_type": "code",
   "execution_count": 19,
   "id": "dadadb3d",
   "metadata": {},
   "outputs": [],
   "source": [
    "# convert release_date to an actual date, and sort by it\n",
    "df['release_date'] = pd.to_datetime(df['release_date'])\n",
    "df = df.sort_values(by='release_date')\n",
    "\n",
    "# Zeppelin-specific: get rid of live album, remixes, vocal tracks, ...\n",
    "df = df.query('short_album_name != \"The Song Remains The Same\"')\n",
    "df = df[~df['track_name'].str.contains('Live|Mix|Track')]"
   ]
  },
  {
   "cell_type": "markdown",
   "id": "2cebb1a4",
   "metadata": {},
   "source": [
    "Sehen Sie sich die ersten Zeilen an:"
   ]
  },
  {
   "cell_type": "code",
   "execution_count": 20,
   "id": "b7ea3c28",
   "metadata": {},
   "outputs": [
    {
     "data": {
      "text/html": [
       "<div>\n",
       "<style scoped>\n",
       "    .dataframe tbody tr th:only-of-type {\n",
       "        vertical-align: middle;\n",
       "    }\n",
       "\n",
       "    .dataframe tbody tr th {\n",
       "        vertical-align: top;\n",
       "    }\n",
       "\n",
       "    .dataframe thead th {\n",
       "        text-align: right;\n",
       "    }\n",
       "</style>\n",
       "<table border=\"1\" class=\"dataframe\">\n",
       "  <thead>\n",
       "    <tr style=\"text-align: right;\">\n",
       "      <th></th>\n",
       "      <th>danceability</th>\n",
       "      <th>energy</th>\n",
       "      <th>key</th>\n",
       "      <th>loudness</th>\n",
       "      <th>mode</th>\n",
       "      <th>speechiness</th>\n",
       "      <th>acousticness</th>\n",
       "      <th>instrumentalness</th>\n",
       "      <th>liveness</th>\n",
       "      <th>valence</th>\n",
       "      <th>...</th>\n",
       "      <th>uri</th>\n",
       "      <th>track_href</th>\n",
       "      <th>analysis_url</th>\n",
       "      <th>duration_ms</th>\n",
       "      <th>time_signature</th>\n",
       "      <th>track_name</th>\n",
       "      <th>album_name</th>\n",
       "      <th>short_album_name</th>\n",
       "      <th>release_date</th>\n",
       "      <th>album_id</th>\n",
       "    </tr>\n",
       "  </thead>\n",
       "  <tbody>\n",
       "    <tr>\n",
       "      <th>143</th>\n",
       "      <td>0.445</td>\n",
       "      <td>0.703</td>\n",
       "      <td>9</td>\n",
       "      <td>-9.783</td>\n",
       "      <td>1</td>\n",
       "      <td>0.0859</td>\n",
       "      <td>0.0828</td>\n",
       "      <td>0.000003</td>\n",
       "      <td>0.0782</td>\n",
       "      <td>0.633</td>\n",
       "      <td>...</td>\n",
       "      <td>spotify:track:0FGhq1atMRDXBydpC4MlK2</td>\n",
       "      <td>https://api.spotify.com/v1/tracks/0FGhq1atMRDX...</td>\n",
       "      <td>https://api.spotify.com/v1/audio-analysis/0FGh...</td>\n",
       "      <td>166107</td>\n",
       "      <td>4</td>\n",
       "      <td>Good Times Bad Times - Remaster</td>\n",
       "      <td>Led Zeppelin (Deluxe Edition)</td>\n",
       "      <td>Led Zeppelin</td>\n",
       "      <td>1969-01-12</td>\n",
       "      <td>5HNlYbQp7wKbKscWy7ceMp</td>\n",
       "    </tr>\n",
       "    <tr>\n",
       "      <th>144</th>\n",
       "      <td>0.411</td>\n",
       "      <td>0.466</td>\n",
       "      <td>4</td>\n",
       "      <td>-11.537</td>\n",
       "      <td>0</td>\n",
       "      <td>0.0332</td>\n",
       "      <td>0.3750</td>\n",
       "      <td>0.000085</td>\n",
       "      <td>0.1420</td>\n",
       "      <td>0.158</td>\n",
       "      <td>...</td>\n",
       "      <td>spotify:track:6bTvFs7doZSipBS7P7Epoo</td>\n",
       "      <td>https://api.spotify.com/v1/tracks/6bTvFs7doZSi...</td>\n",
       "      <td>https://api.spotify.com/v1/audio-analysis/6bTv...</td>\n",
       "      <td>402761</td>\n",
       "      <td>4</td>\n",
       "      <td>Babe I'm Gonna Leave You - Remaster</td>\n",
       "      <td>Led Zeppelin (Deluxe Edition)</td>\n",
       "      <td>Led Zeppelin</td>\n",
       "      <td>1969-01-12</td>\n",
       "      <td>5HNlYbQp7wKbKscWy7ceMp</td>\n",
       "    </tr>\n",
       "    <tr>\n",
       "      <th>145</th>\n",
       "      <td>0.366</td>\n",
       "      <td>0.560</td>\n",
       "      <td>11</td>\n",
       "      <td>-10.361</td>\n",
       "      <td>0</td>\n",
       "      <td>0.0633</td>\n",
       "      <td>0.6470</td>\n",
       "      <td>0.007030</td>\n",
       "      <td>0.1800</td>\n",
       "      <td>0.361</td>\n",
       "      <td>...</td>\n",
       "      <td>spotify:track:0dF5j0jgcJBgMGGsT8drku</td>\n",
       "      <td>https://api.spotify.com/v1/tracks/0dF5j0jgcJBg...</td>\n",
       "      <td>https://api.spotify.com/v1/audio-analysis/0dF5...</td>\n",
       "      <td>388467</td>\n",
       "      <td>3</td>\n",
       "      <td>You Shook Me - Remaster</td>\n",
       "      <td>Led Zeppelin (Deluxe Edition)</td>\n",
       "      <td>Led Zeppelin</td>\n",
       "      <td>1969-01-12</td>\n",
       "      <td>5HNlYbQp7wKbKscWy7ceMp</td>\n",
       "    </tr>\n",
       "    <tr>\n",
       "      <th>146</th>\n",
       "      <td>0.240</td>\n",
       "      <td>0.546</td>\n",
       "      <td>2</td>\n",
       "      <td>-10.026</td>\n",
       "      <td>1</td>\n",
       "      <td>0.0548</td>\n",
       "      <td>0.0898</td>\n",
       "      <td>0.006480</td>\n",
       "      <td>0.0898</td>\n",
       "      <td>0.429</td>\n",
       "      <td>...</td>\n",
       "      <td>spotify:track:68bhDgGmkopBrSHn9Ywstn</td>\n",
       "      <td>https://api.spotify.com/v1/tracks/68bhDgGmkopB...</td>\n",
       "      <td>https://api.spotify.com/v1/audio-analysis/68bh...</td>\n",
       "      <td>388667</td>\n",
       "      <td>4</td>\n",
       "      <td>Dazed and Confused - Remaster</td>\n",
       "      <td>Led Zeppelin (Deluxe Edition)</td>\n",
       "      <td>Led Zeppelin</td>\n",
       "      <td>1969-01-12</td>\n",
       "      <td>5HNlYbQp7wKbKscWy7ceMp</td>\n",
       "    </tr>\n",
       "    <tr>\n",
       "      <th>147</th>\n",
       "      <td>0.328</td>\n",
       "      <td>0.575</td>\n",
       "      <td>7</td>\n",
       "      <td>-10.437</td>\n",
       "      <td>1</td>\n",
       "      <td>0.0439</td>\n",
       "      <td>0.3510</td>\n",
       "      <td>0.000556</td>\n",
       "      <td>0.6880</td>\n",
       "      <td>0.249</td>\n",
       "      <td>...</td>\n",
       "      <td>spotify:track:6xFvTvkm0Sw9iVI4TTuQvv</td>\n",
       "      <td>https://api.spotify.com/v1/tracks/6xFvTvkm0Sw9...</td>\n",
       "      <td>https://api.spotify.com/v1/audio-analysis/6xFv...</td>\n",
       "      <td>274694</td>\n",
       "      <td>4</td>\n",
       "      <td>Your Time Is Gonna Come - Remaster</td>\n",
       "      <td>Led Zeppelin (Deluxe Edition)</td>\n",
       "      <td>Led Zeppelin</td>\n",
       "      <td>1969-01-12</td>\n",
       "      <td>5HNlYbQp7wKbKscWy7ceMp</td>\n",
       "    </tr>\n",
       "  </tbody>\n",
       "</table>\n",
       "<p>5 rows × 23 columns</p>\n",
       "</div>"
      ],
      "text/plain": [
       "     danceability  energy  key  loudness  mode  speechiness  acousticness  \\\n",
       "143         0.445   0.703    9    -9.783     1       0.0859        0.0828   \n",
       "144         0.411   0.466    4   -11.537     0       0.0332        0.3750   \n",
       "145         0.366   0.560   11   -10.361     0       0.0633        0.6470   \n",
       "146         0.240   0.546    2   -10.026     1       0.0548        0.0898   \n",
       "147         0.328   0.575    7   -10.437     1       0.0439        0.3510   \n",
       "\n",
       "     instrumentalness  liveness  valence  ...  \\\n",
       "143          0.000003    0.0782    0.633  ...   \n",
       "144          0.000085    0.1420    0.158  ...   \n",
       "145          0.007030    0.1800    0.361  ...   \n",
       "146          0.006480    0.0898    0.429  ...   \n",
       "147          0.000556    0.6880    0.249  ...   \n",
       "\n",
       "                                      uri  \\\n",
       "143  spotify:track:0FGhq1atMRDXBydpC4MlK2   \n",
       "144  spotify:track:6bTvFs7doZSipBS7P7Epoo   \n",
       "145  spotify:track:0dF5j0jgcJBgMGGsT8drku   \n",
       "146  spotify:track:68bhDgGmkopBrSHn9Ywstn   \n",
       "147  spotify:track:6xFvTvkm0Sw9iVI4TTuQvv   \n",
       "\n",
       "                                            track_href  \\\n",
       "143  https://api.spotify.com/v1/tracks/0FGhq1atMRDX...   \n",
       "144  https://api.spotify.com/v1/tracks/6bTvFs7doZSi...   \n",
       "145  https://api.spotify.com/v1/tracks/0dF5j0jgcJBg...   \n",
       "146  https://api.spotify.com/v1/tracks/68bhDgGmkopB...   \n",
       "147  https://api.spotify.com/v1/tracks/6xFvTvkm0Sw9...   \n",
       "\n",
       "                                          analysis_url duration_ms  \\\n",
       "143  https://api.spotify.com/v1/audio-analysis/0FGh...      166107   \n",
       "144  https://api.spotify.com/v1/audio-analysis/6bTv...      402761   \n",
       "145  https://api.spotify.com/v1/audio-analysis/0dF5...      388467   \n",
       "146  https://api.spotify.com/v1/audio-analysis/68bh...      388667   \n",
       "147  https://api.spotify.com/v1/audio-analysis/6xFv...      274694   \n",
       "\n",
       "    time_signature                           track_name  \\\n",
       "143              4      Good Times Bad Times - Remaster   \n",
       "144              4  Babe I'm Gonna Leave You - Remaster   \n",
       "145              3              You Shook Me - Remaster   \n",
       "146              4        Dazed and Confused - Remaster   \n",
       "147              4   Your Time Is Gonna Come - Remaster   \n",
       "\n",
       "                        album_name  short_album_name release_date  \\\n",
       "143  Led Zeppelin (Deluxe Edition)      Led Zeppelin   1969-01-12   \n",
       "144  Led Zeppelin (Deluxe Edition)      Led Zeppelin   1969-01-12   \n",
       "145  Led Zeppelin (Deluxe Edition)      Led Zeppelin   1969-01-12   \n",
       "146  Led Zeppelin (Deluxe Edition)      Led Zeppelin   1969-01-12   \n",
       "147  Led Zeppelin (Deluxe Edition)      Led Zeppelin   1969-01-12   \n",
       "\n",
       "                   album_id  \n",
       "143  5HNlYbQp7wKbKscWy7ceMp  \n",
       "144  5HNlYbQp7wKbKscWy7ceMp  \n",
       "145  5HNlYbQp7wKbKscWy7ceMp  \n",
       "146  5HNlYbQp7wKbKscWy7ceMp  \n",
       "147  5HNlYbQp7wKbKscWy7ceMp  \n",
       "\n",
       "[5 rows x 23 columns]"
      ]
     },
     "execution_count": 20,
     "metadata": {},
     "output_type": "execute_result"
    }
   ],
   "source": [
    "df.head()"
   ]
  },
  {
   "cell_type": "markdown",
   "id": "cf410619",
   "metadata": {},
   "source": [
    "### Visualisierung"
   ]
  },
  {
   "cell_type": "markdown",
   "id": "a1172405",
   "metadata": {},
   "source": [
    "Lassen Sie uns einige dieser schönen Daten grafisch darstellen. Ich arbeite in einem Jupyter-Notizbuch und werde hier eine Mischung aus Seaborn und Matplotlib verwenden, also werde ich"
   ]
  },
  {
   "cell_type": "code",
   "execution_count": 21,
   "id": "e910c96a",
   "metadata": {},
   "outputs": [],
   "source": [
    "%matplotlib inline\n",
    "import matplotlib.pyplot as plt\n",
    "import seaborn as sns"
   ]
  },
  {
   "cell_type": "markdown",
   "id": "c03e3577",
   "metadata": {},
   "source": [
    "Da wir all diese schönen, von Spotify generierten Eigenschaften für jeden Titel haben, wäre es naheliegend, alle Muster über die Alben hinweg zu untersuchen. Beginnen wir mit Streudiagrammen. Wir können z. B. \"Akustik\" gegen \"Wertigkeit\" (Wertigkeit ist im Grunde ein Maß für traurig (0,0) bis fröhlich (1,0)), nach Album gefärbt und nach Länge des Tracks sortiert, ausprobieren:"
   ]
  },
  {
   "cell_type": "code",
   "execution_count": 22,
   "id": "2c19b2f1",
   "metadata": {},
   "outputs": [
    {
     "data": {
      "text/plain": [
       "<matplotlib.legend.Legend at 0x12a8a5d90>"
      ]
     },
     "execution_count": 22,
     "metadata": {},
     "output_type": "execute_result"
    },
    {
     "data": {
      "image/png": "[encoded data removed]",
      "text/plain": [
       "<Figure size 720x720 with 1 Axes>"
      ]
     },
     "metadata": {
      "needs_background": "light"
     },
     "output_type": "display_data"
    }
   ],
   "source": [
    "plt.figure(figsize=(10,10))\n",
    "\n",
    "ax = sns.scatterplot(data=df, x='valence', y='acousticness', \n",
    "                     hue='short_album_name', palette='rainbow', \n",
    "                     size='duration_ms', sizes=(50,1000), \n",
    "                     alpha=0.7)\n",
    "\n",
    "# display legend without `size` attribute\n",
    "h,labs = ax.get_legend_handles_labels()\n",
    "ax.legend(h[1:10], labs[1:10], loc='best', title=None)"
   ]
  },
  {
   "cell_type": "markdown",
   "id": "9702d856",
   "metadata": {},
   "source": [
    "Es ist interessant zu sehen, wie sehr sich die Jungs auf späteren Alben von den Folk-inspirierten akustischen Stücken entfernt haben, wie viele ihrer \"traurigsten\" Stücke akustisch sind, und wie vielfältig sie insgesamt sind - die Streuung deckt fast das gesamte 1x1 ab! Niccce. Datenwissenschaft: Bestätigen, was man eigentlich schon wusste."
   ]
  },
  {
   "cell_type": "markdown",
   "id": "7f9903e4",
   "metadata": {},
   "source": [
    "Damit wird allerdings nur eine Interaktion erfasst ... wir könnten weiterhin Attributspaare aufzeichnen ... ODER wir könnten versuchen, eine zweidimensionale \"Einbettung\" des gesamten Datensatzes zu finden, so dass zwei Spuren, die in allen Dimensionen \"ähnlich\" sind, in der zweidimensionalen Streuung \"nah\" erscheinen."
   ]
  },
  {
   "cell_type": "markdown",
   "id": "b9081f82",
   "metadata": {},
   "source": [
    "Es gibt viele Ansätze für dieses Problem der \"Dimensionalitätsreduzierung\" - zum Beispiel ist die Hauptkomponentenanalyse (PCA) eine klassische Methode, die Punkte auf eine niedriger dimensionale Hyperebene projiziert, so dass die erklärte Varianz maximiert wird, aber sie ist insofern begrenzt, als sie streng linear ist. Wir könnten stattdessen eine nichtlineare Fläche finden/erlernen, auf die die Punkte projiziert werden, wie verschiedene \"Manifold Learning\"-Techniken."
   ]
  },
  {
   "cell_type": "markdown",
   "id": "a413d8f3",
   "metadata": {},
   "source": [
    "Lassen Sie uns dies mit dem beliebten t-SNE-Algorithmus tun, der praktischerweise mit scikit-learn gebündelt ist. t-SNE ist zugegebenermaßen ein bisschen kompliziert, aber es klingt exotisch und wir versuchen hier, Spaß zu haben, Leute."
   ]
  },
  {
   "cell_type": "code",
   "execution_count": 23,
   "id": "00d84d84",
   "metadata": {},
   "outputs": [],
   "source": [
    "from sklearn.manifold import TSNE\n",
    "from sklearn.preprocessing import StandardScaler\n",
    "\n",
    "# extract relevant columns to numpy array\n",
    "X = (df\n",
    " .filter(['acousticness', 'danceability', 'duration_ms', 'energy',\n",
    "          'instrumentalness', 'liveness', 'loudness', 'tempo', 'valence'])\n",
    ")\n",
    "\n",
    "# algo will do better if data is standardized (zero mean, unit variance)\n",
    "Xs = StandardScaler().fit_transform(X)"
   ]
  },
  {
   "cell_type": "markdown",
   "id": "0df4936d",
   "metadata": {},
   "source": [
    "Wir können das Standard-Sklearn-Muster von Model().fit_transform() und plot verwenden:"
   ]
  },
  {
   "cell_type": "code",
   "execution_count": 24,
   "id": "fa0fb15d",
   "metadata": {},
   "outputs": [
    {
     "name": "stderr",
     "output_type": "stream",
     "text": [
      "/usr/local/lib/python3.9/site-packages/sklearn/manifold/_t_sne.py:780: FutureWarning: The default initialization in TSNE will change from 'random' to 'pca' in 1.2.\n",
      "  warnings.warn(\n",
      "/usr/local/lib/python3.9/site-packages/sklearn/manifold/_t_sne.py:790: FutureWarning: The default learning rate in TSNE will change from 200.0 to 'auto' in 1.2.\n",
      "  warnings.warn(\n"
     ]
    },
    {
     "data": {
      "image/png": "[encoded data removed]",
      "text/plain": [
       "<Figure size 720x720 with 1 Axes>"
      ]
     },
     "metadata": {
      "needs_background": "light"
     },
     "output_type": "display_data"
    }
   ],
   "source": [
    "# construct 2-d embedding\n",
    "tsne = TSNE(n_components=2, perplexity=5, \n",
    "    early_exaggeration=2, random_state=3).fit_transform(Xs)\n",
    "\n",
    "# convert to dataframe for plotting purposes\n",
    "tsne = pd.DataFrame(tsne)\n",
    "tsne['short_album_name'] = df['short_album_name']\n",
    "tsne['duration_ms'] = df['duration_ms']\n",
    "\n",
    "plt.figure(figsize=(10,10))\n",
    "\n",
    "ax = sns.scatterplot(data=tsne, x=0, y=1, \n",
    "                     hue='short_album_name', palette='rainbow', \n",
    "                     size='duration_ms', sizes=(50,1000), \n",
    "                     alpha=0.7)\n",
    "\n",
    "# display legend without `size` attribute\n",
    "h,labs = ax.get_legend_handles_labels()\n",
    "ax.legend(h[1:10], labs[1:10], loc='best', ncol=2)\n",
    "\n",
    "plt.show()"
   ]
  },
  {
   "cell_type": "markdown",
   "id": "5dbde348",
   "metadata": {},
   "source": [
    "Das ist zugegebenermaßen nicht so überzeugend, wie ich es mir erhofft hatte, aber es lassen sich einige Muster erkennen: Die untere rechte Seite ist eine eklektische Mischung aus praktisch all ihren Hits aus der Zeit vor der Präsenz, von Stairway über Bron-y-Aur Stomp bis Moby Dick. Die kleine Gruppe von 5 Songs in der Mitte links sind allesamt hyper-epische Balladen: In My Time of Dying, Achilles Last Stand, Carouselambra."
   ]
  },
  {
   "cell_type": "markdown",
   "id": "5b31d8a5",
   "metadata": {},
   "source": [
    "In gewisser Weise haben diese Lieder also eine grundlegende hochdimensionale Ähnlichkeit! Vielleicht! Oder vielleicht lesen wir auch nur im Kaffeesatz! Wie auch immer, es ist alles sehr lustig."
   ]
  },
  {
   "cell_type": "markdown",
   "id": "f652c529",
   "metadata": {},
   "source": [
    "## Andere Ideen"
   ]
  },
  {
   "cell_type": "markdown",
   "id": "dce5d638",
   "metadata": {},
   "source": [
    "Andere lustige Dinge, die man untersuchen könnte, wären Wiedergabelisten (statt einzelner Künstler), die Erstellung eines Profils des eigenen Musikgeschmacks wie hier, eine bewusstere Clusterung der Diskografie eines Künstlers oder eine wilde Untersuchung der Struktur einzelner Titel mit dem Audio-Features-Endpunkt, der die Temperatur und die Tonhöhen pro Takt des Songs angibt. Warum sollte man zum Beispiel Spotify-Metadaten wie \"Tanzbarkeit\" verwenden, wenn man direkt die sekundengenaue Klangfarbe und den Rhythmus eines jeden Songs clustern könnte?"
   ]
  },
  {
   "cell_type": "markdown",
   "id": "f819913a",
   "metadata": {},
   "source": [
    "# Bespiel mit Extraktion von Audiofeatures einer Playlist"
   ]
  },
  {
   "cell_type": "markdown",
   "id": "4194a788",
   "metadata": {},
   "source": [
    "https://medium.com/analytics-vidhya/easily-analyse-audio-features-from-spotify-playlists-part-1-3b004cd406b3"
   ]
  },
  {
   "cell_type": "code",
   "execution_count": 1,
   "id": "548932a2",
   "metadata": {},
   "outputs": [],
   "source": [
    "import pickle\n",
    "\n",
    "with open('../../../GeneralizedSpotifyAnalyser-main/Playlists/4duFdX9PVMjsUDEGHM9H5G.pkl', 'rb') as f:\n",
    "    data = pickle.load(f)"
   ]
  },
  {
   "cell_type": "code",
   "execution_count": 2,
   "id": "27608adb",
   "metadata": {},
   "outputs": [
    {
     "data": {
      "text/html": [
       "<div>\n",
       "<style scoped>\n",
       "    .dataframe tbody tr th:only-of-type {\n",
       "        vertical-align: middle;\n",
       "    }\n",
       "\n",
       "    .dataframe tbody tr th {\n",
       "        vertical-align: top;\n",
       "    }\n",
       "\n",
       "    .dataframe thead th {\n",
       "        text-align: right;\n",
       "    }\n",
       "</style>\n",
       "<table border=\"1\" class=\"dataframe\">\n",
       "  <thead>\n",
       "    <tr style=\"text-align: right;\">\n",
       "      <th></th>\n",
       "      <th>playlistID</th>\n",
       "      <th>TrackName</th>\n",
       "      <th>TrackID</th>\n",
       "      <th>SampleURL</th>\n",
       "      <th>ReleaseYear</th>\n",
       "      <th>Genres</th>\n",
       "      <th>danceability</th>\n",
       "      <th>energy</th>\n",
       "      <th>loudness</th>\n",
       "      <th>speechiness</th>\n",
       "      <th>acousticness</th>\n",
       "      <th>instrumentalness</th>\n",
       "      <th>liveness</th>\n",
       "      <th>valence</th>\n",
       "      <th>tempo</th>\n",
       "      <th>key</th>\n",
       "      <th>mode</th>\n",
       "      <th>duration_ms</th>\n",
       "      <th>Popularity</th>\n",
       "    </tr>\n",
       "  </thead>\n",
       "  <tbody>\n",
       "    <tr>\n",
       "      <th>0</th>\n",
       "      <td>4duFdX9PVMjsUDEGHM9H5G</td>\n",
       "      <td>Hold On</td>\n",
       "      <td>4VZDv8sASBS8UruUBGTFdk</td>\n",
       "      <td>https://p.scdn.co/mp3-preview/b189e767a72485b3...</td>\n",
       "      <td>1990-05-08</td>\n",
       "      <td>[girl group, mellow gold, new wave pop, soft r...</td>\n",
       "      <td>0.679</td>\n",
       "      <td>0.657</td>\n",
       "      <td>-9.897</td>\n",
       "      <td>0.0255</td>\n",
       "      <td>0.40000</td>\n",
       "      <td>0</td>\n",
       "      <td>0.0497</td>\n",
       "      <td>0.546</td>\n",
       "      <td>97.800</td>\n",
       "      <td>5</td>\n",
       "      <td>1</td>\n",
       "      <td>266867</td>\n",
       "      <td>68.0</td>\n",
       "    </tr>\n",
       "    <tr>\n",
       "      <th>1</th>\n",
       "      <td>4duFdX9PVMjsUDEGHM9H5G</td>\n",
       "      <td>It Must Have Been Love - From the Film \"Pretty...</td>\n",
       "      <td>6kvoHl80mfCVTv7XnZkjQn</td>\n",
       "      <td>https://p.scdn.co/mp3-preview/3a252a594cf752b8...</td>\n",
       "      <td>1990-05-20</td>\n",
       "      <td>[europop, new wave pop, soft rock, swedish pop]</td>\n",
       "      <td>0.520</td>\n",
       "      <td>0.652</td>\n",
       "      <td>-6.655</td>\n",
       "      <td>0.0274</td>\n",
       "      <td>0.34000</td>\n",
       "      <td>0.000055</td>\n",
       "      <td>0.2560</td>\n",
       "      <td>0.722</td>\n",
       "      <td>80.609</td>\n",
       "      <td>5</td>\n",
       "      <td>1</td>\n",
       "      <td>258787</td>\n",
       "      <td>77.0</td>\n",
       "    </tr>\n",
       "    <tr>\n",
       "      <th>2</th>\n",
       "      <td>4duFdX9PVMjsUDEGHM9H5G</td>\n",
       "      <td>Nothing Compares 2 U - Live</td>\n",
       "      <td>7avYl4vrpv1agYF2bEVwSq</td>\n",
       "      <td>https://p.scdn.co/mp3-preview/c5b860a1c35493e8...</td>\n",
       "      <td>2013-10-28</td>\n",
       "      <td>[lilith, new wave pop, singer-songwriter]</td>\n",
       "      <td>0.464</td>\n",
       "      <td>0.692</td>\n",
       "      <td>-5.574</td>\n",
       "      <td>0.0281</td>\n",
       "      <td>0.24100</td>\n",
       "      <td>0.00004</td>\n",
       "      <td>0.9890</td>\n",
       "      <td>0.117</td>\n",
       "      <td>60.022</td>\n",
       "      <td>5</td>\n",
       "      <td>1</td>\n",
       "      <td>330947</td>\n",
       "      <td>30.0</td>\n",
       "    </tr>\n",
       "    <tr>\n",
       "      <th>3</th>\n",
       "      <td>4duFdX9PVMjsUDEGHM9H5G</td>\n",
       "      <td>Poison</td>\n",
       "      <td>6m59VvDUi0UQsB2eZ9wVbH</td>\n",
       "      <td>https://p.scdn.co/mp3-preview/34b23c14247e1508...</td>\n",
       "      <td>1990-01-01</td>\n",
       "      <td>[boy band, contemporary r&amp;b, hip hop, hip pop,...</td>\n",
       "      <td>0.840</td>\n",
       "      <td>0.560</td>\n",
       "      <td>-10.530</td>\n",
       "      <td>0.2100</td>\n",
       "      <td>0.00195</td>\n",
       "      <td>0.00417</td>\n",
       "      <td>0.6330</td>\n",
       "      <td>0.775</td>\n",
       "      <td>111.815</td>\n",
       "      <td>6</td>\n",
       "      <td>0</td>\n",
       "      <td>261853</td>\n",
       "      <td>71.0</td>\n",
       "    </tr>\n",
       "    <tr>\n",
       "      <th>4</th>\n",
       "      <td>4duFdX9PVMjsUDEGHM9H5G</td>\n",
       "      <td>Vogue</td>\n",
       "      <td>27QvYgBk0CHOVHthWnkuWt</td>\n",
       "      <td>https://p.scdn.co/mp3-preview/8a73ed584f818526...</td>\n",
       "      <td>2009-09-18</td>\n",
       "      <td>[dance pop, pop]</td>\n",
       "      <td>0.737</td>\n",
       "      <td>0.880</td>\n",
       "      <td>-6.449</td>\n",
       "      <td>0.0433</td>\n",
       "      <td>0.00379</td>\n",
       "      <td>0.00351</td>\n",
       "      <td>0.4170</td>\n",
       "      <td>0.329</td>\n",
       "      <td>115.998</td>\n",
       "      <td>6</td>\n",
       "      <td>1</td>\n",
       "      <td>316813</td>\n",
       "      <td>66.0</td>\n",
       "    </tr>\n",
       "  </tbody>\n",
       "</table>\n",
       "</div>"
      ],
      "text/plain": [
       "               playlistID                                          TrackName  \\\n",
       "0  4duFdX9PVMjsUDEGHM9H5G                                            Hold On   \n",
       "1  4duFdX9PVMjsUDEGHM9H5G  It Must Have Been Love - From the Film \"Pretty...   \n",
       "2  4duFdX9PVMjsUDEGHM9H5G                        Nothing Compares 2 U - Live   \n",
       "3  4duFdX9PVMjsUDEGHM9H5G                                             Poison   \n",
       "4  4duFdX9PVMjsUDEGHM9H5G                                              Vogue   \n",
       "\n",
       "                  TrackID                                          SampleURL  \\\n",
       "0  4VZDv8sASBS8UruUBGTFdk  https://p.scdn.co/mp3-preview/b189e767a72485b3...   \n",
       "1  6kvoHl80mfCVTv7XnZkjQn  https://p.scdn.co/mp3-preview/3a252a594cf752b8...   \n",
       "2  7avYl4vrpv1agYF2bEVwSq  https://p.scdn.co/mp3-preview/c5b860a1c35493e8...   \n",
       "3  6m59VvDUi0UQsB2eZ9wVbH  https://p.scdn.co/mp3-preview/34b23c14247e1508...   \n",
       "4  27QvYgBk0CHOVHthWnkuWt  https://p.scdn.co/mp3-preview/8a73ed584f818526...   \n",
       "\n",
       "  ReleaseYear                                             Genres  \\\n",
       "0  1990-05-08  [girl group, mellow gold, new wave pop, soft r...   \n",
       "1  1990-05-20    [europop, new wave pop, soft rock, swedish pop]   \n",
       "2  2013-10-28          [lilith, new wave pop, singer-songwriter]   \n",
       "3  1990-01-01  [boy band, contemporary r&b, hip hop, hip pop,...   \n",
       "4  2009-09-18                                   [dance pop, pop]   \n",
       "\n",
       "   danceability  energy  loudness  speechiness  acousticness instrumentalness  \\\n",
       "0         0.679   0.657    -9.897       0.0255       0.40000                0   \n",
       "1         0.520   0.652    -6.655       0.0274       0.34000         0.000055   \n",
       "2         0.464   0.692    -5.574       0.0281       0.24100          0.00004   \n",
       "3         0.840   0.560   -10.530       0.2100       0.00195          0.00417   \n",
       "4         0.737   0.880    -6.449       0.0433       0.00379          0.00351   \n",
       "\n",
       "   liveness  valence    tempo key mode duration_ms  Popularity  \n",
       "0    0.0497    0.546   97.800   5    1      266867        68.0  \n",
       "1    0.2560    0.722   80.609   5    1      258787        77.0  \n",
       "2    0.9890    0.117   60.022   5    1      330947        30.0  \n",
       "3    0.6330    0.775  111.815   6    0      261853        71.0  \n",
       "4    0.4170    0.329  115.998   6    1      316813        66.0  "
      ]
     },
     "execution_count": 2,
     "metadata": {},
     "output_type": "execute_result"
    }
   ],
   "source": [
    "data.head()"
   ]
  },
  {
   "cell_type": "code",
   "execution_count": 3,
   "id": "b19a24f8",
   "metadata": {},
   "outputs": [],
   "source": [
    "import pickle as pkl\n",
    "import pandas as pd\n",
    "with open(\"../../../GeneralizedSpotifyAnalyser-main/Playlists/4duFdX9PVMjsUDEGHM9H5G.pkl\", \"rb\") as f:\n",
    "    object = pkl.load(f)\n",
    "    \n",
    "df = pd.DataFrame(object)\n",
    "df.to_csv(r'file.csv')"
   ]
  },
  {
   "cell_type": "code",
   "execution_count": 4,
   "id": "3fffaf4c",
   "metadata": {},
   "outputs": [],
   "source": [
    "audio = pd.read_csv(\"../../data/audiofeatures/Audiofeatures_playlist_hits_no_hits.csv\")"
   ]
  },
  {
   "cell_type": "code",
   "execution_count": 5,
   "id": "70044139",
   "metadata": {},
   "outputs": [
    {
     "data": {
      "text/html": [
       "<div>\n",
       "<style scoped>\n",
       "    .dataframe tbody tr th:only-of-type {\n",
       "        vertical-align: middle;\n",
       "    }\n",
       "\n",
       "    .dataframe tbody tr th {\n",
       "        vertical-align: top;\n",
       "    }\n",
       "\n",
       "    .dataframe thead th {\n",
       "        text-align: right;\n",
       "    }\n",
       "</style>\n",
       "<table border=\"1\" class=\"dataframe\">\n",
       "  <thead>\n",
       "    <tr style=\"text-align: right;\">\n",
       "      <th></th>\n",
       "      <th>Unnamed: 0</th>\n",
       "      <th>playlistID</th>\n",
       "      <th>TrackName</th>\n",
       "      <th>TrackID</th>\n",
       "      <th>SampleURL</th>\n",
       "      <th>ReleaseYear</th>\n",
       "      <th>Genres</th>\n",
       "      <th>danceability</th>\n",
       "      <th>energy</th>\n",
       "      <th>loudness</th>\n",
       "      <th>speechiness</th>\n",
       "      <th>acousticness</th>\n",
       "      <th>instrumentalness</th>\n",
       "      <th>liveness</th>\n",
       "      <th>valence</th>\n",
       "      <th>tempo</th>\n",
       "      <th>key</th>\n",
       "      <th>mode</th>\n",
       "      <th>duration_ms</th>\n",
       "      <th>Popularity</th>\n",
       "    </tr>\n",
       "  </thead>\n",
       "  <tbody>\n",
       "    <tr>\n",
       "      <th>0</th>\n",
       "      <td>0</td>\n",
       "      <td>4duFdX9PVMjsUDEGHM9H5G</td>\n",
       "      <td>Hold On</td>\n",
       "      <td>4VZDv8sASBS8UruUBGTFdk</td>\n",
       "      <td>https://p.scdn.co/mp3-preview/b189e767a72485b3...</td>\n",
       "      <td>1990-05-08</td>\n",
       "      <td>['girl group', 'mellow gold', 'new wave pop', ...</td>\n",
       "      <td>0.679</td>\n",
       "      <td>0.657</td>\n",
       "      <td>-9.897</td>\n",
       "      <td>0.0255</td>\n",
       "      <td>0.40000</td>\n",
       "      <td>0.000000</td>\n",
       "      <td>0.0497</td>\n",
       "      <td>0.546</td>\n",
       "      <td>97.800</td>\n",
       "      <td>5</td>\n",
       "      <td>1</td>\n",
       "      <td>266867</td>\n",
       "      <td>68.0</td>\n",
       "    </tr>\n",
       "    <tr>\n",
       "      <th>1</th>\n",
       "      <td>1</td>\n",
       "      <td>4duFdX9PVMjsUDEGHM9H5G</td>\n",
       "      <td>It Must Have Been Love - From the Film \"Pretty...</td>\n",
       "      <td>6kvoHl80mfCVTv7XnZkjQn</td>\n",
       "      <td>https://p.scdn.co/mp3-preview/3a252a594cf752b8...</td>\n",
       "      <td>1990-05-20</td>\n",
       "      <td>['europop', 'new wave pop', 'soft rock', 'swed...</td>\n",
       "      <td>0.520</td>\n",
       "      <td>0.652</td>\n",
       "      <td>-6.655</td>\n",
       "      <td>0.0274</td>\n",
       "      <td>0.34000</td>\n",
       "      <td>0.000055</td>\n",
       "      <td>0.2560</td>\n",
       "      <td>0.722</td>\n",
       "      <td>80.609</td>\n",
       "      <td>5</td>\n",
       "      <td>1</td>\n",
       "      <td>258787</td>\n",
       "      <td>77.0</td>\n",
       "    </tr>\n",
       "    <tr>\n",
       "      <th>2</th>\n",
       "      <td>2</td>\n",
       "      <td>4duFdX9PVMjsUDEGHM9H5G</td>\n",
       "      <td>Nothing Compares 2 U - Live</td>\n",
       "      <td>7avYl4vrpv1agYF2bEVwSq</td>\n",
       "      <td>https://p.scdn.co/mp3-preview/c5b860a1c35493e8...</td>\n",
       "      <td>2013-10-28</td>\n",
       "      <td>['lilith', 'new wave pop', 'singer-songwriter']</td>\n",
       "      <td>0.464</td>\n",
       "      <td>0.692</td>\n",
       "      <td>-5.574</td>\n",
       "      <td>0.0281</td>\n",
       "      <td>0.24100</td>\n",
       "      <td>0.000040</td>\n",
       "      <td>0.9890</td>\n",
       "      <td>0.117</td>\n",
       "      <td>60.022</td>\n",
       "      <td>5</td>\n",
       "      <td>1</td>\n",
       "      <td>330947</td>\n",
       "      <td>30.0</td>\n",
       "    </tr>\n",
       "    <tr>\n",
       "      <th>3</th>\n",
       "      <td>3</td>\n",
       "      <td>4duFdX9PVMjsUDEGHM9H5G</td>\n",
       "      <td>Poison</td>\n",
       "      <td>6m59VvDUi0UQsB2eZ9wVbH</td>\n",
       "      <td>https://p.scdn.co/mp3-preview/34b23c14247e1508...</td>\n",
       "      <td>1990-01-01</td>\n",
       "      <td>['boy band', 'contemporary r&amp;b', 'hip hop', 'h...</td>\n",
       "      <td>0.840</td>\n",
       "      <td>0.560</td>\n",
       "      <td>-10.530</td>\n",
       "      <td>0.2100</td>\n",
       "      <td>0.00195</td>\n",
       "      <td>0.004170</td>\n",
       "      <td>0.6330</td>\n",
       "      <td>0.775</td>\n",
       "      <td>111.815</td>\n",
       "      <td>6</td>\n",
       "      <td>0</td>\n",
       "      <td>261853</td>\n",
       "      <td>71.0</td>\n",
       "    </tr>\n",
       "    <tr>\n",
       "      <th>4</th>\n",
       "      <td>4</td>\n",
       "      <td>4duFdX9PVMjsUDEGHM9H5G</td>\n",
       "      <td>Vogue</td>\n",
       "      <td>27QvYgBk0CHOVHthWnkuWt</td>\n",
       "      <td>https://p.scdn.co/mp3-preview/8a73ed584f818526...</td>\n",
       "      <td>2009-09-18</td>\n",
       "      <td>['dance pop', 'pop']</td>\n",
       "      <td>0.737</td>\n",
       "      <td>0.880</td>\n",
       "      <td>-6.449</td>\n",
       "      <td>0.0433</td>\n",
       "      <td>0.00379</td>\n",
       "      <td>0.003510</td>\n",
       "      <td>0.4170</td>\n",
       "      <td>0.329</td>\n",
       "      <td>115.998</td>\n",
       "      <td>6</td>\n",
       "      <td>1</td>\n",
       "      <td>316813</td>\n",
       "      <td>66.0</td>\n",
       "    </tr>\n",
       "  </tbody>\n",
       "</table>\n",
       "</div>"
      ],
      "text/plain": [
       "   Unnamed: 0              playlistID  \\\n",
       "0           0  4duFdX9PVMjsUDEGHM9H5G   \n",
       "1           1  4duFdX9PVMjsUDEGHM9H5G   \n",
       "2           2  4duFdX9PVMjsUDEGHM9H5G   \n",
       "3           3  4duFdX9PVMjsUDEGHM9H5G   \n",
       "4           4  4duFdX9PVMjsUDEGHM9H5G   \n",
       "\n",
       "                                           TrackName                 TrackID  \\\n",
       "0                                            Hold On  4VZDv8sASBS8UruUBGTFdk   \n",
       "1  It Must Have Been Love - From the Film \"Pretty...  6kvoHl80mfCVTv7XnZkjQn   \n",
       "2                        Nothing Compares 2 U - Live  7avYl4vrpv1agYF2bEVwSq   \n",
       "3                                             Poison  6m59VvDUi0UQsB2eZ9wVbH   \n",
       "4                                              Vogue  27QvYgBk0CHOVHthWnkuWt   \n",
       "\n",
       "                                           SampleURL ReleaseYear  \\\n",
       "0  https://p.scdn.co/mp3-preview/b189e767a72485b3...  1990-05-08   \n",
       "1  https://p.scdn.co/mp3-preview/3a252a594cf752b8...  1990-05-20   \n",
       "2  https://p.scdn.co/mp3-preview/c5b860a1c35493e8...  2013-10-28   \n",
       "3  https://p.scdn.co/mp3-preview/34b23c14247e1508...  1990-01-01   \n",
       "4  https://p.scdn.co/mp3-preview/8a73ed584f818526...  2009-09-18   \n",
       "\n",
       "                                              Genres  danceability  energy  \\\n",
       "0  ['girl group', 'mellow gold', 'new wave pop', ...         0.679   0.657   \n",
       "1  ['europop', 'new wave pop', 'soft rock', 'swed...         0.520   0.652   \n",
       "2    ['lilith', 'new wave pop', 'singer-songwriter']         0.464   0.692   \n",
       "3  ['boy band', 'contemporary r&b', 'hip hop', 'h...         0.840   0.560   \n",
       "4                               ['dance pop', 'pop']         0.737   0.880   \n",
       "\n",
       "   loudness  speechiness  acousticness  instrumentalness  liveness  valence  \\\n",
       "0    -9.897       0.0255       0.40000          0.000000    0.0497    0.546   \n",
       "1    -6.655       0.0274       0.34000          0.000055    0.2560    0.722   \n",
       "2    -5.574       0.0281       0.24100          0.000040    0.9890    0.117   \n",
       "3   -10.530       0.2100       0.00195          0.004170    0.6330    0.775   \n",
       "4    -6.449       0.0433       0.00379          0.003510    0.4170    0.329   \n",
       "\n",
       "     tempo  key  mode  duration_ms  Popularity  \n",
       "0   97.800    5     1       266867        68.0  \n",
       "1   80.609    5     1       258787        77.0  \n",
       "2   60.022    5     1       330947        30.0  \n",
       "3  111.815    6     0       261853        71.0  \n",
       "4  115.998    6     1       316813        66.0  "
      ]
     },
     "execution_count": 5,
     "metadata": {},
     "output_type": "execute_result"
    }
   ],
   "source": [
    "audio.head(5)"
   ]
  },
  {
   "cell_type": "code",
   "execution_count": 6,
   "id": "7e5475ae",
   "metadata": {},
   "outputs": [],
   "source": [
    "audio = audio.loc[:, ~audio.columns.str.contains('^Unnamed')]"
   ]
  },
  {
   "cell_type": "code",
   "execution_count": 7,
   "id": "f16f0867",
   "metadata": {},
   "outputs": [
    {
     "data": {
      "text/html": [
       "<div>\n",
       "<style scoped>\n",
       "    .dataframe tbody tr th:only-of-type {\n",
       "        vertical-align: middle;\n",
       "    }\n",
       "\n",
       "    .dataframe tbody tr th {\n",
       "        vertical-align: top;\n",
       "    }\n",
       "\n",
       "    .dataframe thead th {\n",
       "        text-align: right;\n",
       "    }\n",
       "</style>\n",
       "<table border=\"1\" class=\"dataframe\">\n",
       "  <thead>\n",
       "    <tr style=\"text-align: right;\">\n",
       "      <th></th>\n",
       "      <th>playlistID</th>\n",
       "      <th>TrackName</th>\n",
       "      <th>TrackID</th>\n",
       "      <th>SampleURL</th>\n",
       "      <th>ReleaseYear</th>\n",
       "      <th>Genres</th>\n",
       "      <th>danceability</th>\n",
       "      <th>energy</th>\n",
       "      <th>loudness</th>\n",
       "      <th>speechiness</th>\n",
       "      <th>acousticness</th>\n",
       "      <th>instrumentalness</th>\n",
       "      <th>liveness</th>\n",
       "      <th>valence</th>\n",
       "      <th>tempo</th>\n",
       "      <th>key</th>\n",
       "      <th>mode</th>\n",
       "      <th>duration_ms</th>\n",
       "      <th>Popularity</th>\n",
       "    </tr>\n",
       "  </thead>\n",
       "  <tbody>\n",
       "    <tr>\n",
       "      <th>0</th>\n",
       "      <td>4duFdX9PVMjsUDEGHM9H5G</td>\n",
       "      <td>Hold On</td>\n",
       "      <td>4VZDv8sASBS8UruUBGTFdk</td>\n",
       "      <td>https://p.scdn.co/mp3-preview/b189e767a72485b3...</td>\n",
       "      <td>1990-05-08</td>\n",
       "      <td>['girl group', 'mellow gold', 'new wave pop', ...</td>\n",
       "      <td>0.679</td>\n",
       "      <td>0.657</td>\n",
       "      <td>-9.897</td>\n",
       "      <td>0.0255</td>\n",
       "      <td>0.40000</td>\n",
       "      <td>0.000000</td>\n",
       "      <td>0.0497</td>\n",
       "      <td>0.546</td>\n",
       "      <td>97.800</td>\n",
       "      <td>5</td>\n",
       "      <td>1</td>\n",
       "      <td>266867</td>\n",
       "      <td>68.0</td>\n",
       "    </tr>\n",
       "    <tr>\n",
       "      <th>1</th>\n",
       "      <td>4duFdX9PVMjsUDEGHM9H5G</td>\n",
       "      <td>It Must Have Been Love - From the Film \"Pretty...</td>\n",
       "      <td>6kvoHl80mfCVTv7XnZkjQn</td>\n",
       "      <td>https://p.scdn.co/mp3-preview/3a252a594cf752b8...</td>\n",
       "      <td>1990-05-20</td>\n",
       "      <td>['europop', 'new wave pop', 'soft rock', 'swed...</td>\n",
       "      <td>0.520</td>\n",
       "      <td>0.652</td>\n",
       "      <td>-6.655</td>\n",
       "      <td>0.0274</td>\n",
       "      <td>0.34000</td>\n",
       "      <td>0.000055</td>\n",
       "      <td>0.2560</td>\n",
       "      <td>0.722</td>\n",
       "      <td>80.609</td>\n",
       "      <td>5</td>\n",
       "      <td>1</td>\n",
       "      <td>258787</td>\n",
       "      <td>77.0</td>\n",
       "    </tr>\n",
       "    <tr>\n",
       "      <th>2</th>\n",
       "      <td>4duFdX9PVMjsUDEGHM9H5G</td>\n",
       "      <td>Nothing Compares 2 U - Live</td>\n",
       "      <td>7avYl4vrpv1agYF2bEVwSq</td>\n",
       "      <td>https://p.scdn.co/mp3-preview/c5b860a1c35493e8...</td>\n",
       "      <td>2013-10-28</td>\n",
       "      <td>['lilith', 'new wave pop', 'singer-songwriter']</td>\n",
       "      <td>0.464</td>\n",
       "      <td>0.692</td>\n",
       "      <td>-5.574</td>\n",
       "      <td>0.0281</td>\n",
       "      <td>0.24100</td>\n",
       "      <td>0.000040</td>\n",
       "      <td>0.9890</td>\n",
       "      <td>0.117</td>\n",
       "      <td>60.022</td>\n",
       "      <td>5</td>\n",
       "      <td>1</td>\n",
       "      <td>330947</td>\n",
       "      <td>30.0</td>\n",
       "    </tr>\n",
       "    <tr>\n",
       "      <th>3</th>\n",
       "      <td>4duFdX9PVMjsUDEGHM9H5G</td>\n",
       "      <td>Poison</td>\n",
       "      <td>6m59VvDUi0UQsB2eZ9wVbH</td>\n",
       "      <td>https://p.scdn.co/mp3-preview/34b23c14247e1508...</td>\n",
       "      <td>1990-01-01</td>\n",
       "      <td>['boy band', 'contemporary r&amp;b', 'hip hop', 'h...</td>\n",
       "      <td>0.840</td>\n",
       "      <td>0.560</td>\n",
       "      <td>-10.530</td>\n",
       "      <td>0.2100</td>\n",
       "      <td>0.00195</td>\n",
       "      <td>0.004170</td>\n",
       "      <td>0.6330</td>\n",
       "      <td>0.775</td>\n",
       "      <td>111.815</td>\n",
       "      <td>6</td>\n",
       "      <td>0</td>\n",
       "      <td>261853</td>\n",
       "      <td>71.0</td>\n",
       "    </tr>\n",
       "    <tr>\n",
       "      <th>4</th>\n",
       "      <td>4duFdX9PVMjsUDEGHM9H5G</td>\n",
       "      <td>Vogue</td>\n",
       "      <td>27QvYgBk0CHOVHthWnkuWt</td>\n",
       "      <td>https://p.scdn.co/mp3-preview/8a73ed584f818526...</td>\n",
       "      <td>2009-09-18</td>\n",
       "      <td>['dance pop', 'pop']</td>\n",
       "      <td>0.737</td>\n",
       "      <td>0.880</td>\n",
       "      <td>-6.449</td>\n",
       "      <td>0.0433</td>\n",
       "      <td>0.00379</td>\n",
       "      <td>0.003510</td>\n",
       "      <td>0.4170</td>\n",
       "      <td>0.329</td>\n",
       "      <td>115.998</td>\n",
       "      <td>6</td>\n",
       "      <td>1</td>\n",
       "      <td>316813</td>\n",
       "      <td>66.0</td>\n",
       "    </tr>\n",
       "  </tbody>\n",
       "</table>\n",
       "</div>"
      ],
      "text/plain": [
       "               playlistID                                          TrackName  \\\n",
       "0  4duFdX9PVMjsUDEGHM9H5G                                            Hold On   \n",
       "1  4duFdX9PVMjsUDEGHM9H5G  It Must Have Been Love - From the Film \"Pretty...   \n",
       "2  4duFdX9PVMjsUDEGHM9H5G                        Nothing Compares 2 U - Live   \n",
       "3  4duFdX9PVMjsUDEGHM9H5G                                             Poison   \n",
       "4  4duFdX9PVMjsUDEGHM9H5G                                              Vogue   \n",
       "\n",
       "                  TrackID                                          SampleURL  \\\n",
       "0  4VZDv8sASBS8UruUBGTFdk  https://p.scdn.co/mp3-preview/b189e767a72485b3...   \n",
       "1  6kvoHl80mfCVTv7XnZkjQn  https://p.scdn.co/mp3-preview/3a252a594cf752b8...   \n",
       "2  7avYl4vrpv1agYF2bEVwSq  https://p.scdn.co/mp3-preview/c5b860a1c35493e8...   \n",
       "3  6m59VvDUi0UQsB2eZ9wVbH  https://p.scdn.co/mp3-preview/34b23c14247e1508...   \n",
       "4  27QvYgBk0CHOVHthWnkuWt  https://p.scdn.co/mp3-preview/8a73ed584f818526...   \n",
       "\n",
       "  ReleaseYear                                             Genres  \\\n",
       "0  1990-05-08  ['girl group', 'mellow gold', 'new wave pop', ...   \n",
       "1  1990-05-20  ['europop', 'new wave pop', 'soft rock', 'swed...   \n",
       "2  2013-10-28    ['lilith', 'new wave pop', 'singer-songwriter']   \n",
       "3  1990-01-01  ['boy band', 'contemporary r&b', 'hip hop', 'h...   \n",
       "4  2009-09-18                               ['dance pop', 'pop']   \n",
       "\n",
       "   danceability  energy  loudness  speechiness  acousticness  \\\n",
       "0         0.679   0.657    -9.897       0.0255       0.40000   \n",
       "1         0.520   0.652    -6.655       0.0274       0.34000   \n",
       "2         0.464   0.692    -5.574       0.0281       0.24100   \n",
       "3         0.840   0.560   -10.530       0.2100       0.00195   \n",
       "4         0.737   0.880    -6.449       0.0433       0.00379   \n",
       "\n",
       "   instrumentalness  liveness  valence    tempo  key  mode  duration_ms  \\\n",
       "0          0.000000    0.0497    0.546   97.800    5     1       266867   \n",
       "1          0.000055    0.2560    0.722   80.609    5     1       258787   \n",
       "2          0.000040    0.9890    0.117   60.022    5     1       330947   \n",
       "3          0.004170    0.6330    0.775  111.815    6     0       261853   \n",
       "4          0.003510    0.4170    0.329  115.998    6     1       316813   \n",
       "\n",
       "   Popularity  \n",
       "0        68.0  \n",
       "1        77.0  \n",
       "2        30.0  \n",
       "3        71.0  \n",
       "4        66.0  "
      ]
     },
     "execution_count": 7,
     "metadata": {},
     "output_type": "execute_result"
    }
   ],
   "source": [
    "audio.head(5)"
   ]
  },
  {
   "cell_type": "code",
   "execution_count": 8,
   "id": "941b8e57",
   "metadata": {},
   "outputs": [
    {
     "data": {
      "text/plain": [
       "(1580, 19)"
      ]
     },
     "execution_count": 8,
     "metadata": {},
     "output_type": "execute_result"
    }
   ],
   "source": [
    "audio.shape"
   ]
  }
 ],
 "metadata": {
  "kernelspec": {
   "display_name": "Python 3 (ipykernel)",
   "language": "python",
   "name": "python3"
  },
  "language_info": {
   "codemirror_mode": {
    "name": "ipython",
    "version": 3
   },
   "file_extension": ".py",
   "mimetype": "text/x-python",
   "name": "python",
   "nbconvert_exporter": "python",
   "pygments_lexer": "ipython3",
   "version": "3.9.15"
  },
  "toc": {
   "base_numbering": 1,
   "nav_menu": {},
   "number_sections": true,
   "sideBar": true,
   "skip_h1_title": false,
   "title_cell": "Table of Contents",
   "title_sidebar": "Contents",
   "toc_cell": false,
   "toc_position": {},
   "toc_section_display": true,
   "toc_window_display": true
  },
  "varInspector": {
   "cols": {
    "lenName": 16,
    "lenType": 16,
    "lenVar": 40
   },
   "kernels_config": {
    "python": {
     "delete_cmd_postfix": "",
     "delete_cmd_prefix": "del ",
     "library": "var_list.py",
     "varRefreshCmd": "print(var_dic_list())"
    },
    "r": {
     "delete_cmd_postfix": ") ",
     "delete_cmd_prefix": "rm(",
     "library": "var_list.r",
     "varRefreshCmd": "cat(var_dic_list()) "
    }
   },
   "types_to_exclude": [
    "module",
    "function",
    "builtin_function_or_method",
    "instance",
    "_Feature"
   ],
   "window_display": false
  }
 },
 "nbformat": 4,
 "nbformat_minor": 5
}
