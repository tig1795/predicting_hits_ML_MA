{
 "cells": [
  {
   "cell_type": "code",
   "execution_count": 27,
   "id": "a5e386c9",
   "metadata": {},
   "outputs": [],
   "source": [
    "import billboard\n",
    "import csv\n",
    "\n",
    "chart = billboard.ChartData('hot-100')\n",
    "#chart = billboard.ChartData('hot-100', date=None, fetch=True, max_retries=5, timeout=25)\n",
    "\n",
    "f = open('hot-100.csv', 'w')\n",
    "\n",
    "headers = 'title, artist, peakPos, lastPos, weeks, rank, date\\n'\n",
    "f.write(headers)\n",
    "\n",
    "date = chart.date\n",
    "\n",
    "while chart.previousDate:\n",
    "    date = chart.date\n",
    "    for song in chart:\n",
    "        title = song.title\n",
    "        artist = song.artist\n",
    "        peakPos = str(song.peakPos)\n",
    "        lastPos = str(song.lastPos)\n",
    "        weeks = str(song.weeks)\n",
    "        rank = str(song.rank)\n",
    "\n",
    "        f.write('\\\"' + title + '\\\",\\\"' + artist.replace('Featuring', 'Feat.') + '\\\",' + peakPos + ',' + lastPos + ',' + weeks + ',' + rank + ',' + date + '\\n')\n",
    "    chart = billboard.ChartData('hot-100', chart.previousDate)\n",
    "    \n",
    "f.close()"
   ]
  },
  {
   "cell_type": "code",
   "execution_count": null,
   "id": "c0eb427b",
   "metadata": {},
   "outputs": [],
   "source": []
  }
 ],
 "metadata": {
  "kernelspec": {
   "display_name": "Python 3 (ipykernel)",
   "language": "python",
   "name": "python3"
  },
  "language_info": {
   "codemirror_mode": {
    "name": "ipython",
    "version": 3
   },
   "file_extension": ".py",
   "mimetype": "text/x-python",
   "name": "python",
   "nbconvert_exporter": "python",
   "pygments_lexer": "ipython3",
   "version": "3.9.10"
  },
  "toc": {
   "base_numbering": 1,
   "nav_menu": {},
   "number_sections": true,
   "sideBar": true,
   "skip_h1_title": false,
   "title_cell": "Table of Contents",
   "title_sidebar": "Contents",
   "toc_cell": false,
   "toc_position": {},
   "toc_section_display": true,
   "toc_window_display": false
  },
  "varInspector": {
   "cols": {
    "lenName": 16,
    "lenType": 16,
    "lenVar": 40
   },
   "kernels_config": {
    "python": {
     "delete_cmd_postfix": "",
     "delete_cmd_prefix": "del ",
     "library": "var_list.py",
     "varRefreshCmd": "print(var_dic_list())"
    },
    "r": {
     "delete_cmd_postfix": ") ",
     "delete_cmd_prefix": "rm(",
     "library": "var_list.r",
     "varRefreshCmd": "cat(var_dic_list()) "
    }
   },
   "types_to_exclude": [
    "module",
    "function",
    "builtin_function_or_method",
    "instance",
    "_Feature"
   ],
   "window_display": false
  }
 },
 "nbformat": 4,
 "nbformat_minor": 5
}
