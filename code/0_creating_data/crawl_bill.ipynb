{
 "cells": [
  {
   "cell_type": "markdown",
   "id": "2574cc93",
   "metadata": {},
   "source": [
    "https://medium.com/@traviscroyce/scraping-data-from-dynamic-websites-with-selenium-and-python-f702bb534974"
   ]
  },
  {
   "cell_type": "markdown",
   "id": "26e9f89d",
   "metadata": {},
   "source": [
    "In vielen Fällen kann das Scraping von Daten so einfach sein wie die Anweisung an Excel, \"Daten aus dem Web zu holen\", oder \"importxml\" mit Google Sheets. In anderen Fällen kann die Aufgabe komplexer werden. Nehmen Sie zum Beispiel die Billboard.com-Charts für die Hot 100 Songs des Jahres. Die schnellen und einfachen Methoden brachten nichts, und ich wollte 15 Jahre an Daten haben, also kam Kopieren und Einfügen nicht in Frage. Zuerst mussten die Daten geladen werden."
   ]
  },
  {
   "cell_type": "markdown",
   "id": "5c758b89",
   "metadata": {},
   "source": [
    "# Imports"
   ]
  },
  {
   "cell_type": "code",
   "execution_count": 108,
   "id": "3799ecdf",
   "metadata": {},
   "outputs": [],
   "source": [
    "#load\n",
    "from email import parser\n",
    "from lib2to3.pgen2 import driver\n",
    "import pandas as pd\n",
    "import numpy as np\n",
    "from selenium import webdriver\n",
    "from selenium.webdriver.common.keys import Keys\n",
    "from selenium.webdriver.common.by import By\n",
    "from bs4 import BeautifulSoup\n",
    "import time \n",
    "import datetime\n",
    "import os"
   ]
  },
  {
   "cell_type": "markdown",
   "id": "0e7c11f6",
   "metadata": {},
   "source": [
    "Schritt 1: Finden Sie das enthaltende Div\n",
    "\n",
    "Klicken Sie mit der rechten Maustaste auf den Bereich, den Sie benötigen, und untersuchen Sie ihn. Wenn der gesamte gewünschte Bereich blau hervorgehoben ist, haben Sie ein div, das alle Ihre Informationen enthält. Kopieren Sie den Klassennamen nach unten.\n",
    "\n",
    "Wir fügen diese Informationen nun in unseren Python-Code ein und verwenden Beautiful Soup, um die Daten zu analysieren und das Div zu finden:"
   ]
  },
  {
   "cell_type": "markdown",
   "id": "3eb9a7bf",
   "metadata": {},
   "source": [
    "# Verbindungsherstellung zu Billboard"
   ]
  },
  {
   "cell_type": "code",
   "execution_count": 109,
   "id": "4651f6a1",
   "metadata": {},
   "outputs": [],
   "source": [
    "#Seite, von welcher die Daten bezogen werden sollen.\n",
    "\n",
    "url = 'https://www.billboard.com/charts/hot-100-song/' "
   ]
  },
  {
   "cell_type": "code",
   "execution_count": 110,
   "id": "e81b827c",
   "metadata": {},
   "outputs": [],
   "source": [
    "#Herstellung der Verbindung zur Billboard-Seite. \n",
    "\n",
    "driver = webdriver.Safari()\n",
    "driver.get(url)\n",
    "src = driver.page_source\n",
    "parser = BeautifulSoup(src, 'lxml')\n",
    "table = parser.find(\"div\", attrs={\"class\":\"chart-results-list // u-padding-b-250\"}) "
   ]
  },
  {
   "cell_type": "markdown",
   "id": "d50889e8",
   "metadata": {},
   "source": [
    "In diesem Ergebnis können wir einen Songnamen (\"Levitating\") und einen Künstlernamen (\"Dua Lipa\") erkennen. Wenn wir entweder den Songnamen oder den Namen des Interpreten in Chrome untersuchen, erhalten wir dasselbe Ergebnis:"
   ]
  },
  {
   "cell_type": "markdown",
   "id": "8af5fecc",
   "metadata": {},
   "source": [
    "# Extrahieren der Daten aus dem Jahr 2021"
   ]
  },
  {
   "cell_type": "markdown",
   "id": "b19c0702",
   "metadata": {},
   "source": [
    "## Extrahieren der Daten"
   ]
  },
  {
   "cell_type": "markdown",
   "id": "c795dc7b",
   "metadata": {},
   "source": [
    "Schritt 2: Beschaffung der gewünschten Daten\n",
    "2a) Song-Titel\n",
    "Im obigen Screenshot sehen wir, dass der Titel \"Levitating\" unter 'h3' zu finden ist, also können wir ihn als Identifikator für den Songnamen verwenden. Wir können außerdem nur den Text aus den Songtiteln entfernen."
   ]
  },
  {
   "cell_type": "code",
   "execution_count": 111,
   "id": "a51559ab",
   "metadata": {},
   "outputs": [],
   "source": [
    "# Extrahieren der Songtitel\n",
    "\n",
    "song_titles = table.find_all('h3')\n",
    "songlist =[h.text.strip() for h in song_titles[0:]]"
   ]
  },
  {
   "cell_type": "markdown",
   "id": "b0db2ad8",
   "metadata": {},
   "source": [
    "2b) Künstler\n",
    "Wir machen das Gleiche mit dem Namen des Künstlers und finden sie alle unter \"span\"."
   ]
  },
  {
   "cell_type": "code",
   "execution_count": 115,
   "id": "1c39f792",
   "metadata": {},
   "outputs": [],
   "source": [
    "# Extrahieren der Künstler\n",
    "\n",
    "artists = table.find_all('span')\n",
    "artistlist = [h.text.strip() for h in artists [0:]]\n",
    "#artistlist"
   ]
  },
  {
   "cell_type": "markdown",
   "id": "59238bfd",
   "metadata": {},
   "source": [
    "Leider sieht es so aus, als ob die Rangfolge in dieser Liste innerhalb des Künstlernamens liegt, was bedeutet, dass sie in einem Datenrahmen nicht korrekt aufgereiht werden, wenn wir Künstler mit Songs verbinden. Aus diesem Grund erstellen wir eine neue Liste, die nur die Namen der Interpreten enthält, indem wir eine Liste mit Zahlen erstellen und Python mitteilen, dass wir diese nicht einbeziehen wollen:"
   ]
  },
  {
   "cell_type": "code",
   "execution_count": 113,
   "id": "dda0fd94",
   "metadata": {},
   "outputs": [],
   "source": [
    "#Extrahieren nur der Künstlernamen, ohne das Ranking.\n",
    "\n",
    "filtered = []\n",
    "nums = np.arange(1,101, 1)\n",
    "nums = list(nums.astype(str))\n",
    "\n",
    "for artist in artistlist:\n",
    "    if artist not in nums:\n",
    "        filtered.append(artist)"
   ]
  },
  {
   "cell_type": "markdown",
   "id": "42cb3411",
   "metadata": {},
   "source": [
    "Wir haben jetzt unsere Liste der Künstler und unsere Liste der Songtitel. Zeit, sie zusammenzustellen."
   ]
  },
  {
   "cell_type": "markdown",
   "id": "08c2ea3c",
   "metadata": {},
   "source": [
    "## Zusammenführung der beiden erstellten Listen"
   ]
  },
  {
   "cell_type": "markdown",
   "id": "5c250250",
   "metadata": {},
   "source": [
    "Schritt 3: Zusammenstellung für dieses eine Jahr\n",
    "Wir müssen unsere Listen in Reihen umwandeln, damit sie später in einen Datenrahmen umgewandelt werden können. Außerdem müssen wir die Spalten miteinander verknüpfen, um unseren neuen Datenrahmen zu erstellen:"
   ]
  },
  {
   "cell_type": "code",
   "execution_count": 7,
   "id": "db38e458",
   "metadata": {},
   "outputs": [],
   "source": [
    "#Zusammenführen der beiden erstellten Listen.\n",
    "\n",
    "artist_100 = pd.Series(filtered)\n",
    "songtitle_100 = pd.Series(songlist)"
   ]
  },
  {
   "cell_type": "code",
   "execution_count": 8,
   "id": "d8c9070c",
   "metadata": {},
   "outputs": [],
   "source": [
    "top_100 = pd.concat([artist_100, songtitle_100], axis=1)"
   ]
  },
  {
   "cell_type": "code",
   "execution_count": 9,
   "id": "84672fa6",
   "metadata": {},
   "outputs": [],
   "source": [
    "top_100.rename(columns = {0: 'Artist', 1: 'Song_Title'}, inplace=True)"
   ]
  },
  {
   "cell_type": "code",
   "execution_count": 10,
   "id": "d2f00f2b",
   "metadata": {},
   "outputs": [
    {
     "data": {
      "text/html": [
       "<div>\n",
       "<style scoped>\n",
       "    .dataframe tbody tr th:only-of-type {\n",
       "        vertical-align: middle;\n",
       "    }\n",
       "\n",
       "    .dataframe tbody tr th {\n",
       "        vertical-align: top;\n",
       "    }\n",
       "\n",
       "    .dataframe thead th {\n",
       "        text-align: right;\n",
       "    }\n",
       "</style>\n",
       "<table border=\"1\" class=\"dataframe\">\n",
       "  <thead>\n",
       "    <tr style=\"text-align: right;\">\n",
       "      <th></th>\n",
       "      <th>Artist</th>\n",
       "      <th>Song_Title</th>\n",
       "    </tr>\n",
       "  </thead>\n",
       "  <tbody>\n",
       "    <tr>\n",
       "      <th>0</th>\n",
       "      <td>Dua Lipa</td>\n",
       "      <td>Levitating</td>\n",
       "    </tr>\n",
       "    <tr>\n",
       "      <th>1</th>\n",
       "      <td>The Weeknd &amp; Ariana Grande</td>\n",
       "      <td>Save Your Tears</td>\n",
       "    </tr>\n",
       "    <tr>\n",
       "      <th>2</th>\n",
       "      <td>The Weeknd</td>\n",
       "      <td>Blinding Lights</td>\n",
       "    </tr>\n",
       "    <tr>\n",
       "      <th>3</th>\n",
       "      <td>24kGoldn Featuring iann dior</td>\n",
       "      <td>Mood</td>\n",
       "    </tr>\n",
       "    <tr>\n",
       "      <th>4</th>\n",
       "      <td>Olivia Rodrigo</td>\n",
       "      <td>Good 4 U</td>\n",
       "    </tr>\n",
       "    <tr>\n",
       "      <th>...</th>\n",
       "      <td>...</td>\n",
       "      <td>...</td>\n",
       "    </tr>\n",
       "    <tr>\n",
       "      <th>95</th>\n",
       "      <td>Lainey Wilson</td>\n",
       "      <td>Things A Man Oughta Know</td>\n",
       "    </tr>\n",
       "    <tr>\n",
       "      <th>96</th>\n",
       "      <td>BRS Kash</td>\n",
       "      <td>Throat Baby (Go Baby)</td>\n",
       "    </tr>\n",
       "    <tr>\n",
       "      <th>97</th>\n",
       "      <td>Rod Wave</td>\n",
       "      <td>Tombstone</td>\n",
       "    </tr>\n",
       "    <tr>\n",
       "      <th>98</th>\n",
       "      <td>Chase Rice Featuring Florida Georgia Line</td>\n",
       "      <td>Drinkin' Beer. Talkin' God. Amen.</td>\n",
       "    </tr>\n",
       "    <tr>\n",
       "      <th>99</th>\n",
       "      <td>Rauw Alejandro</td>\n",
       "      <td>Todo de Ti</td>\n",
       "    </tr>\n",
       "  </tbody>\n",
       "</table>\n",
       "<p>100 rows × 2 columns</p>\n",
       "</div>"
      ],
      "text/plain": [
       "                                       Artist  \\\n",
       "0                                    Dua Lipa   \n",
       "1                  The Weeknd & Ariana Grande   \n",
       "2                                  The Weeknd   \n",
       "3                24kGoldn Featuring iann dior   \n",
       "4                              Olivia Rodrigo   \n",
       "..                                        ...   \n",
       "95                              Lainey Wilson   \n",
       "96                                   BRS Kash   \n",
       "97                                   Rod Wave   \n",
       "98  Chase Rice Featuring Florida Georgia Line   \n",
       "99                             Rauw Alejandro   \n",
       "\n",
       "                           Song_Title  \n",
       "0                          Levitating  \n",
       "1                     Save Your Tears  \n",
       "2                     Blinding Lights  \n",
       "3                                Mood  \n",
       "4                            Good 4 U  \n",
       "..                                ...  \n",
       "95           Things A Man Oughta Know  \n",
       "96              Throat Baby (Go Baby)  \n",
       "97                          Tombstone  \n",
       "98  Drinkin' Beer. Talkin' God. Amen.  \n",
       "99                         Todo de Ti  \n",
       "\n",
       "[100 rows x 2 columns]"
      ]
     },
     "execution_count": 10,
     "metadata": {},
     "output_type": "execute_result"
    }
   ],
   "source": [
    "top_100"
   ]
  },
  {
   "cell_type": "markdown",
   "id": "f7943e13",
   "metadata": {},
   "source": [
    "## Speichern als CSV-File"
   ]
  },
  {
   "cell_type": "markdown",
   "id": "59b53933",
   "metadata": {},
   "source": [
    "Jetzt können wir in Excel speichern:"
   ]
  },
  {
   "cell_type": "code",
   "execution_count": 11,
   "id": "8373cf43",
   "metadata": {},
   "outputs": [],
   "source": [
    "#Sichern als CSV-File.\n",
    "\n",
    "pd.DataFrame.to_csv(top_100, 'top100_2021.csv')"
   ]
  },
  {
   "cell_type": "markdown",
   "id": "0423494e",
   "metadata": {},
   "source": [
    "# Extrahieren der Daten aus den Jahren 2006 - 2021"
   ]
  },
  {
   "cell_type": "markdown",
   "id": "eaa8d0a3",
   "metadata": {},
   "source": [
    "Schritt 4: Alle 15 Jahre der Daten abrufen\n",
    "Jetzt wird es etwas kniffliger!\n",
    "Zunächst müssen wir eine Liste der gewünschten Datenjahre erstellen:"
   ]
  },
  {
   "cell_type": "code",
   "execution_count": 46,
   "id": "9e914875",
   "metadata": {},
   "outputs": [],
   "source": [
    "years = np.arange(2006,2021,1)\n",
    "years = list(years.astype(str))"
   ]
  },
  {
   "cell_type": "markdown",
   "id": "d9508e15",
   "metadata": {},
   "source": [
    "Als Nächstes ist mir aufgefallen, dass sich die URL ändert, wenn wir auf das Jahr klicken, um es zu ändern. So können wir alle notwendigen URLs erstellen, um direkt zu unseren Daten zu gelangen, anstatt Selenium für uns herumklicken zu lassen."
   ]
  },
  {
   "cell_type": "code",
   "execution_count": 47,
   "id": "eb035511",
   "metadata": {},
   "outputs": [],
   "source": [
    "urls = []\n",
    "\n",
    "for year in years:\n",
    "    url = 'https://www.billboard.com/charts/year-end/' + year + '/hot-100-songs'\n",
    "    urls.append(url)"
   ]
  },
  {
   "cell_type": "markdown",
   "id": "bcd05c46",
   "metadata": {},
   "source": [
    "Schließlich können wir eine for-Schleife erstellen, die jede unserer URLs und Downloads durchläuft und die hot-100 für jedes Jahr als CSV-Datei speichert. Wir gehen einfach durch jeden der oben angewendeten Schritte."
   ]
  },
  {
   "cell_type": "code",
   "execution_count": 49,
   "id": "462ecaab",
   "metadata": {
    "scrolled": true
   },
   "outputs": [],
   "source": [
    "driver = webdriver.Safari()\n",
    "\n",
    "for url in urls:\n",
    "    driver.get(url)\n",
    "    src = driver.page_source\n",
    "    parser = BeautifulSoup(src, \"lxml\")\n",
    "    table = parser.find(\"div\", attrs= {\"class\":\"chart-results-list // u-padding-b-250\"})\n",
    "    song_titles = table.find_all('h3')\n",
    "    songlist = [h.text.strip() for h in song_titles [0:]]\n",
    "    artists = table.find_all('span')\n",
    "    artistlist = [h.text.strip() for h in artists[0:]]\n",
    "    filtered = []\n",
    "    for artist in artistlist:\n",
    "        if artist not in nums:\n",
    "            filtered.append(artist)\n",
    "    artist_100 = pd.Series(filtered)\n",
    "    songtitle_100 = pd.Series(songlist)\n",
    "    top_100 = pd.concat([artist_100, songtitle_100], axis = 1)\n",
    "    top_100.rename (columns = {0: 'Artist', 1: 'Song_Title'}, inplace = True)\n",
    "    filename = url[42:].replace(\"/\", \"_\") + '.csv'\n",
    "    pd.DataFrame.to_csv(top_100, filename)"
   ]
  },
  {
   "cell_type": "code",
   "execution_count": 52,
   "id": "5c833688",
   "metadata": {},
   "outputs": [],
   "source": [
    "test = pd.read_csv('2017_hot-100-songs.csv', index_col=0)"
   ]
  },
  {
   "cell_type": "code",
   "execution_count": 53,
   "id": "beb76f6e",
   "metadata": {},
   "outputs": [
    {
     "data": {
      "text/html": [
       "<div>\n",
       "<style scoped>\n",
       "    .dataframe tbody tr th:only-of-type {\n",
       "        vertical-align: middle;\n",
       "    }\n",
       "\n",
       "    .dataframe tbody tr th {\n",
       "        vertical-align: top;\n",
       "    }\n",
       "\n",
       "    .dataframe thead th {\n",
       "        text-align: right;\n",
       "    }\n",
       "</style>\n",
       "<table border=\"1\" class=\"dataframe\">\n",
       "  <thead>\n",
       "    <tr style=\"text-align: right;\">\n",
       "      <th></th>\n",
       "      <th>Artist</th>\n",
       "      <th>Song_Title</th>\n",
       "    </tr>\n",
       "  </thead>\n",
       "  <tbody>\n",
       "    <tr>\n",
       "      <th>0</th>\n",
       "      <td>Ed Sheeran</td>\n",
       "      <td>Shape Of You</td>\n",
       "    </tr>\n",
       "    <tr>\n",
       "      <th>1</th>\n",
       "      <td>Luis Fonsi &amp; Daddy Yankee Featuring Justin Bieber</td>\n",
       "      <td>Despacito</td>\n",
       "    </tr>\n",
       "    <tr>\n",
       "      <th>2</th>\n",
       "      <td>Bruno Mars</td>\n",
       "      <td>That's What I Like</td>\n",
       "    </tr>\n",
       "    <tr>\n",
       "      <th>3</th>\n",
       "      <td>Kendrick Lamar</td>\n",
       "      <td>Humble.</td>\n",
       "    </tr>\n",
       "    <tr>\n",
       "      <th>4</th>\n",
       "      <td>The Chainsmokers &amp; Coldplay</td>\n",
       "      <td>Something Just Like This</td>\n",
       "    </tr>\n",
       "  </tbody>\n",
       "</table>\n",
       "</div>"
      ],
      "text/plain": [
       "                                              Artist                Song_Title\n",
       "0                                         Ed Sheeran              Shape Of You\n",
       "1  Luis Fonsi & Daddy Yankee Featuring Justin Bieber                 Despacito\n",
       "2                                         Bruno Mars        That's What I Like\n",
       "3                                     Kendrick Lamar                   Humble.\n",
       "4                        The Chainsmokers & Coldplay  Something Just Like This"
      ]
     },
     "execution_count": 53,
     "metadata": {},
     "output_type": "execute_result"
    }
   ],
   "source": [
    "test.head(5)"
   ]
  },
  {
   "cell_type": "markdown",
   "id": "49da0b82",
   "metadata": {},
   "source": [
    "# Weitere Daten hinzufügen (Last Week Pos./Peak Pos./WKS. On Chart)"
   ]
  },
  {
   "cell_type": "markdown",
   "id": "a93385ad",
   "metadata": {},
   "source": [
    "## Last Week Position"
   ]
  },
  {
   "cell_type": "code",
   "execution_count": 97,
   "id": "7220de3e",
   "metadata": {},
   "outputs": [],
   "source": [
    "from selenium import webdriver\n",
    "from bs4 import BeautifulSoup\n",
    "import pandas as pd"
   ]
  },
  {
   "cell_type": "code",
   "execution_count": 100,
   "id": "fc46c916",
   "metadata": {},
   "outputs": [],
   "source": [
    "url = 'https://www.billboard.com/charts/hot-100/2022-01-01/'"
   ]
  },
  {
   "cell_type": "code",
   "execution_count": 101,
   "id": "d0ff9b53",
   "metadata": {},
   "outputs": [],
   "source": [
    "driver = webdriver.Safari()\n",
    "driver.get(url)\n",
    "src = driver.page_source\n",
    "\n",
    "song_titles=[] #List to store name of the product\n",
    "artists=[] #List to store price of the product\n",
    "ratings=[] #List to store rating of the product"
   ]
  },
  {
   "cell_type": "code",
   "execution_count": 105,
   "id": "d16f52e6",
   "metadata": {},
   "outputs": [],
   "source": [
    "content = driver.page_source\n",
    "soup = BeautifulSoup(content)\n",
    "for a in soup.findAll('div',href=True, attrs={'class':'u-flex@mobile-max'}):\n",
    "    song_titles=a.find('div', attrs={'class':'c-title__link lrv-a-unstyle-link'})\n",
    "    artists=a.find('div', attrs={'class':'c-tagline  a-font-primary-l a-font-primary-m@mobile-max lrv-u-color-black u-color-white@mobile-max lrv-u-margin-tb-00 lrv-u-padding-t-025 lrv-u-margin-r-150'})\n",
    "    rating=a.find('div', attrs={'class':'a-font-primary-bold lrv-u-padding-r-150 lrv-u-padding-r-075@mobile-max u-font-size-102 u-font-size-87@tablet u-line-height-125 u-line-height-1@mobile-max u-margin-t-n125@tablet'})\n",
    "    products.append(song_titles.text)\n",
    "    prices.append(artists.text)\n",
    "    ratings.append(rating.text) "
   ]
  },
  {
   "cell_type": "code",
   "execution_count": 106,
   "id": "669fce5a",
   "metadata": {},
   "outputs": [],
   "source": [
    "df = pd.DataFrame({'Song Name':song_titles,'Künstler':artists,'Rating':ratings}) \n",
    "df.to_csv('Hot_100.csv', index=False, encoding='utf-8')"
   ]
  },
  {
   "cell_type": "code",
   "execution_count": 107,
   "id": "8a3b9aa6",
   "metadata": {},
   "outputs": [
    {
     "data": {
      "text/html": [
       "<div>\n",
       "<style scoped>\n",
       "    .dataframe tbody tr th:only-of-type {\n",
       "        vertical-align: middle;\n",
       "    }\n",
       "\n",
       "    .dataframe tbody tr th {\n",
       "        vertical-align: top;\n",
       "    }\n",
       "\n",
       "    .dataframe thead th {\n",
       "        text-align: right;\n",
       "    }\n",
       "</style>\n",
       "<table border=\"1\" class=\"dataframe\">\n",
       "  <thead>\n",
       "    <tr style=\"text-align: right;\">\n",
       "      <th></th>\n",
       "      <th>Song Name</th>\n",
       "      <th>Künstler</th>\n",
       "      <th>Rating</th>\n",
       "    </tr>\n",
       "  </thead>\n",
       "  <tbody>\n",
       "  </tbody>\n",
       "</table>\n",
       "</div>"
      ],
      "text/plain": [
       "Empty DataFrame\n",
       "Columns: [Song Name, Künstler, Rating]\n",
       "Index: []"
      ]
     },
     "execution_count": 107,
     "metadata": {},
     "output_type": "execute_result"
    }
   ],
   "source": [
    "df"
   ]
  },
  {
   "cell_type": "code",
   "execution_count": null,
   "id": "d14e3942",
   "metadata": {},
   "outputs": [],
   "source": [
    "url = 'https://www.billboard.com/charts/hot-100-song/'"
   ]
  },
  {
   "cell_type": "code",
   "execution_count": null,
   "id": "97e544d7",
   "metadata": {},
   "outputs": [],
   "source": [
    "#Herstellung der Verbindung zur Billboard-Seite. \n",
    "\n",
    "driver = webdriver.Safari()\n",
    "driver.get(url)\n",
    "src = driver.page_source\n",
    "parser = BeautifulSoup(src, 'lxml')\n",
    "table = parser.find(\"div\", attrs={\"class\":\"chart-results-list // u-padding-b-250\"}) "
   ]
  }
 ],
 "metadata": {
  "kernelspec": {
   "display_name": "Python 3 (ipykernel)",
   "language": "python",
   "name": "python3"
  },
  "language_info": {
   "codemirror_mode": {
    "name": "ipython",
    "version": 3
   },
   "file_extension": ".py",
   "mimetype": "text/x-python",
   "name": "python",
   "nbconvert_exporter": "python",
   "pygments_lexer": "ipython3",
   "version": "3.9.15"
  },
  "toc": {
   "base_numbering": 1,
   "nav_menu": {},
   "number_sections": true,
   "sideBar": true,
   "skip_h1_title": false,
   "title_cell": "Table of Contents",
   "title_sidebar": "Contents",
   "toc_cell": false,
   "toc_position": {},
   "toc_section_display": true,
   "toc_window_display": true
  },
  "varInspector": {
   "cols": {
    "lenName": 16,
    "lenType": 16,
    "lenVar": 40
   },
   "kernels_config": {
    "python": {
     "delete_cmd_postfix": "",
     "delete_cmd_prefix": "del ",
     "library": "var_list.py",
     "varRefreshCmd": "print(var_dic_list())"
    },
    "r": {
     "delete_cmd_postfix": ") ",
     "delete_cmd_prefix": "rm(",
     "library": "var_list.r",
     "varRefreshCmd": "cat(var_dic_list()) "
    }
   },
   "types_to_exclude": [
    "module",
    "function",
    "builtin_function_or_method",
    "instance",
    "_Feature"
   ],
   "window_display": false
  }
 },
 "nbformat": 4,
 "nbformat_minor": 5
}
