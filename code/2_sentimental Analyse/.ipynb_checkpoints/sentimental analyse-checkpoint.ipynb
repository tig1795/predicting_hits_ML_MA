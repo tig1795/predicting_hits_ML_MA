{
 "cells": [
  {
   "cell_type": "markdown",
   "id": "b1e71f1e",
   "metadata": {},
   "source": [
    "# Imports"
   ]
  },
  {
   "cell_type": "code",
   "execution_count": 5,
   "id": "b9907b3f",
   "metadata": {},
   "outputs": [],
   "source": [
    "import pandas as pd\n",
    "import torch\n",
    "from transformers import pipeline, AutoTokenizer"
   ]
  },
  {
   "cell_type": "code",
   "execution_count": 2,
   "id": "c4184602",
   "metadata": {},
   "outputs": [],
   "source": [
    "df = pd.read_csv(\"../../data/CSV/dataset_added_values_no_duplicates.csv\")"
   ]
  },
  {
   "cell_type": "code",
   "execution_count": 3,
   "id": "4b6fa68c",
   "metadata": {},
   "outputs": [
    {
     "data": {
      "text/html": [
       "<div>\n",
       "<style scoped>\n",
       "    .dataframe tbody tr th:only-of-type {\n",
       "        vertical-align: middle;\n",
       "    }\n",
       "\n",
       "    .dataframe tbody tr th {\n",
       "        vertical-align: top;\n",
       "    }\n",
       "\n",
       "    .dataframe thead th {\n",
       "        text-align: right;\n",
       "    }\n",
       "</style>\n",
       "<table border=\"1\" class=\"dataframe\">\n",
       "  <thead>\n",
       "    <tr style=\"text-align: right;\">\n",
       "      <th></th>\n",
       "      <th>lyrics</th>\n",
       "      <th>genre</th>\n",
       "      <th>num_syllables</th>\n",
       "      <th>pos</th>\n",
       "      <th>year</th>\n",
       "      <th>fog_index</th>\n",
       "      <th>flesch_index</th>\n",
       "      <th>num_lines</th>\n",
       "      <th>sentiment</th>\n",
       "      <th>title</th>\n",
       "      <th>...</th>\n",
       "      <th>artist</th>\n",
       "      <th>difficult_words</th>\n",
       "      <th>num_dupes</th>\n",
       "      <th>number_of_tokens</th>\n",
       "      <th>number_of_types</th>\n",
       "      <th>decades</th>\n",
       "      <th>stemmed_text</th>\n",
       "      <th>POS_tags</th>\n",
       "      <th>POS</th>\n",
       "      <th>values</th>\n",
       "    </tr>\n",
       "  </thead>\n",
       "  <tbody>\n",
       "    <tr>\n",
       "      <th>0</th>\n",
       "      <td>here she comes  mmm  just like an angelseems ...</td>\n",
       "      <td>['alternative rock', 'glam metal', 'hard rock']</td>\n",
       "      <td>405.0</td>\n",
       "      <td>27</td>\n",
       "      <td>1990</td>\n",
       "      <td>4.8</td>\n",
       "      <td>89.75</td>\n",
       "      <td>43</td>\n",
       "      <td>{'neg': 0.156, 'neu': 0.714, 'pos': 0.131, 'co...</td>\n",
       "      <td>(Can't Live Without Your) Love And Affection</td>\n",
       "      <td>...</td>\n",
       "      <td>Nelson</td>\n",
       "      <td>21</td>\n",
       "      <td>23</td>\n",
       "      <td>323.0</td>\n",
       "      <td>133.0</td>\n",
       "      <td>1990s</td>\n",
       "      <td>here she come mmm just like an angelseem like...</td>\n",
       "      <td>['_SP', 'RB', 'PRP', 'VBZ', '_SP', 'FW', '_SP'...</td>\n",
       "      <td>missingcan't outside hard mindbut nothing chan...</td>\n",
       "      <td>0.037037</td>\n",
       "    </tr>\n",
       "    <tr>\n",
       "      <th>1</th>\n",
       "      <td>look into my eyes  you will seewhat you mean t...</td>\n",
       "      <td>['acoustic rock', 'adult contemporary', 'album...</td>\n",
       "      <td>258.3</td>\n",
       "      <td>1</td>\n",
       "      <td>1991</td>\n",
       "      <td>4.4</td>\n",
       "      <td>107.69</td>\n",
       "      <td>36</td>\n",
       "      <td>{'neg': 0.14100000000000001, 'neu': 0.708, 'po...</td>\n",
       "      <td>(Everything I Do) I Do It For You</td>\n",
       "      <td>...</td>\n",
       "      <td>Bryan Adams</td>\n",
       "      <td>6</td>\n",
       "      <td>12</td>\n",
       "      <td>233.0</td>\n",
       "      <td>95.0</td>\n",
       "      <td>1990s</td>\n",
       "      <td>look into my eye you will seewhat you mean to...</td>\n",
       "      <td>['VB', 'IN', 'PRP$', 'NNS', '_SP', 'PRP', 'MD'...</td>\n",
       "      <td>worth worth worth other worth worth heart soul...</td>\n",
       "      <td>1.000000</td>\n",
       "    </tr>\n",
       "    <tr>\n",
       "      <th>2</th>\n",
       "      <td>i can't get no satisfactioni can't get no sati...</td>\n",
       "      <td>['blues', 'blues rock', 'britannique', 'britis...</td>\n",
       "      <td>296.1</td>\n",
       "      <td>3</td>\n",
       "      <td>1965</td>\n",
       "      <td>4.8</td>\n",
       "      <td>106.67</td>\n",
       "      <td>37</td>\n",
       "      <td>{'neg': 0.126, 'neu': 0.667, 'pos': 0.20800000...</td>\n",
       "      <td>(I Can't Get No) Satisfaction</td>\n",
       "      <td>...</td>\n",
       "      <td>Rolling Stones</td>\n",
       "      <td>18</td>\n",
       "      <td>22</td>\n",
       "      <td>260.0</td>\n",
       "      <td>83.0</td>\n",
       "      <td>1960s</td>\n",
       "      <td>i ca n't get no satisfactioni ca n't get no s...</td>\n",
       "      <td>['PRP', 'MD', 'RB', 'VB', 'DT', 'NN', 'MD', 'R...</td>\n",
       "      <td>satisfaction'cause nowhen drivin useless satis...</td>\n",
       "      <td>0.333333</td>\n",
       "    </tr>\n",
       "    <tr>\n",
       "      <th>3</th>\n",
       "      <td>oh  i  i just died in your arms tonightit must...</td>\n",
       "      <td>['classic pop and rock']</td>\n",
       "      <td>372.6</td>\n",
       "      <td>32</td>\n",
       "      <td>1987</td>\n",
       "      <td>4.4</td>\n",
       "      <td>99.23</td>\n",
       "      <td>45</td>\n",
       "      <td>{'neg': 0.164, 'neu': 0.766, 'pos': 0.07, 'com...</td>\n",
       "      <td>(I Just) Died In Your Arms</td>\n",
       "      <td>...</td>\n",
       "      <td>Cutting Crew</td>\n",
       "      <td>26</td>\n",
       "      <td>31</td>\n",
       "      <td>310.0</td>\n",
       "      <td>130.0</td>\n",
       "      <td>1980s</td>\n",
       "      <td>oh i i just die in your arm tonightit must 'v...</td>\n",
       "      <td>['UH', '_SP', 'PRP', '_SP', 'PRP', 'RB', 'VBD'...</td>\n",
       "      <td>easy thisher final many long hot easy gonei to...</td>\n",
       "      <td>0.031250</td>\n",
       "    </tr>\n",
       "    <tr>\n",
       "      <th>4</th>\n",
       "      <td>your love is fadin'  i feel it fadeah  your lo...</td>\n",
       "      <td>['american', 'psychedelic rock', 'psychedelic ...</td>\n",
       "      <td>251.1</td>\n",
       "      <td>55</td>\n",
       "      <td>1970</td>\n",
       "      <td>4.4</td>\n",
       "      <td>99.23</td>\n",
       "      <td>31</td>\n",
       "      <td>{'neg': 0.148, 'neu': 0.795, 'pos': 0.057, 'co...</td>\n",
       "      <td>(I Know) I'm Losing You</td>\n",
       "      <td>...</td>\n",
       "      <td>Rare Earth</td>\n",
       "      <td>18</td>\n",
       "      <td>3</td>\n",
       "      <td>203.0</td>\n",
       "      <td>104.0</td>\n",
       "      <td>1970s</td>\n",
       "      <td>your love is fadin ' i feel it fadeah your lo...</td>\n",
       "      <td>['PRP$', 'NN', 'VBZ', 'VBG', \"''\", '_SP', 'PRP...</td>\n",
       "      <td>cancan eyesa hearted worried love love love wo...</td>\n",
       "      <td>0.018182</td>\n",
       "    </tr>\n",
       "  </tbody>\n",
       "</table>\n",
       "<p>5 rows × 21 columns</p>\n",
       "</div>"
      ],
      "text/plain": [
       "                                              lyrics  \\\n",
       "0   here she comes  mmm  just like an angelseems ...   \n",
       "1  look into my eyes  you will seewhat you mean t...   \n",
       "2  i can't get no satisfactioni can't get no sati...   \n",
       "3  oh  i  i just died in your arms tonightit must...   \n",
       "4  your love is fadin'  i feel it fadeah  your lo...   \n",
       "\n",
       "                                               genre  num_syllables  pos  \\\n",
       "0    ['alternative rock', 'glam metal', 'hard rock']          405.0   27   \n",
       "1  ['acoustic rock', 'adult contemporary', 'album...          258.3    1   \n",
       "2  ['blues', 'blues rock', 'britannique', 'britis...          296.1    3   \n",
       "3                           ['classic pop and rock']          372.6   32   \n",
       "4  ['american', 'psychedelic rock', 'psychedelic ...          251.1   55   \n",
       "\n",
       "   year  fog_index  flesch_index  num_lines  \\\n",
       "0  1990        4.8         89.75         43   \n",
       "1  1991        4.4        107.69         36   \n",
       "2  1965        4.8        106.67         37   \n",
       "3  1987        4.4         99.23         45   \n",
       "4  1970        4.4         99.23         31   \n",
       "\n",
       "                                           sentiment  \\\n",
       "0  {'neg': 0.156, 'neu': 0.714, 'pos': 0.131, 'co...   \n",
       "1  {'neg': 0.14100000000000001, 'neu': 0.708, 'po...   \n",
       "2  {'neg': 0.126, 'neu': 0.667, 'pos': 0.20800000...   \n",
       "3  {'neg': 0.164, 'neu': 0.766, 'pos': 0.07, 'com...   \n",
       "4  {'neg': 0.148, 'neu': 0.795, 'pos': 0.057, 'co...   \n",
       "\n",
       "                                          title  ...          artist  \\\n",
       "0  (Can't Live Without Your) Love And Affection  ...          Nelson   \n",
       "1             (Everything I Do) I Do It For You  ...     Bryan Adams   \n",
       "2                 (I Can't Get No) Satisfaction  ...  Rolling Stones   \n",
       "3                    (I Just) Died In Your Arms  ...    Cutting Crew   \n",
       "4                       (I Know) I'm Losing You  ...      Rare Earth   \n",
       "\n",
       "  difficult_words  num_dupes  number_of_tokens  number_of_types  decades  \\\n",
       "0              21         23             323.0            133.0    1990s   \n",
       "1               6         12             233.0             95.0    1990s   \n",
       "2              18         22             260.0             83.0    1960s   \n",
       "3              26         31             310.0            130.0    1980s   \n",
       "4              18          3             203.0            104.0    1970s   \n",
       "\n",
       "                                        stemmed_text  \\\n",
       "0   here she come mmm just like an angelseem like...   \n",
       "1   look into my eye you will seewhat you mean to...   \n",
       "2   i ca n't get no satisfactioni ca n't get no s...   \n",
       "3   oh i i just die in your arm tonightit must 'v...   \n",
       "4   your love is fadin ' i feel it fadeah your lo...   \n",
       "\n",
       "                                            POS_tags  \\\n",
       "0  ['_SP', 'RB', 'PRP', 'VBZ', '_SP', 'FW', '_SP'...   \n",
       "1  ['VB', 'IN', 'PRP$', 'NNS', '_SP', 'PRP', 'MD'...   \n",
       "2  ['PRP', 'MD', 'RB', 'VB', 'DT', 'NN', 'MD', 'R...   \n",
       "3  ['UH', '_SP', 'PRP', '_SP', 'PRP', 'RB', 'VBD'...   \n",
       "4  ['PRP$', 'NN', 'VBZ', 'VBG', \"''\", '_SP', 'PRP...   \n",
       "\n",
       "                                                 POS    values  \n",
       "0  missingcan't outside hard mindbut nothing chan...  0.037037  \n",
       "1  worth worth worth other worth worth heart soul...  1.000000  \n",
       "2  satisfaction'cause nowhen drivin useless satis...  0.333333  \n",
       "3  easy thisher final many long hot easy gonei to...  0.031250  \n",
       "4  cancan eyesa hearted worried love love love wo...  0.018182  \n",
       "\n",
       "[5 rows x 21 columns]"
      ]
     },
     "execution_count": 3,
     "metadata": {},
     "output_type": "execute_result"
    }
   ],
   "source": [
    "df.head(5)"
   ]
  },
  {
   "cell_type": "code",
   "execution_count": 4,
   "id": "5d2e5886",
   "metadata": {},
   "outputs": [
    {
     "data": {
      "text/plain": [
       "(3669, 21)"
      ]
     },
     "execution_count": 4,
     "metadata": {},
     "output_type": "execute_result"
    }
   ],
   "source": [
    "df.shape"
   ]
  },
  {
   "cell_type": "markdown",
   "id": "c3b23a93",
   "metadata": {},
   "source": [
    "# Test for one sentence"
   ]
  },
  {
   "cell_type": "code",
   "execution_count": 48,
   "id": "521844ed",
   "metadata": {},
   "outputs": [],
   "source": [
    "from transformers import pipeline"
   ]
  },
  {
   "cell_type": "code",
   "execution_count": 49,
   "id": "ac13ea5f",
   "metadata": {},
   "outputs": [
    {
     "name": "stderr",
     "output_type": "stream",
     "text": [
      "No model was supplied, defaulted to distilbert-base-uncased-finetuned-sst-2-english (https://huggingface.co/distilbert-base-uncased-finetuned-sst-2-english)\n"
     ]
    }
   ],
   "source": [
    "senti_pipeline = pipeline(\"sentiment-analysis\")"
   ]
  },
  {
   "cell_type": "code",
   "execution_count": 71,
   "id": "25e46cb6",
   "metadata": {},
   "outputs": [
    {
     "data": {
      "text/plain": [
       "[{'label': 'NEGATIVE', 'score': 0.9624090790748596}]"
      ]
     },
     "execution_count": 71,
     "metadata": {},
     "output_type": "execute_result"
    }
   ],
   "source": [
    "senti_pipeline(\"look into my eyes  you will seewhat you mean to mesearch your heart  search your souland when you find me there  you'll search no moredon't tell me it's not worth trying foryou can't tell me it's not worth dying foryou know it's trueeverything i do  i do it for youlook into your heart  you will findthere's nothing there to hidetake me as i am  take my lifei would give it all  i would sacrificedon't tell me it's not worth fighting fori can't help it  there's nothing i want moreyou know it's trueeverything i do  i do it for you  oh yeahthere's no love like your loveand no other could give more lovethere's nowhere unless you're thereall the time  all the way  yeahlook into your heart  babeoh yeahohh  you can't tell me it's not worth tryin' fori can't help it  there's nothing i want moreyeah  i would fight for youi'd lie for youwalk the wire for youyeah  i'd die for youyou know it's trueeverything i do  ohi do it for youeverything i do  darlingyeah  we'll see it throughoh  we'll see it through  oh yeahyeahlook into your heartyou can't tell me it ain't worth dyin' fori'll be there\")"
   ]
  },
  {
   "cell_type": "code",
   "execution_count": 51,
   "id": "f236eec6",
   "metadata": {},
   "outputs": [
    {
     "data": {
      "text/plain": [
       "[{'label': 'NEGATIVE', 'score': 0.9981951117515564}]"
      ]
     },
     "execution_count": 51,
     "metadata": {},
     "output_type": "execute_result"
    }
   ],
   "source": [
    "senti_pipeline(\"I am sad that you haven't subscribed to my channel yet\")"
   ]
  },
  {
   "cell_type": "markdown",
   "id": "61c02954",
   "metadata": {},
   "source": [
    "# With an quite corpus"
   ]
  },
  {
   "cell_type": "code",
   "execution_count": 100,
   "id": "1f8152cb",
   "metadata": {},
   "outputs": [],
   "source": [
    "import pandas as pd\n",
    "from transformers import pipeline"
   ]
  },
  {
   "cell_type": "code",
   "execution_count": 101,
   "id": "34469fb3",
   "metadata": {},
   "outputs": [
    {
     "name": "stderr",
     "output_type": "stream",
     "text": [
      "No model was supplied, defaulted to distilbert-base-uncased-finetuned-sst-2-english (https://huggingface.co/distilbert-base-uncased-finetuned-sst-2-english)\n"
     ]
    }
   ],
   "source": [
    "# Load the sentiment analysis pipeline\n",
    "senti_pipeline = pipeline(\"sentiment-analysis\")"
   ]
  },
  {
   "cell_type": "code",
   "execution_count": null,
   "id": "b341c422",
   "metadata": {},
   "outputs": [],
   "source": [
    "# Define the maximum length of tokens for each subchunk\n",
    "max_chunk_length = 512\n",
    "\n",
    "# Split each song into subchunks of text\n",
    "df['lyrics_subchunks'] = df['lyrics'].apply(lambda x: [x[i:i+max_chunk_length] for i in range(0, len(x), max_chunk_length)])\n",
    "\n",
    "# Analyze the sentiment of each subchunk\n",
    "df['sentiment_scores'] = df['lyrics_subchunks'].apply(lambda x: [senti_pipeline(chunk)[0]['score'] for chunk in x])\n",
    "\n",
    "# Compute the average sentiment score for each song\n",
    "df['sentiment_score'] = df['sentiment_scores'].apply(lambda x: sum(x)/len(x))"
   ]
  },
  {
   "cell_type": "code",
   "execution_count": 67,
   "id": "80105bc6",
   "metadata": {},
   "outputs": [],
   "source": [
    "# Get the sentiment label (e.g. 'positive', 'negative', 'neutral') and score\n",
    "label = sentiment[0]['label']\n",
    "score = sentiment[0]['score']"
   ]
  },
  {
   "cell_type": "code",
   "execution_count": 68,
   "id": "5c3b5898",
   "metadata": {},
   "outputs": [],
   "source": [
    "# Assign the sentiment label and score to the corresponding row in the dataframe\n",
    "df.at[i, 'sentiment_label'] = label\n",
    "df.at[i, 'sentiment_score'] = score"
   ]
  },
  {
   "cell_type": "code",
   "execution_count": null,
   "id": "49c5faab",
   "metadata": {},
   "outputs": [],
   "source": []
  }
 ],
 "metadata": {
  "kernelspec": {
   "display_name": "Python 3 (ipykernel)",
   "language": "python",
   "name": "python3"
  },
  "language_info": {
   "codemirror_mode": {
    "name": "ipython",
    "version": 3
   },
   "file_extension": ".py",
   "mimetype": "text/x-python",
   "name": "python",
   "nbconvert_exporter": "python",
   "pygments_lexer": "ipython3",
   "version": "3.9.15"
  },
  "toc": {
   "base_numbering": 1,
   "nav_menu": {},
   "number_sections": true,
   "sideBar": true,
   "skip_h1_title": false,
   "title_cell": "Table of Contents",
   "title_sidebar": "Contents",
   "toc_cell": false,
   "toc_position": {},
   "toc_section_display": true,
   "toc_window_display": true
  },
  "varInspector": {
   "cols": {
    "lenName": 16,
    "lenType": 16,
    "lenVar": 40
   },
   "kernels_config": {
    "python": {
     "delete_cmd_postfix": "",
     "delete_cmd_prefix": "del ",
     "library": "var_list.py",
     "varRefreshCmd": "print(var_dic_list())"
    },
    "r": {
     "delete_cmd_postfix": ") ",
     "delete_cmd_prefix": "rm(",
     "library": "var_list.r",
     "varRefreshCmd": "cat(var_dic_list()) "
    }
   },
   "types_to_exclude": [
    "module",
    "function",
    "builtin_function_or_method",
    "instance",
    "_Feature"
   ],
   "window_display": false
  }
 },
 "nbformat": 4,
 "nbformat_minor": 5
}
